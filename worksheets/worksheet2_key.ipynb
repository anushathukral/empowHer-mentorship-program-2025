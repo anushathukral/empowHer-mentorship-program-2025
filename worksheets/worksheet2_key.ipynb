{
 "cells": [
  {
   "attachments": {},
   "cell_type": "markdown",
   "id": "701a9f51-c9ab-479f-8e51-3f99ffd760b7",
   "metadata": {},
   "source": [
    "# Worksheet 1 \n",
    "\n",
    "## Girls in Data Science Camp\n",
    "\n",
    "In this worksheet, we will be working with the [Pokemon dataset](https://www.kaggle.com/datasets/rounakbanik/pokemon/data), which contains 800+ Pokemon from all seven generations!\n",
    "\n",
    "<img src=https://upload.wikimedia.org/wikipedia/commons/thumb/9/98/International_Pok%C3%A9mon_logo.svg/2560px-International_Pok%C3%A9mon_logo.svg.png width=\"500\">"
   ]
  },
  {
   "cell_type": "markdown",
   "id": "8ff469e5-16fe-41dc-9ca3-0ccfe8a7a698",
   "metadata": {},
   "source": [
    "The dataset has been reduced with some columns removed. The dataset we will be working with contains the following information: \n",
    "\n",
    "- **name:** The English name of the Pokemon\n",
    "- **pokedex_number:** The entry number of the Pokemon in the National Pokedex\n",
    "- **percentage_male:** The percentage of the species that are male. Blank if the Pokemon is genderless.\n",
    "- **type1:** The Primary Type of the Pokemon\n",
    "- **type2:** The Secondary Type of the Pokemon\n",
    "- **classification:** The Classification of the Pokemon as described by the Sun and Moon Pokedex\n",
    "- **capture_rate:** Capture Rate of the Pokemon\n",
    "- **height_m:** Height of the Pokemon in metres\n",
    "- **weight_kg:** The Weight of the Pokemon in kilograms\n",
    "- **hp:** The Base HP of the Pokemon\n",
    "- **attack:** The Base Attack of the Pokemon\n",
    "- **defense:** The Base Defense of the Pokemon\n",
    "- **speed:** The Base Speed of the Pokemon\n",
    "- **generation:** The numbered generation which the Pokemon was first introduced\n",
    "- **is_legendary:** Denotes if the Pokemon is legendary."
   ]
  },
  {
   "cell_type": "code",
   "execution_count": 1,
   "id": "03112288-0fd5-4ac8-89d7-568c2703a9b0",
   "metadata": {},
   "outputs": [
    {
     "name": "stderr",
     "output_type": "stream",
     "text": [
      "Loading required package: pacman\n",
      "\n"
     ]
    }
   ],
   "source": [
    "# Load libraries\n",
    "if (!require(\"pacman\")) install.packages(\"pacman\")\n",
    "pacman::p_load(tidyverse, infer)"
   ]
  },
  {
   "cell_type": "code",
   "execution_count": 2,
   "id": "4f4ef39e-ef02-491d-9b22-38f50c66a2ff",
   "metadata": {},
   "outputs": [
    {
     "name": "stderr",
     "output_type": "stream",
     "text": [
      "\u001b[1mRows: \u001b[22m\u001b[34m801\u001b[39m \u001b[1mColumns: \u001b[22m\u001b[34m15\u001b[39m\n",
      "\u001b[36m──\u001b[39m \u001b[1mColumn specification\u001b[22m \u001b[36m────────────────────────────────────────────────────────────────────────────────────────────────\u001b[39m\n",
      "\u001b[1mDelimiter:\u001b[22m \",\"\n",
      "\u001b[31mchr\u001b[39m  (5): name, type1, type2, classfication, is_legendary\n",
      "\u001b[32mdbl\u001b[39m (10): pokedex_number, percentage_male, capture_rate, height_m, weight_kg...\n",
      "\n",
      "\u001b[36mℹ\u001b[39m Use `spec()` to retrieve the full column specification for this data.\n",
      "\u001b[36mℹ\u001b[39m Specify the column types or set `show_col_types = FALSE` to quiet this message.\n"
     ]
    },
    {
     "data": {
      "text/html": [
       "<table class=\"dataframe\">\n",
       "<caption>A tibble: 6 × 15</caption>\n",
       "<thead>\n",
       "\t<tr><th scope=col>name</th><th scope=col>pokedex_number</th><th scope=col>percentage_male</th><th scope=col>type1</th><th scope=col>type2</th><th scope=col>classfication</th><th scope=col>capture_rate</th><th scope=col>height_m</th><th scope=col>weight_kg</th><th scope=col>hp</th><th scope=col>attack</th><th scope=col>defense</th><th scope=col>speed</th><th scope=col>generation</th><th scope=col>is_legendary</th></tr>\n",
       "\t<tr><th scope=col>&lt;chr&gt;</th><th scope=col>&lt;dbl&gt;</th><th scope=col>&lt;dbl&gt;</th><th scope=col>&lt;chr&gt;</th><th scope=col>&lt;chr&gt;</th><th scope=col>&lt;chr&gt;</th><th scope=col>&lt;dbl&gt;</th><th scope=col>&lt;dbl&gt;</th><th scope=col>&lt;dbl&gt;</th><th scope=col>&lt;dbl&gt;</th><th scope=col>&lt;dbl&gt;</th><th scope=col>&lt;dbl&gt;</th><th scope=col>&lt;dbl&gt;</th><th scope=col>&lt;dbl&gt;</th><th scope=col>&lt;chr&gt;</th></tr>\n",
       "</thead>\n",
       "<tbody>\n",
       "\t<tr><td>Bulbasaur </td><td>1</td><td>88.1</td><td>grass</td><td>poison</td><td>Seed Pokemon  </td><td>45</td><td>0.7</td><td>  6.9</td><td>45</td><td> 49</td><td> 49</td><td> 45</td><td>1</td><td>No</td></tr>\n",
       "\t<tr><td>Ivysaur   </td><td>2</td><td>88.1</td><td>grass</td><td>poison</td><td>Seed Pokemon  </td><td>45</td><td>1.0</td><td> 13.0</td><td>60</td><td> 62</td><td> 63</td><td> 60</td><td>1</td><td>No</td></tr>\n",
       "\t<tr><td>Venusaur  </td><td>3</td><td>88.1</td><td>grass</td><td>poison</td><td>Seed Pokemon  </td><td>45</td><td>2.0</td><td>100.0</td><td>80</td><td>100</td><td>123</td><td> 80</td><td>1</td><td>No</td></tr>\n",
       "\t<tr><td>Charmander</td><td>4</td><td>88.1</td><td>fire </td><td>NA    </td><td>Lizard Pokemon</td><td>45</td><td>0.6</td><td>  8.5</td><td>39</td><td> 52</td><td> 43</td><td> 65</td><td>1</td><td>No</td></tr>\n",
       "\t<tr><td>Charmeleon</td><td>5</td><td>88.1</td><td>fire </td><td>NA    </td><td>Flame Pokemon </td><td>45</td><td>1.1</td><td> 19.0</td><td>58</td><td> 64</td><td> 58</td><td> 80</td><td>1</td><td>No</td></tr>\n",
       "\t<tr><td>Charizard </td><td>6</td><td>88.1</td><td>fire </td><td>flying</td><td>Flame Pokemon </td><td>45</td><td>1.7</td><td> 90.5</td><td>78</td><td>104</td><td> 78</td><td>100</td><td>1</td><td>No</td></tr>\n",
       "</tbody>\n",
       "</table>\n"
      ],
      "text/latex": [
       "A tibble: 6 × 15\n",
       "\\begin{tabular}{lllllllllllllll}\n",
       " name & pokedex\\_number & percentage\\_male & type1 & type2 & classfication & capture\\_rate & height\\_m & weight\\_kg & hp & attack & defense & speed & generation & is\\_legendary\\\\\n",
       " <chr> & <dbl> & <dbl> & <chr> & <chr> & <chr> & <dbl> & <dbl> & <dbl> & <dbl> & <dbl> & <dbl> & <dbl> & <dbl> & <chr>\\\\\n",
       "\\hline\n",
       "\t Bulbasaur  & 1 & 88.1 & grass & poison & Seed Pokemon   & 45 & 0.7 &   6.9 & 45 &  49 &  49 &  45 & 1 & No\\\\\n",
       "\t Ivysaur    & 2 & 88.1 & grass & poison & Seed Pokemon   & 45 & 1.0 &  13.0 & 60 &  62 &  63 &  60 & 1 & No\\\\\n",
       "\t Venusaur   & 3 & 88.1 & grass & poison & Seed Pokemon   & 45 & 2.0 & 100.0 & 80 & 100 & 123 &  80 & 1 & No\\\\\n",
       "\t Charmander & 4 & 88.1 & fire  & NA     & Lizard Pokemon & 45 & 0.6 &   8.5 & 39 &  52 &  43 &  65 & 1 & No\\\\\n",
       "\t Charmeleon & 5 & 88.1 & fire  & NA     & Flame Pokemon  & 45 & 1.1 &  19.0 & 58 &  64 &  58 &  80 & 1 & No\\\\\n",
       "\t Charizard  & 6 & 88.1 & fire  & flying & Flame Pokemon  & 45 & 1.7 &  90.5 & 78 & 104 &  78 & 100 & 1 & No\\\\\n",
       "\\end{tabular}\n"
      ],
      "text/markdown": [
       "\n",
       "A tibble: 6 × 15\n",
       "\n",
       "| name &lt;chr&gt; | pokedex_number &lt;dbl&gt; | percentage_male &lt;dbl&gt; | type1 &lt;chr&gt; | type2 &lt;chr&gt; | classfication &lt;chr&gt; | capture_rate &lt;dbl&gt; | height_m &lt;dbl&gt; | weight_kg &lt;dbl&gt; | hp &lt;dbl&gt; | attack &lt;dbl&gt; | defense &lt;dbl&gt; | speed &lt;dbl&gt; | generation &lt;dbl&gt; | is_legendary &lt;chr&gt; |\n",
       "|---|---|---|---|---|---|---|---|---|---|---|---|---|---|---|\n",
       "| Bulbasaur  | 1 | 88.1 | grass | poison | Seed Pokemon   | 45 | 0.7 |   6.9 | 45 |  49 |  49 |  45 | 1 | No |\n",
       "| Ivysaur    | 2 | 88.1 | grass | poison | Seed Pokemon   | 45 | 1.0 |  13.0 | 60 |  62 |  63 |  60 | 1 | No |\n",
       "| Venusaur   | 3 | 88.1 | grass | poison | Seed Pokemon   | 45 | 2.0 | 100.0 | 80 | 100 | 123 |  80 | 1 | No |\n",
       "| Charmander | 4 | 88.1 | fire  | NA     | Lizard Pokemon | 45 | 0.6 |   8.5 | 39 |  52 |  43 |  65 | 1 | No |\n",
       "| Charmeleon | 5 | 88.1 | fire  | NA     | Flame Pokemon  | 45 | 1.1 |  19.0 | 58 |  64 |  58 |  80 | 1 | No |\n",
       "| Charizard  | 6 | 88.1 | fire  | flying | Flame Pokemon  | 45 | 1.7 |  90.5 | 78 | 104 |  78 | 100 | 1 | No |\n",
       "\n"
      ],
      "text/plain": [
       "  name       pokedex_number percentage_male type1 type2  classfication \n",
       "1 Bulbasaur  1              88.1            grass poison Seed Pokemon  \n",
       "2 Ivysaur    2              88.1            grass poison Seed Pokemon  \n",
       "3 Venusaur   3              88.1            grass poison Seed Pokemon  \n",
       "4 Charmander 4              88.1            fire  NA     Lizard Pokemon\n",
       "5 Charmeleon 5              88.1            fire  NA     Flame Pokemon \n",
       "6 Charizard  6              88.1            fire  flying Flame Pokemon \n",
       "  capture_rate height_m weight_kg hp attack defense speed generation\n",
       "1 45           0.7        6.9     45  49     49      45   1         \n",
       "2 45           1.0       13.0     60  62     63      60   1         \n",
       "3 45           2.0      100.0     80 100    123      80   1         \n",
       "4 45           0.6        8.5     39  52     43      65   1         \n",
       "5 45           1.1       19.0     58  64     58      80   1         \n",
       "6 45           1.7       90.5     78 104     78     100   1         \n",
       "  is_legendary\n",
       "1 No          \n",
       "2 No          \n",
       "3 No          \n",
       "4 No          \n",
       "5 No          \n",
       "6 No          "
      ]
     },
     "metadata": {},
     "output_type": "display_data"
    }
   ],
   "source": [
    "# Read in the data\n",
    "pokemon <- read_csv(\"data/pokemon.csv\")\n",
    "head(pokemon)"
   ]
  },
  {
   "cell_type": "markdown",
   "id": "980707ae-64d5-4ca6-bb0f-65e47f5ac87c",
   "metadata": {},
   "source": [
    "## Exercise 1: Creating scatter plots\n",
    "\n",
    "### 1.1\n",
    "\n",
    "How does the weight of the Pokemon change as they increase in height? \n",
    "\n",
    "Create a scatter plot of the Pokemon in the data set, with `height_m` on the x-axis and `weight_kg` on the y-axis.\n",
    "\n",
    "What pattern do you observe in the data? Answer in 1-2 sentences."
   ]
  },
  {
   "cell_type": "code",
   "execution_count": 3,
   "id": "07345e95-27c0-4543-a21e-c0dccda7fcbe",
   "metadata": {},
   "outputs": [
    {
     "name": "stderr",
     "output_type": "stream",
     "text": [
      "Warning message:\n",
      "\"\u001b[1m\u001b[22mRemoved 20 rows containing missing values (`geom_point()`).\"\n"
     ]
    },
    {
     "data": {
      "image/png": "[encoded data removed]",
      "text/plain": [
       "plot without title"
      ]
     },
     "metadata": {
      "image/png": {
       "height": 420,
       "width": 420
      }
     },
     "output_type": "display_data"
    }
   ],
   "source": [
    "pokemon |> \n",
    "    ggplot(aes(x = height_m, y = weight_kg)) + \n",
    "       geom_point()"
   ]
  },
  {
   "cell_type": "markdown",
   "id": "2b949824-2db9-4894-99e1-3fbf4e94ea82",
   "metadata": {},
   "source": [
    "> **Answer:** As a Pokemon's height increases, the weight of the Pokemon also tends to increase."
   ]
  },
  {
   "cell_type": "markdown",
   "id": "9956ddd4-8601-4293-9a2b-84d16f1fe88d",
   "metadata": {},
   "source": [
    "### 1.2\n",
    "\n",
    "Let clean up the plot further and make it more \"human readable\".\n",
    "\n",
    "Change the x- and y-axis by capitalizing the variable names; put any unit information inside brackets.\n",
    "\n",
    "In addition, add a title to the plot. The title should **concisely** describe to the audience what the plot is showing (hint: what observation did more make in the previous exercise?)"
   ]
  },
  {
   "cell_type": "code",
   "execution_count": 4,
   "id": "a0e22f85-b7c6-46ce-b94c-76bbc9de9638",
   "metadata": {},
   "outputs": [
    {
     "name": "stderr",
     "output_type": "stream",
     "text": [
      "Warning message:\n",
      "\"\u001b[1m\u001b[22mRemoved 20 rows containing missing values (`geom_point()`).\"\n"
     ]
    },
    {
     "data": {
      "image/png": "[encoded data removed]",
      "text/plain": [
       "plot without title"
      ]
     },
     "metadata": {
      "image/png": {
       "height": 420,
       "width": 420
      }
     },
     "output_type": "display_data"
    }
   ],
   "source": [
    "pokemon |> \n",
    "    ggplot(aes(x = height_m, y = weight_kg)) + \n",
    "        geom_point() + \n",
    "        labs(x = \"Height (m)\", \n",
    "             y = \"Weight (kg)\",\n",
    "             title = \"Correlation between Height and Weight of Pokemons\"\n",
    "        )"
   ]
  },
  {
   "cell_type": "markdown",
   "id": "dbc71b58-fc40-4f2f-909d-3251390af4ea",
   "metadata": {},
   "source": [
    "### 1.3\n",
    "\n",
    "Make **at least 1** additional adjustments to the plot. This could be changing the size/colour/shape of the circles inside the scatter plot, changing the font size of the axis labels or title, overall look-and-feel of the plot aesthetics, etc. \n",
    "\n",
    "You can reference the below resources (or make use of Google if you want to try something else):\n",
    "\n",
    "1. Changing plot colour: http://www.cookbook-r.com/Graphs/Colors_(ggplot2)/\n",
    "   - Colour Cheat Sheet: https://sape.inf.usi.ch/sites/default/files/ggplot2-colour-names.png\n",
    "3. Changing the shape/size of the point: http://www.cookbook-r.com/Graphs/Shapes_and_line_types/\n",
    "4. Changing the overall aesthetic of the plot: https://book.rfortherestofus.com/themes"
   ]
  },
  {
   "cell_type": "code",
   "execution_count": 5,
   "id": "f25f4ec8-0481-4f96-9c1b-9dee202e9227",
   "metadata": {},
   "outputs": [
    {
     "name": "stderr",
     "output_type": "stream",
     "text": [
      "Warning message:\n",
      "\"\u001b[1m\u001b[22mRemoved 20 rows containing missing values (`geom_point()`).\"\n"
     ]
    },
    {
     "data": {
      "image/png": "[encoded data removed]",
      "text/plain": [
       "plot without title"
      ]
     },
     "metadata": {
      "image/png": {
       "height": 420,
       "width": 420
      }
     },
     "output_type": "display_data"
    }
   ],
   "source": [
    "pokemon |> \n",
    "    ggplot(aes(x = height_m, y = weight_kg)) + \n",
    "        geom_point(size = 3, colour = 'salmon', alpha = 0.2) + \n",
    "        labs(x = \"Height (m)\", \n",
    "             y = \"Weight (kg)\",\n",
    "             title = \"Correlation between Height and Weight of Pokemons\"\n",
    "        ) + \n",
    "        theme_bw()"
   ]
  },
  {
   "cell_type": "markdown",
   "id": "0bf40628-2e5a-429b-82b5-dcde829e7eca",
   "metadata": {},
   "source": [
    "### 1.4 (Challenge)\n",
    "\n",
    "Is the relation between height and weight different for legendary vs non-legendary Pokemon? How could you inspect this visually?\n",
    "\n",
    "(Hint: you can group your dataset by having 1 colour for the legendary Pokemon and 1 colour for the non-legendary ones.)"
   ]
  },
  {
   "cell_type": "code",
   "execution_count": 6,
   "id": "747b0c3d-7fbd-480d-b99d-8363e5324d17",
   "metadata": {},
   "outputs": [
    {
     "name": "stderr",
     "output_type": "stream",
     "text": [
      "Warning message:\n",
      "\"\u001b[1m\u001b[22mRemoved 20 rows containing missing values (`geom_point()`).\"\n"
     ]
    },
    {
     "data": {
      "image/png": "[encoded data removed]",
      "text/plain": [
       "plot without title"
      ]
     },
     "metadata": {
      "image/png": {
       "height": 420,
       "width": 420
      }
     },
     "output_type": "display_data"
    }
   ],
   "source": [
    "pokemon |> \n",
    "    ggplot(aes(x = height_m, y = weight_kg, colour=is_legendary)) + \n",
    "        geom_point(size = 3, alpha = 0.4) + \n",
    "        labs(x = \"Height (m)\", \n",
    "             y = \"Weight (kg)\",\n",
    "             title = \"Correlation between Height and Weight of Pokemons\"\n",
    "        ) + \n",
    "        theme_bw() + \n",
    "        # you can also customize the plot further\n",
    "        scale_colour_manual(\"Is the Pokemon\\nLegendary?\", values=c(\"#F1BB7B\", \"#7294D4\"))"
   ]
  },
  {
   "cell_type": "markdown",
   "id": "0f755302-60da-42dc-8b68-2be49450606b",
   "metadata": {},
   "source": [
    "## Exercise 2: Understanding Distributions\n",
    "\n",
    "### 2.1\n",
    "\n",
    "What is the distribution of **hp points** of all Pokemon in this dataset?\n",
    "\n",
    "Plot a histogram of this information using a `binwidth` of 10 units. Make sure that the x- and y-axes are human readable and make sure to include a title."
   ]
  },
  {
   "cell_type": "code",
   "execution_count": 7,
   "id": "dfde609b-2e53-42dc-b5ab-b8c791ae46bb",
   "metadata": {},
   "outputs": [
    {
     "data": {
      "image/png": "[encoded data removed]",
      "text/plain": [
       "plot without title"
      ]
     },
     "metadata": {
      "image/png": {
       "height": 420,
       "width": 420
      }
     },
     "output_type": "display_data"
    }
   ],
   "source": [
    "pokemon |> \n",
    "    ggplot(aes(x = hp)) +\n",
    "        geom_histogram(binwidth = 10, colour = \"white\") + \n",
    "        labs(\n",
    "            x = \"HP Points\", \n",
    "            y = \"Count\",\n",
    "            title = \"Distribution of HP points of Pokemon\"\n",
    "        )"
   ]
  },
  {
   "cell_type": "markdown",
   "id": "57185dae-e776-460a-a478-86ae26943362",
   "metadata": {},
   "source": [
    "### 2.2\n",
    "\n",
    "What is the mean and standard deviation of Pokemons' HP points?"
   ]
  },
  {
   "cell_type": "code",
   "execution_count": 8,
   "id": "360ad356-1924-4fad-bb0e-ff2d1e3cb1da",
   "metadata": {},
   "outputs": [
    {
     "data": {
      "text/html": [
       "<table class=\"dataframe\">\n",
       "<caption>A tibble: 1 × 2</caption>\n",
       "<thead>\n",
       "\t<tr><th scope=col>Mean</th><th scope=col>SD</th></tr>\n",
       "\t<tr><th scope=col>&lt;dbl&gt;</th><th scope=col>&lt;dbl&gt;</th></tr>\n",
       "</thead>\n",
       "<tbody>\n",
       "\t<tr><td>68.9588</td><td>26.57601</td></tr>\n",
       "</tbody>\n",
       "</table>\n"
      ],
      "text/latex": [
       "A tibble: 1 × 2\n",
       "\\begin{tabular}{ll}\n",
       " Mean & SD\\\\\n",
       " <dbl> & <dbl>\\\\\n",
       "\\hline\n",
       "\t 68.9588 & 26.57601\\\\\n",
       "\\end{tabular}\n"
      ],
      "text/markdown": [
       "\n",
       "A tibble: 1 × 2\n",
       "\n",
       "| Mean &lt;dbl&gt; | SD &lt;dbl&gt; |\n",
       "|---|---|\n",
       "| 68.9588 | 26.57601 |\n",
       "\n"
      ],
      "text/plain": [
       "  Mean    SD      \n",
       "1 68.9588 26.57601"
      ]
     },
     "metadata": {},
     "output_type": "display_data"
    }
   ],
   "source": [
    "pokemon |> \n",
    "    summarise(\n",
    "        Mean = mean(hp),\n",
    "        SD = sd(hp)\n",
    "    )"
   ]
  },
  {
   "cell_type": "markdown",
   "id": "336cfecb-4a78-44ea-aa21-ad35e8544728",
   "metadata": {},
   "source": [
    "### 2.3 \n",
    "\n",
    "Is this distribution symmetric? Are there any outliers in the data? How did you determine if they were outliers?"
   ]
  },
  {
   "cell_type": "markdown",
   "id": "e239c1a4-c695-4560-90a8-7e4978645fd6",
   "metadata": {},
   "source": [
    "> **Answer:** No, the distribution is not symmetric; there is positive skew (i.e., a longer tail to the distribution in higher values).\n",
    ">\n",
    "> In looking at the distribution, it does look like there are potential outliers in the data. If we consider outliers to be Pokemon whose HP points are 5 standard deviations above the mean, we see that there are 4 Pokemon that meet this criteria."
   ]
  },
  {
   "cell_type": "code",
   "execution_count": 9,
   "id": "2a4261ac-0a58-4a75-8b41-9dcc0e3f5641",
   "metadata": {},
   "outputs": [],
   "source": [
    "outlier_criteria = mean(pokemon$hp) + 5 * sd(pokemon$hp)"
   ]
  },
  {
   "cell_type": "code",
   "execution_count": 10,
   "id": "f8b5458a-96ae-40f6-9db6-9d3d457feb0f",
   "metadata": {},
   "outputs": [
    {
     "data": {
      "text/html": [
       "<table class=\"dataframe\">\n",
       "<caption>A tibble: 4 × 2</caption>\n",
       "<thead>\n",
       "\t<tr><th scope=col>name</th><th scope=col>hp</th></tr>\n",
       "\t<tr><th scope=col>&lt;chr&gt;</th><th scope=col>&lt;dbl&gt;</th></tr>\n",
       "</thead>\n",
       "<tbody>\n",
       "\t<tr><td>Chansey </td><td>250</td></tr>\n",
       "\t<tr><td>Blissey </td><td>255</td></tr>\n",
       "\t<tr><td>Zygarde </td><td>216</td></tr>\n",
       "\t<tr><td>Guzzlord</td><td>223</td></tr>\n",
       "</tbody>\n",
       "</table>\n"
      ],
      "text/latex": [
       "A tibble: 4 × 2\n",
       "\\begin{tabular}{ll}\n",
       " name & hp\\\\\n",
       " <chr> & <dbl>\\\\\n",
       "\\hline\n",
       "\t Chansey  & 250\\\\\n",
       "\t Blissey  & 255\\\\\n",
       "\t Zygarde  & 216\\\\\n",
       "\t Guzzlord & 223\\\\\n",
       "\\end{tabular}\n"
      ],
      "text/markdown": [
       "\n",
       "A tibble: 4 × 2\n",
       "\n",
       "| name &lt;chr&gt; | hp &lt;dbl&gt; |\n",
       "|---|---|\n",
       "| Chansey  | 250 |\n",
       "| Blissey  | 255 |\n",
       "| Zygarde  | 216 |\n",
       "| Guzzlord | 223 |\n",
       "\n"
      ],
      "text/plain": [
       "  name     hp \n",
       "1 Chansey  250\n",
       "2 Blissey  255\n",
       "3 Zygarde  216\n",
       "4 Guzzlord 223"
      ]
     },
     "metadata": {},
     "output_type": "display_data"
    }
   ],
   "source": [
    "pokemon |> \n",
    "    filter(hp > outlier_criteria) |> \n",
    "    select(name, hp)"
   ]
  },
  {
   "cell_type": "markdown",
   "id": "bb12dc6f-300f-425f-9737-0e6f22669579",
   "metadata": {},
   "source": [
    "## Exercise 3: Sampling\n",
    "\n",
    "Run the following cell - we will be using this data frame for the remaining questions in this worksheet."
   ]
  },
  {
   "cell_type": "code",
   "execution_count": 11,
   "id": "c1151dd5-0fe2-4776-9502-8d603125f9b1",
   "metadata": {},
   "outputs": [
    {
     "data": {
      "text/html": [
       "<table class=\"dataframe\">\n",
       "<caption>A tibble: 6 × 14</caption>\n",
       "<thead>\n",
       "\t<tr><th scope=col>name</th><th scope=col>pokedex_number</th><th scope=col>percentage_male</th><th scope=col>type1</th><th scope=col>type2</th><th scope=col>classfication</th><th scope=col>height_m</th><th scope=col>weight_kg</th><th scope=col>hp</th><th scope=col>attack</th><th scope=col>defense</th><th scope=col>speed</th><th scope=col>generation</th><th scope=col>is_legendary</th></tr>\n",
       "\t<tr><th scope=col>&lt;chr&gt;</th><th scope=col>&lt;dbl&gt;</th><th scope=col>&lt;dbl&gt;</th><th scope=col>&lt;chr&gt;</th><th scope=col>&lt;chr&gt;</th><th scope=col>&lt;chr&gt;</th><th scope=col>&lt;dbl&gt;</th><th scope=col>&lt;dbl&gt;</th><th scope=col>&lt;dbl&gt;</th><th scope=col>&lt;dbl&gt;</th><th scope=col>&lt;dbl&gt;</th><th scope=col>&lt;dbl&gt;</th><th scope=col>&lt;dbl&gt;</th><th scope=col>&lt;chr&gt;</th></tr>\n",
       "</thead>\n",
       "<tbody>\n",
       "\t<tr><td>Eevee   </td><td>133</td><td>88.1</td><td>normal</td><td>NA    </td><td>Evolution Pokemon  </td><td>0.3</td><td> 6.5</td><td>55</td><td>55</td><td>50</td><td>55</td><td>1</td><td>No</td></tr>\n",
       "\t<tr><td>Oddish  </td><td> 43</td><td>50.0</td><td>grass </td><td>poison</td><td>Weed Pokemon       </td><td>0.5</td><td> 5.4</td><td>45</td><td>50</td><td>55</td><td>30</td><td>1</td><td>No</td></tr>\n",
       "\t<tr><td>Venipede</td><td>543</td><td>50.0</td><td>bug   </td><td>poison</td><td>Centipede Pokemon  </td><td>0.4</td><td> 5.3</td><td>30</td><td>45</td><td>59</td><td>57</td><td>5</td><td>No</td></tr>\n",
       "\t<tr><td>Starly  </td><td>396</td><td>50.0</td><td>normal</td><td>flying</td><td>Starling Pokemon   </td><td>0.3</td><td> 2.0</td><td>40</td><td>55</td><td>30</td><td>60</td><td>4</td><td>No</td></tr>\n",
       "\t<tr><td>Remoraid</td><td>223</td><td>50.0</td><td>water </td><td>NA    </td><td>Jet Pokemon        </td><td>0.6</td><td>12.0</td><td>35</td><td>65</td><td>35</td><td>65</td><td>2</td><td>No</td></tr>\n",
       "\t<tr><td>Spinarak</td><td>167</td><td>50.0</td><td>bug   </td><td>poison</td><td>String Spit Pokemon</td><td>0.5</td><td> 8.5</td><td>40</td><td>60</td><td>40</td><td>30</td><td>2</td><td>No</td></tr>\n",
       "</tbody>\n",
       "</table>\n"
      ],
      "text/latex": [
       "A tibble: 6 × 14\n",
       "\\begin{tabular}{llllllllllllll}\n",
       " name & pokedex\\_number & percentage\\_male & type1 & type2 & classfication & height\\_m & weight\\_kg & hp & attack & defense & speed & generation & is\\_legendary\\\\\n",
       " <chr> & <dbl> & <dbl> & <chr> & <chr> & <chr> & <dbl> & <dbl> & <dbl> & <dbl> & <dbl> & <dbl> & <dbl> & <chr>\\\\\n",
       "\\hline\n",
       "\t Eevee    & 133 & 88.1 & normal & NA     & Evolution Pokemon   & 0.3 &  6.5 & 55 & 55 & 50 & 55 & 1 & No\\\\\n",
       "\t Oddish   &  43 & 50.0 & grass  & poison & Weed Pokemon        & 0.5 &  5.4 & 45 & 50 & 55 & 30 & 1 & No\\\\\n",
       "\t Venipede & 543 & 50.0 & bug    & poison & Centipede Pokemon   & 0.4 &  5.3 & 30 & 45 & 59 & 57 & 5 & No\\\\\n",
       "\t Starly   & 396 & 50.0 & normal & flying & Starling Pokemon    & 0.3 &  2.0 & 40 & 55 & 30 & 60 & 4 & No\\\\\n",
       "\t Remoraid & 223 & 50.0 & water  & NA     & Jet Pokemon         & 0.6 & 12.0 & 35 & 65 & 35 & 65 & 2 & No\\\\\n",
       "\t Spinarak & 167 & 50.0 & bug    & poison & String Spit Pokemon & 0.5 &  8.5 & 40 & 60 & 40 & 30 & 2 & No\\\\\n",
       "\\end{tabular}\n"
      ],
      "text/markdown": [
       "\n",
       "A tibble: 6 × 14\n",
       "\n",
       "| name &lt;chr&gt; | pokedex_number &lt;dbl&gt; | percentage_male &lt;dbl&gt; | type1 &lt;chr&gt; | type2 &lt;chr&gt; | classfication &lt;chr&gt; | height_m &lt;dbl&gt; | weight_kg &lt;dbl&gt; | hp &lt;dbl&gt; | attack &lt;dbl&gt; | defense &lt;dbl&gt; | speed &lt;dbl&gt; | generation &lt;dbl&gt; | is_legendary &lt;chr&gt; |\n",
       "|---|---|---|---|---|---|---|---|---|---|---|---|---|---|\n",
       "| Eevee    | 133 | 88.1 | normal | NA     | Evolution Pokemon   | 0.3 |  6.5 | 55 | 55 | 50 | 55 | 1 | No |\n",
       "| Oddish   |  43 | 50.0 | grass  | poison | Weed Pokemon        | 0.5 |  5.4 | 45 | 50 | 55 | 30 | 1 | No |\n",
       "| Venipede | 543 | 50.0 | bug    | poison | Centipede Pokemon   | 0.4 |  5.3 | 30 | 45 | 59 | 57 | 5 | No |\n",
       "| Starly   | 396 | 50.0 | normal | flying | Starling Pokemon    | 0.3 |  2.0 | 40 | 55 | 30 | 60 | 4 | No |\n",
       "| Remoraid | 223 | 50.0 | water  | NA     | Jet Pokemon         | 0.6 | 12.0 | 35 | 65 | 35 | 65 | 2 | No |\n",
       "| Spinarak | 167 | 50.0 | bug    | poison | String Spit Pokemon | 0.5 |  8.5 | 40 | 60 | 40 | 30 | 2 | No |\n",
       "\n"
      ],
      "text/plain": [
       "  name     pokedex_number percentage_male type1  type2  classfication      \n",
       "1 Eevee    133            88.1            normal NA     Evolution Pokemon  \n",
       "2 Oddish    43            50.0            grass  poison Weed Pokemon       \n",
       "3 Venipede 543            50.0            bug    poison Centipede Pokemon  \n",
       "4 Starly   396            50.0            normal flying Starling Pokemon   \n",
       "5 Remoraid 223            50.0            water  NA     Jet Pokemon        \n",
       "6 Spinarak 167            50.0            bug    poison String Spit Pokemon\n",
       "  height_m weight_kg hp attack defense speed generation is_legendary\n",
       "1 0.3       6.5      55 55     50      55    1          No          \n",
       "2 0.5       5.4      45 50     55      30    1          No          \n",
       "3 0.4       5.3      30 45     59      57    5          No          \n",
       "4 0.3       2.0      40 55     30      60    4          No          \n",
       "5 0.6      12.0      35 65     35      65    2          No          \n",
       "6 0.5       8.5      40 60     40      30    2          No          "
      ]
     },
     "metadata": {},
     "output_type": "display_data"
    }
   ],
   "source": [
    "set.seed(930) # ensures that the sampling is reproducible\n",
    "pokemon_encounters <- pokemon |> \n",
    "    drop_na(capture_rate, weight_kg) |> \n",
    "    uncount(weights = capture_rate) |> \n",
    "    slice(sample(1:n())) \n",
    "\n",
    "head(pokemon_encounters)"
   ]
  },
  {
   "cell_type": "markdown",
   "id": "4829b4b0-8d56-493e-b7a3-4870da1dceb2",
   "metadata": {},
   "source": [
    "### 3.1\n",
    "\n",
    "Assume the above dataframe represents a **population** of Pokemon in a given region. Imagine you were to encounter a random sample of **30 Pokemon** in this region. Create this sample using code and stored it in a new data frame called `pokemon_sample_30`."
   ]
  },
  {
   "cell_type": "code",
   "execution_count": 12,
   "id": "93473dba-1c06-498b-8ba7-4a140b813211",
   "metadata": {},
   "outputs": [
    {
     "data": {
      "text/html": [
       "<table class=\"dataframe\">\n",
       "<caption>A grouped_df: 6 × 15</caption>\n",
       "<thead>\n",
       "\t<tr><th scope=col>replicate</th><th scope=col>name</th><th scope=col>pokedex_number</th><th scope=col>percentage_male</th><th scope=col>type1</th><th scope=col>type2</th><th scope=col>classfication</th><th scope=col>height_m</th><th scope=col>weight_kg</th><th scope=col>hp</th><th scope=col>attack</th><th scope=col>defense</th><th scope=col>speed</th><th scope=col>generation</th><th scope=col>is_legendary</th></tr>\n",
       "\t<tr><th scope=col>&lt;int&gt;</th><th scope=col>&lt;chr&gt;</th><th scope=col>&lt;dbl&gt;</th><th scope=col>&lt;dbl&gt;</th><th scope=col>&lt;chr&gt;</th><th scope=col>&lt;chr&gt;</th><th scope=col>&lt;chr&gt;</th><th scope=col>&lt;dbl&gt;</th><th scope=col>&lt;dbl&gt;</th><th scope=col>&lt;dbl&gt;</th><th scope=col>&lt;dbl&gt;</th><th scope=col>&lt;dbl&gt;</th><th scope=col>&lt;dbl&gt;</th><th scope=col>&lt;dbl&gt;</th><th scope=col>&lt;chr&gt;</th></tr>\n",
       "</thead>\n",
       "<tbody>\n",
       "\t<tr><td>1</td><td>Mudbray  </td><td>749</td><td>50.0</td><td>ground</td><td>NA    </td><td>Donkey Pokemon   </td><td>1.0</td><td>110.0</td><td>70</td><td>100</td><td> 70</td><td>45</td><td>7</td><td>No</td></tr>\n",
       "\t<tr><td>1</td><td>Igglybuff</td><td>174</td><td>24.6</td><td>normal</td><td>fairy </td><td>Balloon Pokemon  </td><td>0.3</td><td>  1.0</td><td>90</td><td> 30</td><td> 15</td><td>15</td><td>2</td><td>No</td></tr>\n",
       "\t<tr><td>1</td><td>Spiritomb</td><td>442</td><td>50.0</td><td>ghost </td><td>dark  </td><td>Forbidden Pokemon</td><td>1.0</td><td>108.0</td><td>50</td><td> 92</td><td>108</td><td>35</td><td>4</td><td>No</td></tr>\n",
       "\t<tr><td>1</td><td>Cherrim  </td><td>421</td><td>50.0</td><td>grass </td><td>NA    </td><td>Blossom Pokemon  </td><td>0.5</td><td>  9.3</td><td>70</td><td> 60</td><td> 70</td><td>85</td><td>4</td><td>No</td></tr>\n",
       "\t<tr><td>1</td><td>Meganium </td><td>154</td><td>88.1</td><td>grass </td><td>NA    </td><td>Herb Pokemon     </td><td>1.8</td><td>100.5</td><td>80</td><td> 82</td><td>100</td><td>80</td><td>2</td><td>No</td></tr>\n",
       "\t<tr><td>1</td><td>Gloom    </td><td> 44</td><td>50.0</td><td>grass </td><td>poison</td><td>Weed Pokemon     </td><td>0.8</td><td>  8.6</td><td>60</td><td> 65</td><td> 70</td><td>40</td><td>1</td><td>No</td></tr>\n",
       "</tbody>\n",
       "</table>\n"
      ],
      "text/latex": [
       "A grouped\\_df: 6 × 15\n",
       "\\begin{tabular}{lllllllllllllll}\n",
       " replicate & name & pokedex\\_number & percentage\\_male & type1 & type2 & classfication & height\\_m & weight\\_kg & hp & attack & defense & speed & generation & is\\_legendary\\\\\n",
       " <int> & <chr> & <dbl> & <dbl> & <chr> & <chr> & <chr> & <dbl> & <dbl> & <dbl> & <dbl> & <dbl> & <dbl> & <dbl> & <chr>\\\\\n",
       "\\hline\n",
       "\t 1 & Mudbray   & 749 & 50.0 & ground & NA     & Donkey Pokemon    & 1.0 & 110.0 & 70 & 100 &  70 & 45 & 7 & No\\\\\n",
       "\t 1 & Igglybuff & 174 & 24.6 & normal & fairy  & Balloon Pokemon   & 0.3 &   1.0 & 90 &  30 &  15 & 15 & 2 & No\\\\\n",
       "\t 1 & Spiritomb & 442 & 50.0 & ghost  & dark   & Forbidden Pokemon & 1.0 & 108.0 & 50 &  92 & 108 & 35 & 4 & No\\\\\n",
       "\t 1 & Cherrim   & 421 & 50.0 & grass  & NA     & Blossom Pokemon   & 0.5 &   9.3 & 70 &  60 &  70 & 85 & 4 & No\\\\\n",
       "\t 1 & Meganium  & 154 & 88.1 & grass  & NA     & Herb Pokemon      & 1.8 & 100.5 & 80 &  82 & 100 & 80 & 2 & No\\\\\n",
       "\t 1 & Gloom     &  44 & 50.0 & grass  & poison & Weed Pokemon      & 0.8 &   8.6 & 60 &  65 &  70 & 40 & 1 & No\\\\\n",
       "\\end{tabular}\n"
      ],
      "text/markdown": [
       "\n",
       "A grouped_df: 6 × 15\n",
       "\n",
       "| replicate &lt;int&gt; | name &lt;chr&gt; | pokedex_number &lt;dbl&gt; | percentage_male &lt;dbl&gt; | type1 &lt;chr&gt; | type2 &lt;chr&gt; | classfication &lt;chr&gt; | height_m &lt;dbl&gt; | weight_kg &lt;dbl&gt; | hp &lt;dbl&gt; | attack &lt;dbl&gt; | defense &lt;dbl&gt; | speed &lt;dbl&gt; | generation &lt;dbl&gt; | is_legendary &lt;chr&gt; |\n",
       "|---|---|---|---|---|---|---|---|---|---|---|---|---|---|---|\n",
       "| 1 | Mudbray   | 749 | 50.0 | ground | NA     | Donkey Pokemon    | 1.0 | 110.0 | 70 | 100 |  70 | 45 | 7 | No |\n",
       "| 1 | Igglybuff | 174 | 24.6 | normal | fairy  | Balloon Pokemon   | 0.3 |   1.0 | 90 |  30 |  15 | 15 | 2 | No |\n",
       "| 1 | Spiritomb | 442 | 50.0 | ghost  | dark   | Forbidden Pokemon | 1.0 | 108.0 | 50 |  92 | 108 | 35 | 4 | No |\n",
       "| 1 | Cherrim   | 421 | 50.0 | grass  | NA     | Blossom Pokemon   | 0.5 |   9.3 | 70 |  60 |  70 | 85 | 4 | No |\n",
       "| 1 | Meganium  | 154 | 88.1 | grass  | NA     | Herb Pokemon      | 1.8 | 100.5 | 80 |  82 | 100 | 80 | 2 | No |\n",
       "| 1 | Gloom     |  44 | 50.0 | grass  | poison | Weed Pokemon      | 0.8 |   8.6 | 60 |  65 |  70 | 40 | 1 | No |\n",
       "\n"
      ],
      "text/plain": [
       "  replicate name      pokedex_number percentage_male type1  type2 \n",
       "1 1         Mudbray   749            50.0            ground NA    \n",
       "2 1         Igglybuff 174            24.6            normal fairy \n",
       "3 1         Spiritomb 442            50.0            ghost  dark  \n",
       "4 1         Cherrim   421            50.0            grass  NA    \n",
       "5 1         Meganium  154            88.1            grass  NA    \n",
       "6 1         Gloom      44            50.0            grass  poison\n",
       "  classfication     height_m weight_kg hp attack defense speed generation\n",
       "1 Donkey Pokemon    1.0      110.0     70 100     70     45    7         \n",
       "2 Balloon Pokemon   0.3        1.0     90  30     15     15    2         \n",
       "3 Forbidden Pokemon 1.0      108.0     50  92    108     35    4         \n",
       "4 Blossom Pokemon   0.5        9.3     70  60     70     85    4         \n",
       "5 Herb Pokemon      1.8      100.5     80  82    100     80    2         \n",
       "6 Weed Pokemon      0.8        8.6     60  65     70     40    1         \n",
       "  is_legendary\n",
       "1 No          \n",
       "2 No          \n",
       "3 No          \n",
       "4 No          \n",
       "5 No          \n",
       "6 No          "
      ]
     },
     "metadata": {},
     "output_type": "display_data"
    }
   ],
   "source": [
    "set.seed(930) # ensures that the sampling is reproducible\n",
    "pokemon_encounters |> \n",
    "    rep_sample_n(size = 30) -> pokemon_sample_30\n",
    "\n",
    "head(pokemon_sample_30)"
   ]
  },
  {
   "cell_type": "markdown",
   "id": "86566639-d4b7-444f-8748-1934bf71ef0e",
   "metadata": {},
   "source": [
    "### 3.2\n",
    "\n",
    "Plot a histogram of the weight of this sample of Pokemon. Use a binwidth of 15.\n",
    "\n",
    "Compare the **average weight of this sample of 100 Pokemon** with the **average weight of all Pokemon in this region** by drawing 2 vertical lines on the graph: (1) solid red line that represents the average weight of the sample of 100 Pokemon and a (2) dotted blue line that represents the average weight lf all Pokemon in this region.\n",
    "\n",
    "Make sure that your axes are properly labelled and choose an appropriate title for the plot."
   ]
  },
  {
   "cell_type": "code",
   "execution_count": 13,
   "id": "95acc1e4-c004-4cb7-85c0-55c9ea73a3cb",
   "metadata": {},
   "outputs": [
    {
     "data": {
      "image/png": "[encoded data removed]",
      "text/plain": [
       "plot without title"
      ]
     },
     "metadata": {
      "image/png": {
       "height": 420,
       "width": 420
      }
     },
     "output_type": "display_data"
    }
   ],
   "source": [
    "pokemon_sample_30 |> \n",
    "    ggplot(aes(x = weight_kg)) +\n",
    "        geom_histogram(binwidth = 25, colour = \"white\") + \n",
    "        labs(\n",
    "            x = \"Weight (kg)\", \n",
    "            y = \"Count\",\n",
    "            title = \"Distribution of the weight of a sample of 30 Pokemon\"\n",
    "        )+\n",
    "        geom_vline(xintercept = mean(pokemon_sample_30$weight_kg), colour=\"red\") + \n",
    "        geom_vline(xintercept = mean(pokemon_encounters$weight_kg), linetype=\"dotdash\", colour=\"blue\")"
   ]
  },
  {
   "cell_type": "markdown",
   "id": "269ab93c-fe96-4145-a8d7-14ca94585b9a",
   "metadata": {},
   "source": [
    "### 3.3\n",
    "\n",
    "What do you notice about the two means? Is the sample mean higher or lower compared to the population mean?"
   ]
  },
  {
   "cell_type": "markdown",
   "id": "22eed593-9656-414f-bfef-8b929c1b4e4e",
   "metadata": {},
   "source": [
    "> **Answer:** The sample mean is HIGHER than the population mean, meaning that in the sample, we've over estimated the population mean"
   ]
  },
  {
   "cell_type": "markdown",
   "id": "32226d25-baf3-42c5-ac7d-3b73e66b265b",
   "metadata": {},
   "source": [
    "### 3.4\n",
    "\n",
    "Now, if you were take take a bigger sample of 100 Pokemon from this region. What would the distribution look like? How does the mean of this sample compare to the population mean?"
   ]
  },
  {
   "cell_type": "code",
   "execution_count": 14,
   "id": "ae750ecd-8bce-450a-9e47-1338dbf1d477",
   "metadata": {},
   "outputs": [
    {
     "ename": "ERROR",
     "evalue": "Error in eval(expr, envir, enclos): object 'pokemon_sample_100' not found\n",
     "output_type": "error",
     "traceback": [
      "Error in eval(expr, envir, enclos): object 'pokemon_sample_100' not found\nTraceback:\n",
      "1. ggplot(pokemon_sample_100, aes(x = weight_kg))"
     ]
    }
   ],
   "source": [
    "set.seed(930) # ensures that the sampling is reproducible\n",
    "pokemon_encounters |> \n",
    "    rep_sample_n(size = 100) -> pokemon_sample_30\n",
    "\n",
    "pokemon_sample_100 |> \n",
    "    ggplot(aes(x = weight_kg)) +\n",
    "        geom_histogram(binwidth = 25, colour = \"white\") + \n",
    "        labs(\n",
    "            x = \"Weight (kg)\", \n",
    "            y = \"Count\",\n",
    "            title = \"Distribution of the weight of a sample of 100 Pokemon\"\n",
    "        )+\n",
    "        geom_vline(xintercept = mean(pokemon_sample_30$weight_kg), colour=\"red\") + \n",
    "        geom_vline(xintercept = mean(pokemon_encounters$weight_kg), linetype=\"dotdash\", colour=\"blue\")"
   ]
  },
  {
   "cell_type": "markdown",
   "id": "45dca724-2259-4bf4-9083-75f152da748a",
   "metadata": {},
   "source": [
    "> **Answer:** The sample mean is now much closer to the population mean."
   ]
  }
 ],
 "metadata": {
  "kernelspec": {
   "display_name": "R",
   "language": "R",
   "name": "ir"
  },
  "language_info": {
   "codemirror_mode": "r",
   "file_extension": ".r",
   "mimetype": "text/x-r-source",
   "name": "R",
   "pygments_lexer": "r",
   "version": "4.3.1"
  }
 },
 "nbformat": 4,
 "nbformat_minor": 5
}
