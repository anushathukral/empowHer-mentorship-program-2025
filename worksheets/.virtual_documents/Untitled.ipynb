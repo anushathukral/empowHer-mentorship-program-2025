





# Load libraries

library(tidyverse)


# Read in the data

pokemon <- read_csv("data/pokemon.csv")
head(pokemon)

pokemon |> 
mutate(capture_rate = as.numeric(capture_rate))





pokemon |> 
    ggplot(aes(x = height_m, y = weight_kg)) + 
       geom_point()








pokemon |> 
    ggplot(aes(x = height_m, y = weight_kg)) + 
        geom_point() + 
        labs(x = "Height (m)", 
             y = "Weight (kg)",
             title = "Correlation between Height and Weight of Pokemons"
        )





pokemon |> 
    ggplot(aes(x = height_m, y = weight_kg)) + 
        geom_point(size = 3, colour = 'salmon', alpha = 0.2) + 
        labs(x = "Height (m)", 
             y = "Weight (kg)",
             title = "Correlation between Height and Weight of Pokemons"
        ) + 
        theme_bw()





pokemon |> 
    ggplot(aes(x = height_m, y = weight_kg, colour=is_legendary)) + 
        geom_point(size = 3, alpha = 0.4) + 
        labs(x = "Height (m)", 
             y = "Weight (kg)",
             title = "Correlation between Height and Weight of Pokemons"
        ) + 
        theme_bw() + 
        # you can also customize the plot further
        scale_colour_manual("Is the Pokemon\nLegendary?", values=c("#F1BB7B", "#7294D4"))





pokemon |> 
    ggplot(aes(x = hp)) +
        geom_histogram(binwidth = 10, colour = "white") + 
        labs(
            x = "HP Points", 
            y = "Count",
            title = "Distribution of HP points of Pokemon"
        )





pokemon |> 
    summarise(
        Mean = mean(hp),
        SD = sd(hp)
    )








outlier_criteria = mean(pokemon$hp) + 5 * sd(pokemon$hp)


pokemon |> 
    filter(hp > outlier_criteria) |> 
    select(name, hp)





data.frame(pokemon[rep(seq_len(dim(pokemon)[1]), pokemon$capture_rate), 2, drop = FALSE], row.names=NULL)


seq_len(dim(pokemon)[1])


pokemon |>  
select(name, capture_rate) |> 
    uncount(capture_rate)


str(pokemon)
