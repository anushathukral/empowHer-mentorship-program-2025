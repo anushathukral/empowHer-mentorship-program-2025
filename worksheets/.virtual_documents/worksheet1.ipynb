








# Load libraries

library(tidyverse)


# Read in the data

spotify <- read_csv("data/spotify_top_50_2023.csv")


spotify <- spotify |> 
                mutate(pop = if_else(str_detect(genres, "pop"), "yes", "no"))











dim(spotify) 





spotify |> 
    slice(35) |>
    select(artist_name, track_name)





pop_90 <- spotify |> 
            filter(popularity > 90)

pop_90


nrow(pop_90) 








spotify |>
    filter(danceability > 0.7 & pop == "yes") |> 
    arrange(by = desc(danceability))





# Filter for only Taylor Swift songs
spotify |>
    filter(artist_name == "Taylor Swift") 


# Compute the average danceability score using `summarize`
spotify |>
    filter(artist_name == "Taylor Swift") |>
    summarize(avg_dance_TS = mean(danceability))





spotify |>
     group_by(artist_name) |>
     summarize(avg_dance = mean(danceability)) |> 
     filter(artist_name == "Taylor Swift" | artist_name == "The Weeknd")





spotify |>
     group_by(pop) |>
     summarize(avg_popularity = mean(popularity))



