{
 "cells": [
  {
   "cell_type": "markdown",
   "id": "bd9a1e48-3f92-47e4-8084-8bec11c859ef",
   "metadata": {},
   "source": [
    "# Worksheet 1 \n",
    "\n",
    "## Girls in Data Science Camp"
   ]
  },
  {
   "cell_type": "markdown",
   "id": "1c9ffa7b-341c-4c2a-a0b3-7c73f0acd62f",
   "metadata": {},
   "source": [
    "In this worksheet, we will be using a data set obtained from the Spotify Web API the top 50 tracks from 2023 (more details can be found [here](https://www.kaggle.com/datasets/yukawithdata/spotify-top-tracks-2023)).\n",
    "\n",
    "<img src=https://storage.googleapis.com/pr-newsroom-wp/1/2018/11/Spotify_Logo_RGB_Green.png width=\"500\">"
   ]
  },
  {
   "cell_type": "markdown",
   "id": "7515a16c-c928-4ca8-8426-3d22f346b90f",
   "metadata": {
    "tags": []
   },
   "source": [
    "I have reduced the data set to include the following variables:\n",
    "\n",
    "- artist_name: the artist name\n",
    "- track_name: the title of the track\n",
    "- album_release_date: The date when the track was released\n",
    "- genres: A list of genres associated with the track's artist(s)\n",
    "- danceability: A measure from 0.0 to 1.0 indicating how suitable a track is for dancing based on a combination of musical elements\n",
    "- energy: A measure from 0.0 to 1.0 representing a perceptual measure of intensity and activity\n",
    "- loudness: The overall loudness of a track in decibels (dB)\n",
    "- key: The key the track is in. Integers map to pitches using standard Pitch Class notation.\n",
    "- tempo: The overall estimated tempo of a track in beats per minute (BPM)\n",
    "- duration_ms: The length of the track in milliseconds\n",
    "- time_signature: An estimated overall time signature of a track\n",
    "- popularity: A score between 0 and 100, with 100 being the most popular"
   ]
  },
  {
   "cell_type": "code",
   "execution_count": 3,
   "id": "65c199f4-94a7-4d75-926d-486c2f74d374",
   "metadata": {
    "tags": []
   },
   "outputs": [
    {
     "name": "stderr",
     "output_type": "stream",
     "text": [
      "── \u001b[1mAttaching core tidyverse packages\u001b[22m ────────────────────────── tidyverse 2.0.0 ──\n",
      "\u001b[32m✔\u001b[39m \u001b[34mdplyr    \u001b[39m 1.1.3     \u001b[32m✔\u001b[39m \u001b[34mreadr    \u001b[39m 2.1.4\n",
      "\u001b[32m✔\u001b[39m \u001b[34mforcats  \u001b[39m 1.0.0     \u001b[32m✔\u001b[39m \u001b[34mstringr  \u001b[39m 1.5.0\n",
      "\u001b[32m✔\u001b[39m \u001b[34mggplot2  \u001b[39m 3.4.4     \u001b[32m✔\u001b[39m \u001b[34mtibble   \u001b[39m 3.2.1\n",
      "\u001b[32m✔\u001b[39m \u001b[34mlubridate\u001b[39m 1.9.2     \u001b[32m✔\u001b[39m \u001b[34mtidyr    \u001b[39m 1.3.0\n",
      "\u001b[32m✔\u001b[39m \u001b[34mpurrr    \u001b[39m 1.0.2     \n",
      "── \u001b[1mConflicts\u001b[22m ──────────────────────────────────────────── tidyverse_conflicts() ──\n",
      "\u001b[31m✖\u001b[39m \u001b[34mdplyr\u001b[39m::\u001b[32mfilter()\u001b[39m masks \u001b[34mstats\u001b[39m::filter()\n",
      "\u001b[31m✖\u001b[39m \u001b[34mdplyr\u001b[39m::\u001b[32mlag()\u001b[39m    masks \u001b[34mstats\u001b[39m::lag()\n",
      "\u001b[36mℹ\u001b[39m Use the conflicted package (\u001b[3m\u001b[34m<http://conflicted.r-lib.org/>\u001b[39m\u001b[23m) to force all conflicts to become errors\n"
     ]
    }
   ],
   "source": [
    "# Load libraries\n",
    "\n",
    "library(tidyverse)"
   ]
  },
  {
   "cell_type": "code",
   "execution_count": 4,
   "id": "e9d6df1a-1d0c-43b9-b1a1-b9476386b63c",
   "metadata": {
    "tags": []
   },
   "outputs": [
    {
     "name": "stderr",
     "output_type": "stream",
     "text": [
      "\u001b[1mRows: \u001b[22m\u001b[34m50\u001b[39m \u001b[1mColumns: \u001b[22m\u001b[34m12\u001b[39m\n",
      "\u001b[36m──\u001b[39m \u001b[1mColumn specification\u001b[22m \u001b[36m──────────────────────────────────────────────────────────\u001b[39m\n",
      "\u001b[1mDelimiter:\u001b[22m \",\"\n",
      "\u001b[31mchr\u001b[39m  (3): artist_name, track_name, genres\n",
      "\u001b[32mdbl\u001b[39m  (8): danceability, energy, loudness, key, tempo, duration_ms, time_sign...\n",
      "\u001b[34mdate\u001b[39m (1): album_release_date\n",
      "\n",
      "\u001b[36mℹ\u001b[39m Use `spec()` to retrieve the full column specification for this data.\n",
      "\u001b[36mℹ\u001b[39m Specify the column types or set `show_col_types = FALSE` to quiet this message.\n"
     ]
    }
   ],
   "source": [
    "# Read in the data\n",
    "\n",
    "spotify <- read_csv(\"data/spotify_top_50_2023.csv\")"
   ]
  },
  {
   "cell_type": "code",
   "execution_count": 5,
   "id": "0af0bbc8-184b-4a82-8e5e-63921fee7e63",
   "metadata": {
    "tags": []
   },
   "outputs": [
    {
     "data": {
      "text/html": [
       "<table class=\"dataframe\">\n",
       "<caption>A tibble: 6 × 12</caption>\n",
       "<thead>\n",
       "\t<tr><th scope=col>artist_name</th><th scope=col>track_name</th><th scope=col>album_release_date</th><th scope=col>genres</th><th scope=col>danceability</th><th scope=col>energy</th><th scope=col>loudness</th><th scope=col>key</th><th scope=col>tempo</th><th scope=col>duration_ms</th><th scope=col>time_signature</th><th scope=col>popularity</th></tr>\n",
       "\t<tr><th scope=col>&lt;chr&gt;</th><th scope=col>&lt;chr&gt;</th><th scope=col>&lt;date&gt;</th><th scope=col>&lt;chr&gt;</th><th scope=col>&lt;dbl&gt;</th><th scope=col>&lt;dbl&gt;</th><th scope=col>&lt;dbl&gt;</th><th scope=col>&lt;dbl&gt;</th><th scope=col>&lt;dbl&gt;</th><th scope=col>&lt;dbl&gt;</th><th scope=col>&lt;dbl&gt;</th><th scope=col>&lt;dbl&gt;</th></tr>\n",
       "</thead>\n",
       "<tbody>\n",
       "\t<tr><td>Miley Cyrus   </td><td>Flowers                            </td><td>2023-08-18</td><td>['pop']                                                     </td><td>0.706</td><td>0.691</td><td>-4.775</td><td> 0</td><td>118.048</td><td>200600</td><td>4</td><td>94</td></tr>\n",
       "\t<tr><td><span style=white-space:pre-wrap>SZA           </span></td><td><span style=white-space:pre-wrap>Kill Bill                          </span></td><td>2022-12-08</td><td><span style=white-space:pre-wrap>['pop', 'r&amp;b', 'rap']                                       </span></td><td>0.644</td><td>0.735</td><td>-5.747</td><td> 8</td><td> 88.980</td><td>153947</td><td>4</td><td>86</td></tr>\n",
       "\t<tr><td>Harry Styles  </td><td>As It Was                          </td><td>2022-05-20</td><td>['pop']                                                     </td><td>0.520</td><td>0.731</td><td>-5.338</td><td> 6</td><td>173.930</td><td>167303</td><td>4</td><td>95</td></tr>\n",
       "\t<tr><td>Jung Kook     </td><td>Seven (feat. Latto) (Explicit Ver.)</td><td>2023-11-03</td><td>['k-pop']                                                   </td><td>0.790</td><td>0.831</td><td>-4.185</td><td>11</td><td>124.987</td><td>183551</td><td>4</td><td>90</td></tr>\n",
       "\t<tr><td>Eslabon Armado</td><td>Ella Baila Sola                    </td><td>2023-04-28</td><td>['corrido', 'corridos tumbados', 'sad sierreno', 'sierreno']</td><td>0.668</td><td>0.758</td><td>-5.176</td><td> 5</td><td>147.989</td><td>165671</td><td>3</td><td>86</td></tr>\n",
       "\t<tr><td>Taylor Swift  </td><td>Cruel Summer                       </td><td>2019-08-23</td><td>['pop']                                                     </td><td>0.552</td><td>0.702</td><td>-5.707</td><td> 9</td><td>169.994</td><td>178427</td><td>4</td><td>99</td></tr>\n",
       "</tbody>\n",
       "</table>\n"
      ],
      "text/latex": [
       "A tibble: 6 × 12\n",
       "\\begin{tabular}{llllllllllll}\n",
       " artist\\_name & track\\_name & album\\_release\\_date & genres & danceability & energy & loudness & key & tempo & duration\\_ms & time\\_signature & popularity\\\\\n",
       " <chr> & <chr> & <date> & <chr> & <dbl> & <dbl> & <dbl> & <dbl> & <dbl> & <dbl> & <dbl> & <dbl>\\\\\n",
       "\\hline\n",
       "\t Miley Cyrus    & Flowers                             & 2023-08-18 & {[}'pop'{]}                                                      & 0.706 & 0.691 & -4.775 &  0 & 118.048 & 200600 & 4 & 94\\\\\n",
       "\t SZA            & Kill Bill                           & 2022-12-08 & {[}'pop', 'r\\&b', 'rap'{]}                                        & 0.644 & 0.735 & -5.747 &  8 &  88.980 & 153947 & 4 & 86\\\\\n",
       "\t Harry Styles   & As It Was                           & 2022-05-20 & {[}'pop'{]}                                                      & 0.520 & 0.731 & -5.338 &  6 & 173.930 & 167303 & 4 & 95\\\\\n",
       "\t Jung Kook      & Seven (feat. Latto) (Explicit Ver.) & 2023-11-03 & {[}'k-pop'{]}                                                    & 0.790 & 0.831 & -4.185 & 11 & 124.987 & 183551 & 4 & 90\\\\\n",
       "\t Eslabon Armado & Ella Baila Sola                     & 2023-04-28 & {[}'corrido', 'corridos tumbados', 'sad sierreno', 'sierreno'{]} & 0.668 & 0.758 & -5.176 &  5 & 147.989 & 165671 & 3 & 86\\\\\n",
       "\t Taylor Swift   & Cruel Summer                        & 2019-08-23 & {[}'pop'{]}                                                      & 0.552 & 0.702 & -5.707 &  9 & 169.994 & 178427 & 4 & 99\\\\\n",
       "\\end{tabular}\n"
      ],
      "text/markdown": [
       "\n",
       "A tibble: 6 × 12\n",
       "\n",
       "| artist_name &lt;chr&gt; | track_name &lt;chr&gt; | album_release_date &lt;date&gt; | genres &lt;chr&gt; | danceability &lt;dbl&gt; | energy &lt;dbl&gt; | loudness &lt;dbl&gt; | key &lt;dbl&gt; | tempo &lt;dbl&gt; | duration_ms &lt;dbl&gt; | time_signature &lt;dbl&gt; | popularity &lt;dbl&gt; |\n",
       "|---|---|---|---|---|---|---|---|---|---|---|---|\n",
       "| Miley Cyrus    | Flowers                             | 2023-08-18 | ['pop']                                                      | 0.706 | 0.691 | -4.775 |  0 | 118.048 | 200600 | 4 | 94 |\n",
       "| SZA            | Kill Bill                           | 2022-12-08 | ['pop', 'r&amp;b', 'rap']                                        | 0.644 | 0.735 | -5.747 |  8 |  88.980 | 153947 | 4 | 86 |\n",
       "| Harry Styles   | As It Was                           | 2022-05-20 | ['pop']                                                      | 0.520 | 0.731 | -5.338 |  6 | 173.930 | 167303 | 4 | 95 |\n",
       "| Jung Kook      | Seven (feat. Latto) (Explicit Ver.) | 2023-11-03 | ['k-pop']                                                    | 0.790 | 0.831 | -4.185 | 11 | 124.987 | 183551 | 4 | 90 |\n",
       "| Eslabon Armado | Ella Baila Sola                     | 2023-04-28 | ['corrido', 'corridos tumbados', 'sad sierreno', 'sierreno'] | 0.668 | 0.758 | -5.176 |  5 | 147.989 | 165671 | 3 | 86 |\n",
       "| Taylor Swift   | Cruel Summer                        | 2019-08-23 | ['pop']                                                      | 0.552 | 0.702 | -5.707 |  9 | 169.994 | 178427 | 4 | 99 |\n",
       "\n"
      ],
      "text/plain": [
       "  artist_name    track_name                          album_release_date\n",
       "1 Miley Cyrus    Flowers                             2023-08-18        \n",
       "2 SZA            Kill Bill                           2022-12-08        \n",
       "3 Harry Styles   As It Was                           2022-05-20        \n",
       "4 Jung Kook      Seven (feat. Latto) (Explicit Ver.) 2023-11-03        \n",
       "5 Eslabon Armado Ella Baila Sola                     2023-04-28        \n",
       "6 Taylor Swift   Cruel Summer                        2019-08-23        \n",
       "  genres                                                       danceability\n",
       "1 ['pop']                                                      0.706       \n",
       "2 ['pop', 'r&b', 'rap']                                        0.644       \n",
       "3 ['pop']                                                      0.520       \n",
       "4 ['k-pop']                                                    0.790       \n",
       "5 ['corrido', 'corridos tumbados', 'sad sierreno', 'sierreno'] 0.668       \n",
       "6 ['pop']                                                      0.552       \n",
       "  energy loudness key tempo   duration_ms time_signature popularity\n",
       "1 0.691  -4.775    0  118.048 200600      4              94        \n",
       "2 0.735  -5.747    8   88.980 153947      4              86        \n",
       "3 0.731  -5.338    6  173.930 167303      4              95        \n",
       "4 0.831  -4.185   11  124.987 183551      4              90        \n",
       "5 0.758  -5.176    5  147.989 165671      3              86        \n",
       "6 0.702  -5.707    9  169.994 178427      4              99        "
      ]
     },
     "metadata": {},
     "output_type": "display_data"
    }
   ],
   "source": [
    "head(spotify)"
   ]
  }
 ],
 "metadata": {
  "kernelspec": {
   "display_name": "R",
   "language": "R",
   "name": "ir"
  },
  "language_info": {
   "codemirror_mode": "r",
   "file_extension": ".r",
   "mimetype": "text/x-r-source",
   "name": "R",
   "pygments_lexer": "r",
   "version": "4.3.1"
  }
 },
 "nbformat": 4,
 "nbformat_minor": 5
}
