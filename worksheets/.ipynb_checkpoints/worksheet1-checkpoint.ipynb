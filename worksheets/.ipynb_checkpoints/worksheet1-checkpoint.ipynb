{
 "cells": [
  {
   "cell_type": "markdown",
   "id": "bd9a1e48-3f92-47e4-8084-8bec11c859ef",
   "metadata": {},
   "source": [
    "# Worksheet 1 \n",
    "\n",
    "## Girls in Data Science Camp"
   ]
  },
  {
   "cell_type": "markdown",
   "id": "1c9ffa7b-341c-4c2a-a0b3-7c73f0acd62f",
   "metadata": {},
   "source": [
    "In this worksheet, we will be using a data set obtained from the Spotify Web API the top 50 tracks from 2023 (more details can be found [here](https://www.kaggle.com/datasets/yukawithdata/spotify-top-tracks-2023)).\n",
    "\n",
    "<img src=https://storage.googleapis.com/pr-newsroom-wp/1/2018/11/Spotify_Logo_RGB_Green.png width=\"500\">"
   ]
  },
  {
   "cell_type": "markdown",
   "id": "7515a16c-c928-4ca8-8426-3d22f346b90f",
   "metadata": {
    "tags": []
   },
   "source": [
    "I have reduced the data set to include the following variables:\n",
    "\n",
    "- artist_name: the artist name\n",
    "- track_name: the title of the track\n",
    "- album_release_date: The date when the track was released\n",
    "- genres: A list of genres associated with the track's artist(s)\n",
    "- danceability: A measure from 0.0 to 1.0 indicating how suitable a track is for dancing based on a combination of musical elements\n",
    "- energy: A measure from 0.0 to 1.0 representing a perceptual measure of intensity and activity\n",
    "- loudness: The overall loudness of a track in decibels (dB)\n",
    "- key: The key the track is in. Integers map to pitches using standard Pitch Class notation.\n",
    "- tempo: The overall estimated tempo of a track in beats per minute (BPM)\n",
    "- duration_ms: The length of the track in milliseconds\n",
    "- time_signature: An estimated overall time signature of a track\n",
    "- popularity: A score between 0 and 100, with 100 being the most popular"
   ]
  }
 ],
 "metadata": {
  "kernelspec": {
   "display_name": "R",
   "language": "R",
   "name": "ir"
  },
  "language_info": {
   "codemirror_mode": "r",
   "file_extension": ".r",
   "mimetype": "text/x-r-source",
   "name": "R",
   "pygments_lexer": "r",
   "version": "4.3.1"
  }
 },
 "nbformat": 4,
 "nbformat_minor": 5
}
