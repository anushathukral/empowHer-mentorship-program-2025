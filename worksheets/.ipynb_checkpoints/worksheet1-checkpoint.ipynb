{
 "cells": [
  {
   "cell_type": "markdown",
   "id": "bd9a1e48-3f92-47e4-8084-8bec11c859ef",
   "metadata": {},
   "source": [
    "# Worksheet 1 \n",
    "\n",
    "## Girls in Data Science Camp"
   ]
  },
  {
   "cell_type": "markdown",
   "id": "1c9ffa7b-341c-4c2a-a0b3-7c73f0acd62f",
   "metadata": {},
   "source": [
    "In this worksheet, we will be using a data set obtained from the Spotify Web API the top 50 tracks from 2023 (more details can be found [here](https://www.kaggle.com/datasets/yukawithdata/spotify-top-tracks-2023)).\n",
    "\n",
    "<img src=https://storage.googleapis.com/pr-newsroom-wp/1/2018/11/Spotify_Logo_RGB_Green.png width=\"500\">"
   ]
  },
  {
   "cell_type": "markdown",
   "id": "7515a16c-c928-4ca8-8426-3d22f346b90f",
   "metadata": {
    "tags": []
   },
   "source": [
    "I have reduced the data set to include the following variables:\n",
    "\n",
    "- artist_name: the artist name\n",
    "- track_name: the title of the track\n",
    "- album_release_date: The date when the track was released\n",
    "- genres: A list of genres associated with the track's artist(s)\n",
    "- danceability: A measure from 0.0 to 1.0 indicating how suitable a track is for dancing based on a combination of musical elements\n",
    "- energy: A measure from 0.0 to 1.0 representing a perceptual measure of intensity and activity\n",
    "- loudness: The overall loudness of a track in decibels (dB)\n",
    "- key: The key the track is in. Integers map to pitches using standard Pitch Class notation.\n",
    "- tempo: The overall estimated tempo of a track in beats per minute (BPM)\n",
    "- duration_ms: The length of the track in milliseconds\n",
    "- time_signature: An estimated overall time signature of a track\n",
    "- popularity: A score between 0 and 100, with 100 being the most popular\n",
    "\n",
    "I also included a new variable called `pop` which is yes if the song falls into any type of pop genre and no otherwise. "
   ]
  },
  {
   "cell_type": "code",
   "execution_count": 1,
   "id": "65c199f4-94a7-4d75-926d-486c2f74d374",
   "metadata": {
    "tags": []
   },
   "outputs": [
    {
     "name": "stderr",
     "output_type": "stream",
     "text": [
      "── \u001b[1mAttaching core tidyverse packages\u001b[22m ──────────────────────── tidyverse 2.0.0 ──\n",
      "\u001b[32m✔\u001b[39m \u001b[34mdplyr    \u001b[39m 1.1.3     \u001b[32m✔\u001b[39m \u001b[34mreadr    \u001b[39m 2.1.4\n",
      "\u001b[32m✔\u001b[39m \u001b[34mforcats  \u001b[39m 1.0.0     \u001b[32m✔\u001b[39m \u001b[34mstringr  \u001b[39m 1.5.0\n",
      "\u001b[32m✔\u001b[39m \u001b[34mggplot2  \u001b[39m 3.4.4     \u001b[32m✔\u001b[39m \u001b[34mtibble   \u001b[39m 3.2.1\n",
      "\u001b[32m✔\u001b[39m \u001b[34mlubridate\u001b[39m 1.9.2     \u001b[32m✔\u001b[39m \u001b[34mtidyr    \u001b[39m 1.3.0\n",
      "\u001b[32m✔\u001b[39m \u001b[34mpurrr    \u001b[39m 1.0.2     \n",
      "── \u001b[1mConflicts\u001b[22m ────────────────────────────────────────── tidyverse_conflicts() ──\n",
      "\u001b[31m✖\u001b[39m \u001b[34mdplyr\u001b[39m::\u001b[32mfilter()\u001b[39m masks \u001b[34mstats\u001b[39m::filter()\n",
      "\u001b[31m✖\u001b[39m \u001b[34mdplyr\u001b[39m::\u001b[32mlag()\u001b[39m    masks \u001b[34mstats\u001b[39m::lag()\n",
      "\u001b[36mℹ\u001b[39m Use the conflicted package (\u001b[3m\u001b[34m<http://conflicted.r-lib.org/>\u001b[39m\u001b[23m) to force all conflicts to become errors\n"
     ]
    }
   ],
   "source": [
    "# Load libraries\n",
    "\n",
    "library(tidyverse)"
   ]
  },
  {
   "cell_type": "code",
   "execution_count": 2,
   "id": "e9d6df1a-1d0c-43b9-b1a1-b9476386b63c",
   "metadata": {
    "tags": []
   },
   "outputs": [
    {
     "name": "stderr",
     "output_type": "stream",
     "text": [
      "\u001b[1mRows: \u001b[22m\u001b[34m50\u001b[39m \u001b[1mColumns: \u001b[22m\u001b[34m12\u001b[39m\n",
      "\u001b[36m──\u001b[39m \u001b[1mColumn specification\u001b[22m \u001b[36m────────────────────────────────────────────────────────\u001b[39m\n",
      "\u001b[1mDelimiter:\u001b[22m \",\"\n",
      "\u001b[31mchr\u001b[39m  (3): artist_name, track_name, genres\n",
      "\u001b[32mdbl\u001b[39m  (8): danceability, energy, loudness, key, tempo, duration_ms, time_sign...\n",
      "\u001b[34mdate\u001b[39m (1): album_release_date\n",
      "\n",
      "\u001b[36mℹ\u001b[39m Use `spec()` to retrieve the full column specification for this data.\n",
      "\u001b[36mℹ\u001b[39m Specify the column types or set `show_col_types = FALSE` to quiet this message.\n"
     ]
    }
   ],
   "source": [
    "# Read in the data\n",
    "\n",
    "spotify <- read_csv(\"data/spotify_top_50_2023.csv\")"
   ]
  },
  {
   "cell_type": "code",
   "execution_count": 20,
   "id": "59afa589-29f3-438e-a38f-44c84f7fd4a0",
   "metadata": {
    "tags": []
   },
   "outputs": [],
   "source": [
    "spotify <- spotify |> \n",
    "                mutate(pop = if_else(str_detect(genres, \"pop\"), \"yes\", \"no\"))"
   ]
  },
  {
   "cell_type": "markdown",
   "id": "f780e659-49c9-454c-abe6-bf85c84498ec",
   "metadata": {},
   "source": [
    "# Exercise 1: Wrangling "
   ]
  },
  {
   "cell_type": "markdown",
   "id": "65de6b9d-9c59-4a47-997b-4d458c61fa46",
   "metadata": {},
   "source": [
    "## 1.1 \n",
    "\n",
    "Is the spotify data tidy? Why or why not?\n",
    "\n",
    "> Answer: Yes! Each row corresponds to a single observation, each column corresponds to a single variable, and each cell (row, column pair) correspond to a single value."
   ]
  },
  {
   "cell_type": "markdown",
   "id": "107846dc-878a-4bdd-a61e-0cf24c5f6d8a",
   "metadata": {},
   "source": [
    "## 1.2 \n",
    "\n",
    "What are the dimensions of this data set (i.e., the number of rows and columns)?"
   ]
  },
  {
   "cell_type": "code",
   "execution_count": 4,
   "id": "9a7df8ea-f947-4e41-bf1e-78e78bd2f03f",
   "metadata": {
    "tags": []
   },
   "outputs": [
    {
     "data": {
      "text/html": [
       "<style>\n",
       ".list-inline {list-style: none; margin:0; padding: 0}\n",
       ".list-inline>li {display: inline-block}\n",
       ".list-inline>li:not(:last-child)::after {content: \"\\00b7\"; padding: 0 .5ex}\n",
       "</style>\n",
       "<ol class=list-inline><li>50</li><li>12</li></ol>\n"
      ],
      "text/latex": [
       "\\begin{enumerate*}\n",
       "\\item 50\n",
       "\\item 12\n",
       "\\end{enumerate*}\n"
      ],
      "text/markdown": [
       "1. 50\n",
       "2. 12\n",
       "\n",
       "\n"
      ],
      "text/plain": [
       "[1] 50 12"
      ]
     },
     "metadata": {},
     "output_type": "display_data"
    }
   ],
   "source": [
    "dim(spotify) "
   ]
  },
  {
   "cell_type": "markdown",
   "id": "29f26899-059b-4ea2-a464-481650c828cf",
   "metadata": {
    "tags": []
   },
   "source": [
    "## 1.3 \n",
    "\n",
    "Without examining the entire data set, which artist and track is in the 35th row of the data set? Note that your code should return only the required variables (`artist_name` and `track_name`). "
   ]
  },
  {
   "cell_type": "code",
   "execution_count": 11,
   "id": "98d83b61-5aae-4582-85e0-15d3d6bcdbc9",
   "metadata": {
    "tags": []
   },
   "outputs": [
    {
     "data": {
      "text/html": [
       "<table class=\"dataframe\">\n",
       "<caption>A tibble: 1 × 2</caption>\n",
       "<thead>\n",
       "\t<tr><th scope=col>artist_name</th><th scope=col>track_name</th></tr>\n",
       "\t<tr><th scope=col>&lt;chr&gt;</th><th scope=col>&lt;chr&gt;</th></tr>\n",
       "</thead>\n",
       "<tbody>\n",
       "\t<tr><td>Doja Cat</td><td>Paint The Town Red</td></tr>\n",
       "</tbody>\n",
       "</table>\n"
      ],
      "text/latex": [
       "A tibble: 1 × 2\n",
       "\\begin{tabular}{ll}\n",
       " artist\\_name & track\\_name\\\\\n",
       " <chr> & <chr>\\\\\n",
       "\\hline\n",
       "\t Doja Cat & Paint The Town Red\\\\\n",
       "\\end{tabular}\n"
      ],
      "text/markdown": [
       "\n",
       "A tibble: 1 × 2\n",
       "\n",
       "| artist_name &lt;chr&gt; | track_name &lt;chr&gt; |\n",
       "|---|---|\n",
       "| Doja Cat | Paint The Town Red |\n",
       "\n"
      ],
      "text/plain": [
       "  artist_name track_name        \n",
       "1 Doja Cat    Paint The Town Red"
      ]
     },
     "metadata": {},
     "output_type": "display_data"
    }
   ],
   "source": [
    "spotify |> \n",
    "    slice(35) |>\n",
    "    select(artist_name, track_name)"
   ]
  },
  {
   "cell_type": "markdown",
   "id": "ba9811eb-efa6-43d1-b945-a0d57ab4b9d3",
   "metadata": {},
   "source": [
    "## 1.4 \n",
    "\n",
    "Create a subset of the data that only includes tracks with a popularity score over 90. Assign this to an object called `pop_90`. How many songs have a popularity score over 90?"
   ]
  },
  {
   "cell_type": "code",
   "execution_count": 18,
   "id": "834b06c3-7a37-4302-820a-282fedcf7d76",
   "metadata": {
    "tags": []
   },
   "outputs": [
    {
     "data": {
      "text/html": [
       "<table class=\"dataframe\">\n",
       "<caption>A spec_tbl_df: 20 × 12</caption>\n",
       "<thead>\n",
       "\t<tr><th scope=col>artist_name</th><th scope=col>track_name</th><th scope=col>album_release_date</th><th scope=col>genres</th><th scope=col>danceability</th><th scope=col>energy</th><th scope=col>loudness</th><th scope=col>key</th><th scope=col>tempo</th><th scope=col>duration_ms</th><th scope=col>time_signature</th><th scope=col>popularity</th></tr>\n",
       "\t<tr><th scope=col>&lt;chr&gt;</th><th scope=col>&lt;chr&gt;</th><th scope=col>&lt;date&gt;</th><th scope=col>&lt;chr&gt;</th><th scope=col>&lt;dbl&gt;</th><th scope=col>&lt;dbl&gt;</th><th scope=col>&lt;dbl&gt;</th><th scope=col>&lt;dbl&gt;</th><th scope=col>&lt;dbl&gt;</th><th scope=col>&lt;dbl&gt;</th><th scope=col>&lt;dbl&gt;</th><th scope=col>&lt;dbl&gt;</th></tr>\n",
       "</thead>\n",
       "<tbody>\n",
       "\t<tr><td>Miley Cyrus       </td><td>Flowers                               </td><td>2023-08-18</td><td>['pop']                                                                    </td><td>0.706</td><td>0.691</td><td> -4.775</td><td> 0</td><td>118.048</td><td>200600</td><td>4</td><td>94</td></tr>\n",
       "\t<tr><td>Harry Styles      </td><td>As It Was                             </td><td>2022-05-20</td><td>['pop']                                                                    </td><td>0.520</td><td>0.731</td><td> -5.338</td><td> 6</td><td>173.930</td><td>167303</td><td>4</td><td>95</td></tr>\n",
       "\t<tr><td>Taylor Swift      </td><td>Cruel Summer                          </td><td>2019-08-23</td><td>['pop']                                                                    </td><td>0.552</td><td>0.702</td><td> -5.707</td><td> 9</td><td>169.994</td><td>178427</td><td>4</td><td>99</td></tr>\n",
       "\t<tr><td><span style=white-space:pre-wrap>Metro Boomin      </span></td><td>Creepin' (with The Weeknd &amp; 21 Savage)</td><td>2022-12-02</td><td><span style=white-space:pre-wrap>['rap']                                                                    </span></td><td>0.715</td><td>0.620</td><td> -6.005</td><td> 1</td><td> 97.950</td><td>221520</td><td>4</td><td>91</td></tr>\n",
       "\t<tr><td>Taylor Swift      </td><td>Anti-Hero                             </td><td>2022-10-21</td><td>['pop']                                                                    </td><td>0.637</td><td>0.643</td><td> -6.571</td><td> 4</td><td> 97.008</td><td>200690</td><td>4</td><td>92</td></tr>\n",
       "\t<tr><td>Arctic Monkeys    </td><td>I Wanna Be Yours                      </td><td>2013-09-09</td><td>['garage rock', 'modern rock', 'permanent wave', 'rock', 'sheffield indie']</td><td>0.464</td><td>0.417</td><td> -9.345</td><td> 0</td><td> 67.528</td><td>183956</td><td>4</td><td>96</td></tr>\n",
       "\t<tr><td>David Guetta      </td><td>I'm Good (Blue)                       </td><td>2022-08-26</td><td>['big room', 'dance pop', 'edm', 'pop', 'pop dance']                       </td><td>0.561</td><td>0.965</td><td> -3.673</td><td> 7</td><td>128.040</td><td>175238</td><td>4</td><td>92</td></tr>\n",
       "\t<tr><td>David Kushner     </td><td>Daylight                              </td><td>2023-04-14</td><td>['gen z singer-songwriter', 'singer-songwriter pop']                       </td><td>0.508</td><td>0.430</td><td> -9.475</td><td> 2</td><td>130.090</td><td>212954</td><td>4</td><td>94</td></tr>\n",
       "\t<tr><td><span style=white-space:pre-wrap>The Weeknd        </span></td><td><span style=white-space:pre-wrap>Starboy                               </span></td><td>2016-11-25</td><td><span style=white-space:pre-wrap>['canadian contemporary r&amp;b', 'canadian pop', 'pop']                       </span></td><td>0.679</td><td>0.587</td><td> -7.015</td><td> 7</td><td>186.003</td><td>230453</td><td>4</td><td>95</td></tr>\n",
       "\t<tr><td>OneRepublic       </td><td>I Ain't Worried                       </td><td>2022-05-13</td><td>['piano rock', 'pop']                                                      </td><td>0.704</td><td>0.797</td><td> -5.927</td><td> 0</td><td>139.994</td><td>148486</td><td>4</td><td>92</td></tr>\n",
       "\t<tr><td>Myke Towers       </td><td>LALA                                  </td><td>2023-03-23</td><td>['reggaeton', 'trap latino', 'urbano latino']                              </td><td>0.708</td><td>0.737</td><td> -4.045</td><td> 1</td><td> 91.986</td><td>197920</td><td>4</td><td>93</td></tr>\n",
       "\t<tr><td>Doja Cat          </td><td>Paint The Town Red                    </td><td>2023-09-20</td><td>['dance pop', 'pop']                                                       </td><td>0.864</td><td>0.556</td><td> -7.683</td><td> 2</td><td> 99.974</td><td>230480</td><td>4</td><td>93</td></tr>\n",
       "\t<tr><td>The Neighbourhood </td><td>Sweater Weather                       </td><td>2013-04-19</td><td>['modern alternative rock', 'modern rock', 'pop']                          </td><td>0.612</td><td>0.807</td><td> -2.810</td><td>10</td><td>124.053</td><td>240400</td><td>4</td><td>93</td></tr>\n",
       "\t<tr><td><span style=white-space:pre-wrap>SZA               </span></td><td><span style=white-space:pre-wrap>Snooze                                </span></td><td>2022-12-09</td><td><span style=white-space:pre-wrap>['pop', 'r&amp;b', 'rap']                                                      </span></td><td>0.559</td><td>0.551</td><td> -7.231</td><td> 5</td><td>143.008</td><td>201800</td><td>4</td><td>93</td></tr>\n",
       "\t<tr><td><span style=white-space:pre-wrap>The Weeknd        </span></td><td><span style=white-space:pre-wrap>Blinding Lights                       </span></td><td>2020-03-20</td><td><span style=white-space:pre-wrap>['canadian contemporary r&amp;b', 'canadian pop', 'pop']                       </span></td><td>0.514</td><td>0.730</td><td> -5.934</td><td> 1</td><td>171.005</td><td>200040</td><td>4</td><td>93</td></tr>\n",
       "\t<tr><td>Jimin             </td><td>Like Crazy                            </td><td>2023-03-24</td><td>['k-pop']                                                                  </td><td>0.629</td><td>0.733</td><td> -5.445</td><td> 7</td><td>120.001</td><td>212241</td><td>4</td><td>93</td></tr>\n",
       "\t<tr><td>Eminem            </td><td>Mockingbird                           </td><td>2004-11-12</td><td>['detroit hip hop', 'hip hop', 'rap']                                      </td><td>0.637</td><td>0.678</td><td> -3.798</td><td> 0</td><td> 84.039</td><td>250760</td><td>4</td><td>91</td></tr>\n",
       "\t<tr><td>Olivia Rodrigo    </td><td>vampire                               </td><td>2023-09-08</td><td>['pop']                                                                    </td><td>0.511</td><td>0.532</td><td> -5.745</td><td> 5</td><td>138.005</td><td>219724</td><td>4</td><td>95</td></tr>\n",
       "\t<tr><td>Tyler, The Creator</td><td>See You Again (feat. Kali Uchis)      </td><td>2017-07-21</td><td>['hip hop', 'rap']                                                         </td><td>0.558</td><td>0.559</td><td> -9.222</td><td> 6</td><td> 78.558</td><td>180387</td><td>4</td><td>92</td></tr>\n",
       "\t<tr><td>d4vd              </td><td>Romantic Homicide                     </td><td>2022-07-20</td><td>['bedroom pop']                                                            </td><td>0.571</td><td>0.544</td><td>-10.613</td><td> 6</td><td>132.052</td><td>132631</td><td>4</td><td>91</td></tr>\n",
       "</tbody>\n",
       "</table>\n"
      ],
      "text/latex": [
       "A spec\\_tbl\\_df: 20 × 12\n",
       "\\begin{tabular}{llllllllllll}\n",
       " artist\\_name & track\\_name & album\\_release\\_date & genres & danceability & energy & loudness & key & tempo & duration\\_ms & time\\_signature & popularity\\\\\n",
       " <chr> & <chr> & <date> & <chr> & <dbl> & <dbl> & <dbl> & <dbl> & <dbl> & <dbl> & <dbl> & <dbl>\\\\\n",
       "\\hline\n",
       "\t Miley Cyrus        & Flowers                                & 2023-08-18 & {[}'pop'{]}                                                                     & 0.706 & 0.691 &  -4.775 &  0 & 118.048 & 200600 & 4 & 94\\\\\n",
       "\t Harry Styles       & As It Was                              & 2022-05-20 & {[}'pop'{]}                                                                     & 0.520 & 0.731 &  -5.338 &  6 & 173.930 & 167303 & 4 & 95\\\\\n",
       "\t Taylor Swift       & Cruel Summer                           & 2019-08-23 & {[}'pop'{]}                                                                     & 0.552 & 0.702 &  -5.707 &  9 & 169.994 & 178427 & 4 & 99\\\\\n",
       "\t Metro Boomin       & Creepin' (with The Weeknd \\& 21 Savage) & 2022-12-02 & {[}'rap'{]}                                                                     & 0.715 & 0.620 &  -6.005 &  1 &  97.950 & 221520 & 4 & 91\\\\\n",
       "\t Taylor Swift       & Anti-Hero                              & 2022-10-21 & {[}'pop'{]}                                                                     & 0.637 & 0.643 &  -6.571 &  4 &  97.008 & 200690 & 4 & 92\\\\\n",
       "\t Arctic Monkeys     & I Wanna Be Yours                       & 2013-09-09 & {[}'garage rock', 'modern rock', 'permanent wave', 'rock', 'sheffield indie'{]} & 0.464 & 0.417 &  -9.345 &  0 &  67.528 & 183956 & 4 & 96\\\\\n",
       "\t David Guetta       & I'm Good (Blue)                        & 2022-08-26 & {[}'big room', 'dance pop', 'edm', 'pop', 'pop dance'{]}                        & 0.561 & 0.965 &  -3.673 &  7 & 128.040 & 175238 & 4 & 92\\\\\n",
       "\t David Kushner      & Daylight                               & 2023-04-14 & {[}'gen z singer-songwriter', 'singer-songwriter pop'{]}                        & 0.508 & 0.430 &  -9.475 &  2 & 130.090 & 212954 & 4 & 94\\\\\n",
       "\t The Weeknd         & Starboy                                & 2016-11-25 & {[}'canadian contemporary r\\&b', 'canadian pop', 'pop'{]}                        & 0.679 & 0.587 &  -7.015 &  7 & 186.003 & 230453 & 4 & 95\\\\\n",
       "\t OneRepublic        & I Ain't Worried                        & 2022-05-13 & {[}'piano rock', 'pop'{]}                                                       & 0.704 & 0.797 &  -5.927 &  0 & 139.994 & 148486 & 4 & 92\\\\\n",
       "\t Myke Towers        & LALA                                   & 2023-03-23 & {[}'reggaeton', 'trap latino', 'urbano latino'{]}                               & 0.708 & 0.737 &  -4.045 &  1 &  91.986 & 197920 & 4 & 93\\\\\n",
       "\t Doja Cat           & Paint The Town Red                     & 2023-09-20 & {[}'dance pop', 'pop'{]}                                                        & 0.864 & 0.556 &  -7.683 &  2 &  99.974 & 230480 & 4 & 93\\\\\n",
       "\t The Neighbourhood  & Sweater Weather                        & 2013-04-19 & {[}'modern alternative rock', 'modern rock', 'pop'{]}                           & 0.612 & 0.807 &  -2.810 & 10 & 124.053 & 240400 & 4 & 93\\\\\n",
       "\t SZA                & Snooze                                 & 2022-12-09 & {[}'pop', 'r\\&b', 'rap'{]}                                                       & 0.559 & 0.551 &  -7.231 &  5 & 143.008 & 201800 & 4 & 93\\\\\n",
       "\t The Weeknd         & Blinding Lights                        & 2020-03-20 & {[}'canadian contemporary r\\&b', 'canadian pop', 'pop'{]}                        & 0.514 & 0.730 &  -5.934 &  1 & 171.005 & 200040 & 4 & 93\\\\\n",
       "\t Jimin              & Like Crazy                             & 2023-03-24 & {[}'k-pop'{]}                                                                   & 0.629 & 0.733 &  -5.445 &  7 & 120.001 & 212241 & 4 & 93\\\\\n",
       "\t Eminem             & Mockingbird                            & 2004-11-12 & {[}'detroit hip hop', 'hip hop', 'rap'{]}                                       & 0.637 & 0.678 &  -3.798 &  0 &  84.039 & 250760 & 4 & 91\\\\\n",
       "\t Olivia Rodrigo     & vampire                                & 2023-09-08 & {[}'pop'{]}                                                                     & 0.511 & 0.532 &  -5.745 &  5 & 138.005 & 219724 & 4 & 95\\\\\n",
       "\t Tyler, The Creator & See You Again (feat. Kali Uchis)       & 2017-07-21 & {[}'hip hop', 'rap'{]}                                                          & 0.558 & 0.559 &  -9.222 &  6 &  78.558 & 180387 & 4 & 92\\\\\n",
       "\t d4vd               & Romantic Homicide                      & 2022-07-20 & {[}'bedroom pop'{]}                                                             & 0.571 & 0.544 & -10.613 &  6 & 132.052 & 132631 & 4 & 91\\\\\n",
       "\\end{tabular}\n"
      ],
      "text/markdown": [
       "\n",
       "A spec_tbl_df: 20 × 12\n",
       "\n",
       "| artist_name &lt;chr&gt; | track_name &lt;chr&gt; | album_release_date &lt;date&gt; | genres &lt;chr&gt; | danceability &lt;dbl&gt; | energy &lt;dbl&gt; | loudness &lt;dbl&gt; | key &lt;dbl&gt; | tempo &lt;dbl&gt; | duration_ms &lt;dbl&gt; | time_signature &lt;dbl&gt; | popularity &lt;dbl&gt; |\n",
       "|---|---|---|---|---|---|---|---|---|---|---|---|\n",
       "| Miley Cyrus        | Flowers                                | 2023-08-18 | ['pop']                                                                     | 0.706 | 0.691 |  -4.775 |  0 | 118.048 | 200600 | 4 | 94 |\n",
       "| Harry Styles       | As It Was                              | 2022-05-20 | ['pop']                                                                     | 0.520 | 0.731 |  -5.338 |  6 | 173.930 | 167303 | 4 | 95 |\n",
       "| Taylor Swift       | Cruel Summer                           | 2019-08-23 | ['pop']                                                                     | 0.552 | 0.702 |  -5.707 |  9 | 169.994 | 178427 | 4 | 99 |\n",
       "| Metro Boomin       | Creepin' (with The Weeknd &amp; 21 Savage) | 2022-12-02 | ['rap']                                                                     | 0.715 | 0.620 |  -6.005 |  1 |  97.950 | 221520 | 4 | 91 |\n",
       "| Taylor Swift       | Anti-Hero                              | 2022-10-21 | ['pop']                                                                     | 0.637 | 0.643 |  -6.571 |  4 |  97.008 | 200690 | 4 | 92 |\n",
       "| Arctic Monkeys     | I Wanna Be Yours                       | 2013-09-09 | ['garage rock', 'modern rock', 'permanent wave', 'rock', 'sheffield indie'] | 0.464 | 0.417 |  -9.345 |  0 |  67.528 | 183956 | 4 | 96 |\n",
       "| David Guetta       | I'm Good (Blue)                        | 2022-08-26 | ['big room', 'dance pop', 'edm', 'pop', 'pop dance']                        | 0.561 | 0.965 |  -3.673 |  7 | 128.040 | 175238 | 4 | 92 |\n",
       "| David Kushner      | Daylight                               | 2023-04-14 | ['gen z singer-songwriter', 'singer-songwriter pop']                        | 0.508 | 0.430 |  -9.475 |  2 | 130.090 | 212954 | 4 | 94 |\n",
       "| The Weeknd         | Starboy                                | 2016-11-25 | ['canadian contemporary r&amp;b', 'canadian pop', 'pop']                        | 0.679 | 0.587 |  -7.015 |  7 | 186.003 | 230453 | 4 | 95 |\n",
       "| OneRepublic        | I Ain't Worried                        | 2022-05-13 | ['piano rock', 'pop']                                                       | 0.704 | 0.797 |  -5.927 |  0 | 139.994 | 148486 | 4 | 92 |\n",
       "| Myke Towers        | LALA                                   | 2023-03-23 | ['reggaeton', 'trap latino', 'urbano latino']                               | 0.708 | 0.737 |  -4.045 |  1 |  91.986 | 197920 | 4 | 93 |\n",
       "| Doja Cat           | Paint The Town Red                     | 2023-09-20 | ['dance pop', 'pop']                                                        | 0.864 | 0.556 |  -7.683 |  2 |  99.974 | 230480 | 4 | 93 |\n",
       "| The Neighbourhood  | Sweater Weather                        | 2013-04-19 | ['modern alternative rock', 'modern rock', 'pop']                           | 0.612 | 0.807 |  -2.810 | 10 | 124.053 | 240400 | 4 | 93 |\n",
       "| SZA                | Snooze                                 | 2022-12-09 | ['pop', 'r&amp;b', 'rap']                                                       | 0.559 | 0.551 |  -7.231 |  5 | 143.008 | 201800 | 4 | 93 |\n",
       "| The Weeknd         | Blinding Lights                        | 2020-03-20 | ['canadian contemporary r&amp;b', 'canadian pop', 'pop']                        | 0.514 | 0.730 |  -5.934 |  1 | 171.005 | 200040 | 4 | 93 |\n",
       "| Jimin              | Like Crazy                             | 2023-03-24 | ['k-pop']                                                                   | 0.629 | 0.733 |  -5.445 |  7 | 120.001 | 212241 | 4 | 93 |\n",
       "| Eminem             | Mockingbird                            | 2004-11-12 | ['detroit hip hop', 'hip hop', 'rap']                                       | 0.637 | 0.678 |  -3.798 |  0 |  84.039 | 250760 | 4 | 91 |\n",
       "| Olivia Rodrigo     | vampire                                | 2023-09-08 | ['pop']                                                                     | 0.511 | 0.532 |  -5.745 |  5 | 138.005 | 219724 | 4 | 95 |\n",
       "| Tyler, The Creator | See You Again (feat. Kali Uchis)       | 2017-07-21 | ['hip hop', 'rap']                                                          | 0.558 | 0.559 |  -9.222 |  6 |  78.558 | 180387 | 4 | 92 |\n",
       "| d4vd               | Romantic Homicide                      | 2022-07-20 | ['bedroom pop']                                                             | 0.571 | 0.544 | -10.613 |  6 | 132.052 | 132631 | 4 | 91 |\n",
       "\n"
      ],
      "text/plain": [
       "   artist_name        track_name                             album_release_date\n",
       "1  Miley Cyrus        Flowers                                2023-08-18        \n",
       "2  Harry Styles       As It Was                              2022-05-20        \n",
       "3  Taylor Swift       Cruel Summer                           2019-08-23        \n",
       "4  Metro Boomin       Creepin' (with The Weeknd & 21 Savage) 2022-12-02        \n",
       "5  Taylor Swift       Anti-Hero                              2022-10-21        \n",
       "6  Arctic Monkeys     I Wanna Be Yours                       2013-09-09        \n",
       "7  David Guetta       I'm Good (Blue)                        2022-08-26        \n",
       "8  David Kushner      Daylight                               2023-04-14        \n",
       "9  The Weeknd         Starboy                                2016-11-25        \n",
       "10 OneRepublic        I Ain't Worried                        2022-05-13        \n",
       "11 Myke Towers        LALA                                   2023-03-23        \n",
       "12 Doja Cat           Paint The Town Red                     2023-09-20        \n",
       "13 The Neighbourhood  Sweater Weather                        2013-04-19        \n",
       "14 SZA                Snooze                                 2022-12-09        \n",
       "15 The Weeknd         Blinding Lights                        2020-03-20        \n",
       "16 Jimin              Like Crazy                             2023-03-24        \n",
       "17 Eminem             Mockingbird                            2004-11-12        \n",
       "18 Olivia Rodrigo     vampire                                2023-09-08        \n",
       "19 Tyler, The Creator See You Again (feat. Kali Uchis)       2017-07-21        \n",
       "20 d4vd               Romantic Homicide                      2022-07-20        \n",
       "   genres                                                                     \n",
       "1  ['pop']                                                                    \n",
       "2  ['pop']                                                                    \n",
       "3  ['pop']                                                                    \n",
       "4  ['rap']                                                                    \n",
       "5  ['pop']                                                                    \n",
       "6  ['garage rock', 'modern rock', 'permanent wave', 'rock', 'sheffield indie']\n",
       "7  ['big room', 'dance pop', 'edm', 'pop', 'pop dance']                       \n",
       "8  ['gen z singer-songwriter', 'singer-songwriter pop']                       \n",
       "9  ['canadian contemporary r&b', 'canadian pop', 'pop']                       \n",
       "10 ['piano rock', 'pop']                                                      \n",
       "11 ['reggaeton', 'trap latino', 'urbano latino']                              \n",
       "12 ['dance pop', 'pop']                                                       \n",
       "13 ['modern alternative rock', 'modern rock', 'pop']                          \n",
       "14 ['pop', 'r&b', 'rap']                                                      \n",
       "15 ['canadian contemporary r&b', 'canadian pop', 'pop']                       \n",
       "16 ['k-pop']                                                                  \n",
       "17 ['detroit hip hop', 'hip hop', 'rap']                                      \n",
       "18 ['pop']                                                                    \n",
       "19 ['hip hop', 'rap']                                                         \n",
       "20 ['bedroom pop']                                                            \n",
       "   danceability energy loudness key tempo   duration_ms time_signature\n",
       "1  0.706        0.691   -4.775   0  118.048 200600      4             \n",
       "2  0.520        0.731   -5.338   6  173.930 167303      4             \n",
       "3  0.552        0.702   -5.707   9  169.994 178427      4             \n",
       "4  0.715        0.620   -6.005   1   97.950 221520      4             \n",
       "5  0.637        0.643   -6.571   4   97.008 200690      4             \n",
       "6  0.464        0.417   -9.345   0   67.528 183956      4             \n",
       "7  0.561        0.965   -3.673   7  128.040 175238      4             \n",
       "8  0.508        0.430   -9.475   2  130.090 212954      4             \n",
       "9  0.679        0.587   -7.015   7  186.003 230453      4             \n",
       "10 0.704        0.797   -5.927   0  139.994 148486      4             \n",
       "11 0.708        0.737   -4.045   1   91.986 197920      4             \n",
       "12 0.864        0.556   -7.683   2   99.974 230480      4             \n",
       "13 0.612        0.807   -2.810  10  124.053 240400      4             \n",
       "14 0.559        0.551   -7.231   5  143.008 201800      4             \n",
       "15 0.514        0.730   -5.934   1  171.005 200040      4             \n",
       "16 0.629        0.733   -5.445   7  120.001 212241      4             \n",
       "17 0.637        0.678   -3.798   0   84.039 250760      4             \n",
       "18 0.511        0.532   -5.745   5  138.005 219724      4             \n",
       "19 0.558        0.559   -9.222   6   78.558 180387      4             \n",
       "20 0.571        0.544  -10.613   6  132.052 132631      4             \n",
       "   popularity\n",
       "1  94        \n",
       "2  95        \n",
       "3  99        \n",
       "4  91        \n",
       "5  92        \n",
       "6  96        \n",
       "7  92        \n",
       "8  94        \n",
       "9  95        \n",
       "10 92        \n",
       "11 93        \n",
       "12 93        \n",
       "13 93        \n",
       "14 93        \n",
       "15 93        \n",
       "16 93        \n",
       "17 91        \n",
       "18 95        \n",
       "19 92        \n",
       "20 91        "
      ]
     },
     "metadata": {},
     "output_type": "display_data"
    }
   ],
   "source": [
    "pop_90 <- spotify |> \n",
    "            filter(popularity > 90)\n",
    "\n",
    "pop_90"
   ]
  },
  {
   "cell_type": "code",
   "execution_count": 16,
   "id": "d0ea4a47-7e98-4ffe-bc1e-57578ec98400",
   "metadata": {
    "tags": []
   },
   "outputs": [
    {
     "data": {
      "text/html": [
       "20"
      ],
      "text/latex": [
       "20"
      ],
      "text/markdown": [
       "20"
      ],
      "text/plain": [
       "[1] 20"
      ]
     },
     "metadata": {},
     "output_type": "display_data"
    }
   ],
   "source": [
    "nrow(pop_90) "
   ]
  },
  {
   "cell_type": "markdown",
   "id": "26498ac2-dc40-4e33-9267-a25e74cafeb8",
   "metadata": {
    "tags": []
   },
   "source": [
    "> 20 tracks have a popularity score over 90."
   ]
  },
  {
   "cell_type": "markdown",
   "id": "c8077f5a-c709-4abd-ab9f-6c1ab1d4dacb",
   "metadata": {},
   "source": [
    "## 1.5\n",
    "\n",
    "Now, I want to look at pop songs that have a danceability score over 0.7. Create a subset of the `spotify` data set to achieve this task, ordered from highest to lowest danceability. "
   ]
  },
  {
   "cell_type": "code",
   "execution_count": 25,
   "id": "5e6a39f6-5c75-4c09-a5d1-c248dd8bc436",
   "metadata": {
    "tags": []
   },
   "outputs": [
    {
     "data": {
      "text/html": [
       "<table class=\"dataframe\">\n",
       "<caption>A tibble: 13 × 13</caption>\n",
       "<thead>\n",
       "\t<tr><th scope=col>artist_name</th><th scope=col>track_name</th><th scope=col>album_release_date</th><th scope=col>genres</th><th scope=col>danceability</th><th scope=col>energy</th><th scope=col>loudness</th><th scope=col>key</th><th scope=col>tempo</th><th scope=col>duration_ms</th><th scope=col>time_signature</th><th scope=col>popularity</th><th scope=col>pop</th></tr>\n",
       "\t<tr><th scope=col>&lt;chr&gt;</th><th scope=col>&lt;chr&gt;</th><th scope=col>&lt;date&gt;</th><th scope=col>&lt;chr&gt;</th><th scope=col>&lt;dbl&gt;</th><th scope=col>&lt;dbl&gt;</th><th scope=col>&lt;dbl&gt;</th><th scope=col>&lt;dbl&gt;</th><th scope=col>&lt;dbl&gt;</th><th scope=col>&lt;dbl&gt;</th><th scope=col>&lt;dbl&gt;</th><th scope=col>&lt;dbl&gt;</th><th scope=col>&lt;chr&gt;</th></tr>\n",
       "</thead>\n",
       "<tbody>\n",
       "\t<tr><td>Ozuna        </td><td>Hey Mor                              </td><td>2022-10-07</td><td>['puerto rican pop', 'reggaeton', 'trap latino', 'urbano latino']                                      </td><td>0.901</td><td>0.589</td><td>-6.713</td><td> 1</td><td> 98.002</td><td>196600</td><td>4</td><td>87</td><td>yes</td></tr>\n",
       "\t<tr><td>Doja Cat     </td><td>Paint The Town Red                   </td><td>2023-09-20</td><td>['dance pop', 'pop']                                                                                   </td><td>0.864</td><td>0.556</td><td>-7.683</td><td> 2</td><td> 99.974</td><td>230480</td><td>4</td><td>93</td><td>yes</td></tr>\n",
       "\t<tr><td>Feid         </td><td>CLASSY 101                           </td><td>2023-03-31</td><td>['colombian pop', 'pop reggaeton', 'reggaeton', 'reggaeton colombiano', 'trap latino', 'urbano latino']</td><td>0.859</td><td>0.658</td><td>-4.790</td><td>11</td><td>100.065</td><td>195987</td><td>4</td><td>87</td><td>yes</td></tr>\n",
       "\t<tr><td>Manuel Turizo</td><td>La Bachata                           </td><td>2023-03-17</td><td>['colombian pop', 'latin pop', 'reggaeton', 'reggaeton colombiano', 'trap latino', 'urbano latino']    </td><td>0.835</td><td>0.679</td><td>-5.329</td><td> 7</td><td>124.980</td><td>162638</td><td>4</td><td>85</td><td>yes</td></tr>\n",
       "\t<tr><td>NewJeans     </td><td>OMG                                  </td><td>2023-01-02</td><td>['k-pop', 'k-pop girl group']                                                                          </td><td>0.804</td><td>0.771</td><td>-4.067</td><td> 9</td><td>126.956</td><td>212253</td><td>4</td><td>87</td><td>yes</td></tr>\n",
       "\t<tr><td>Rema         </td><td>Calm Down (with Selena Gomez)        </td><td>2023-04-27</td><td>['afrobeats', 'nigerian pop']                                                                          </td><td>0.799</td><td>0.802</td><td>-5.196</td><td>11</td><td>107.008</td><td>239318</td><td>4</td><td>90</td><td>yes</td></tr>\n",
       "\t<tr><td>Jung Kook    </td><td>Seven (feat. Latto) (Explicit Ver.)  </td><td>2023-11-03</td><td>['k-pop']                                                                                              </td><td>0.790</td><td>0.831</td><td>-4.185</td><td>11</td><td>124.987</td><td>183551</td><td>4</td><td>90</td><td>yes</td></tr>\n",
       "\t<tr><td>FIFTY FIFTY  </td><td>Cupid - Twin Ver.                    </td><td>2023-09-22</td><td>['k-pop girl group']                                                                                   </td><td>0.783</td><td>0.592</td><td>-8.332</td><td>11</td><td>120.018</td><td>174253</td><td>4</td><td>75</td><td>yes</td></tr>\n",
       "\t<tr><td>Bizarrap     </td><td>Shakira: Bzrp Music Sessions, Vol. 53</td><td>2023-01-11</td><td>['argentine hip hop', 'pop venezolano', 'trap argentino', 'trap latino', 'urbano latino']              </td><td>0.778</td><td>0.632</td><td>-5.600</td><td> 2</td><td>122.104</td><td>218289</td><td>4</td><td>85</td><td>yes</td></tr>\n",
       "\t<tr><td>Taylor Swift </td><td>Blank Space                          </td><td>2014-10-27</td><td>['pop']                                                                                                </td><td>0.753</td><td>0.678</td><td>-5.421</td><td> 5</td><td> 96.006</td><td>231827</td><td>4</td><td>78</td><td>yes</td></tr>\n",
       "\t<tr><td>Sam Smith    </td><td>Unholy (feat. Kim Petras)            </td><td>2023-01-27</td><td>['pop', 'uk pop']                                                                                      </td><td>0.712</td><td>0.463</td><td>-7.399</td><td> 2</td><td>131.199</td><td>156943</td><td>4</td><td>84</td><td>yes</td></tr>\n",
       "\t<tr><td>Miley Cyrus  </td><td>Flowers                              </td><td>2023-08-18</td><td>['pop']                                                                                                </td><td>0.706</td><td>0.691</td><td>-4.775</td><td> 0</td><td>118.048</td><td>200600</td><td>4</td><td>94</td><td>yes</td></tr>\n",
       "\t<tr><td>OneRepublic  </td><td>I Ain't Worried                      </td><td>2022-05-13</td><td>['piano rock', 'pop']                                                                                  </td><td>0.704</td><td>0.797</td><td>-5.927</td><td> 0</td><td>139.994</td><td>148486</td><td>4</td><td>92</td><td>yes</td></tr>\n",
       "</tbody>\n",
       "</table>\n"
      ],
      "text/latex": [
       "A tibble: 13 × 13\n",
       "\\begin{tabular}{lllllllllllll}\n",
       " artist\\_name & track\\_name & album\\_release\\_date & genres & danceability & energy & loudness & key & tempo & duration\\_ms & time\\_signature & popularity & pop\\\\\n",
       " <chr> & <chr> & <date> & <chr> & <dbl> & <dbl> & <dbl> & <dbl> & <dbl> & <dbl> & <dbl> & <dbl> & <chr>\\\\\n",
       "\\hline\n",
       "\t Ozuna         & Hey Mor                               & 2022-10-07 & {[}'puerto rican pop', 'reggaeton', 'trap latino', 'urbano latino'{]}                                       & 0.901 & 0.589 & -6.713 &  1 &  98.002 & 196600 & 4 & 87 & yes\\\\\n",
       "\t Doja Cat      & Paint The Town Red                    & 2023-09-20 & {[}'dance pop', 'pop'{]}                                                                                    & 0.864 & 0.556 & -7.683 &  2 &  99.974 & 230480 & 4 & 93 & yes\\\\\n",
       "\t Feid          & CLASSY 101                            & 2023-03-31 & {[}'colombian pop', 'pop reggaeton', 'reggaeton', 'reggaeton colombiano', 'trap latino', 'urbano latino'{]} & 0.859 & 0.658 & -4.790 & 11 & 100.065 & 195987 & 4 & 87 & yes\\\\\n",
       "\t Manuel Turizo & La Bachata                            & 2023-03-17 & {[}'colombian pop', 'latin pop', 'reggaeton', 'reggaeton colombiano', 'trap latino', 'urbano latino'{]}     & 0.835 & 0.679 & -5.329 &  7 & 124.980 & 162638 & 4 & 85 & yes\\\\\n",
       "\t NewJeans      & OMG                                   & 2023-01-02 & {[}'k-pop', 'k-pop girl group'{]}                                                                           & 0.804 & 0.771 & -4.067 &  9 & 126.956 & 212253 & 4 & 87 & yes\\\\\n",
       "\t Rema          & Calm Down (with Selena Gomez)         & 2023-04-27 & {[}'afrobeats', 'nigerian pop'{]}                                                                           & 0.799 & 0.802 & -5.196 & 11 & 107.008 & 239318 & 4 & 90 & yes\\\\\n",
       "\t Jung Kook     & Seven (feat. Latto) (Explicit Ver.)   & 2023-11-03 & {[}'k-pop'{]}                                                                                               & 0.790 & 0.831 & -4.185 & 11 & 124.987 & 183551 & 4 & 90 & yes\\\\\n",
       "\t FIFTY FIFTY   & Cupid - Twin Ver.                     & 2023-09-22 & {[}'k-pop girl group'{]}                                                                                    & 0.783 & 0.592 & -8.332 & 11 & 120.018 & 174253 & 4 & 75 & yes\\\\\n",
       "\t Bizarrap      & Shakira: Bzrp Music Sessions, Vol. 53 & 2023-01-11 & {[}'argentine hip hop', 'pop venezolano', 'trap argentino', 'trap latino', 'urbano latino'{]}               & 0.778 & 0.632 & -5.600 &  2 & 122.104 & 218289 & 4 & 85 & yes\\\\\n",
       "\t Taylor Swift  & Blank Space                           & 2014-10-27 & {[}'pop'{]}                                                                                                 & 0.753 & 0.678 & -5.421 &  5 &  96.006 & 231827 & 4 & 78 & yes\\\\\n",
       "\t Sam Smith     & Unholy (feat. Kim Petras)             & 2023-01-27 & {[}'pop', 'uk pop'{]}                                                                                       & 0.712 & 0.463 & -7.399 &  2 & 131.199 & 156943 & 4 & 84 & yes\\\\\n",
       "\t Miley Cyrus   & Flowers                               & 2023-08-18 & {[}'pop'{]}                                                                                                 & 0.706 & 0.691 & -4.775 &  0 & 118.048 & 200600 & 4 & 94 & yes\\\\\n",
       "\t OneRepublic   & I Ain't Worried                       & 2022-05-13 & {[}'piano rock', 'pop'{]}                                                                                   & 0.704 & 0.797 & -5.927 &  0 & 139.994 & 148486 & 4 & 92 & yes\\\\\n",
       "\\end{tabular}\n"
      ],
      "text/markdown": [
       "\n",
       "A tibble: 13 × 13\n",
       "\n",
       "| artist_name &lt;chr&gt; | track_name &lt;chr&gt; | album_release_date &lt;date&gt; | genres &lt;chr&gt; | danceability &lt;dbl&gt; | energy &lt;dbl&gt; | loudness &lt;dbl&gt; | key &lt;dbl&gt; | tempo &lt;dbl&gt; | duration_ms &lt;dbl&gt; | time_signature &lt;dbl&gt; | popularity &lt;dbl&gt; | pop &lt;chr&gt; |\n",
       "|---|---|---|---|---|---|---|---|---|---|---|---|---|\n",
       "| Ozuna         | Hey Mor                               | 2022-10-07 | ['puerto rican pop', 'reggaeton', 'trap latino', 'urbano latino']                                       | 0.901 | 0.589 | -6.713 |  1 |  98.002 | 196600 | 4 | 87 | yes |\n",
       "| Doja Cat      | Paint The Town Red                    | 2023-09-20 | ['dance pop', 'pop']                                                                                    | 0.864 | 0.556 | -7.683 |  2 |  99.974 | 230480 | 4 | 93 | yes |\n",
       "| Feid          | CLASSY 101                            | 2023-03-31 | ['colombian pop', 'pop reggaeton', 'reggaeton', 'reggaeton colombiano', 'trap latino', 'urbano latino'] | 0.859 | 0.658 | -4.790 | 11 | 100.065 | 195987 | 4 | 87 | yes |\n",
       "| Manuel Turizo | La Bachata                            | 2023-03-17 | ['colombian pop', 'latin pop', 'reggaeton', 'reggaeton colombiano', 'trap latino', 'urbano latino']     | 0.835 | 0.679 | -5.329 |  7 | 124.980 | 162638 | 4 | 85 | yes |\n",
       "| NewJeans      | OMG                                   | 2023-01-02 | ['k-pop', 'k-pop girl group']                                                                           | 0.804 | 0.771 | -4.067 |  9 | 126.956 | 212253 | 4 | 87 | yes |\n",
       "| Rema          | Calm Down (with Selena Gomez)         | 2023-04-27 | ['afrobeats', 'nigerian pop']                                                                           | 0.799 | 0.802 | -5.196 | 11 | 107.008 | 239318 | 4 | 90 | yes |\n",
       "| Jung Kook     | Seven (feat. Latto) (Explicit Ver.)   | 2023-11-03 | ['k-pop']                                                                                               | 0.790 | 0.831 | -4.185 | 11 | 124.987 | 183551 | 4 | 90 | yes |\n",
       "| FIFTY FIFTY   | Cupid - Twin Ver.                     | 2023-09-22 | ['k-pop girl group']                                                                                    | 0.783 | 0.592 | -8.332 | 11 | 120.018 | 174253 | 4 | 75 | yes |\n",
       "| Bizarrap      | Shakira: Bzrp Music Sessions, Vol. 53 | 2023-01-11 | ['argentine hip hop', 'pop venezolano', 'trap argentino', 'trap latino', 'urbano latino']               | 0.778 | 0.632 | -5.600 |  2 | 122.104 | 218289 | 4 | 85 | yes |\n",
       "| Taylor Swift  | Blank Space                           | 2014-10-27 | ['pop']                                                                                                 | 0.753 | 0.678 | -5.421 |  5 |  96.006 | 231827 | 4 | 78 | yes |\n",
       "| Sam Smith     | Unholy (feat. Kim Petras)             | 2023-01-27 | ['pop', 'uk pop']                                                                                       | 0.712 | 0.463 | -7.399 |  2 | 131.199 | 156943 | 4 | 84 | yes |\n",
       "| Miley Cyrus   | Flowers                               | 2023-08-18 | ['pop']                                                                                                 | 0.706 | 0.691 | -4.775 |  0 | 118.048 | 200600 | 4 | 94 | yes |\n",
       "| OneRepublic   | I Ain't Worried                       | 2022-05-13 | ['piano rock', 'pop']                                                                                   | 0.704 | 0.797 | -5.927 |  0 | 139.994 | 148486 | 4 | 92 | yes |\n",
       "\n"
      ],
      "text/plain": [
       "   artist_name   track_name                            album_release_date\n",
       "1  Ozuna         Hey Mor                               2022-10-07        \n",
       "2  Doja Cat      Paint The Town Red                    2023-09-20        \n",
       "3  Feid          CLASSY 101                            2023-03-31        \n",
       "4  Manuel Turizo La Bachata                            2023-03-17        \n",
       "5  NewJeans      OMG                                   2023-01-02        \n",
       "6  Rema          Calm Down (with Selena Gomez)         2023-04-27        \n",
       "7  Jung Kook     Seven (feat. Latto) (Explicit Ver.)   2023-11-03        \n",
       "8  FIFTY FIFTY   Cupid - Twin Ver.                     2023-09-22        \n",
       "9  Bizarrap      Shakira: Bzrp Music Sessions, Vol. 53 2023-01-11        \n",
       "10 Taylor Swift  Blank Space                           2014-10-27        \n",
       "11 Sam Smith     Unholy (feat. Kim Petras)             2023-01-27        \n",
       "12 Miley Cyrus   Flowers                               2023-08-18        \n",
       "13 OneRepublic   I Ain't Worried                       2022-05-13        \n",
       "   genres                                                                                                 \n",
       "1  ['puerto rican pop', 'reggaeton', 'trap latino', 'urbano latino']                                      \n",
       "2  ['dance pop', 'pop']                                                                                   \n",
       "3  ['colombian pop', 'pop reggaeton', 'reggaeton', 'reggaeton colombiano', 'trap latino', 'urbano latino']\n",
       "4  ['colombian pop', 'latin pop', 'reggaeton', 'reggaeton colombiano', 'trap latino', 'urbano latino']    \n",
       "5  ['k-pop', 'k-pop girl group']                                                                          \n",
       "6  ['afrobeats', 'nigerian pop']                                                                          \n",
       "7  ['k-pop']                                                                                              \n",
       "8  ['k-pop girl group']                                                                                   \n",
       "9  ['argentine hip hop', 'pop venezolano', 'trap argentino', 'trap latino', 'urbano latino']              \n",
       "10 ['pop']                                                                                                \n",
       "11 ['pop', 'uk pop']                                                                                      \n",
       "12 ['pop']                                                                                                \n",
       "13 ['piano rock', 'pop']                                                                                  \n",
       "   danceability energy loudness key tempo   duration_ms time_signature\n",
       "1  0.901        0.589  -6.713    1   98.002 196600      4             \n",
       "2  0.864        0.556  -7.683    2   99.974 230480      4             \n",
       "3  0.859        0.658  -4.790   11  100.065 195987      4             \n",
       "4  0.835        0.679  -5.329    7  124.980 162638      4             \n",
       "5  0.804        0.771  -4.067    9  126.956 212253      4             \n",
       "6  0.799        0.802  -5.196   11  107.008 239318      4             \n",
       "7  0.790        0.831  -4.185   11  124.987 183551      4             \n",
       "8  0.783        0.592  -8.332   11  120.018 174253      4             \n",
       "9  0.778        0.632  -5.600    2  122.104 218289      4             \n",
       "10 0.753        0.678  -5.421    5   96.006 231827      4             \n",
       "11 0.712        0.463  -7.399    2  131.199 156943      4             \n",
       "12 0.706        0.691  -4.775    0  118.048 200600      4             \n",
       "13 0.704        0.797  -5.927    0  139.994 148486      4             \n",
       "   popularity pop\n",
       "1  87         yes\n",
       "2  93         yes\n",
       "3  87         yes\n",
       "4  85         yes\n",
       "5  87         yes\n",
       "6  90         yes\n",
       "7  90         yes\n",
       "8  75         yes\n",
       "9  85         yes\n",
       "10 78         yes\n",
       "11 84         yes\n",
       "12 94         yes\n",
       "13 92         yes"
      ]
     },
     "metadata": {},
     "output_type": "display_data"
    }
   ],
   "source": [
    "spotify |>\n",
    "    filter(danceability > 0.7 & pop == \"yes\") |> \n",
    "    arrange(by = desc(danceability))"
   ]
  },
  {
   "cell_type": "markdown",
   "id": "cccc86e0-bd7a-42e5-baa4-5416b4ecc2f6",
   "metadata": {},
   "source": [
    "## 1.6\n",
    "\n",
    "What is the average danceability score for Taylor Swift songs? "
   ]
  },
  {
   "cell_type": "code",
   "execution_count": 30,
   "id": "dccfa738-69f2-4347-9402-98acc409f9b7",
   "metadata": {
    "tags": []
   },
   "outputs": [
    {
     "data": {
      "text/html": [
       "<table class=\"dataframe\">\n",
       "<caption>A tibble: 3 × 13</caption>\n",
       "<thead>\n",
       "\t<tr><th scope=col>artist_name</th><th scope=col>track_name</th><th scope=col>album_release_date</th><th scope=col>genres</th><th scope=col>danceability</th><th scope=col>energy</th><th scope=col>loudness</th><th scope=col>key</th><th scope=col>tempo</th><th scope=col>duration_ms</th><th scope=col>time_signature</th><th scope=col>popularity</th><th scope=col>pop</th></tr>\n",
       "\t<tr><th scope=col>&lt;chr&gt;</th><th scope=col>&lt;chr&gt;</th><th scope=col>&lt;date&gt;</th><th scope=col>&lt;chr&gt;</th><th scope=col>&lt;dbl&gt;</th><th scope=col>&lt;dbl&gt;</th><th scope=col>&lt;dbl&gt;</th><th scope=col>&lt;dbl&gt;</th><th scope=col>&lt;dbl&gt;</th><th scope=col>&lt;dbl&gt;</th><th scope=col>&lt;dbl&gt;</th><th scope=col>&lt;dbl&gt;</th><th scope=col>&lt;chr&gt;</th></tr>\n",
       "</thead>\n",
       "<tbody>\n",
       "\t<tr><td>Taylor Swift</td><td>Cruel Summer</td><td>2019-08-23</td><td>['pop']</td><td>0.552</td><td>0.702</td><td>-5.707</td><td>9</td><td>169.994</td><td>178427</td><td>4</td><td>99</td><td>yes</td></tr>\n",
       "\t<tr><td>Taylor Swift</td><td>Anti-Hero   </td><td>2022-10-21</td><td>['pop']</td><td>0.637</td><td>0.643</td><td>-6.571</td><td>4</td><td> 97.008</td><td>200690</td><td>4</td><td>92</td><td>yes</td></tr>\n",
       "\t<tr><td>Taylor Swift</td><td>Blank Space </td><td>2014-10-27</td><td>['pop']</td><td>0.753</td><td>0.678</td><td>-5.421</td><td>5</td><td> 96.006</td><td>231827</td><td>4</td><td>78</td><td>yes</td></tr>\n",
       "</tbody>\n",
       "</table>\n"
      ],
      "text/latex": [
       "A tibble: 3 × 13\n",
       "\\begin{tabular}{lllllllllllll}\n",
       " artist\\_name & track\\_name & album\\_release\\_date & genres & danceability & energy & loudness & key & tempo & duration\\_ms & time\\_signature & popularity & pop\\\\\n",
       " <chr> & <chr> & <date> & <chr> & <dbl> & <dbl> & <dbl> & <dbl> & <dbl> & <dbl> & <dbl> & <dbl> & <chr>\\\\\n",
       "\\hline\n",
       "\t Taylor Swift & Cruel Summer & 2019-08-23 & {[}'pop'{]} & 0.552 & 0.702 & -5.707 & 9 & 169.994 & 178427 & 4 & 99 & yes\\\\\n",
       "\t Taylor Swift & Anti-Hero    & 2022-10-21 & {[}'pop'{]} & 0.637 & 0.643 & -6.571 & 4 &  97.008 & 200690 & 4 & 92 & yes\\\\\n",
       "\t Taylor Swift & Blank Space  & 2014-10-27 & {[}'pop'{]} & 0.753 & 0.678 & -5.421 & 5 &  96.006 & 231827 & 4 & 78 & yes\\\\\n",
       "\\end{tabular}\n"
      ],
      "text/markdown": [
       "\n",
       "A tibble: 3 × 13\n",
       "\n",
       "| artist_name &lt;chr&gt; | track_name &lt;chr&gt; | album_release_date &lt;date&gt; | genres &lt;chr&gt; | danceability &lt;dbl&gt; | energy &lt;dbl&gt; | loudness &lt;dbl&gt; | key &lt;dbl&gt; | tempo &lt;dbl&gt; | duration_ms &lt;dbl&gt; | time_signature &lt;dbl&gt; | popularity &lt;dbl&gt; | pop &lt;chr&gt; |\n",
       "|---|---|---|---|---|---|---|---|---|---|---|---|---|\n",
       "| Taylor Swift | Cruel Summer | 2019-08-23 | ['pop'] | 0.552 | 0.702 | -5.707 | 9 | 169.994 | 178427 | 4 | 99 | yes |\n",
       "| Taylor Swift | Anti-Hero    | 2022-10-21 | ['pop'] | 0.637 | 0.643 | -6.571 | 4 |  97.008 | 200690 | 4 | 92 | yes |\n",
       "| Taylor Swift | Blank Space  | 2014-10-27 | ['pop'] | 0.753 | 0.678 | -5.421 | 5 |  96.006 | 231827 | 4 | 78 | yes |\n",
       "\n"
      ],
      "text/plain": [
       "  artist_name  track_name   album_release_date genres  danceability energy\n",
       "1 Taylor Swift Cruel Summer 2019-08-23         ['pop'] 0.552        0.702 \n",
       "2 Taylor Swift Anti-Hero    2022-10-21         ['pop'] 0.637        0.643 \n",
       "3 Taylor Swift Blank Space  2014-10-27         ['pop'] 0.753        0.678 \n",
       "  loudness key tempo   duration_ms time_signature popularity pop\n",
       "1 -5.707   9   169.994 178427      4              99         yes\n",
       "2 -6.571   4    97.008 200690      4              92         yes\n",
       "3 -5.421   5    96.006 231827      4              78         yes"
      ]
     },
     "metadata": {},
     "output_type": "display_data"
    }
   ],
   "source": [
    "# Filter for only Taylor Swift songs\n",
    "spotify |>\n",
    "    filter(artist_name == \"Taylor Swift\") "
   ]
  },
  {
   "cell_type": "code",
   "execution_count": null,
   "id": "8a22d3d7-24a6-499f-888c-701b3a04f8c4",
   "metadata": {},
   "outputs": [],
   "source": [
    "# Compute the average danceability score using `summarize`\n",
    "spotify |>\n",
    "    filter(artist_name == \"Taylor Swift\") |>\n",
    "    summarize(avg_dance_TS = mean(danceability))"
   ]
  },
  {
   "cell_type": "markdown",
   "id": "0d86f4d2-e438-4881-bb88-013545cdc70d",
   "metadata": {},
   "source": [
    "## 1.7\n",
    "\n",
    "Are Taylor Swfit's songs more danceable than The Weekend's? *Hint: use `group_by`*."
   ]
  },
  {
   "cell_type": "code",
   "execution_count": 36,
   "id": "0179aad0-5cf8-4be5-8cf8-1d6f55d87670",
   "metadata": {
    "tags": []
   },
   "outputs": [
    {
     "data": {
      "text/html": [
       "<table class=\"dataframe\">\n",
       "<caption>A tibble: 2 × 2</caption>\n",
       "<thead>\n",
       "\t<tr><th scope=col>artist_name</th><th scope=col>avg_dance</th></tr>\n",
       "\t<tr><th scope=col>&lt;chr&gt;</th><th scope=col>&lt;dbl&gt;</th></tr>\n",
       "</thead>\n",
       "<tbody>\n",
       "\t<tr><td>Taylor Swift</td><td>0.6473333</td></tr>\n",
       "\t<tr><td>The Weeknd  </td><td>0.5885000</td></tr>\n",
       "</tbody>\n",
       "</table>\n"
      ],
      "text/latex": [
       "A tibble: 2 × 2\n",
       "\\begin{tabular}{ll}\n",
       " artist\\_name & avg\\_dance\\\\\n",
       " <chr> & <dbl>\\\\\n",
       "\\hline\n",
       "\t Taylor Swift & 0.6473333\\\\\n",
       "\t The Weeknd   & 0.5885000\\\\\n",
       "\\end{tabular}\n"
      ],
      "text/markdown": [
       "\n",
       "A tibble: 2 × 2\n",
       "\n",
       "| artist_name &lt;chr&gt; | avg_dance &lt;dbl&gt; |\n",
       "|---|---|\n",
       "| Taylor Swift | 0.6473333 |\n",
       "| The Weeknd   | 0.5885000 |\n",
       "\n"
      ],
      "text/plain": [
       "  artist_name  avg_dance\n",
       "1 Taylor Swift 0.6473333\n",
       "2 The Weeknd   0.5885000"
      ]
     },
     "metadata": {},
     "output_type": "display_data"
    }
   ],
   "source": [
    "spotify |>\n",
    "     group_by(artist_name) |>\n",
    "     summarize(avg_dance = mean(danceability)) |> \n",
    "     filter(artist_name == \"Taylor Swift\" | artist_name == \"The Weeknd\")"
   ]
  },
  {
   "cell_type": "markdown",
   "id": "988cbbdc-aa7c-4256-9e32-81753bfbfe92",
   "metadata": {},
   "source": [
    "## 1.8 \n",
    "\n",
    "Are pop songs more popular than other genres? Compare the popularity scores between pop songs vs. other genres."
   ]
  },
  {
   "cell_type": "code",
   "execution_count": 37,
   "id": "a215daab-f134-4633-8802-2d1446fd9414",
   "metadata": {
    "tags": []
   },
   "outputs": [
    {
     "data": {
      "text/html": [
       "<table class=\"dataframe\">\n",
       "<caption>A tibble: 2 × 2</caption>\n",
       "<thead>\n",
       "\t<tr><th scope=col>pop</th><th scope=col>avg_popularity</th></tr>\n",
       "\t<tr><th scope=col>&lt;chr&gt;</th><th scope=col>&lt;dbl&gt;</th></tr>\n",
       "</thead>\n",
       "<tbody>\n",
       "\t<tr><td>no </td><td>87.75000</td></tr>\n",
       "\t<tr><td>yes</td><td>88.26471</td></tr>\n",
       "</tbody>\n",
       "</table>\n"
      ],
      "text/latex": [
       "A tibble: 2 × 2\n",
       "\\begin{tabular}{ll}\n",
       " pop & avg\\_popularity\\\\\n",
       " <chr> & <dbl>\\\\\n",
       "\\hline\n",
       "\t no  & 87.75000\\\\\n",
       "\t yes & 88.26471\\\\\n",
       "\\end{tabular}\n"
      ],
      "text/markdown": [
       "\n",
       "A tibble: 2 × 2\n",
       "\n",
       "| pop &lt;chr&gt; | avg_popularity &lt;dbl&gt; |\n",
       "|---|---|\n",
       "| no  | 87.75000 |\n",
       "| yes | 88.26471 |\n",
       "\n"
      ],
      "text/plain": [
       "  pop avg_popularity\n",
       "1 no  87.75000      \n",
       "2 yes 88.26471      "
      ]
     },
     "metadata": {},
     "output_type": "display_data"
    }
   ],
   "source": [
    "spotify |>\n",
    "     group_by(pop) |>\n",
    "     summarize(avg_popularity = mean(popularity))"
   ]
  },
  {
   "cell_type": "markdown",
   "id": "da8ea5ce-a35c-4684-91b3-d6771b824188",
   "metadata": {
    "tags": []
   },
   "source": [
    "> It looks like pop songs are just slightly more popular than other genres, but they are very close! "
   ]
  }
 ],
 "metadata": {
  "kernelspec": {
   "display_name": "R",
   "language": "R",
   "name": "ir"
  },
  "language_info": {
   "codemirror_mode": "r",
   "file_extension": ".r",
   "mimetype": "text/x-r-source",
   "name": "R",
   "pygments_lexer": "r",
   "version": "4.3.1"
  }
 },
 "nbformat": 4,
 "nbformat_minor": 5
}
