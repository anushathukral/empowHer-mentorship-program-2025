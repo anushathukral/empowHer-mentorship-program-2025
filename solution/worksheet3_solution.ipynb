{
 "cells": [
  {
   "cell_type": "markdown",
   "id": "ac8535dc-a66a-49f1-8fcc-be80deb2d017",
   "metadata": {},
   "source": [
    "# Worksheet 3. Machine Learning\n",
    "## Girls in Data Science Camp\n",
    "\n",
    "In this worksheet, we will be working with the [Nutrition Facts for McDonald's Menu](https://www.kaggle.com/datasets/mcdonalds/nutrition-facts?resource=download) data, which contains nutritional information of items sold at McDonald across 9 food categories. \n",
    "<br>\n",
    "<img src=\"img/logo.png\" alt=\"Logo\" style=\"width: 300px; display: block; margin-left: auto; margin-right: auto;\"/>\n",
    "From the original dataset, we will be excluding the `Item` and `Serving Size` columns, as they are not relevant to the machine learning model we are about to build. Integrating these columns with the predictors used in this worksheet is beyond the scope of this camp."
   ]
  },
  {
   "cell_type": "code",
   "execution_count": 21,
   "id": "e0c2b2aa-1d8c-49f4-8c1d-16e77ea092fd",
   "metadata": {
    "vscode": {
     "languageId": "r"
    }
   },
   "outputs": [],
   "source": [
    "# Load libraries\n",
    "library(tidyverse)\n",
    "library(dplyr)\n",
    "library(tidymodels)\n",
    "set.seed(100)"
   ]
  },
  {
   "cell_type": "code",
   "execution_count": 3,
   "id": "be85c7dd-66fa-4653-8dab-d0f4a535aeee",
   "metadata": {
    "vscode": {
     "languageId": "r"
    }
   },
   "outputs": [
    {
     "name": "stderr",
     "output_type": "stream",
     "text": [
      "\u001b[1mRows: \u001b[22m\u001b[34m260\u001b[39m \u001b[1mColumns: \u001b[22m\u001b[34m24\u001b[39m\n",
      "\u001b[36m--\u001b[39m \u001b[1mColumn specification\u001b[22m \u001b[36m--------------------------------------------------------\u001b[39m\n",
      "\u001b[1mDelimiter:\u001b[22m \",\"\n",
      "\u001b[31mchr\u001b[39m  (3): Category, Item, Serving Size\n",
      "\u001b[32mdbl\u001b[39m (21): Calories, Calories from Fat, Total Fat, Total Fat (% Daily Value),...\n",
      "\n",
      "\u001b[36mi\u001b[39m Use `spec()` to retrieve the full column specification for this data.\n",
      "\u001b[36mi\u001b[39m Specify the column types or set `show_col_types = FALSE` to quiet this message.\n"
     ]
    },
    {
     "data": {
      "text/html": [
       "<table class=\"dataframe\">\n",
       "<caption>A tibble: 5 x 24</caption>\n",
       "<thead>\n",
       "\t<tr><th scope=col>Category</th><th scope=col>Item</th><th scope=col>Serving Size</th><th scope=col>Calories</th><th scope=col>Calories from Fat</th><th scope=col>Total Fat</th><th scope=col>Total Fat (% Daily Value)</th><th scope=col>Saturated Fat</th><th scope=col>Saturated Fat (% Daily Value)</th><th scope=col>Trans Fat</th><th scope=col>...</th><th scope=col>Carbohydrates</th><th scope=col>Carbohydrates (% Daily Value)</th><th scope=col>Dietary Fiber</th><th scope=col>Dietary Fiber (% Daily Value)</th><th scope=col>Sugars</th><th scope=col>Protein</th><th scope=col>Vitamin A (% Daily Value)</th><th scope=col>Vitamin C (% Daily Value)</th><th scope=col>Calcium (% Daily Value)</th><th scope=col>Iron (% Daily Value)</th></tr>\n",
       "\t<tr><th scope=col>&lt;chr&gt;</th><th scope=col>&lt;chr&gt;</th><th scope=col>&lt;chr&gt;</th><th scope=col>&lt;dbl&gt;</th><th scope=col>&lt;dbl&gt;</th><th scope=col>&lt;dbl&gt;</th><th scope=col>&lt;dbl&gt;</th><th scope=col>&lt;dbl&gt;</th><th scope=col>&lt;dbl&gt;</th><th scope=col>&lt;dbl&gt;</th><th scope=col>...</th><th scope=col>&lt;dbl&gt;</th><th scope=col>&lt;dbl&gt;</th><th scope=col>&lt;dbl&gt;</th><th scope=col>&lt;dbl&gt;</th><th scope=col>&lt;dbl&gt;</th><th scope=col>&lt;dbl&gt;</th><th scope=col>&lt;dbl&gt;</th><th scope=col>&lt;dbl&gt;</th><th scope=col>&lt;dbl&gt;</th><th scope=col>&lt;dbl&gt;</th></tr>\n",
       "</thead>\n",
       "<tbody>\n",
       "\t<tr><td>Breakfast</td><td>Egg McMuffin                    </td><td>4.8 oz (136 g)</td><td>300</td><td>120</td><td>13</td><td>20</td><td> 5</td><td>25</td><td>0</td><td>...</td><td>31</td><td>10</td><td>4</td><td>17</td><td>3</td><td>17</td><td>10</td><td>0</td><td>25</td><td>15</td></tr>\n",
       "\t<tr><td>Breakfast</td><td>Egg White Delight               </td><td>4.8 oz (135 g)</td><td>250</td><td> 70</td><td> 8</td><td>12</td><td> 3</td><td>15</td><td>0</td><td>...</td><td>30</td><td>10</td><td>4</td><td>17</td><td>3</td><td>18</td><td> 6</td><td>0</td><td>25</td><td> 8</td></tr>\n",
       "\t<tr><td>Breakfast</td><td>Sausage McMuffin                </td><td>3.9 oz (111 g)</td><td>370</td><td>200</td><td>23</td><td>35</td><td> 8</td><td>42</td><td>0</td><td>...</td><td>29</td><td>10</td><td>4</td><td>17</td><td>2</td><td>14</td><td> 8</td><td>0</td><td>25</td><td>10</td></tr>\n",
       "\t<tr><td>Breakfast</td><td>Sausage McMuffin with Egg       </td><td>5.7 oz (161 g)</td><td>450</td><td>250</td><td>28</td><td>43</td><td>10</td><td>52</td><td>0</td><td>...</td><td>30</td><td>10</td><td>4</td><td>17</td><td>2</td><td>21</td><td>15</td><td>0</td><td>30</td><td>15</td></tr>\n",
       "\t<tr><td>Breakfast</td><td>Sausage McMuffin with Egg Whites</td><td>5.7 oz (161 g)</td><td>400</td><td>210</td><td>23</td><td>35</td><td> 8</td><td>42</td><td>0</td><td>...</td><td>30</td><td>10</td><td>4</td><td>17</td><td>2</td><td>21</td><td> 6</td><td>0</td><td>25</td><td>10</td></tr>\n",
       "</tbody>\n",
       "</table>\n"
      ],
      "text/latex": [
       "A tibble: 5 x 24\n",
       "\\begin{tabular}{lllllllllllllllllllll}\n",
       " Category & Item & Serving Size & Calories & Calories from Fat & Total Fat & Total Fat (\\% Daily Value) & Saturated Fat & Saturated Fat (\\% Daily Value) & Trans Fat & ... & Carbohydrates & Carbohydrates (\\% Daily Value) & Dietary Fiber & Dietary Fiber (\\% Daily Value) & Sugars & Protein & Vitamin A (\\% Daily Value) & Vitamin C (\\% Daily Value) & Calcium (\\% Daily Value) & Iron (\\% Daily Value)\\\\\n",
       " <chr> & <chr> & <chr> & <dbl> & <dbl> & <dbl> & <dbl> & <dbl> & <dbl> & <dbl> & ... & <dbl> & <dbl> & <dbl> & <dbl> & <dbl> & <dbl> & <dbl> & <dbl> & <dbl> & <dbl>\\\\\n",
       "\\hline\n",
       "\t Breakfast & Egg McMuffin                     & 4.8 oz (136 g) & 300 & 120 & 13 & 20 &  5 & 25 & 0 & ... & 31 & 10 & 4 & 17 & 3 & 17 & 10 & 0 & 25 & 15\\\\\n",
       "\t Breakfast & Egg White Delight                & 4.8 oz (135 g) & 250 &  70 &  8 & 12 &  3 & 15 & 0 & ... & 30 & 10 & 4 & 17 & 3 & 18 &  6 & 0 & 25 &  8\\\\\n",
       "\t Breakfast & Sausage McMuffin                 & 3.9 oz (111 g) & 370 & 200 & 23 & 35 &  8 & 42 & 0 & ... & 29 & 10 & 4 & 17 & 2 & 14 &  8 & 0 & 25 & 10\\\\\n",
       "\t Breakfast & Sausage McMuffin with Egg        & 5.7 oz (161 g) & 450 & 250 & 28 & 43 & 10 & 52 & 0 & ... & 30 & 10 & 4 & 17 & 2 & 21 & 15 & 0 & 30 & 15\\\\\n",
       "\t Breakfast & Sausage McMuffin with Egg Whites & 5.7 oz (161 g) & 400 & 210 & 23 & 35 &  8 & 42 & 0 & ... & 30 & 10 & 4 & 17 & 2 & 21 &  6 & 0 & 25 & 10\\\\\n",
       "\\end{tabular}\n"
      ],
      "text/markdown": [
       "\n",
       "A tibble: 5 x 24\n",
       "\n",
       "| Category &lt;chr&gt; | Item &lt;chr&gt; | Serving Size &lt;chr&gt; | Calories &lt;dbl&gt; | Calories from Fat &lt;dbl&gt; | Total Fat &lt;dbl&gt; | Total Fat (% Daily Value) &lt;dbl&gt; | Saturated Fat &lt;dbl&gt; | Saturated Fat (% Daily Value) &lt;dbl&gt; | Trans Fat &lt;dbl&gt; | ... ... | Carbohydrates &lt;dbl&gt; | Carbohydrates (% Daily Value) &lt;dbl&gt; | Dietary Fiber &lt;dbl&gt; | Dietary Fiber (% Daily Value) &lt;dbl&gt; | Sugars &lt;dbl&gt; | Protein &lt;dbl&gt; | Vitamin A (% Daily Value) &lt;dbl&gt; | Vitamin C (% Daily Value) &lt;dbl&gt; | Calcium (% Daily Value) &lt;dbl&gt; | Iron (% Daily Value) &lt;dbl&gt; |\n",
       "|---|---|---|---|---|---|---|---|---|---|---|---|---|---|---|---|---|---|---|---|---|\n",
       "| Breakfast | Egg McMuffin                     | 4.8 oz (136 g) | 300 | 120 | 13 | 20 |  5 | 25 | 0 | ... | 31 | 10 | 4 | 17 | 3 | 17 | 10 | 0 | 25 | 15 |\n",
       "| Breakfast | Egg White Delight                | 4.8 oz (135 g) | 250 |  70 |  8 | 12 |  3 | 15 | 0 | ... | 30 | 10 | 4 | 17 | 3 | 18 |  6 | 0 | 25 |  8 |\n",
       "| Breakfast | Sausage McMuffin                 | 3.9 oz (111 g) | 370 | 200 | 23 | 35 |  8 | 42 | 0 | ... | 29 | 10 | 4 | 17 | 2 | 14 |  8 | 0 | 25 | 10 |\n",
       "| Breakfast | Sausage McMuffin with Egg        | 5.7 oz (161 g) | 450 | 250 | 28 | 43 | 10 | 52 | 0 | ... | 30 | 10 | 4 | 17 | 2 | 21 | 15 | 0 | 30 | 15 |\n",
       "| Breakfast | Sausage McMuffin with Egg Whites | 5.7 oz (161 g) | 400 | 210 | 23 | 35 |  8 | 42 | 0 | ... | 30 | 10 | 4 | 17 | 2 | 21 |  6 | 0 | 25 | 10 |\n",
       "\n"
      ],
      "text/plain": [
       "  Category  Item                             Serving Size   Calories\n",
       "1 Breakfast Egg McMuffin                     4.8 oz (136 g) 300     \n",
       "2 Breakfast Egg White Delight                4.8 oz (135 g) 250     \n",
       "3 Breakfast Sausage McMuffin                 3.9 oz (111 g) 370     \n",
       "4 Breakfast Sausage McMuffin with Egg        5.7 oz (161 g) 450     \n",
       "5 Breakfast Sausage McMuffin with Egg Whites 5.7 oz (161 g) 400     \n",
       "  Calories from Fat Total Fat Total Fat (% Daily Value) Saturated Fat\n",
       "1 120               13        20                         5           \n",
       "2  70                8        12                         3           \n",
       "3 200               23        35                         8           \n",
       "4 250               28        43                        10           \n",
       "5 210               23        35                         8           \n",
       "  Saturated Fat (% Daily Value) Trans Fat ... Carbohydrates\n",
       "1 25                            0         ... 31           \n",
       "2 15                            0         ... 30           \n",
       "3 42                            0         ... 29           \n",
       "4 52                            0         ... 30           \n",
       "5 42                            0         ... 30           \n",
       "  Carbohydrates (% Daily Value) Dietary Fiber Dietary Fiber (% Daily Value)\n",
       "1 10                            4             17                           \n",
       "2 10                            4             17                           \n",
       "3 10                            4             17                           \n",
       "4 10                            4             17                           \n",
       "5 10                            4             17                           \n",
       "  Sugars Protein Vitamin A (% Daily Value) Vitamin C (% Daily Value)\n",
       "1 3      17      10                        0                        \n",
       "2 3      18       6                        0                        \n",
       "3 2      14       8                        0                        \n",
       "4 2      21      15                        0                        \n",
       "5 2      21       6                        0                        \n",
       "  Calcium (% Daily Value) Iron (% Daily Value)\n",
       "1 25                      15                  \n",
       "2 25                       8                  \n",
       "3 25                      10                  \n",
       "4 30                      15                  \n",
       "5 25                      10                  "
      ]
     },
     "metadata": {},
     "output_type": "display_data"
    },
    {
     "data": {
      "text/html": [
       "<style>\n",
       ".list-inline {list-style: none; margin:0; padding: 0}\n",
       ".list-inline>li {display: inline-block}\n",
       ".list-inline>li:not(:last-child)::after {content: \"\\00b7\"; padding: 0 .5ex}\n",
       "</style>\n",
       "<ol class=list-inline><li>260</li><li>24</li></ol>\n"
      ],
      "text/latex": [
       "\\begin{enumerate*}\n",
       "\\item 260\n",
       "\\item 24\n",
       "\\end{enumerate*}\n"
      ],
      "text/markdown": [
       "1. 260\n",
       "2. 24\n",
       "\n",
       "\n"
      ],
      "text/plain": [
       "[1] 260  24"
      ]
     },
     "metadata": {},
     "output_type": "display_data"
    }
   ],
   "source": [
    "macdonalds <- read_csv(\"menu.csv\")\n",
    "head(macdonalds, 5)\n",
    "dim(macdonalds)"
   ]
  },
  {
   "cell_type": "markdown",
   "id": "fb6c6ec9",
   "metadata": {},
   "source": [
    "Each row in this dataset represents a specific item sold at McDonald's. For instance, the first row contains the nutritional information for \"Egg McMuffin\", categorized under \"Breakfast\" according to its `Category`."
   ]
  },
  {
   "cell_type": "markdown",
   "id": "8d679a36",
   "metadata": {},
   "source": [
    "### Exercise 0: Knowledge Check\n",
    "For each of the cases below, determine whether it is more suitable to use **classification** or **regression**. "
   ]
  },
  {
   "cell_type": "markdown",
   "id": "7e82f104",
   "metadata": {},
   "source": [
    "- Predicting whether an email is spam or not: \n",
    "- Predicting the price of a house based on its features (e.g., size, location, number of rooms): \n",
    "- Identifying different species of animals based on their physical characteristics: \n",
    "- Determining whether a movie character belongs to a Pixar film or a Disney film: "
   ]
  },
  {
   "cell_type": "markdown",
   "id": "1debcd83-8325-401b-9e26-2b34e70f994a",
   "metadata": {},
   "source": [
    "### Exercise 1: Performing Explanatory Data Analysis"
   ]
  },
  {
   "cell_type": "markdown",
   "id": "dc7984f9-2485-43a0-8763-6fd1f3aa9cd2",
   "metadata": {},
   "source": [
    "#### 1.1 Inspecting Columns In Data\n",
    "Before proceeding further, let's perform a brief inspection of the columns in our dataset. We will investigate the class of each column and list all the columns present in the data."
   ]
  },
  {
   "cell_type": "code",
   "execution_count": 22,
   "id": "bca6c599",
   "metadata": {
    "vscode": {
     "languageId": "r"
    }
   },
   "outputs": [],
   "source": [
    "### YOUR CODE HERE"
   ]
  },
  {
   "cell_type": "code",
   "execution_count": 5,
   "id": "4a3f827b-3971-4d7d-8f79-d16d32fefebc",
   "metadata": {
    "jupyter": {
     "source_hidden": true
    },
    "vscode": {
     "languageId": "r"
    }
   },
   "outputs": [
    {
     "name": "stdout",
     "output_type": "stream",
     "text": [
      "Rows: 260\n",
      "Columns: 22\n",
      "$ Category                        \u001b[3m\u001b[90m<fct>\u001b[39m\u001b[23m Breakfast, Breakfast, Breakfast, Break~\n",
      "$ Calories                        \u001b[3m\u001b[90m<dbl>\u001b[39m\u001b[23m 300, 250, 370, 450, 400, 430, 460, 520~\n",
      "$ `Calories from Fat`             \u001b[3m\u001b[90m<dbl>\u001b[39m\u001b[23m 120, 70, 200, 250, 210, 210, 230, 270,~\n",
      "$ `Total Fat`                     \u001b[3m\u001b[90m<dbl>\u001b[39m\u001b[23m 13, 8, 23, 28, 23, 23, 26, 30, 20, 25,~\n",
      "$ `Total Fat (% Daily Value)`     \u001b[3m\u001b[90m<dbl>\u001b[39m\u001b[23m 20, 12, 35, 43, 35, 36, 40, 47, 32, 38~\n",
      "$ `Saturated Fat`                 \u001b[3m\u001b[90m<dbl>\u001b[39m\u001b[23m 5, 3, 8, 10, 8, 9, 13, 14, 11, 12, 12,~\n",
      "$ `Saturated Fat (% Daily Value)` \u001b[3m\u001b[90m<dbl>\u001b[39m\u001b[23m 25, 15, 42, 52, 42, 46, 65, 68, 56, 59~\n",
      "$ `Trans Fat`                     \u001b[3m\u001b[90m<dbl>\u001b[39m\u001b[23m 0.0, 0.0, 0.0, 0.0, 0.0, 1.0, 0.0, 0.0~\n",
      "$ Cholesterol                     \u001b[3m\u001b[90m<dbl>\u001b[39m\u001b[23m 260, 25, 45, 285, 50, 300, 250, 250, 3~\n",
      "$ `Cholesterol (% Daily Value)`   \u001b[3m\u001b[90m<dbl>\u001b[39m\u001b[23m 87, 8, 15, 95, 16, 100, 83, 83, 11, 11~\n",
      "$ Sodium                          \u001b[3m\u001b[90m<dbl>\u001b[39m\u001b[23m 750, 770, 780, 860, 880, 960, 1300, 14~\n",
      "$ `Sodium (% Daily Value)`        \u001b[3m\u001b[90m<dbl>\u001b[39m\u001b[23m 31, 32, 33, 36, 37, 40, 54, 59, 54, 59~\n",
      "$ Carbohydrates                   \u001b[3m\u001b[90m<dbl>\u001b[39m\u001b[23m 31, 30, 29, 30, 30, 31, 38, 43, 36, 42~\n",
      "$ `Carbohydrates (% Daily Value)` \u001b[3m\u001b[90m<dbl>\u001b[39m\u001b[23m 10, 10, 10, 10, 10, 10, 13, 14, 12, 14~\n",
      "$ `Dietary Fiber`                 \u001b[3m\u001b[90m<dbl>\u001b[39m\u001b[23m 4, 4, 4, 4, 4, 4, 2, 3, 2, 3, 2, 3, 2,~\n",
      "$ `Dietary Fiber (% Daily Value)` \u001b[3m\u001b[90m<dbl>\u001b[39m\u001b[23m 17, 17, 17, 17, 17, 18, 7, 12, 7, 12, ~\n",
      "$ Sugars                          \u001b[3m\u001b[90m<dbl>\u001b[39m\u001b[23m 3, 3, 2, 2, 2, 3, 3, 4, 3, 4, 2, 3, 2,~\n",
      "$ Protein                         \u001b[3m\u001b[90m<dbl>\u001b[39m\u001b[23m 17, 18, 14, 21, 21, 26, 19, 19, 20, 20~\n",
      "$ `Vitamin A (% Daily Value)`     \u001b[3m\u001b[90m<dbl>\u001b[39m\u001b[23m 10, 6, 8, 15, 6, 15, 10, 15, 2, 6, 0, ~\n",
      "$ `Vitamin C (% Daily Value)`     \u001b[3m\u001b[90m<dbl>\u001b[39m\u001b[23m 0, 0, 0, 0, 0, 2, 8, 8, 8, 8, 0, 0, 0,~\n",
      "$ `Calcium (% Daily Value)`       \u001b[3m\u001b[90m<dbl>\u001b[39m\u001b[23m 25, 25, 25, 30, 25, 30, 15, 20, 15, 15~\n",
      "$ `Iron (% Daily Value)`          \u001b[3m\u001b[90m<dbl>\u001b[39m\u001b[23m 15, 8, 10, 15, 10, 20, 15, 20, 10, 15,~\n"
     ]
    }
   ],
   "source": [
    "glimpse(macdonalds)"
   ]
  },
  {
   "cell_type": "markdown",
   "id": "eb97088f",
   "metadata": {},
   "source": [
    "#### 1.2 Removing Unwanted Columns\n",
    "As discussed, let's exclude the `Item` and `Serving Size` columns from the dataset for the upcoming activities. Additionally, we will convert the `Category` column to the _factor_ class. \n",
    "\n",
    "Explain the distinctions between the `factor` and `character` classes in R, and illustrate the advantages of converting the `Category` column into a `factor`."
   ]
  },
  {
   "cell_type": "code",
   "execution_count": null,
   "id": "3f974c1c",
   "metadata": {
    "vscode": {
     "languageId": "r"
    }
   },
   "outputs": [],
   "source": []
  },
  {
   "cell_type": "code",
   "execution_count": 23,
   "id": "d18821f7",
   "metadata": {
    "vscode": {
     "languageId": "r"
    }
   },
   "outputs": [],
   "source": [
    "### YOUR CODE HERE"
   ]
  },
  {
   "cell_type": "code",
   "execution_count": 4,
   "id": "17cf1e28-9856-4631-a2db-f46a44a992ca",
   "metadata": {
    "vscode": {
     "languageId": "r"
    }
   },
   "outputs": [
    {
     "data": {
      "text/html": [
       "<table class=\"dataframe\">\n",
       "<caption>A tibble: 5 x 22</caption>\n",
       "<thead>\n",
       "\t<tr><th scope=col>Category</th><th scope=col>Calories</th><th scope=col>Calories from Fat</th><th scope=col>Total Fat</th><th scope=col>Total Fat (% Daily Value)</th><th scope=col>Saturated Fat</th><th scope=col>Saturated Fat (% Daily Value)</th><th scope=col>Trans Fat</th><th scope=col>Cholesterol</th><th scope=col>Cholesterol (% Daily Value)</th><th scope=col>...</th><th scope=col>Carbohydrates</th><th scope=col>Carbohydrates (% Daily Value)</th><th scope=col>Dietary Fiber</th><th scope=col>Dietary Fiber (% Daily Value)</th><th scope=col>Sugars</th><th scope=col>Protein</th><th scope=col>Vitamin A (% Daily Value)</th><th scope=col>Vitamin C (% Daily Value)</th><th scope=col>Calcium (% Daily Value)</th><th scope=col>Iron (% Daily Value)</th></tr>\n",
       "\t<tr><th scope=col>&lt;fct&gt;</th><th scope=col>&lt;dbl&gt;</th><th scope=col>&lt;dbl&gt;</th><th scope=col>&lt;dbl&gt;</th><th scope=col>&lt;dbl&gt;</th><th scope=col>&lt;dbl&gt;</th><th scope=col>&lt;dbl&gt;</th><th scope=col>&lt;dbl&gt;</th><th scope=col>&lt;dbl&gt;</th><th scope=col>&lt;dbl&gt;</th><th scope=col>...</th><th scope=col>&lt;dbl&gt;</th><th scope=col>&lt;dbl&gt;</th><th scope=col>&lt;dbl&gt;</th><th scope=col>&lt;dbl&gt;</th><th scope=col>&lt;dbl&gt;</th><th scope=col>&lt;dbl&gt;</th><th scope=col>&lt;dbl&gt;</th><th scope=col>&lt;dbl&gt;</th><th scope=col>&lt;dbl&gt;</th><th scope=col>&lt;dbl&gt;</th></tr>\n",
       "</thead>\n",
       "<tbody>\n",
       "\t<tr><td>Breakfast</td><td>300</td><td>120</td><td>13</td><td>20</td><td> 5</td><td>25</td><td>0</td><td>260</td><td>87</td><td>...</td><td>31</td><td>10</td><td>4</td><td>17</td><td>3</td><td>17</td><td>10</td><td>0</td><td>25</td><td>15</td></tr>\n",
       "\t<tr><td>Breakfast</td><td>250</td><td> 70</td><td> 8</td><td>12</td><td> 3</td><td>15</td><td>0</td><td> 25</td><td> 8</td><td>...</td><td>30</td><td>10</td><td>4</td><td>17</td><td>3</td><td>18</td><td> 6</td><td>0</td><td>25</td><td> 8</td></tr>\n",
       "\t<tr><td>Breakfast</td><td>370</td><td>200</td><td>23</td><td>35</td><td> 8</td><td>42</td><td>0</td><td> 45</td><td>15</td><td>...</td><td>29</td><td>10</td><td>4</td><td>17</td><td>2</td><td>14</td><td> 8</td><td>0</td><td>25</td><td>10</td></tr>\n",
       "\t<tr><td>Breakfast</td><td>450</td><td>250</td><td>28</td><td>43</td><td>10</td><td>52</td><td>0</td><td>285</td><td>95</td><td>...</td><td>30</td><td>10</td><td>4</td><td>17</td><td>2</td><td>21</td><td>15</td><td>0</td><td>30</td><td>15</td></tr>\n",
       "\t<tr><td>Breakfast</td><td>400</td><td>210</td><td>23</td><td>35</td><td> 8</td><td>42</td><td>0</td><td> 50</td><td>16</td><td>...</td><td>30</td><td>10</td><td>4</td><td>17</td><td>2</td><td>21</td><td> 6</td><td>0</td><td>25</td><td>10</td></tr>\n",
       "</tbody>\n",
       "</table>\n"
      ],
      "text/latex": [
       "A tibble: 5 x 22\n",
       "\\begin{tabular}{lllllllllllllllllllll}\n",
       " Category & Calories & Calories from Fat & Total Fat & Total Fat (\\% Daily Value) & Saturated Fat & Saturated Fat (\\% Daily Value) & Trans Fat & Cholesterol & Cholesterol (\\% Daily Value) & ... & Carbohydrates & Carbohydrates (\\% Daily Value) & Dietary Fiber & Dietary Fiber (\\% Daily Value) & Sugars & Protein & Vitamin A (\\% Daily Value) & Vitamin C (\\% Daily Value) & Calcium (\\% Daily Value) & Iron (\\% Daily Value)\\\\\n",
       " <fct> & <dbl> & <dbl> & <dbl> & <dbl> & <dbl> & <dbl> & <dbl> & <dbl> & <dbl> & ... & <dbl> & <dbl> & <dbl> & <dbl> & <dbl> & <dbl> & <dbl> & <dbl> & <dbl> & <dbl>\\\\\n",
       "\\hline\n",
       "\t Breakfast & 300 & 120 & 13 & 20 &  5 & 25 & 0 & 260 & 87 & ... & 31 & 10 & 4 & 17 & 3 & 17 & 10 & 0 & 25 & 15\\\\\n",
       "\t Breakfast & 250 &  70 &  8 & 12 &  3 & 15 & 0 &  25 &  8 & ... & 30 & 10 & 4 & 17 & 3 & 18 &  6 & 0 & 25 &  8\\\\\n",
       "\t Breakfast & 370 & 200 & 23 & 35 &  8 & 42 & 0 &  45 & 15 & ... & 29 & 10 & 4 & 17 & 2 & 14 &  8 & 0 & 25 & 10\\\\\n",
       "\t Breakfast & 450 & 250 & 28 & 43 & 10 & 52 & 0 & 285 & 95 & ... & 30 & 10 & 4 & 17 & 2 & 21 & 15 & 0 & 30 & 15\\\\\n",
       "\t Breakfast & 400 & 210 & 23 & 35 &  8 & 42 & 0 &  50 & 16 & ... & 30 & 10 & 4 & 17 & 2 & 21 &  6 & 0 & 25 & 10\\\\\n",
       "\\end{tabular}\n"
      ],
      "text/markdown": [
       "\n",
       "A tibble: 5 x 22\n",
       "\n",
       "| Category &lt;fct&gt; | Calories &lt;dbl&gt; | Calories from Fat &lt;dbl&gt; | Total Fat &lt;dbl&gt; | Total Fat (% Daily Value) &lt;dbl&gt; | Saturated Fat &lt;dbl&gt; | Saturated Fat (% Daily Value) &lt;dbl&gt; | Trans Fat &lt;dbl&gt; | Cholesterol &lt;dbl&gt; | Cholesterol (% Daily Value) &lt;dbl&gt; | ... ... | Carbohydrates &lt;dbl&gt; | Carbohydrates (% Daily Value) &lt;dbl&gt; | Dietary Fiber &lt;dbl&gt; | Dietary Fiber (% Daily Value) &lt;dbl&gt; | Sugars &lt;dbl&gt; | Protein &lt;dbl&gt; | Vitamin A (% Daily Value) &lt;dbl&gt; | Vitamin C (% Daily Value) &lt;dbl&gt; | Calcium (% Daily Value) &lt;dbl&gt; | Iron (% Daily Value) &lt;dbl&gt; |\n",
       "|---|---|---|---|---|---|---|---|---|---|---|---|---|---|---|---|---|---|---|---|---|\n",
       "| Breakfast | 300 | 120 | 13 | 20 |  5 | 25 | 0 | 260 | 87 | ... | 31 | 10 | 4 | 17 | 3 | 17 | 10 | 0 | 25 | 15 |\n",
       "| Breakfast | 250 |  70 |  8 | 12 |  3 | 15 | 0 |  25 |  8 | ... | 30 | 10 | 4 | 17 | 3 | 18 |  6 | 0 | 25 |  8 |\n",
       "| Breakfast | 370 | 200 | 23 | 35 |  8 | 42 | 0 |  45 | 15 | ... | 29 | 10 | 4 | 17 | 2 | 14 |  8 | 0 | 25 | 10 |\n",
       "| Breakfast | 450 | 250 | 28 | 43 | 10 | 52 | 0 | 285 | 95 | ... | 30 | 10 | 4 | 17 | 2 | 21 | 15 | 0 | 30 | 15 |\n",
       "| Breakfast | 400 | 210 | 23 | 35 |  8 | 42 | 0 |  50 | 16 | ... | 30 | 10 | 4 | 17 | 2 | 21 |  6 | 0 | 25 | 10 |\n",
       "\n"
      ],
      "text/plain": [
       "  Category  Calories Calories from Fat Total Fat Total Fat (% Daily Value)\n",
       "1 Breakfast 300      120               13        20                       \n",
       "2 Breakfast 250       70                8        12                       \n",
       "3 Breakfast 370      200               23        35                       \n",
       "4 Breakfast 450      250               28        43                       \n",
       "5 Breakfast 400      210               23        35                       \n",
       "  Saturated Fat Saturated Fat (% Daily Value) Trans Fat Cholesterol\n",
       "1  5            25                            0         260        \n",
       "2  3            15                            0          25        \n",
       "3  8            42                            0          45        \n",
       "4 10            52                            0         285        \n",
       "5  8            42                            0          50        \n",
       "  Cholesterol (% Daily Value) ... Carbohydrates Carbohydrates (% Daily Value)\n",
       "1 87                          ... 31            10                           \n",
       "2  8                          ... 30            10                           \n",
       "3 15                          ... 29            10                           \n",
       "4 95                          ... 30            10                           \n",
       "5 16                          ... 30            10                           \n",
       "  Dietary Fiber Dietary Fiber (% Daily Value) Sugars Protein\n",
       "1 4             17                            3      17     \n",
       "2 4             17                            3      18     \n",
       "3 4             17                            2      14     \n",
       "4 4             17                            2      21     \n",
       "5 4             17                            2      21     \n",
       "  Vitamin A (% Daily Value) Vitamin C (% Daily Value) Calcium (% Daily Value)\n",
       "1 10                        0                         25                     \n",
       "2  6                        0                         25                     \n",
       "3  8                        0                         25                     \n",
       "4 15                        0                         30                     \n",
       "5  6                        0                         25                     \n",
       "  Iron (% Daily Value)\n",
       "1 15                  \n",
       "2  8                  \n",
       "3 10                  \n",
       "4 15                  \n",
       "5 10                  "
      ]
     },
     "metadata": {},
     "output_type": "display_data"
    }
   ],
   "source": [
    "macdonalds <- macdonalds |>\n",
    "    select(-Item, -`Serving Size`) |>\n",
    "    mutate(Category = as_factor(Category))\n",
    "head(macdonalds, 5)"
   ]
  },
  {
   "cell_type": "markdown",
   "id": "4c5700a0",
   "metadata": {},
   "source": [
    "> **YOUR ANSWER HERE**"
   ]
  },
  {
   "cell_type": "markdown",
   "id": "d84b0f6d-f245-4253-83d7-6572c83d220a",
   "metadata": {},
   "source": [
    "#### 1.3 Look into Distinct Categories\n",
    "Given that each row in this dataset represents distinct items sold at McDonald's, let's determine the count of items belonging to each food category.\n",
    "\n",
    "**<span style='color:orange'>Hint:</span>** Start by grouping all items by their `Category` and then count how many items fall into each `Category`. Your final data frame should have two columns: `Category` and `Count`."
   ]
  },
  {
   "cell_type": "code",
   "execution_count": 24,
   "id": "465d2f7f",
   "metadata": {
    "vscode": {
     "languageId": "r"
    }
   },
   "outputs": [],
   "source": [
    "### YOUR CODE HERE"
   ]
  },
  {
   "cell_type": "code",
   "execution_count": 6,
   "id": "a3d675be-a9df-4497-968f-142411d54a03",
   "metadata": {
    "vscode": {
     "languageId": "r"
    }
   },
   "outputs": [
    {
     "data": {
      "text/html": [
       "<table class=\"dataframe\">\n",
       "<caption>A tibble: 9 x 2</caption>\n",
       "<thead>\n",
       "\t<tr><th scope=col>Category</th><th scope=col>Count</th></tr>\n",
       "\t<tr><th scope=col>&lt;fct&gt;</th><th scope=col>&lt;int&gt;</th></tr>\n",
       "</thead>\n",
       "<tbody>\n",
       "\t<tr><td>Breakfast         </td><td>42</td></tr>\n",
       "\t<tr><td><span style=white-space:pre-wrap>Beef &amp; Pork       </span></td><td>15</td></tr>\n",
       "\t<tr><td><span style=white-space:pre-wrap>Chicken &amp; Fish    </span></td><td>27</td></tr>\n",
       "\t<tr><td>Salads            </td><td> 6</td></tr>\n",
       "\t<tr><td><span style=white-space:pre-wrap>Snacks &amp; Sides    </span></td><td>13</td></tr>\n",
       "\t<tr><td>Desserts          </td><td> 7</td></tr>\n",
       "\t<tr><td>Beverages         </td><td>27</td></tr>\n",
       "\t<tr><td><span style=white-space:pre-wrap>Coffee &amp; Tea      </span></td><td>95</td></tr>\n",
       "\t<tr><td>Smoothies &amp; Shakes</td><td>28</td></tr>\n",
       "</tbody>\n",
       "</table>\n"
      ],
      "text/latex": [
       "A tibble: 9 x 2\n",
       "\\begin{tabular}{ll}\n",
       " Category & Count\\\\\n",
       " <fct> & <int>\\\\\n",
       "\\hline\n",
       "\t Breakfast          & 42\\\\\n",
       "\t Beef \\& Pork        & 15\\\\\n",
       "\t Chicken \\& Fish     & 27\\\\\n",
       "\t Salads             &  6\\\\\n",
       "\t Snacks \\& Sides     & 13\\\\\n",
       "\t Desserts           &  7\\\\\n",
       "\t Beverages          & 27\\\\\n",
       "\t Coffee \\& Tea       & 95\\\\\n",
       "\t Smoothies \\& Shakes & 28\\\\\n",
       "\\end{tabular}\n"
      ],
      "text/markdown": [
       "\n",
       "A tibble: 9 x 2\n",
       "\n",
       "| Category &lt;fct&gt; | Count &lt;int&gt; |\n",
       "|---|---|\n",
       "| Breakfast          | 42 |\n",
       "| Beef &amp; Pork        | 15 |\n",
       "| Chicken &amp; Fish     | 27 |\n",
       "| Salads             |  6 |\n",
       "| Snacks &amp; Sides     | 13 |\n",
       "| Desserts           |  7 |\n",
       "| Beverages          | 27 |\n",
       "| Coffee &amp; Tea       | 95 |\n",
       "| Smoothies &amp; Shakes | 28 |\n",
       "\n"
      ],
      "text/plain": [
       "  Category           Count\n",
       "1 Breakfast          42   \n",
       "2 Beef & Pork        15   \n",
       "3 Chicken & Fish     27   \n",
       "4 Salads              6   \n",
       "5 Snacks & Sides     13   \n",
       "6 Desserts            7   \n",
       "7 Beverages          27   \n",
       "8 Coffee & Tea       95   \n",
       "9 Smoothies & Shakes 28   "
      ]
     },
     "metadata": {},
     "output_type": "display_data"
    }
   ],
   "source": [
    "macdonalds_category <- macdonalds |>\n",
    "    group_by(Category) |>\n",
    "    summarize(Count = n())\n",
    "macdonalds_category"
   ]
  },
  {
   "cell_type": "markdown",
   "id": "32de8dc9",
   "metadata": {},
   "source": [
    "#### 1.4 Converting to Percentage\n",
    "Let's add a new column named `Percentage` to indicate the proportion of items in each `Category`. Make sure that the final dataframe is sorted in descending order based on these percentages (e.g., From the highest percentage to the lowest percentage)."
   ]
  },
  {
   "cell_type": "code",
   "execution_count": 26,
   "id": "a4d90dc8",
   "metadata": {
    "vscode": {
     "languageId": "r"
    }
   },
   "outputs": [],
   "source": [
    "### YOUR CODE HERE"
   ]
  },
  {
   "cell_type": "code",
   "execution_count": 7,
   "id": "ac5dd87b-b4d3-4b99-9a6c-fcbbec93f8dd",
   "metadata": {
    "vscode": {
     "languageId": "r"
    }
   },
   "outputs": [
    {
     "data": {
      "text/html": [
       "<table class=\"dataframe\">\n",
       "<caption>A tibble: 9 x 3</caption>\n",
       "<thead>\n",
       "\t<tr><th scope=col>Category</th><th scope=col>Count</th><th scope=col>Percentage</th></tr>\n",
       "\t<tr><th scope=col>&lt;fct&gt;</th><th scope=col>&lt;int&gt;</th><th scope=col>&lt;dbl&gt;</th></tr>\n",
       "</thead>\n",
       "<tbody>\n",
       "\t<tr><td>Breakfast         </td><td>42</td><td>16.15</td></tr>\n",
       "\t<tr><td><span style=white-space:pre-wrap>Beef &amp; Pork       </span></td><td>15</td><td> 5.77</td></tr>\n",
       "\t<tr><td><span style=white-space:pre-wrap>Chicken &amp; Fish    </span></td><td>27</td><td>10.38</td></tr>\n",
       "\t<tr><td>Salads            </td><td> 6</td><td> 2.31</td></tr>\n",
       "\t<tr><td><span style=white-space:pre-wrap>Snacks &amp; Sides    </span></td><td>13</td><td> 5.00</td></tr>\n",
       "\t<tr><td>Desserts          </td><td> 7</td><td> 2.69</td></tr>\n",
       "\t<tr><td>Beverages         </td><td>27</td><td>10.38</td></tr>\n",
       "\t<tr><td><span style=white-space:pre-wrap>Coffee &amp; Tea      </span></td><td>95</td><td>36.54</td></tr>\n",
       "\t<tr><td>Smoothies &amp; Shakes</td><td>28</td><td>10.77</td></tr>\n",
       "</tbody>\n",
       "</table>\n"
      ],
      "text/latex": [
       "A tibble: 9 x 3\n",
       "\\begin{tabular}{lll}\n",
       " Category & Count & Percentage\\\\\n",
       " <fct> & <int> & <dbl>\\\\\n",
       "\\hline\n",
       "\t Breakfast          & 42 & 16.15\\\\\n",
       "\t Beef \\& Pork        & 15 &  5.77\\\\\n",
       "\t Chicken \\& Fish     & 27 & 10.38\\\\\n",
       "\t Salads             &  6 &  2.31\\\\\n",
       "\t Snacks \\& Sides     & 13 &  5.00\\\\\n",
       "\t Desserts           &  7 &  2.69\\\\\n",
       "\t Beverages          & 27 & 10.38\\\\\n",
       "\t Coffee \\& Tea       & 95 & 36.54\\\\\n",
       "\t Smoothies \\& Shakes & 28 & 10.77\\\\\n",
       "\\end{tabular}\n"
      ],
      "text/markdown": [
       "\n",
       "A tibble: 9 x 3\n",
       "\n",
       "| Category &lt;fct&gt; | Count &lt;int&gt; | Percentage &lt;dbl&gt; |\n",
       "|---|---|---|\n",
       "| Breakfast          | 42 | 16.15 |\n",
       "| Beef &amp; Pork        | 15 |  5.77 |\n",
       "| Chicken &amp; Fish     | 27 | 10.38 |\n",
       "| Salads             |  6 |  2.31 |\n",
       "| Snacks &amp; Sides     | 13 |  5.00 |\n",
       "| Desserts           |  7 |  2.69 |\n",
       "| Beverages          | 27 | 10.38 |\n",
       "| Coffee &amp; Tea       | 95 | 36.54 |\n",
       "| Smoothies &amp; Shakes | 28 | 10.77 |\n",
       "\n"
      ],
      "text/plain": [
       "  Category           Count Percentage\n",
       "1 Breakfast          42    16.15     \n",
       "2 Beef & Pork        15     5.77     \n",
       "3 Chicken & Fish     27    10.38     \n",
       "4 Salads              6     2.31     \n",
       "5 Snacks & Sides     13     5.00     \n",
       "6 Desserts            7     2.69     \n",
       "7 Beverages          27    10.38     \n",
       "8 Coffee & Tea       95    36.54     \n",
       "9 Smoothies & Shakes 28    10.77     "
      ]
     },
     "metadata": {},
     "output_type": "display_data"
    }
   ],
   "source": [
    "macdonalds_category <- macdonalds_category |>\n",
    "    mutate(Percentage = round(Count / sum(Count) * 100, 2))\n",
    "macdonalds_category"
   ]
  },
  {
   "cell_type": "markdown",
   "id": "a0e491c2",
   "metadata": {},
   "source": [
    "#### 1.5 Creating a Pie Chart (Challenge)\n",
    "Let's create a pie chart that shows the percentage distribution of each food category sold at McDonald's. Each category will be represented by a slice in the pie, color-coded accordingly.\n",
    "\n",
    "**<span style='color:orange'>Hint:</span>** Use `geom_bar(stat=\"identity\", width=1)` in your `ggplot` code to create the pie chart. Set `x = \"\"` in the `ggplot` initialization."
   ]
  },
  {
   "cell_type": "code",
   "execution_count": 27,
   "id": "f5b66345",
   "metadata": {
    "vscode": {
     "languageId": "r"
    }
   },
   "outputs": [],
   "source": [
    "options(repr.plot.width = 8, repr.plot.height = 6)\n",
    "### YOUR CODE HERE"
   ]
  },
  {
   "cell_type": "code",
   "execution_count": 8,
   "id": "f02308e2-8b74-4588-9271-1233e4305f10",
   "metadata": {
    "vscode": {
     "languageId": "r"
    }
   },
   "outputs": [
    {
     "data": {
      "image/png": "[encoded data removed]",
      "text/plain": [
       "plot without title"
      ]
     },
     "metadata": {
      "image/png": {
       "height": 360,
       "width": 480
      }
     },
     "output_type": "display_data"
    }
   ],
   "source": [
    "options(repr.plot.width = 8, repr.plot.height = 6)\n",
    "\n",
    "ggplot(macdonalds_category, aes(x = \"\", y = Count, fill = Category)) +\n",
    "    geom_bar(stat = \"identity\", width = 1) +\n",
    "    coord_polar(theta = \"y\") +\n",
    "    theme_void() +\n",
    "    labs(title = \"Distribution of Entries by Category\") +\n",
    "    geom_text(aes(label = paste0(Percentage, \"%\")), \n",
    "              position = position_stack(vjust = 0.5)) +\n",
    "    theme(legend.title = element_blank(),\n",
    "         plot.title = element_text(hjust = 0.5)) "
   ]
  },
  {
   "cell_type": "markdown",
   "id": "b0ebe189",
   "metadata": {},
   "source": [
    "## Exercise 2. Building Machine Learning Model\n",
    "In this exercise, we will build a classification model for Chef Ronald, who works at McDonald's headquarters. Ronald is preparing to launch his new recipe, \"Pancake with a Hint of Chicken\", but needs help classifying it into a specific food category. We will develop a machine learning model to classify this new item based on its nutritional information.\n",
    "<br>\n",
    "<img src=\"img/chef.png\" alt=\"Chef\" style=\"width: 300px; display: block; margin-left: auto; margin-right: auto;\"/>"
   ]
  },
  {
   "cell_type": "markdown",
   "id": "ce472c67",
   "metadata": {},
   "source": [
    "#### 2.1 Train, Test and Split\n",
    "Let's use the \"Train, Test, and Split\" method to divide our `mcdonalds` dataset into training and testing data, setting the split ratio (initial_split) to $80$%. How many rows and columns of data do we have in each set?\n",
    "\n",
    "Why do we need to split our data into train and test sets? Explain in one or two sentences. "
   ]
  },
  {
   "cell_type": "code",
   "execution_count": 28,
   "id": "e65ff3f5",
   "metadata": {
    "vscode": {
     "languageId": "r"
    }
   },
   "outputs": [],
   "source": [
    "### YOUR CODE HERE"
   ]
  },
  {
   "cell_type": "code",
   "execution_count": 31,
   "id": "cfccdf32-b043-4f91-8a49-5503e663823b",
   "metadata": {
    "vscode": {
     "languageId": "r"
    }
   },
   "outputs": [
    {
     "name": "stdout",
     "output_type": "stream",
     "text": [
      "Dimensions of the training set are: 208 x 22 \n",
      "Dimensions of the testing set are: 52 x 22"
     ]
    }
   ],
   "source": [
    "macdonlads_split <- initial_split(macdonalds, prop=0.8)\n",
    "macdonalds_train <- training(macdonlads_split)\n",
    "macdonalds_test <- testing(macdonlads_split)\n",
    "\n",
    "cat(paste0(\"Dimensions of the training set are: \", paste(dim(macdonalds_train), collapse = \" x \")), \"\\n\")\n",
    "cat(paste0(\"Dimensions of the testing set are: \", paste(dim(macdonalds_test), collapse = \" x \")))"
   ]
  },
  {
   "cell_type": "markdown",
   "id": "25d5854e",
   "metadata": {},
   "source": [
    "> **YOUR ANSWER HERE**"
   ]
  },
  {
   "cell_type": "markdown",
   "id": "53d37ba3",
   "metadata": {},
   "source": [
    "#### 2.2 Building Model and Recipe\n",
    "Let's create a classification model using the k-Nearest Neighbor (k-NN) approach with $k=3$, following these guidelines:\n",
    "- **Recipe**: Utilize all predictors in the dataset, excluding the `Category` column, which serves as our target variable.\n",
    "- **Modeling**:  Initialize the modeling strategy with `weight_func=\"rectangular\"`, use \"kknn\" as the engine, and set \"classification\" as the mode."
   ]
  },
  {
   "cell_type": "code",
   "execution_count": 29,
   "id": "d1c89010",
   "metadata": {
    "vscode": {
     "languageId": "r"
    }
   },
   "outputs": [],
   "source": [
    "### YOUR CODE HERE"
   ]
  },
  {
   "cell_type": "code",
   "execution_count": 10,
   "id": "497b1f72-4cac-4743-8d9c-521388ab03fd",
   "metadata": {
    "vscode": {
     "languageId": "r"
    }
   },
   "outputs": [],
   "source": [
    "macdonalds_recipe <- recipe(Category ~ ., data=macdonalds_train) |>\n",
    "    step_scale(all_predictors()) |>\n",
    "    step_center(all_predictors())"
   ]
  },
  {
   "cell_type": "code",
   "execution_count": 11,
   "id": "0f5e5d21-4c81-495d-acb0-c94cad725b33",
   "metadata": {
    "vscode": {
     "languageId": "r"
    }
   },
   "outputs": [],
   "source": [
    "knn_spec <- nearest_neighbor(weight_func = \"rectangular\", neighbors = 3) |>\n",
    "  set_engine(\"kknn\") |>\n",
    "  set_mode(\"classification\")"
   ]
  },
  {
   "cell_type": "markdown",
   "id": "3c6ce735",
   "metadata": {},
   "source": [
    "#### 2.3 Fit the Data into the Workflow\n",
    "Let's combine the recipe and model we previously defined to fit our `mcdonalds_train` data into a workflow. Follow these steps:\n",
    "1. Initialize the workflow.\n",
    "2. Specify the recipe.\n",
    "3. Incloude the model.\n",
    "4. Fit the training data."
   ]
  },
  {
   "cell_type": "code",
   "execution_count": 17,
   "id": "b94b7cec-f198-4171-9c7f-5dccefda2ccb",
   "metadata": {
    "vscode": {
     "languageId": "r"
    }
   },
   "outputs": [],
   "source": [
    "knn_fit <- workflow() |>\n",
    "    add_recipe(macdonalds_recipe) |>\n",
    "    add_model(knn_spec) |>\n",
    "    fit(data=macdonalds_train)"
   ]
  },
  {
   "cell_type": "code",
   "execution_count": 18,
   "id": "9d08b9c2-1677-42cb-85e2-bc2bca0eddc3",
   "metadata": {
    "vscode": {
     "languageId": "r"
    }
   },
   "outputs": [
    {
     "data": {
      "text/html": [
       "<table class=\"dataframe\">\n",
       "<caption>A tibble: 5 x 23</caption>\n",
       "<thead>\n",
       "\t<tr><th scope=col>Category_pred</th><th scope=col>Category</th><th scope=col>Calories</th><th scope=col>Calories from Fat</th><th scope=col>Total Fat</th><th scope=col>Total Fat (% Daily Value)</th><th scope=col>Saturated Fat</th><th scope=col>Saturated Fat (% Daily Value)</th><th scope=col>Trans Fat</th><th scope=col>Cholesterol</th><th scope=col>...</th><th scope=col>Carbohydrates</th><th scope=col>Carbohydrates (% Daily Value)</th><th scope=col>Dietary Fiber</th><th scope=col>Dietary Fiber (% Daily Value)</th><th scope=col>Sugars</th><th scope=col>Protein</th><th scope=col>Vitamin A (% Daily Value)</th><th scope=col>Vitamin C (% Daily Value)</th><th scope=col>Calcium (% Daily Value)</th><th scope=col>Iron (% Daily Value)</th></tr>\n",
       "\t<tr><th scope=col>&lt;fct&gt;</th><th scope=col>&lt;fct&gt;</th><th scope=col>&lt;dbl&gt;</th><th scope=col>&lt;dbl&gt;</th><th scope=col>&lt;dbl&gt;</th><th scope=col>&lt;dbl&gt;</th><th scope=col>&lt;dbl&gt;</th><th scope=col>&lt;dbl&gt;</th><th scope=col>&lt;dbl&gt;</th><th scope=col>&lt;dbl&gt;</th><th scope=col>...</th><th scope=col>&lt;dbl&gt;</th><th scope=col>&lt;dbl&gt;</th><th scope=col>&lt;dbl&gt;</th><th scope=col>&lt;dbl&gt;</th><th scope=col>&lt;dbl&gt;</th><th scope=col>&lt;dbl&gt;</th><th scope=col>&lt;dbl&gt;</th><th scope=col>&lt;dbl&gt;</th><th scope=col>&lt;dbl&gt;</th><th scope=col>&lt;dbl&gt;</th></tr>\n",
       "</thead>\n",
       "<tbody>\n",
       "\t<tr><td>Breakfast</td><td>Breakfast</td><td>450</td><td>250</td><td>28</td><td>43</td><td>10</td><td>52</td><td>0.0</td><td>285</td><td>...</td><td>30</td><td>10</td><td>4</td><td>17</td><td>2</td><td>21</td><td>15</td><td> 0</td><td>30</td><td>15</td></tr>\n",
       "\t<tr><td>Breakfast</td><td>Breakfast</td><td>410</td><td>180</td><td>20</td><td>32</td><td>11</td><td>56</td><td>0.0</td><td> 35</td><td>...</td><td>36</td><td>12</td><td>2</td><td> 7</td><td>3</td><td>20</td><td> 2</td><td> 8</td><td>15</td><td>10</td></tr>\n",
       "\t<tr><td>Breakfast</td><td>Breakfast</td><td>510</td><td>290</td><td>33</td><td>50</td><td>14</td><td>71</td><td>0.0</td><td>250</td><td>...</td><td>36</td><td>12</td><td>2</td><td> 6</td><td>2</td><td>18</td><td> 6</td><td> 0</td><td>10</td><td>20</td></tr>\n",
       "\t<tr><td>Breakfast</td><td>Breakfast</td><td>540</td><td>290</td><td>32</td><td>49</td><td>16</td><td>78</td><td>1.0</td><td>280</td><td>...</td><td>38</td><td>13</td><td>2</td><td> 8</td><td>3</td><td>25</td><td>10</td><td> 2</td><td>20</td><td>25</td></tr>\n",
       "\t<tr><td>Breakfast</td><td>Breakfast</td><td>620</td><td>280</td><td>31</td><td>48</td><td>11</td><td>56</td><td>0.5</td><td>275</td><td>...</td><td>57</td><td>19</td><td>3</td><td>11</td><td>7</td><td>30</td><td>20</td><td>15</td><td>20</td><td>20</td></tr>\n",
       "</tbody>\n",
       "</table>\n"
      ],
      "text/latex": [
       "A tibble: 5 x 23\n",
       "\\begin{tabular}{lllllllllllllllllllll}\n",
       " Category\\_pred & Category & Calories & Calories from Fat & Total Fat & Total Fat (\\% Daily Value) & Saturated Fat & Saturated Fat (\\% Daily Value) & Trans Fat & Cholesterol & ... & Carbohydrates & Carbohydrates (\\% Daily Value) & Dietary Fiber & Dietary Fiber (\\% Daily Value) & Sugars & Protein & Vitamin A (\\% Daily Value) & Vitamin C (\\% Daily Value) & Calcium (\\% Daily Value) & Iron (\\% Daily Value)\\\\\n",
       " <fct> & <fct> & <dbl> & <dbl> & <dbl> & <dbl> & <dbl> & <dbl> & <dbl> & <dbl> & ... & <dbl> & <dbl> & <dbl> & <dbl> & <dbl> & <dbl> & <dbl> & <dbl> & <dbl> & <dbl>\\\\\n",
       "\\hline\n",
       "\t Breakfast & Breakfast & 450 & 250 & 28 & 43 & 10 & 52 & 0.0 & 285 & ... & 30 & 10 & 4 & 17 & 2 & 21 & 15 &  0 & 30 & 15\\\\\n",
       "\t Breakfast & Breakfast & 410 & 180 & 20 & 32 & 11 & 56 & 0.0 &  35 & ... & 36 & 12 & 2 &  7 & 3 & 20 &  2 &  8 & 15 & 10\\\\\n",
       "\t Breakfast & Breakfast & 510 & 290 & 33 & 50 & 14 & 71 & 0.0 & 250 & ... & 36 & 12 & 2 &  6 & 2 & 18 &  6 &  0 & 10 & 20\\\\\n",
       "\t Breakfast & Breakfast & 540 & 290 & 32 & 49 & 16 & 78 & 1.0 & 280 & ... & 38 & 13 & 2 &  8 & 3 & 25 & 10 &  2 & 20 & 25\\\\\n",
       "\t Breakfast & Breakfast & 620 & 280 & 31 & 48 & 11 & 56 & 0.5 & 275 & ... & 57 & 19 & 3 & 11 & 7 & 30 & 20 & 15 & 20 & 20\\\\\n",
       "\\end{tabular}\n"
      ],
      "text/markdown": [
       "\n",
       "A tibble: 5 x 23\n",
       "\n",
       "| Category_pred &lt;fct&gt; | Category &lt;fct&gt; | Calories &lt;dbl&gt; | Calories from Fat &lt;dbl&gt; | Total Fat &lt;dbl&gt; | Total Fat (% Daily Value) &lt;dbl&gt; | Saturated Fat &lt;dbl&gt; | Saturated Fat (% Daily Value) &lt;dbl&gt; | Trans Fat &lt;dbl&gt; | Cholesterol &lt;dbl&gt; | ... ... | Carbohydrates &lt;dbl&gt; | Carbohydrates (% Daily Value) &lt;dbl&gt; | Dietary Fiber &lt;dbl&gt; | Dietary Fiber (% Daily Value) &lt;dbl&gt; | Sugars &lt;dbl&gt; | Protein &lt;dbl&gt; | Vitamin A (% Daily Value) &lt;dbl&gt; | Vitamin C (% Daily Value) &lt;dbl&gt; | Calcium (% Daily Value) &lt;dbl&gt; | Iron (% Daily Value) &lt;dbl&gt; |\n",
       "|---|---|---|---|---|---|---|---|---|---|---|---|---|---|---|---|---|---|---|---|---|\n",
       "| Breakfast | Breakfast | 450 | 250 | 28 | 43 | 10 | 52 | 0.0 | 285 | ... | 30 | 10 | 4 | 17 | 2 | 21 | 15 |  0 | 30 | 15 |\n",
       "| Breakfast | Breakfast | 410 | 180 | 20 | 32 | 11 | 56 | 0.0 |  35 | ... | 36 | 12 | 2 |  7 | 3 | 20 |  2 |  8 | 15 | 10 |\n",
       "| Breakfast | Breakfast | 510 | 290 | 33 | 50 | 14 | 71 | 0.0 | 250 | ... | 36 | 12 | 2 |  6 | 2 | 18 |  6 |  0 | 10 | 20 |\n",
       "| Breakfast | Breakfast | 540 | 290 | 32 | 49 | 16 | 78 | 1.0 | 280 | ... | 38 | 13 | 2 |  8 | 3 | 25 | 10 |  2 | 20 | 25 |\n",
       "| Breakfast | Breakfast | 620 | 280 | 31 | 48 | 11 | 56 | 0.5 | 275 | ... | 57 | 19 | 3 | 11 | 7 | 30 | 20 | 15 | 20 | 20 |\n",
       "\n"
      ],
      "text/plain": [
       "  Category_pred Category  Calories Calories from Fat Total Fat\n",
       "1 Breakfast     Breakfast 450      250               28       \n",
       "2 Breakfast     Breakfast 410      180               20       \n",
       "3 Breakfast     Breakfast 510      290               33       \n",
       "4 Breakfast     Breakfast 540      290               32       \n",
       "5 Breakfast     Breakfast 620      280               31       \n",
       "  Total Fat (% Daily Value) Saturated Fat Saturated Fat (% Daily Value)\n",
       "1 43                        10            52                           \n",
       "2 32                        11            56                           \n",
       "3 50                        14            71                           \n",
       "4 49                        16            78                           \n",
       "5 48                        11            56                           \n",
       "  Trans Fat Cholesterol ... Carbohydrates Carbohydrates (% Daily Value)\n",
       "1 0.0       285         ... 30            10                           \n",
       "2 0.0        35         ... 36            12                           \n",
       "3 0.0       250         ... 36            12                           \n",
       "4 1.0       280         ... 38            13                           \n",
       "5 0.5       275         ... 57            19                           \n",
       "  Dietary Fiber Dietary Fiber (% Daily Value) Sugars Protein\n",
       "1 4             17                            2      21     \n",
       "2 2              7                            3      20     \n",
       "3 2              6                            2      18     \n",
       "4 2              8                            3      25     \n",
       "5 3             11                            7      30     \n",
       "  Vitamin A (% Daily Value) Vitamin C (% Daily Value) Calcium (% Daily Value)\n",
       "1 15                         0                        30                     \n",
       "2  2                         8                        15                     \n",
       "3  6                         0                        10                     \n",
       "4 10                         2                        20                     \n",
       "5 20                        15                        20                     \n",
       "  Iron (% Daily Value)\n",
       "1 15                  \n",
       "2 10                  \n",
       "3 20                  \n",
       "4 25                  \n",
       "5 20                  "
      ]
     },
     "metadata": {},
     "output_type": "display_data"
    }
   ],
   "source": [
    "validation <- predict(knn_fit, macdonalds_test) |>\n",
    "    bind_cols(macdonalds_test) |>\n",
    "    rename(Category_pred = .pred_class)\n",
    "head(validation, 5)"
   ]
  },
  {
   "cell_type": "code",
   "execution_count": 19,
   "id": "b10ea5d3-8d26-4fa9-9c1f-de839dd188e8",
   "metadata": {
    "vscode": {
     "languageId": "r"
    }
   },
   "outputs": [
    {
     "data": {
      "text/html": [
       "0.846153846153846"
      ],
      "text/latex": [
       "0.846153846153846"
      ],
      "text/markdown": [
       "0.846153846153846"
      ],
      "text/plain": [
       "[1] 0.8461538"
      ]
     },
     "metadata": {},
     "output_type": "display_data"
    }
   ],
   "source": [
    "acc <- validation |>\n",
    "  metrics(truth = Category, estimate = Category_pred) |>\n",
    "  filter(.metric == \"accuracy\") |>\n",
    "  select(.estimate) |>\n",
    "  pull()\n",
    "\n",
    "acc"
   ]
  },
  {
   "cell_type": "code",
   "execution_count": 35,
   "id": "3ff0277b",
   "metadata": {
    "vscode": {
     "languageId": "r"
    }
   },
   "outputs": [
    {
     "data": {
      "text/html": [
       "0.826923076923077"
      ],
      "text/latex": [
       "0.826923076923077"
      ],
      "text/markdown": [
       "0.826923076923077"
      ],
      "text/plain": [
       "[1] 0.8269231"
      ]
     },
     "metadata": {},
     "output_type": "display_data"
    }
   ],
   "source": [
    "### RUN THIS CELL\n",
    "\n",
    "run_model <- function(k_value, train_data, test_data) {\n",
    "      macdonalds_recipe <- recipe(Category ~ ., data=train_data) |>\n",
    "            step_scale(all_predictors()) |>\n",
    "            step_center(all_predictors())\n",
    "\n",
    "      knn_spec <- nearest_neighbor(weight_func = \"rectangular\", neighbors = k_value) |>\n",
    "            set_engine(\"kknn\") |>\n",
    "            set_mode(\"classification\")\n",
    "\n",
    "      knn_fit <- workflow() |>\n",
    "            add_recipe(macdonalds_recipe) |>\n",
    "            add_model(knn_spec) |>\n",
    "            fit(data=macdonalds_train)\n",
    "\n",
    "      validation <- predict(knn_fit, macdonalds_test) |>\n",
    "            bind_cols(macdonalds_test) |>\n",
    "            rename(Category_pred = .pred_class)\n",
    "\n",
    "      acc <- validation |>\n",
    "            metrics(truth = Category, estimate = Category_pred) |>\n",
    "            filter(.metric == \"accuracy\") |>\n",
    "            select(.estimate) |>\n",
    "            pull()\n",
    "      \n",
    "      acc\n",
    "\n",
    "}"
   ]
  },
  {
   "cell_type": "code",
   "execution_count": 36,
   "id": "faf48120",
   "metadata": {
    "vscode": {
     "languageId": "r"
    }
   },
   "outputs": [
    {
     "data": {
      "text/html": [
       "0.826923076923077"
      ],
      "text/latex": [
       "0.826923076923077"
      ],
      "text/markdown": [
       "0.826923076923077"
      ],
      "text/plain": [
       "[1] 0.8269231"
      ]
     },
     "metadata": {},
     "output_type": "display_data"
    }
   ],
   "source": [
    "run_model(1, macdonalds_train, macdonalds_test)"
   ]
  }
 ],
 "metadata": {
  "kernelspec": {
   "display_name": "R",
   "language": "R",
   "name": "ir"
  },
  "language_info": {
   "codemirror_mode": "r",
   "file_extension": ".r",
   "mimetype": "text/x-r-source",
   "name": "R",
   "pygments_lexer": "r",
   "version": "4.3.1"
  }
 },
 "nbformat": 4,
 "nbformat_minor": 5
}
