{
 "cells": [
  {
   "cell_type": "markdown",
   "id": "86239f5b-6d75-4361-a852-e95273563d0c",
   "metadata": {},
   "source": [
    "# Girls in Data Science Camp 2024\n",
    "\n",
    "<img src=\"img/programming_women.jpg\" width=800>\n",
    "\n",
    "*Photos/Images by #WOCinTech/#WOCinTech Chat ([CC-BY](https://creativecommons.org/licenses/by/2.0/))*"
   ]
  },
  {
   "cell_type": "markdown",
   "id": "ae507945-0e4a-4000-9259-45c00c1e0fd7",
   "metadata": {},
   "source": [
    "## Team Introduction \n",
    "\n",
    "- Lead Instructor: Katie Burak (Assistant Professor of Teaching, Department of Statistics, UBC)\n",
    "- Data Science Mentors:\n",
    "\n",
    "Thank you to our sponsors!\n",
    "\n",
    "<img src=\"img/sponsor1.png\" width=100> <img src=\"img/sponsor2.png\" width=100> <img src=\"img/sponsor3.png\" width=100>\n"
   ]
  },
  {
   "cell_type": "markdown",
   "id": "94266c2d-3771-4a45-a129-bf8b2830c778",
   "metadata": {},
   "source": [
    "## Ice Breaker Activity \n",
    "\n",
    "- Write down an interesting fact about yourself (e.g., favourite hobby, a place you have travelled) and come and place your sticky on the white board (don't write your name on the sticky note). \n",
    "\n",
    "- Once everyone has placed a sticky note on the white board, come and take one that isn't yours. It is your job to find out the name of the person whose random fact you found and return their sticky note to them! \n",
    "\n",
    "- After everyone has their original note, please share your fun facts with everyone at your table. \n"
   ]
  },
  {
   "cell_type": "markdown",
   "id": "3a16ff55-14ea-4c37-8cca-7967f35d500d",
   "metadata": {},
   "source": [
    "## Day 1 Learning Objectives\n",
    "\n",
    "- Edit and execute code and markdown in Jupyter notebooks\n",
    "- Learn the essentials of the R programming language \n",
    "- Basics of data manipulation and data visualization in R"
   ]
  },
  {
   "cell_type": "markdown",
   "id": "3d400cf9-700e-4acf-bb25-1c1d70b0d6e1",
   "metadata": {},
   "source": [
    "## We've got a lot to do - let's get started!\n",
    "\n",
    "<img src=\"https://media.giphy.com/media/6onMzNPjtFeCI/giphy.gif\" width=\"800\">"
   ]
  },
  {
   "cell_type": "markdown",
   "id": "751ec452-570e-4b25-abcb-9ee2092d8e48",
   "metadata": {},
   "source": [
    "## 1. Getting started with Jupyter & R\n",
    "\n"
   ]
  },
  {
   "cell_type": "markdown",
   "id": "78a31dae-3679-4ea5-bdea-2ee9af3d8e78",
   "metadata": {
    "tags": []
   },
   "source": [
    "This webpage is called a Jupyter notebook. A notebook is a place to write computer code for analysis, view the results of the analysis, as well as to narrate the analysis with rich formatted text.\n",
    "\n",
    "### 1.1. Text Cells\n",
    "In a notebook, each rectangle containing text or code is called a *cell*.\n",
    "\n",
    "Text cells (like this one) can be edited by double-clicking on them. They're written in a simple format called [Markdown](http://daringfireball.net/projects/markdown/syntax) to add formatting and section headings. \n",
    "\n",
    "After you edit a text cell, click the \"run cell\" button at the top that looks like ▶ to confirm any changes. (Try not to delete the instructions of the lab.)"
   ]
  },
  {
   "cell_type": "markdown",
   "id": "4c490f30-b988-4a7e-86ad-ebee4dfb8ecd",
   "metadata": {},
   "source": [
    "### 1.2. Code Cells\n",
    "Other cells contain code in the R language. Running a code cell will execute all of the code it contains.\n",
    "\n",
    "To run the code in a cell, first click on that cell to activate it.  It will be highlighted with a blue rectangle to the left of it when activated.  Next, either press Run ▶ or hold down the `shift` key and press `return` or `enter`.\n",
    "print(\"Hello, World!\")\n",
    "Try running the next cell:"
   ]
  },
  {
   "cell_type": "code",
   "execution_count": 1,
   "id": "5c0285d7-78f0-4b12-94f2-08e9aec92c99",
   "metadata": {
    "tags": []
   },
   "outputs": [
    {
     "name": "stdout",
     "output_type": "stream",
     "text": [
      "[1] \"Hello, World!\"\n"
     ]
    }
   ],
   "source": [
    "print(\"Hello, World!\")"
   ]
  },
  {
   "cell_type": "markdown",
   "id": "7b93c5d9-39ef-47c1-9b9e-11185398651b",
   "metadata": {},
   "source": [
    "The above code cell contains a single line of code, but cells can also contain multiple lines of code. When you run a cell, the lines of code are executed in the order in which they appear. Every `print` expression prints a line. Run the next cell and notice the order of the output."
   ]
  },
  {
   "cell_type": "code",
   "execution_count": 2,
   "id": "5d0f32e4-8983-4f88-bfad-019ac3e48245",
   "metadata": {
    "tags": []
   },
   "outputs": [
    {
     "name": "stdout",
     "output_type": "stream",
     "text": [
      "[1] \"First this line is printed,\"\n",
      "[1] \"and then this one.\"\n"
     ]
    }
   ],
   "source": [
    "print(\"First this line is printed,\")\n",
    "print(\"and then this one.\")"
   ]
  },
  {
   "cell_type": "markdown",
   "id": "863d6c7d-d817-4d9f-becb-8b76e8c7876d",
   "metadata": {},
   "source": [
    "### 1.3. Writing Jupyter Notebooks\n",
    "You can use Jupyter notebooks for your own projects or documents.  When you make your own notebook, you'll need to create your own cells for text and code.\n",
    "\n",
    "To add a cell, click the + button in the menu bar of this tab.  The newly created cell will start out as a code cell.  You can change it to a text cell by clicking inside it so it's highlighted, clicking the drop-down box next to the restart and run all button (⏩) in the menu bar of this tab, and changing it from \"Code\" to \"Markdown\"."
   ]
  },
  {
   "cell_type": "markdown",
   "id": "bce2cf5e-b9d7-4d5e-bc90-c6f5aa1deb5c",
   "metadata": {},
   "source": [
    "#### Exercise\n",
    "\n",
    "Add a code cell below this one.  Write code in it that prints out:\n",
    "   \n",
    "    My name is ____!\n",
    "\n",
    "Run your cell to verify that it works. \n",
    "\n",
    "Next, add a text/Markdown cell and write the text \"My name is ____!\" in it."
   ]
  },
  {
   "cell_type": "markdown",
   "id": "956edc86-bab7-4721-b614-3559ef59c7bb",
   "metadata": {},
   "source": [
    "### 1.4. Comments\n",
    "Below you see lines like this in code cells:\n",
    "\n",
    "    # Test cell; please do not change!\n",
    "\n",
    "That is called a *comment*.  It doesn't make anything happen in R; R ignores anything on a line after a #.  Instead, it's there to communicate something about the code to you, the human reader.  Comments are extremely useful and can help increase how readable our code is."
   ]
  },
  {
   "cell_type": "markdown",
   "id": "91b63a72-4e43-43e9-9615-2140b736a95b",
   "metadata": {},
   "source": [
    "The below code cell contains comments (one at the start of a line, and one after some other code). Run the cell. You will see that everything after a comment symbol `#` is ignored by R."
   ]
  },
  {
   "cell_type": "code",
   "execution_count": 3,
   "id": "8c2f8a79-7e69-41ce-aafc-99d897933073",
   "metadata": {
    "tags": []
   },
   "outputs": [
    {
     "name": "stdout",
     "output_type": "stream",
     "text": [
      "[1] \"hello!\"\n"
     ]
    }
   ],
   "source": [
    "# you can use comments to document your code, or make R ignore some code without deleting it entirely\n",
    "# print(\"this is a commented line that R will ignore. You won't see this text in the output!\")\n",
    "\n",
    "print(\"hello!\") # you can also put comments at the end of a line of code"
   ]
  },
  {
   "cell_type": "markdown",
   "id": "5dbab0fe-2973-4b39-b991-5f6a9f3ba3b7",
   "metadata": {
    "tags": []
   },
   "source": [
    "### 1.5. Errors\n",
    "R is a language, and like natural human languages, it has rules.  It differs from natural language in two important ways:\n",
    "1. The rules are *simple*.  You can learn most of them in a few weeks and gain reasonable proficiency with the language in a semester.\n",
    "2. The rules are *rigid*.  If you're proficient in a natural language, you can understand a non-proficient speaker, glossing over small mistakes.  A computer running R code is not smart enough to do that.\n",
    "\n",
    "Whenever you write code, you'll make mistakes (everyone who writes code does, even your course instructor!).  When you run a code cell that has errors, R will sometimes produce error messages to tell you what you did wrong.\n",
    "\n",
    "Errors are totally okay; even experienced programmers make many errors. It's a natural part of the coding process.  When you make an error, you just have to find the source of the problem, fix it, and move on. \n",
    "\n",
    "We have made an error in the next cell. **Remove the `#` symbol below (i.e., uncomment the line)**, and then run the cell to see what happens."
   ]
  },
  {
   "cell_type": "code",
   "execution_count": 4,
   "id": "cc872c9c-a542-4e49-8004-4214a5197e70",
   "metadata": {
    "tags": []
   },
   "outputs": [],
   "source": [
    "# print(\"This line is missing something.\""
   ]
  },
  {
   "cell_type": "markdown",
   "id": "04c808c2-cad6-45c3-a7ee-aeb8204e9b73",
   "metadata": {},
   "source": [
    "![ws1_error_image.png](img/ws1_error_image.png)\n"
   ]
  },
  {
   "cell_type": "markdown",
   "id": "c2a9c3eb-c015-4141-ba25-f6929c57cc31",
   "metadata": {},
   "source": [
    "There's a lot of terminology in programming languages, but you don't need to know it all in order to program effectively. Even though the error message can seem cryptic, if you read it carefully you'll often find hints as to what went wrong. For example, above, you'll see the message `unexpected end of input` (among a lot of other technical jargon). In other words, R reached the end of the line of code, and wasn't expecting to reach the end -- it thinks there is still something missing!\n",
    "\n",
    "Of course, even if you do your best to interpret the error message, sometimes you may get stuck figuring out what went wrong and how to fix it. In that case, ask a neighbor or a TA for help.\n",
    "\n",
    "Try to fix the code above so that you can run the cell and see the intended message instead of an error."
   ]
  },
  {
   "cell_type": "markdown",
   "id": "628df3c2-5dca-43a8-bb24-5d81c28f50d7",
   "metadata": {},
   "source": [
    "### 1.6 Saving your work\n",
    "\n",
    "Its important to save your work often so you don't lose your progress! At the top of the screen, go to the **File** menu then **Save Notebook**. Also, there are keyboard shorcuts for saving your work too: control + s on Windows, or command + s on Mac. Once you've saved your work, you will see a message at the bottom of the screen that says **Saving completed**. "
   ]
  },
  {
   "cell_type": "markdown",
   "id": "7c10d210-16d7-45d8-915e-648c7768f255",
   "metadata": {},
   "source": [
    "### 1.7 Numbers\n",
    "\n",
    "Quantitative information arises everywhere in data science. In addition to representing commands to print out lines, our R code can represent numbers and methods of combining numbers. The expression `3.2500` evaluates to the number 3.25. (Run the cell and see.)"
   ]
  },
  {
   "cell_type": "code",
   "execution_count": 5,
   "id": "83d7d63e-54fa-446a-8988-834aa039c24d",
   "metadata": {},
   "outputs": [
    {
     "data": {
      "text/html": [
       "3.25"
      ],
      "text/latex": [
       "3.25"
      ],
      "text/markdown": [
       "3.25"
      ],
      "text/plain": [
       "[1] 3.25"
      ]
     },
     "metadata": {},
     "output_type": "display_data"
    }
   ],
   "source": [
    "3.2500"
   ]
  },
  {
   "cell_type": "markdown",
   "id": "50e22b23-aa82-44f5-96b9-7dde48aee490",
   "metadata": {},
   "source": [
    "Notice that we didn't have to write `print()`. When you run a notebook cell, Jupyter helpfully prints out that value for you. "
   ]
  },
  {
   "cell_type": "code",
   "execution_count": 6,
   "id": "cc707687-a7cd-49bd-b03f-ab18a4d2d5d6",
   "metadata": {
    "tags": []
   },
   "outputs": [
    {
     "data": {
      "text/html": [
       "2"
      ],
      "text/latex": [
       "2"
      ],
      "text/markdown": [
       "2"
      ],
      "text/plain": [
       "[1] 2"
      ]
     },
     "metadata": {},
     "output_type": "display_data"
    },
    {
     "data": {
      "text/html": [
       "3"
      ],
      "text/latex": [
       "3"
      ],
      "text/markdown": [
       "3"
      ],
      "text/plain": [
       "[1] 3"
      ]
     },
     "metadata": {},
     "output_type": "display_data"
    },
    {
     "data": {
      "text/html": [
       "4"
      ],
      "text/latex": [
       "4"
      ],
      "text/markdown": [
       "4"
      ],
      "text/plain": [
       "[1] 4"
      ]
     },
     "metadata": {},
     "output_type": "display_data"
    }
   ],
   "source": [
    "2\n",
    "3\n",
    "4"
   ]
  },
  {
   "cell_type": "markdown",
   "id": "34f360df-d0b3-4f28-a4f1-866883e57cb8",
   "metadata": {},
   "source": [
    "Above, you should see that the three numbers (2, 3, and 4) are printed out. In R, simply inputting numbers and running the cell will generate all the numbers that you listed."
   ]
  },
  {
   "cell_type": "markdown",
   "id": "07aebefa-cd56-4fff-87d5-87daf6f202c8",
   "metadata": {
    "tags": []
   },
   "source": [
    "### 1.8 Arithmetic\n",
    "The line in the next cell performs some mathemtical operations. Run them!"
   ]
  },
  {
   "cell_type": "code",
   "execution_count": 7,
   "id": "0297fed4-ec2d-4c43-8b19-a203ce58e9e8",
   "metadata": {
    "tags": []
   },
   "outputs": [
    {
     "data": {
      "text/html": [
       "0.5"
      ],
      "text/latex": [
       "0.5"
      ],
      "text/markdown": [
       "0.5"
      ],
      "text/plain": [
       "[1] 0.5"
      ]
     },
     "metadata": {},
     "output_type": "display_data"
    }
   ],
   "source": [
    "2.0 - 1.5"
   ]
  },
  {
   "cell_type": "code",
   "execution_count": 8,
   "id": "e709bac4-1216-45aa-8389-4a70057115e2",
   "metadata": {
    "tags": []
   },
   "outputs": [
    {
     "data": {
      "text/html": [
       "4"
      ],
      "text/latex": [
       "4"
      ],
      "text/markdown": [
       "4"
      ],
      "text/plain": [
       "[1] 4"
      ]
     },
     "metadata": {},
     "output_type": "display_data"
    }
   ],
   "source": [
    "2 * 2"
   ]
  },
  {
   "cell_type": "code",
   "execution_count": 9,
   "id": "6afc9e3a-ff8c-4c4d-a479-500adb3c0c67",
   "metadata": {
    "tags": []
   },
   "outputs": [
    {
     "data": {
      "text/html": [
       "3"
      ],
      "text/latex": [
       "3"
      ],
      "text/markdown": [
       "3"
      ],
      "text/plain": [
       "[1] 3"
      ]
     },
     "metadata": {},
     "output_type": "display_data"
    }
   ],
   "source": [
    "6/2"
   ]
  },
  {
   "cell_type": "markdown",
   "id": "70d48117-08b9-473f-8e11-7c16f31190bc",
   "metadata": {},
   "source": [
    "Many basic arithmetic operations are built in to R.  [This webpage](https://www.statmethods.net/management/operators.html) describes all the arithmetic operators used in the course.  You can refer back to this webpage as you need throughout the term. "
   ]
  },
  {
   "cell_type": "markdown",
   "id": "45ff2f08-4a86-4212-a0d4-efb9d24a39be",
   "metadata": {},
   "source": [
    "### 1.9 Names\n",
    "In natural language, we have terminology that lets us quickly reference very complicated concepts.  We don't say, \"That's a large mammal with brown fur and sharp teeth!\"  Instead, we just say, \"Bear!\"\n",
    "\n",
    "Similarly, an effective strategy for writing code is to define names for data as we compute it, like a lawyer would define terms for complex ideas at the start of a legal document to simplify the rest of the writing.\n",
    "\n",
    "In R, we do this with *objects*. An object has a name on the left side of an `<-` sign and an expression to be evaluated on the right."
   ]
  },
  {
   "cell_type": "code",
   "execution_count": 10,
   "id": "0f873f78-296f-4587-901b-a286d2c24413",
   "metadata": {
    "tags": []
   },
   "outputs": [],
   "source": [
    "answer <- 3 * 2 + 4"
   ]
  },
  {
   "cell_type": "markdown",
   "id": "17af8d77-0225-418f-9ab2-f406fd80e3c3",
   "metadata": {
    "tags": []
   },
   "source": [
    "When you run that cell, R first evaluates the first line.  It computes the value of the expression `3 * 2 + 4`, which is the number 10.  Then it gives that value the name `answer`.  At that point, the code in the cell is done running.\n",
    "\n",
    "After you run that cell, the value 10 is bound to the name `answer`:"
   ]
  },
  {
   "cell_type": "code",
   "execution_count": 11,
   "id": "db6888eb-6393-4e42-8c15-e393d84d5963",
   "metadata": {
    "tags": []
   },
   "outputs": [
    {
     "data": {
      "text/html": [
       "10"
      ],
      "text/latex": [
       "10"
      ],
      "text/markdown": [
       "10"
      ],
      "text/plain": [
       "[1] 10"
      ]
     },
     "metadata": {},
     "output_type": "display_data"
    }
   ],
   "source": [
    "answer"
   ]
  },
  {
   "cell_type": "markdown",
   "id": "9aca7f46-469d-47dd-95ae-77909b2bb822",
   "metadata": {},
   "source": [
    "When naming objects in R there are some rules:\n",
    "1. Names in R can have letters (upper- and lower-case letters are both okay and count as different letters e.g. \"Answer\" and \"answer\" will be treated as different objects), underscores, dots, and numbers. \n",
    "2. The first character can't be a number (otherwise a name might look like a number).  \n",
    "3. Names can't contain spaces, since spaces are used to separate pieces of code from each other. \n",
    "\n",
    "Other than those rules, what you name something doesn't matter *to R*.  For example, the next cell does the same thing as the above cell, except everything has a different name:"
   ]
  },
  {
   "cell_type": "code",
   "execution_count": 12,
   "id": "da2a6386-49a2-4344-b185-3e95c2c0ff74",
   "metadata": {
    "tags": []
   },
   "outputs": [
    {
     "data": {
      "text/html": [
       "20160"
      ],
      "text/latex": [
       "20160"
      ],
      "text/markdown": [
       "20160"
      ],
      "text/plain": [
       "[1] 20160"
      ]
     },
     "metadata": {},
     "output_type": "display_data"
    }
   ],
   "source": [
    "a <- 840\n",
    "b <- 2 * a\n",
    "c <- 12\n",
    "d <- c * b\n",
    "d"
   ]
  },
  {
   "cell_type": "markdown",
   "id": "055d18ee-c17e-42e2-9723-272f66d72a2f",
   "metadata": {},
   "source": [
    "Another common pattern is that a series of lines in a single cell will build up a complex computation in stages, naming the intermediate results."
   ]
  },
  {
   "cell_type": "markdown",
   "id": "5ca21f84-1471-4b08-8ba2-62538e8f9aa9",
   "metadata": {},
   "source": [
    "**However**, names are very important for making your code *readable* to yourself and others.  The cell above is shorter, but it's totally useless without an explanation of what it does. \n",
    "\n",
    "There is also cultural style associated with different programming languages. In the modern R style, object names should use only lowercase letters, numbers, and `_`. Underscores (`_`) are typically used to separate words within a name (*e.g.*, `answer_one`)."
   ]
  },
  {
   "cell_type": "markdown",
   "id": "ebdec704-0fc3-4d29-819c-a3430536d300",
   "metadata": {
    "tags": []
   },
   "source": [
    "### Exercise\n",
    "\n",
    "Question: How old will you be in 2050?\n",
    "\n",
    "- Assign an object called `age` which is your age now.\n",
    "- Compute how many years will pass until 2050 by subtracting the current year from 2050 (call this object `years`).\n",
    "- Finally, name an object `future_age` which adds together `age` and `years` to get your age in 2050."
   ]
  },
  {
   "cell_type": "markdown",
   "id": "5b698a6c-a133-4b90-8413-f8e358eb2f57",
   "metadata": {},
   "source": [
    "## 1.10 Functions\n",
    "\n",
    "The most common way to combine or manipulate values in R is by calling functions. R comes with many built-in functions that perform common operations.\n",
    "\n",
    "We used a function `print()` at the beginning of this notebook when we printed text from a code cell. Here we'll demonstrate using another function `toupper()` that converts text to uppercase:"
   ]
  },
  {
   "cell_type": "code",
   "execution_count": 13,
   "id": "d268b6b5-2d99-4d41-96d1-0ca9016d5af7",
   "metadata": {
    "tags": []
   },
   "outputs": [
    {
     "data": {
      "text/html": [
       "'WHY, HELLO THERE!'"
      ],
      "text/latex": [
       "'WHY, HELLO THERE!'"
      ],
      "text/markdown": [
       "'WHY, HELLO THERE!'"
      ],
      "text/plain": [
       "[1] \"WHY, HELLO THERE!\""
      ]
     },
     "metadata": {},
     "output_type": "display_data"
    }
   ],
   "source": [
    "greeting <- toupper(\"Why, hello there!\")\n",
    "greeting"
   ]
  },
  {
   "cell_type": "markdown",
   "id": "20ab3545-c649-49bf-9fa0-60b83bb81b80",
   "metadata": {},
   "source": [
    "Try using the function `tolower` now! "
   ]
  },
  {
   "cell_type": "markdown",
   "id": "8f934658-2b2c-40d7-a92d-73bdff372f32",
   "metadata": {},
   "source": [
    "Some functions take multiple arguments, separated by commas. For example, the built-in `max` function returns the maximum argument passed to it."
   ]
  },
  {
   "cell_type": "code",
   "execution_count": 14,
   "id": "3a9b4613-760e-465b-a966-ac66faa87526",
   "metadata": {
    "tags": []
   },
   "outputs": [
    {
     "data": {
      "text/html": [
       "23"
      ],
      "text/latex": [
       "23"
      ],
      "text/markdown": [
       "23"
      ],
      "text/plain": [
       "[1] 23"
      ]
     },
     "metadata": {},
     "output_type": "display_data"
    }
   ],
   "source": [
    "biggest <- max(4,7,23,1,5)\n",
    "biggest"
   ]
  },
  {
   "cell_type": "markdown",
   "id": "8e333c3e-0f50-4c66-9ad5-7f7533ce64e8",
   "metadata": {},
   "source": [
    "Try to use the `min` function now to find the smallest number!"
   ]
  },
  {
   "cell_type": "markdown",
   "id": "ae4f659d-613b-46f5-88ba-8c45a1ae4377",
   "metadata": {},
   "source": [
    "### 1.11 Packages\n",
    "\n",
    "R has many built-in functions, but we can also use functions that are stored within packages created by other R users. We are going to use a package, called `tidyverse`, to load, modify and plot data.\n",
    "This package has already been installed for you. Later in the course you will learn how to install packages so you are free to bring in other tools as you need them for your data analysis. "
   ]
  },
  {
   "cell_type": "markdown",
   "id": "a85bac29-8c44-4150-bd37-f68b31628a9b",
   "metadata": {},
   "source": [
    "To use the functions from a package you first need to load it using the `library` function. This needs to be done once per notebook (and a good rule of thumb is to do this at the very top of your notebook so it is easy to see what packages your R code depends on). "
   ]
  },
  {
   "cell_type": "code",
   "execution_count": 15,
   "id": "9a674be5-c111-4dcc-b74d-7cac4abedf83",
   "metadata": {
    "tags": []
   },
   "outputs": [
    {
     "name": "stderr",
     "output_type": "stream",
     "text": [
      "── \u001b[1mAttaching core tidyverse packages\u001b[22m ──────────────────────── tidyverse 2.0.0 ──\n",
      "\u001b[32m✔\u001b[39m \u001b[34mdplyr    \u001b[39m 1.1.3     \u001b[32m✔\u001b[39m \u001b[34mreadr    \u001b[39m 2.1.4\n",
      "\u001b[32m✔\u001b[39m \u001b[34mforcats  \u001b[39m 1.0.0     \u001b[32m✔\u001b[39m \u001b[34mstringr  \u001b[39m 1.5.0\n",
      "\u001b[32m✔\u001b[39m \u001b[34mggplot2  \u001b[39m 3.4.4     \u001b[32m✔\u001b[39m \u001b[34mtibble   \u001b[39m 3.2.1\n",
      "\u001b[32m✔\u001b[39m \u001b[34mlubridate\u001b[39m 1.9.2     \u001b[32m✔\u001b[39m \u001b[34mtidyr    \u001b[39m 1.3.0\n",
      "\u001b[32m✔\u001b[39m \u001b[34mpurrr    \u001b[39m 1.0.2     \n",
      "── \u001b[1mConflicts\u001b[22m ────────────────────────────────────────── tidyverse_conflicts() ──\n",
      "\u001b[31m✖\u001b[39m \u001b[34mdplyr\u001b[39m::\u001b[32mfilter()\u001b[39m masks \u001b[34mstats\u001b[39m::filter()\n",
      "\u001b[31m✖\u001b[39m \u001b[34mdplyr\u001b[39m::\u001b[32mlag()\u001b[39m    masks \u001b[34mstats\u001b[39m::lag()\n",
      "\u001b[36mℹ\u001b[39m Use the conflicted package (\u001b[3m\u001b[34m<http://conflicted.r-lib.org/>\u001b[39m\u001b[23m) to force all conflicts to become errors\n"
     ]
    }
   ],
   "source": [
    "library(tidyverse)"
   ]
  },
  {
   "cell_type": "markdown",
   "id": "acd61a06-107e-4b89-8fa9-5af173daf359",
   "metadata": {},
   "source": [
    "> Note: it is normal and expected that a message is printed out after loading the tidyverse and some packages. Generally, this message let’s you know if functions from the different packages were loaded share the same name (which is confusing to R), and if so, which one you can access using just it’s name (and which one you need to refer the package name and the function name to refer to it, this is called masking). Additionally, the tidyverse is a special R package - it is a meta-package that bundles together several related and commonly used packages. Because of this it lists the packages it does the job of loading."
   ]
  },
  {
   "cell_type": "markdown",
   "id": "16fd9eb7-d5b9-46ac-bd0e-04032ece6e0d",
   "metadata": {},
   "source": [
    "### 1.12 Looking for Help\n",
    "\n",
    "No one, even experienced, professional programmers remember what every function does, nor do they remember every possible function argument/option. So both experienced and new programmers (like you!) need to look things up, A LOT! \n",
    "\n",
    "One of the most efficient places to look for help on how a function works is the **R help files**. Let’s say we wanted to pull up the help file for the `toupper()` function. We can do this by typing a question mark in front of the function we want to know more about. Remove the hashtag and run the cell below to find out more about `toupper()`."
   ]
  },
  {
   "cell_type": "code",
   "execution_count": 16,
   "id": "4e8fc368-65a5-48c3-b023-a0da43006c56",
   "metadata": {
    "tags": []
   },
   "outputs": [],
   "source": [
    "# ?toupper"
   ]
  },
  {
   "cell_type": "markdown",
   "id": "e7213507-deec-408f-809a-597d133a8af9",
   "metadata": {},
   "source": [
    "At the very top of the file, you will see the function itself and the package it is in (in this case, it is base). Next is a description of what the function does. You’ll find that the most helpful sections on this page are “Usage”, “Arguments” and \"Examples\". \n",
    "\n",
    "- **Usage** gives you an idea of how you would use the function when coding--what the syntax would be and how the function itself is structured. \n",
    "- **Arguments** tells you the different parts that can be added to the function to make it more simple or more complicated. Often the “Usage” and “Arguments” sections don’t provide you with step by step instructions, because there are so many different ways that a person can incorporate a function into their code. Instead, they provide users with a general understanding as to what the function could do and parts that could be added. At the end of the day, the user must interpret the help file and figure out how best to use the functions and which parts are most important to include for their particular task. \n",
    "- The **Examples** section is often the most useful part of the help file as it shows how a function could be used with real data. It provides a skeleton code that the users can work off of."
   ]
  },
  {
   "cell_type": "markdown",
   "id": "58857e16-8246-42e4-a569-6916747565ba",
   "metadata": {},
   "source": [
    "Beyond the R help files there are many resources that you can use to find help. [Stack overflow](https://stackoverflow.com/), an online forum, is a great place to go and ask questions such as how to perform a complicated task in R or why a specific error message is popping up. Oftentimes, a previous user will have already asked your question of interest and received helpful advice from fellow R users."
   ]
  },
  {
   "cell_type": "markdown",
   "id": "7c834e1f-9773-484b-bb29-37e162ca5522",
   "metadata": {},
   "source": [
    "## 2. Introduction to Data Science"
   ]
  },
  {
   "cell_type": "markdown",
   "id": "94538935-363d-46b3-9f81-86a25ad5d120",
   "metadata": {},
   "source": [
    "### What *is* data science exactly?\n",
    "\n",
    "**Data science** is the use of *reproducible* and *auditable* processes to obtain value (i.e., insight) from data."
   ]
  },
  {
   "cell_type": "markdown",
   "id": "f1df830a-c7aa-4d1a-bc22-eeefe1642876",
   "metadata": {},
   "source": [
    "Every good data analysis begins with a question—like the above—that you aim to answer using data. As it turns out, there are actually a number of different types of question regarding data: \n",
    "- descriptive\n",
    "- exploratory\n",
    "- predictive\n",
    "- inferential\n",
    "- causal\n",
    "- mechanistic.\n",
    "\n",
    "> Note: In this camp, we will focus on the first 3 types of questions."
   ]
  },
  {
   "cell_type": "markdown",
   "id": "71907b23-8971-4b40-b813-f1d032694b28",
   "metadata": {},
   "source": [
    "### Why are we using programming languages to do data analysis? \n",
    "\n",
    "<p float=\"left\">   \n",
    "    <img src=\"https://www.r-project.org/Rlogo.png\" width=\"150\" />  VS. \n",
    "    <img src=\"https://upload.wikimedia.org/wikipedia/commons/thumb/3/34/Microsoft_Office_Excel_%282019%E2%80%93present%29.svg/516px-Microsoft_Office_Excel_%282019%E2%80%93present%29.svg.png\" width=\"150\" />\n",
    "</p>\n",
    "  \n",
    "- There are many advantages to using R (or another language, like Python or Julia):\n",
    "    - statistical analysis functions that go beyond Excel\n",
    "    - free and open-source \n",
    "    - transparent & reproducible code \n",
    "    - can handle large amounts of data and complex analyses"
   ]
  },
  {
   "cell_type": "markdown",
   "id": "3cd3cc7a-0ed2-4e64-a34d-f5937f82c746",
   "metadata": {},
   "source": [
    "- Using a programming language is like baking with a recipe: \n",
    "    - Ingredients = data\n",
    "\n",
    "      <img src =\"https://www.thespruceeats.com/thmb/FYR4bNLrj304CEaE2aSGPYzygzY=/4680x2632/smart/filters:no_upscale()/greek-butter-cookies-1705307-step-01-5bfef717c9e77c00510e3bf9.jpg\" style =\"width:500px;\"/>\n",
    "    - Recipe = code\n",
    "\n",
    "        <img src =\"https://cdn.pixabay.com/photo/2014/12/21/23/28/recipe-575434_640.png\" style=\"width: 500px;\"/>"
   ]
  },
  {
   "cell_type": "markdown",
   "id": "75995af7-2ac6-47da-a9c5-e724831847be",
   "metadata": {},
   "source": [
    "- Someone else can use your recipe (code) to bake the same cake (produce the same data analyses)\n",
    "\n",
    "- Spreadsheets in Excel make it *very* difficult to understand where results came from"
   ]
  },
  {
   "cell_type": "markdown",
   "id": "ab75b2f5-7994-4015-98bc-0eec9e236943",
   "metadata": {},
   "source": [
    "**In the data science workflow** (source: Grolemund & Wickham, [R for Data Science](https://r4ds.had.co.nz/))\n",
    "\n",
    "<center><img src=\"https://d33wubrfki0l68.cloudfront.net/571b056757d68e6df81a3e3853f54d3c76ad6efc/32d37/diagrams/data-science.png\" style=\"width: 700px\"/></center>"
   ]
  },
  {
   "cell_type": "markdown",
   "id": "64d16f9a-57c9-4816-a4e1-8ac616e8581d",
   "metadata": {
    "tags": []
   },
   "source": [
    "### 2.1 Reading in Tabular Data"
   ]
  },
  {
   "cell_type": "markdown",
   "id": "6a174cb8-bbf2-4be9-8211-949aff7c6c8a",
   "metadata": {},
   "source": [
    "#### Loading/importing data\n",
    "\n",
    "- 4 most common ways to do this in Data Science\n",
    "    1. **read in a text file with data in a spreadsheet format**\n",
    "    2. read from a database (e.g., SQLite, PostgreSQL)\n",
    "    3. scrape data from the web (optional bonus material)\n",
    "    4. use a web API (Application Programming Interface) to read data from a website (not covered in DSCI100)"
   ]
  },
  {
   "cell_type": "markdown",
   "id": "fb62b9e0-8992-40dc-a21d-22d68371a194",
   "metadata": {},
   "source": [
    "It is important to read in data carefully and check results after! This will help reduce bugs and speed up your analyses down the road... think of it as tying your shoes before you run; not exciting, but if done wrong it will trip you up later!"
   ]
  },
  {
   "cell_type": "markdown",
   "id": "23583f46-2779-4982-abec-004b51470828",
   "metadata": {},
   "source": [
    "#### Different ways to locate a file / dataset\n",
    "\n",
    "\n",
    "\n",
    "**Local (on your computer)**\n",
    "- An *absolute* path locates a file with respect to the \"root\" folder on a computer \n",
    "  - starts with `/`\n",
    "    \n",
    "    e.g. `/home/instructor/documents/timesheet.xlsx`\n",
    "  \n",
    "  \n",
    "- A *relative* path locates a file relative to your *working directory*\n",
    "  - doesn't start with `/`\n",
    "    \n",
    "    e.g. `documents/timesheet.xlsx` <br>(where working directory is `/home/instructor/`)"
   ]
  },
  {
   "cell_type": "markdown",
   "id": "8669f4f4-0118-464f-b16e-cf7be49ca441",
   "metadata": {},
   "source": [
    "**Remote (on the web)**\n",
    "\n",
    "via \"URL\" that starts with `http://` or `https://`\n",
    "<br><br>\n",
    "`http://traffic.libsyn.com/mbmbam/MyBrotherMyBrotherandMe367.mp3`\n"
   ]
  },
  {
   "cell_type": "markdown",
   "id": "a66653fb-adec-4c28-b02e-df39725a0b9f",
   "metadata": {},
   "source": [
    "**Absolute vs relative paths: Which should you use?**\n",
    "- Generally to ensure your code can be run on a different computer, you should use relative paths \n",
    "\n",
    "-  e.g. Alice is working inside the folder `/home/alice/project/`. To specify where to load data from in her Jupyter notebook, she uses the absolute path `/home/alice/project/data/happiness_report.csv`. What issue will arise when she shares the notebook with her collaborator Keeran who tries to read in the data on their computer?"
   ]
  },
  {
   "cell_type": "markdown",
   "id": "e1721c00-6228-46f5-af95-73cea7d7683a",
   "metadata": {},
   "source": [
    "`/home/keeran/- What relative data path could they use to collaborate more effectively?project/data/happiness_report.csv`"
   ]
  },
  {
   "cell_type": "markdown",
   "id": "2a9a009d-9cb0-4ce8-ad0e-928bd6d6153d",
   "metadata": {
    "tags": []
   },
   "source": [
    "What relative data path could they use to collaborate more effectively?"
   ]
  },
  {
   "cell_type": "markdown",
   "id": "bef1f220-32ec-433b-8577-3dd976c2161f",
   "metadata": {},
   "source": [
    "`data/happiness_report.csv`"
   ]
  },
  {
   "cell_type": "markdown",
   "id": "96d28fae-0162-484e-b4f5-b10d7c72a73e",
   "metadata": {
    "tags": []
   },
   "source": [
    "- Even though stored their files in the same place on their computers (in their home folders), the absolute paths are different due to their different usernames. \n",
    "\n",
    "- If Alice has code that loads the happiness_report.csv data using an absolute path, the code won’t work on Keeran’s computer. But the relative path from inside the project folder (data/happiness_report.csv) is the same on both computers; any code that uses relative paths will work on both.\n",
    "\n",
    "- Abosolute paths are like GPS coordinates, they take you to one specific location regardless of where you are starting from. Relative paths are like directions, they are based off your starting point (e.g. go to blocks north and then one west)."
   ]
  },
  {
   "cell_type": "markdown",
   "id": "521de75b-c098-4d3e-abf3-b37ae78caa7d",
   "metadata": {},
   "source": [
    "A **data set** is a structured collection of numbers and characters. Aside from that, there are really no strict rules; data sets can come in many different forms! Perhaps the most common form of data set that you will find in the wild, however, is tabular data. Think spreadsheets in Microsoft Excel: tabular data are rectangular-shaped and spreadsheet-like."
   ]
  },
  {
   "cell_type": "markdown",
   "id": "09eb96a2-0e73-4bf9-8f43-59ebedc40cd3",
   "metadata": {
    "tags": []
   },
   "source": [
    "When we load tabular data into R, it is represented as a data frame object. We refer to the rows as **observations** and columns as **variables**."
   ]
  },
  {
   "cell_type": "markdown",
   "id": "3013c666-d2b2-4879-89be-4165110b1e5a",
   "metadata": {},
   "source": [
    "The main kind of data file that we will learn how to load into R as a data frame is the comma-separated values format (.csv for short). These files have names ending in .csv, and can be opened and saved using common spreadsheet programs like Microsoft Excel and Google Sheets."
   ]
  },
  {
   "cell_type": "markdown",
   "id": "7d206a6d-89a4-4925-9c6c-43e5a6c98f33",
   "metadata": {},
   "source": [
    "To load data into R so that we can do things with it (e.g., perform analyses or create data visualizations), we will need to use a function. A function is a special word in R that takes instructions (we call these arguments) and does something. The function we will use to load a .csv file into R is called `read_csv` (made accessible by loading the `tidyverse` R package). In its most basic use-case, `read_csv` expects that the data file:\n",
    "\n",
    "- has column names (or headers)\n",
    "- uses a comma (,) to separate the columns\n",
    "- does not have row names"
   ]
  },
  {
   "cell_type": "markdown",
   "id": "34954ac1-ebd6-4d4b-9e81-32b2c234f87a",
   "metadata": {},
   "source": [
    "Please note that data comes in many forms and there are a wide variety of functions and approaches to loading in your data, but in this camp we will be focusing on reading in tabular data using `read_csv`. "
   ]
  },
  {
   "cell_type": "markdown",
   "id": "919aa9b1-962c-48e8-9437-fc9a6b054840",
   "metadata": {},
   "source": [
    "We will now look at an [Instagram data set](https://www.kaggle.com/datasets/faisaljanjua0555/top-200-most-followed-instagram-accounts-2023) focusing on 200 of the most popular instagram accounts. Let's try reading it in with `read_csv` using a relative path! "
   ]
  },
  {
   "cell_type": "code",
   "execution_count": 17,
   "id": "9c57aaaf-9291-4da9-a81e-8ee740141875",
   "metadata": {
    "tags": []
   },
   "outputs": [
    {
     "name": "stderr",
     "output_type": "stream",
     "text": [
      "\u001b[1mRows: \u001b[22m\u001b[34m200\u001b[39m \u001b[1mColumns: \u001b[22m\u001b[34m8\u001b[39m\n",
      "\u001b[36m──\u001b[39m \u001b[1mColumn specification\u001b[22m \u001b[36m────────────────────────────────────────────────────────\u001b[39m\n",
      "\u001b[1mDelimiter:\u001b[22m \",\"\n",
      "\u001b[31mchr\u001b[39m (7): name, channel_Info, Category, Posts, Followers, Avg. Likes, Eng Rate\n",
      "\u001b[32mdbl\u001b[39m (1): rank\n",
      "\n",
      "\u001b[36mℹ\u001b[39m Use `spec()` to retrieve the full column specification for this data.\n",
      "\u001b[36mℹ\u001b[39m Specify the column types or set `show_col_types = FALSE` to quiet this message.\n"
     ]
    },
    {
     "data": {
      "text/html": [
       "<table class=\"dataframe\">\n",
       "<caption>A tibble: 6 × 8</caption>\n",
       "<thead>\n",
       "\t<tr><th scope=col>rank</th><th scope=col>name</th><th scope=col>channel_Info</th><th scope=col>Category</th><th scope=col>Posts</th><th scope=col>Followers</th><th scope=col>Avg. Likes</th><th scope=col>Eng Rate</th></tr>\n",
       "\t<tr><th scope=col>&lt;dbl&gt;</th><th scope=col>&lt;chr&gt;</th><th scope=col>&lt;chr&gt;</th><th scope=col>&lt;chr&gt;</th><th scope=col>&lt;chr&gt;</th><th scope=col>&lt;chr&gt;</th><th scope=col>&lt;chr&gt;</th><th scope=col>&lt;chr&gt;</th></tr>\n",
       "</thead>\n",
       "<tbody>\n",
       "\t<tr><td>1</td><td>instagram  </td><td>brand </td><td>photography             </td><td>7.3K</td><td>580.1M</td><td>7.31K</td><td>0.1%</td></tr>\n",
       "\t<tr><td>2</td><td><span style=white-space:pre-wrap>cristiano  </span></td><td><span style=white-space:pre-wrap>male  </span></td><td>Health, Sports &amp; Fitness</td><td>3.4K</td><td>519.9M</td><td>3.41K</td><td>1.4%</td></tr>\n",
       "\t<tr><td>3</td><td><span style=white-space:pre-wrap>leomessi   </span></td><td><span style=white-space:pre-wrap>male  </span></td><td>Health, Sports &amp; Fitness</td><td><span style=white-space:pre-wrap>1K  </span></td><td>403.7M</td><td>0.97K</td><td>1.7%</td></tr>\n",
       "\t<tr><td>4</td><td>kyliejenner</td><td>female</td><td>entertainment           </td><td>7K  </td><td>375.9M</td><td>7.02K</td><td>1.7%</td></tr>\n",
       "\t<tr><td>5</td><td>selenagomez</td><td>female</td><td>entertainment           </td><td>1.8K</td><td>365.3M</td><td>1.85K</td><td>1.1%</td></tr>\n",
       "\t<tr><td>6</td><td>therock    </td><td>male  </td><td>entertainment           </td><td>7K  </td><td>354.3M</td><td>7.03K</td><td>0.3%</td></tr>\n",
       "</tbody>\n",
       "</table>\n"
      ],
      "text/latex": [
       "A tibble: 6 × 8\n",
       "\\begin{tabular}{llllllll}\n",
       " rank & name & channel\\_Info & Category & Posts & Followers & Avg. Likes & Eng Rate\\\\\n",
       " <dbl> & <chr> & <chr> & <chr> & <chr> & <chr> & <chr> & <chr>\\\\\n",
       "\\hline\n",
       "\t 1 & instagram   & brand  & photography              & 7.3K & 580.1M & 7.31K & 0.1\\%\\\\\n",
       "\t 2 & cristiano   & male   & Health, Sports \\& Fitness & 3.4K & 519.9M & 3.41K & 1.4\\%\\\\\n",
       "\t 3 & leomessi    & male   & Health, Sports \\& Fitness & 1K   & 403.7M & 0.97K & 1.7\\%\\\\\n",
       "\t 4 & kyliejenner & female & entertainment            & 7K   & 375.9M & 7.02K & 1.7\\%\\\\\n",
       "\t 5 & selenagomez & female & entertainment            & 1.8K & 365.3M & 1.85K & 1.1\\%\\\\\n",
       "\t 6 & therock     & male   & entertainment            & 7K   & 354.3M & 7.03K & 0.3\\%\\\\\n",
       "\\end{tabular}\n"
      ],
      "text/markdown": [
       "\n",
       "A tibble: 6 × 8\n",
       "\n",
       "| rank &lt;dbl&gt; | name &lt;chr&gt; | channel_Info &lt;chr&gt; | Category &lt;chr&gt; | Posts &lt;chr&gt; | Followers &lt;chr&gt; | Avg. Likes &lt;chr&gt; | Eng Rate &lt;chr&gt; |\n",
       "|---|---|---|---|---|---|---|---|\n",
       "| 1 | instagram   | brand  | photography              | 7.3K | 580.1M | 7.31K | 0.1% |\n",
       "| 2 | cristiano   | male   | Health, Sports &amp; Fitness | 3.4K | 519.9M | 3.41K | 1.4% |\n",
       "| 3 | leomessi    | male   | Health, Sports &amp; Fitness | 1K   | 403.7M | 0.97K | 1.7% |\n",
       "| 4 | kyliejenner | female | entertainment            | 7K   | 375.9M | 7.02K | 1.7% |\n",
       "| 5 | selenagomez | female | entertainment            | 1.8K | 365.3M | 1.85K | 1.1% |\n",
       "| 6 | therock     | male   | entertainment            | 7K   | 354.3M | 7.03K | 0.3% |\n",
       "\n"
      ],
      "text/plain": [
       "  rank name        channel_Info Category                 Posts Followers\n",
       "1 1    instagram   brand        photography              7.3K  580.1M   \n",
       "2 2    cristiano   male         Health, Sports & Fitness 3.4K  519.9M   \n",
       "3 3    leomessi    male         Health, Sports & Fitness 1K    403.7M   \n",
       "4 4    kyliejenner female       entertainment            7K    375.9M   \n",
       "5 5    selenagomez female       entertainment            1.8K  365.3M   \n",
       "6 6    therock     male         entertainment            7K    354.3M   \n",
       "  Avg. Likes Eng Rate\n",
       "1 7.31K      0.1%    \n",
       "2 3.41K      1.4%    \n",
       "3 0.97K      1.7%    \n",
       "4 7.02K      1.7%    \n",
       "5 1.85K      1.1%    \n",
       "6 7.03K      0.3%    "
      ]
     },
     "metadata": {},
     "output_type": "display_data"
    }
   ],
   "source": [
    "insta <- read_csv('data/insta.csv')\n",
    "\n",
    "head(insta) # head function prints only the first 6 rows"
   ]
  },
  {
   "cell_type": "markdown",
   "id": "a8751d4e-81a1-4338-944b-0ac29f7754f8",
   "metadata": {},
   "source": [
    "Run the following code chunk before continuing to rename/reformat some of the variables: "
   ]
  },
  {
   "cell_type": "code",
   "execution_count": 18,
   "id": "a0575a29-21fa-4d54-8dda-631c3547d208",
   "metadata": {
    "tags": []
   },
   "outputs": [
    {
     "data": {
      "text/html": [
       "<table class=\"dataframe\">\n",
       "<caption>A tibble: 6 × 8</caption>\n",
       "<thead>\n",
       "\t<tr><th scope=col>rank</th><th scope=col>name</th><th scope=col>channel_Info</th><th scope=col>Category</th><th scope=col>Posts</th><th scope=col>Followers</th><th scope=col>avg_likes</th><th scope=col>eng_rate</th></tr>\n",
       "\t<tr><th scope=col>&lt;dbl&gt;</th><th scope=col>&lt;chr&gt;</th><th scope=col>&lt;chr&gt;</th><th scope=col>&lt;chr&gt;</th><th scope=col>&lt;dbl&gt;</th><th scope=col>&lt;dbl&gt;</th><th scope=col>&lt;dbl&gt;</th><th scope=col>&lt;dbl&gt;</th></tr>\n",
       "</thead>\n",
       "<tbody>\n",
       "\t<tr><td>1</td><td>instagram  </td><td>brand </td><td>photography             </td><td>7300</td><td>580100000</td><td>7310</td><td>0.1</td></tr>\n",
       "\t<tr><td>2</td><td><span style=white-space:pre-wrap>cristiano  </span></td><td><span style=white-space:pre-wrap>male  </span></td><td>Health, Sports &amp; Fitness</td><td>3400</td><td>519900000</td><td>3410</td><td>1.4</td></tr>\n",
       "\t<tr><td>3</td><td><span style=white-space:pre-wrap>leomessi   </span></td><td><span style=white-space:pre-wrap>male  </span></td><td>Health, Sports &amp; Fitness</td><td>1000</td><td>403700000</td><td> 970</td><td>1.7</td></tr>\n",
       "\t<tr><td>4</td><td>kyliejenner</td><td>female</td><td>entertainment           </td><td>7000</td><td>375900000</td><td>7020</td><td>1.7</td></tr>\n",
       "\t<tr><td>5</td><td>selenagomez</td><td>female</td><td>entertainment           </td><td>1800</td><td>365300000</td><td>1850</td><td>1.1</td></tr>\n",
       "\t<tr><td>6</td><td>therock    </td><td>male  </td><td>entertainment           </td><td>7000</td><td>354300000</td><td>7030</td><td>0.3</td></tr>\n",
       "</tbody>\n",
       "</table>\n"
      ],
      "text/latex": [
       "A tibble: 6 × 8\n",
       "\\begin{tabular}{llllllll}\n",
       " rank & name & channel\\_Info & Category & Posts & Followers & avg\\_likes & eng\\_rate\\\\\n",
       " <dbl> & <chr> & <chr> & <chr> & <dbl> & <dbl> & <dbl> & <dbl>\\\\\n",
       "\\hline\n",
       "\t 1 & instagram   & brand  & photography              & 7300 & 580100000 & 7310 & 0.1\\\\\n",
       "\t 2 & cristiano   & male   & Health, Sports \\& Fitness & 3400 & 519900000 & 3410 & 1.4\\\\\n",
       "\t 3 & leomessi    & male   & Health, Sports \\& Fitness & 1000 & 403700000 &  970 & 1.7\\\\\n",
       "\t 4 & kyliejenner & female & entertainment            & 7000 & 375900000 & 7020 & 1.7\\\\\n",
       "\t 5 & selenagomez & female & entertainment            & 1800 & 365300000 & 1850 & 1.1\\\\\n",
       "\t 6 & therock     & male   & entertainment            & 7000 & 354300000 & 7030 & 0.3\\\\\n",
       "\\end{tabular}\n"
      ],
      "text/markdown": [
       "\n",
       "A tibble: 6 × 8\n",
       "\n",
       "| rank &lt;dbl&gt; | name &lt;chr&gt; | channel_Info &lt;chr&gt; | Category &lt;chr&gt; | Posts &lt;dbl&gt; | Followers &lt;dbl&gt; | avg_likes &lt;dbl&gt; | eng_rate &lt;dbl&gt; |\n",
       "|---|---|---|---|---|---|---|---|\n",
       "| 1 | instagram   | brand  | photography              | 7300 | 580100000 | 7310 | 0.1 |\n",
       "| 2 | cristiano   | male   | Health, Sports &amp; Fitness | 3400 | 519900000 | 3410 | 1.4 |\n",
       "| 3 | leomessi    | male   | Health, Sports &amp; Fitness | 1000 | 403700000 |  970 | 1.7 |\n",
       "| 4 | kyliejenner | female | entertainment            | 7000 | 375900000 | 7020 | 1.7 |\n",
       "| 5 | selenagomez | female | entertainment            | 1800 | 365300000 | 1850 | 1.1 |\n",
       "| 6 | therock     | male   | entertainment            | 7000 | 354300000 | 7030 | 0.3 |\n",
       "\n"
      ],
      "text/plain": [
       "  rank name        channel_Info Category                 Posts Followers\n",
       "1 1    instagram   brand        photography              7300  580100000\n",
       "2 2    cristiano   male         Health, Sports & Fitness 3400  519900000\n",
       "3 3    leomessi    male         Health, Sports & Fitness 1000  403700000\n",
       "4 4    kyliejenner female       entertainment            7000  375900000\n",
       "5 5    selenagomez female       entertainment            1800  365300000\n",
       "6 6    therock     male         entertainment            7000  354300000\n",
       "  avg_likes eng_rate\n",
       "1 7310      0.1     \n",
       "2 3410      1.4     \n",
       "3  970      1.7     \n",
       "4 7020      1.7     \n",
       "5 1850      1.1     \n",
       "6 7030      0.3     "
      ]
     },
     "metadata": {},
     "output_type": "display_data"
    }
   ],
   "source": [
    "insta <- insta |>\n",
    "              mutate(Followers = as.numeric(str_replace(Followers, \"M\", \"\"))*1e6) |> \n",
    "              mutate(Posts = as.numeric(str_replace(Posts, \"K\", \"\"))*1e3) |> \n",
    "              rename(avg_likes = 'Avg. Likes', eng_rate = 'Eng Rate') |> \n",
    "              mutate(avg_likes = as.numeric(str_replace(avg_likes, \"K\", \"\"))*1e3) |> \n",
    "              mutate(eng_rate = as.numeric(str_replace(eng_rate, \"%\", \"\"))) |> \n",
    "              mutate(Category = if_else(is.na(Category), \"Not Available\", Category))\n",
    "head(insta)"
   ]
  },
  {
   "cell_type": "markdown",
   "id": "3a29f373-9d63-4ce7-a718-db615819be09",
   "metadata": {},
   "source": [
    "It looks like this data set has 200 rows (observations) representing the top 200 instgram accounts and the following 8 columns (variables): \n",
    "- rank (1-200)\n",
    "- name (Instagram handle)\n",
    "- channel_info (brief description of the account)\n",
    "- category\n",
    "- posts\n",
    "- followers\n",
    "- Avg. Likes (the average number of likes that the account's posts receive per post) \n",
    "- Eng Rate (calculates the account's engagement rate by dividing the total number of likes and comments received by the total number of followers, expressed as a percentage). "
   ]
  },
  {
   "cell_type": "markdown",
   "id": "a26a3012-e54a-438b-91dd-79edc93a2204",
   "metadata": {},
   "source": [
    "### 2.2 Data Wrangling!\n",
    "\n",
    "<img src=\"https://raw.githubusercontent.com/allisonhorst/stats-illustrations/main/rstats-artwork/dplyr_wrangling.png\" width=\"700\"/>\n",
    "\n",
    "[The cartoon illustrations are by Allison Horst](https://github.com/allisonhorst/stats-illustrations/tree/main/rstats-artwork)\n",
    "\n",
    "- In the real world, when you get data, it's usually *very messy*\n",
    "  - inconsistent format (commas, tabs, semicolons, missing data, extra empty lines)\n",
    "  - split into multiple files (e.g. yearly recorded data over many years)\n",
    "  - corrupted files, custom formats\n",
    "- when you read it successfully into R, it will often still be *very messy*\n",
    "- you need to make your data **\"tidy\"**"
   ]
  },
  {
   "cell_type": "markdown",
   "id": "7f477904-1fa8-4cfe-bc4f-c1a8649077ec",
   "metadata": {},
   "source": [
    "#### What is Tidy Data?\n",
    "\n",
    "<img src=\"https://github.com/allisonhorst/stats-illustrations/raw/main/rstats-artwork/tidydata_1.jpg\" width=800>\n",
    "\n",
    "*Illustrations from the [Openscapes](https://www.openscapes.org/) blog [Tidy Data for reproducibility, efficiency, and collaboration](https://www.openscapes.org/blog/2020/10/12/tidy-data/) by Julia Lowndes and Allison Horst\"*\n"
   ]
  },
  {
   "cell_type": "markdown",
   "id": "53066572-dd70-4a9f-8497-fed65eb220e7",
   "metadata": {},
   "source": [
    "<img src=\"https://github.com/allisonhorst/stats-illustrations/raw/main/rstats-artwork/tidydata_2.jpg\" width=800>"
   ]
  },
  {
   "cell_type": "markdown",
   "id": "0ee576c2-a2d3-4c5c-b7b7-f3005825f8d9",
   "metadata": {},
   "source": [
    "#### True or False: The Instagram data set is tidy"
   ]
  },
  {
   "cell_type": "markdown",
   "id": "289d50d9-eac0-4636-89f4-000444275869",
   "metadata": {},
   "source": [
    "**True!**\n",
    "\n",
    "- each row corresponds to a single observation,\n",
    "- each column corresponds to a single variable, and\n",
    "- each cell (row, column pair) correspond to a single value"
   ]
  },
  {
   "cell_type": "markdown",
   "id": "3883f5b6-52e5-4929-9637-e3b0093991b7",
   "metadata": {},
   "source": [
    "### Tools for tidying and wrangling data\n",
    "\n",
    "- `tidyverse` package functions from: \n",
    "    - `dplyr` package (`select`, `filter`, `mutate`, `group_by`, `summarize`)"
   ]
  },
  {
   "cell_type": "markdown",
   "id": "11ba6684-ca6d-4bb5-85b9-fd1e5671fcc2",
   "metadata": {
    "tags": []
   },
   "source": [
    "### 2.1.1 Mutate\n",
    "\n",
    "The `mutate` function transforms old columns to add new columns. \n",
    "\n",
    "e.g. convert engagement rate to a decimal"
   ]
  },
  {
   "cell_type": "code",
   "execution_count": 19,
   "id": "4a371222-d4cd-4dc8-b17e-de74e8774a99",
   "metadata": {
    "tags": []
   },
   "outputs": [
    {
     "data": {
      "text/html": [
       "<table class=\"dataframe\">\n",
       "<caption>A tibble: 200 × 8</caption>\n",
       "<thead>\n",
       "\t<tr><th scope=col>rank</th><th scope=col>name</th><th scope=col>channel_Info</th><th scope=col>Category</th><th scope=col>Posts</th><th scope=col>Followers</th><th scope=col>avg_likes</th><th scope=col>eng_rate</th></tr>\n",
       "\t<tr><th scope=col>&lt;dbl&gt;</th><th scope=col>&lt;chr&gt;</th><th scope=col>&lt;chr&gt;</th><th scope=col>&lt;chr&gt;</th><th scope=col>&lt;dbl&gt;</th><th scope=col>&lt;dbl&gt;</th><th scope=col>&lt;dbl&gt;</th><th scope=col>&lt;dbl&gt;</th></tr>\n",
       "</thead>\n",
       "<tbody>\n",
       "\t<tr><td> 1</td><td>instagram      </td><td>brand </td><td>photography             </td><td>  7300</td><td>580100000</td><td>  7310</td><td>0.001</td></tr>\n",
       "\t<tr><td> 2</td><td><span style=white-space:pre-wrap>cristiano      </span></td><td><span style=white-space:pre-wrap>male  </span></td><td>Health, Sports &amp; Fitness</td><td><span style=white-space:pre-wrap>  3400</span></td><td>519900000</td><td><span style=white-space:pre-wrap>  3410</span></td><td>0.014</td></tr>\n",
       "\t<tr><td> 3</td><td><span style=white-space:pre-wrap>leomessi       </span></td><td><span style=white-space:pre-wrap>male  </span></td><td>Health, Sports &amp; Fitness</td><td><span style=white-space:pre-wrap>  1000</span></td><td>403700000</td><td><span style=white-space:pre-wrap>   970</span></td><td>0.017</td></tr>\n",
       "\t<tr><td> 4</td><td>kyliejenner    </td><td>female</td><td>entertainment           </td><td>  7000</td><td>375900000</td><td>  7020</td><td>0.017</td></tr>\n",
       "\t<tr><td> 5</td><td>selenagomez    </td><td>female</td><td>entertainment           </td><td>  1800</td><td>365300000</td><td>  1850</td><td>0.011</td></tr>\n",
       "\t<tr><td> 6</td><td>therock        </td><td>male  </td><td>entertainment           </td><td>  7000</td><td>354300000</td><td>  7030</td><td>0.003</td></tr>\n",
       "\t<tr><td> 7</td><td>arianagrande   </td><td>female</td><td>entertainment           </td><td>  5000</td><td>345600000</td><td>  4980</td><td>0.014</td></tr>\n",
       "\t<tr><td> 8</td><td>kimkardashian  </td><td>female</td><td>entertainment           </td><td>  5700</td><td>336300000</td><td>  5730</td><td>0.009</td></tr>\n",
       "\t<tr><td> 9</td><td>beyonce        </td><td>female</td><td>entertainment           </td><td>  2100</td><td>287300000</td><td>  2050</td><td>0.010</td></tr>\n",
       "\t<tr><td>10</td><td>khloekardashian</td><td>female</td><td>entertainment           </td><td>  4200</td><td>283900000</td><td>  4190</td><td>0.005</td></tr>\n",
       "\t<tr><td>11</td><td>justinbieber   </td><td>male  </td><td>entertainment           </td><td>  7400</td><td>270200000</td><td>  7390</td><td>0.005</td></tr>\n",
       "\t<tr><td>12</td><td><span style=white-space:pre-wrap>nike           </span></td><td>brand </td><td>Health, Sports &amp; Fitness</td><td><span style=white-space:pre-wrap>  1000</span></td><td>257600000</td><td><span style=white-space:pre-wrap>  1030</span></td><td>0.001</td></tr>\n",
       "\t<tr><td>13</td><td>taylorswift    </td><td>male  </td><td>entertainment           </td><td>562000</td><td>236200000</td><td>  1000</td><td>0.013</td></tr>\n",
       "\t<tr><td>14</td><td>jlo            </td><td>female</td><td>entertainment           </td><td>220000</td><td>228800000</td><td>220000</td><td>0.005</td></tr>\n",
       "\t<tr><td>15</td><td>virat.kohli    </td><td>male  </td><td>Not Available           </td><td>  1500</td><td>228000000</td><td>  1480</td><td>0.012</td></tr>\n",
       "\t<tr><td>16</td><td>kendalljenner  </td><td>male  </td><td>Not Available           </td><td>731000</td><td>223400000</td><td>731000</td><td>0.023</td></tr>\n",
       "\t<tr><td>17</td><td>natgeo         </td><td>brand </td><td>entertainment           </td><td> 26700</td><td>220600000</td><td> 26710</td><td>0.001</td></tr>\n",
       "\t<tr><td>18</td><td>nickiminaj     </td><td>female</td><td>entertainment           </td><td>  6400</td><td>206800000</td><td>  6440</td><td>0.008</td></tr>\n",
       "\t<tr><td>19</td><td>kourtneykardash</td><td>female</td><td>entertainment           </td><td>  4400</td><td>206200000</td><td>  4420</td><td>0.008</td></tr>\n",
       "\t<tr><td>20</td><td>kendalljenner  </td><td>male  </td><td>Not Available           </td><td>824000</td><td>204400000</td><td>824000</td><td>0.025</td></tr>\n",
       "\t<tr><td>21</td><td><span style=white-space:pre-wrap>neymarjr       </span></td><td><span style=white-space:pre-wrap>male  </span></td><td>Health, Sports &amp; Fitness</td><td><span style=white-space:pre-wrap>  5400</span></td><td>196200000</td><td><span style=white-space:pre-wrap>  5390</span></td><td>0.015</td></tr>\n",
       "\t<tr><td>22</td><td>natgeo         </td><td>male  </td><td>Not Available           </td><td> 26000</td><td>196100000</td><td> 26020</td><td>0.001</td></tr>\n",
       "\t<tr><td>23</td><td>mileycyrus     </td><td>female</td><td>entertainment           </td><td>  1200</td><td>189900000</td><td>  1180</td><td>0.005</td></tr>\n",
       "\t<tr><td>24</td><td>katyperry      </td><td>female</td><td>entertainment           </td><td>  2100</td><td>179800000</td><td>  2090</td><td>0.003</td></tr>\n",
       "\t<tr><td>25</td><td>zendaya        </td><td>female</td><td>entertainment           </td><td>  3500</td><td>161800000</td><td>  3540</td><td>0.041</td></tr>\n",
       "\t<tr><td>26</td><td>kevinhart4real </td><td>male  </td><td>entertainment           </td><td>  8400</td><td>157600000</td><td>  8400</td><td>0.002</td></tr>\n",
       "\t<tr><td>27</td><td>iamcardib      </td><td>male  </td><td>entertainment           </td><td>  1600</td><td>145600000</td><td>  1650</td><td>0.018</td></tr>\n",
       "\t<tr><td>28</td><td>ddlovato       </td><td>female</td><td>entertainment           </td><td> 68000</td><td>143500000</td><td> 68000</td><td>0.003</td></tr>\n",
       "\t<tr><td>29</td><td>badgalriri     </td><td>female</td><td>entertainment           </td><td>  4900</td><td>139200000</td><td>  4860</td><td>0.027</td></tr>\n",
       "\t<tr><td>30</td><td><span style=white-space:pre-wrap>kingjames      </span></td><td><span style=white-space:pre-wrap>male  </span></td><td>Health, Sports &amp; Fitness</td><td><span style=white-space:pre-wrap>  2400</span></td><td>139200000</td><td><span style=white-space:pre-wrap>  2410</span></td><td>0.009</td></tr>\n",
       "\t<tr><td>⋮</td><td>⋮</td><td>⋮</td><td>⋮</td><td>⋮</td><td>⋮</td><td>⋮</td><td>⋮</td></tr>\n",
       "\t<tr><td>171</td><td>parineetichopra   </td><td>female   </td><td>entertainment           </td><td>  1400</td><td>39200000</td><td>  1350</td><td>0.009</td></tr>\n",
       "\t<tr><td>172</td><td>anushkasen0408    </td><td>female   </td><td>entertainment           </td><td>  5500</td><td>39000000</td><td>  5470</td><td>0.015</td></tr>\n",
       "\t<tr><td>173</td><td>chrissyteigen     </td><td>female   </td><td>entertainment           </td><td>  5100</td><td>38600000</td><td>  5110</td><td>0.007</td></tr>\n",
       "\t<tr><td>174</td><td>hm                </td><td>brand    </td><td>fashion                 </td><td>  7500</td><td>38500000</td><td>  7480</td><td>0.001</td></tr>\n",
       "\t<tr><td>175</td><td>wesleysafadao     </td><td>male     </td><td>entertainment           </td><td>  9000</td><td>38300000</td><td>  9020</td><td>0.003</td></tr>\n",
       "\t<tr><td>176</td><td>marvelstudios     </td><td>community</td><td>entertainment           </td><td>  2800</td><td>38200000</td><td>  2810</td><td>0.013</td></tr>\n",
       "\t<tr><td>177</td><td>houseofhighlights </td><td><span style=white-space:pre-wrap>male     </span></td><td>Health, Sports &amp; Fitness</td><td> 26900</td><td>37900000</td><td> 26920</td><td>0.008</td></tr>\n",
       "\t<tr><td>178</td><td>tyga              </td><td>NA       </td><td>entertainment           </td><td> 27000</td><td>37700000</td><td> 27000</td><td>0.017</td></tr>\n",
       "\t<tr><td>179</td><td>eminem            </td><td>male     </td><td>entertainment           </td><td>721000</td><td>37600000</td><td>721000</td><td>0.024</td></tr>\n",
       "\t<tr><td>180</td><td><span style=white-space:pre-wrap>sachintendulkar   </span></td><td><span style=white-space:pre-wrap>male     </span></td><td>Health, Sports &amp; Fitness</td><td><span style=white-space:pre-wrap>  1100</span></td><td>37500000</td><td><span style=white-space:pre-wrap>  1070</span></td><td>0.017</td></tr>\n",
       "\t<tr><td>181</td><td><span style=white-space:pre-wrap>danialves         </span></td><td><span style=white-space:pre-wrap>male     </span></td><td>Health, Sports &amp; Fitness</td><td><span style=white-space:pre-wrap>  3400</span></td><td>37400000</td><td><span style=white-space:pre-wrap>  3400</span></td><td>0.008</td></tr>\n",
       "\t<tr><td>182</td><td>gisel_la          </td><td>female   </td><td>entertainment           </td><td> 10200</td><td>37400000</td><td> 10170</td><td>0.002</td></tr>\n",
       "\t<tr><td>183</td><td>blakelively       </td><td>male     </td><td>entertainment           </td><td>121000</td><td>37000000</td><td>121000</td><td>0.056</td></tr>\n",
       "\t<tr><td>184</td><td><span style=white-space:pre-wrap>chelseafc         </span></td><td>community</td><td>Health, Sports &amp; Fitness</td><td> 17300</td><td>36600000</td><td> 17290</td><td>0.006</td></tr>\n",
       "\t<tr><td>185</td><td>shahidkapoor      </td><td>male     </td><td>entertainment           </td><td>  1200</td><td>36600000</td><td>  1180</td><td>0.024</td></tr>\n",
       "\t<tr><td>186</td><td>kimberly.loaiza   </td><td>female   </td><td>entertainment           </td><td>578000</td><td>36600000</td><td>578000</td><td>0.044</td></tr>\n",
       "\t<tr><td>187</td><td><span style=white-space:pre-wrap>toni.kr8s         </span></td><td><span style=white-space:pre-wrap>male     </span></td><td>Health, Sports &amp; Fitness</td><td><span style=white-space:pre-wrap>  1000</span></td><td>36600000</td><td><span style=white-space:pre-wrap>   970</span></td><td>0.012</td></tr>\n",
       "\t<tr><td>188</td><td><span style=white-space:pre-wrap>antogriezmann     </span></td><td><span style=white-space:pre-wrap>male     </span></td><td>Health, Sports &amp; Fitness</td><td>872000</td><td>36400000</td><td>872000</td><td>0.018</td></tr>\n",
       "\t<tr><td>189</td><td>mercedesbenz      </td><td>brand    </td><td>technology              </td><td> 18500</td><td>36400000</td><td> 18480</td><td>0.003</td></tr>\n",
       "\t<tr><td>190</td><td>nattinatasha      </td><td>female   </td><td>entertainment           </td><td> 54000</td><td>36100000</td><td> 54000</td><td>0.013</td></tr>\n",
       "\t<tr><td>191</td><td>tigerjackieshroff </td><td>male     </td><td>entertainment           </td><td>  2200</td><td>36100000</td><td>  2170</td><td>0.019</td></tr>\n",
       "\t<tr><td>192</td><td>lunamaya          </td><td>female   </td><td>entertainment           </td><td>  4200</td><td>36100000</td><td>  4170</td><td>0.002</td></tr>\n",
       "\t<tr><td>193</td><td><span style=white-space:pre-wrap>mancity           </span></td><td><span style=white-space:pre-wrap>male     </span></td><td>Health, Sports &amp; Fitness</td><td> 19600</td><td>36000000</td><td> 19560</td><td>0.004</td></tr>\n",
       "\t<tr><td>194</td><td>disney            </td><td>brand    </td><td>entertainment           </td><td>  7700</td><td>35800000</td><td>  7700</td><td>0.003</td></tr>\n",
       "\t<tr><td>195</td><td><span style=white-space:pre-wrap>barackobama       </span></td><td><span style=white-space:pre-wrap>male     </span></td><td><span style=white-space:pre-wrap>News &amp; Politics         </span></td><td>743000</td><td>35500000</td><td>743000</td><td>0.017</td></tr>\n",
       "\t<tr><td>196</td><td><span style=white-space:pre-wrap>fcbayern          </span></td><td><span style=white-space:pre-wrap>male     </span></td><td>Health, Sports &amp; Fitness</td><td> 16800</td><td>35400000</td><td> 16780</td><td>0.006</td></tr>\n",
       "\t<tr><td>197</td><td>colesprouse       </td><td>male     </td><td>entertainment           </td><td>  1100</td><td>35300000</td><td>  1140</td><td>0.035</td></tr>\n",
       "\t<tr><td>198</td><td>shaymitchell      </td><td>male     </td><td>entertainment           </td><td>  6300</td><td>35100000</td><td>  6310</td><td>0.012</td></tr>\n",
       "\t<tr><td>199</td><td>ivetesangalo      </td><td>female   </td><td>entertainment           </td><td>  7800</td><td>35000000</td><td>  7770</td><td>0.004</td></tr>\n",
       "\t<tr><td>200</td><td>paollaoliveirareal</td><td>female   </td><td>entertainment           </td><td>  4800</td><td>34900000</td><td>  4780</td><td>0.007</td></tr>\n",
       "</tbody>\n",
       "</table>\n"
      ],
      "text/latex": [
       "A tibble: 200 × 8\n",
       "\\begin{tabular}{llllllll}\n",
       " rank & name & channel\\_Info & Category & Posts & Followers & avg\\_likes & eng\\_rate\\\\\n",
       " <dbl> & <chr> & <chr> & <chr> & <dbl> & <dbl> & <dbl> & <dbl>\\\\\n",
       "\\hline\n",
       "\t  1 & instagram       & brand  & photography              &   7300 & 580100000 &   7310 & 0.001\\\\\n",
       "\t  2 & cristiano       & male   & Health, Sports \\& Fitness &   3400 & 519900000 &   3410 & 0.014\\\\\n",
       "\t  3 & leomessi        & male   & Health, Sports \\& Fitness &   1000 & 403700000 &    970 & 0.017\\\\\n",
       "\t  4 & kyliejenner     & female & entertainment            &   7000 & 375900000 &   7020 & 0.017\\\\\n",
       "\t  5 & selenagomez     & female & entertainment            &   1800 & 365300000 &   1850 & 0.011\\\\\n",
       "\t  6 & therock         & male   & entertainment            &   7000 & 354300000 &   7030 & 0.003\\\\\n",
       "\t  7 & arianagrande    & female & entertainment            &   5000 & 345600000 &   4980 & 0.014\\\\\n",
       "\t  8 & kimkardashian   & female & entertainment            &   5700 & 336300000 &   5730 & 0.009\\\\\n",
       "\t  9 & beyonce         & female & entertainment            &   2100 & 287300000 &   2050 & 0.010\\\\\n",
       "\t 10 & khloekardashian & female & entertainment            &   4200 & 283900000 &   4190 & 0.005\\\\\n",
       "\t 11 & justinbieber    & male   & entertainment            &   7400 & 270200000 &   7390 & 0.005\\\\\n",
       "\t 12 & nike            & brand  & Health, Sports \\& Fitness &   1000 & 257600000 &   1030 & 0.001\\\\\n",
       "\t 13 & taylorswift     & male   & entertainment            & 562000 & 236200000 &   1000 & 0.013\\\\\n",
       "\t 14 & jlo             & female & entertainment            & 220000 & 228800000 & 220000 & 0.005\\\\\n",
       "\t 15 & virat.kohli     & male   & Not Available            &   1500 & 228000000 &   1480 & 0.012\\\\\n",
       "\t 16 & kendalljenner   & male   & Not Available            & 731000 & 223400000 & 731000 & 0.023\\\\\n",
       "\t 17 & natgeo          & brand  & entertainment            &  26700 & 220600000 &  26710 & 0.001\\\\\n",
       "\t 18 & nickiminaj      & female & entertainment            &   6400 & 206800000 &   6440 & 0.008\\\\\n",
       "\t 19 & kourtneykardash & female & entertainment            &   4400 & 206200000 &   4420 & 0.008\\\\\n",
       "\t 20 & kendalljenner   & male   & Not Available            & 824000 & 204400000 & 824000 & 0.025\\\\\n",
       "\t 21 & neymarjr        & male   & Health, Sports \\& Fitness &   5400 & 196200000 &   5390 & 0.015\\\\\n",
       "\t 22 & natgeo          & male   & Not Available            &  26000 & 196100000 &  26020 & 0.001\\\\\n",
       "\t 23 & mileycyrus      & female & entertainment            &   1200 & 189900000 &   1180 & 0.005\\\\\n",
       "\t 24 & katyperry       & female & entertainment            &   2100 & 179800000 &   2090 & 0.003\\\\\n",
       "\t 25 & zendaya         & female & entertainment            &   3500 & 161800000 &   3540 & 0.041\\\\\n",
       "\t 26 & kevinhart4real  & male   & entertainment            &   8400 & 157600000 &   8400 & 0.002\\\\\n",
       "\t 27 & iamcardib       & male   & entertainment            &   1600 & 145600000 &   1650 & 0.018\\\\\n",
       "\t 28 & ddlovato        & female & entertainment            &  68000 & 143500000 &  68000 & 0.003\\\\\n",
       "\t 29 & badgalriri      & female & entertainment            &   4900 & 139200000 &   4860 & 0.027\\\\\n",
       "\t 30 & kingjames       & male   & Health, Sports \\& Fitness &   2400 & 139200000 &   2410 & 0.009\\\\\n",
       "\t ⋮ & ⋮ & ⋮ & ⋮ & ⋮ & ⋮ & ⋮ & ⋮\\\\\n",
       "\t 171 & parineetichopra    & female    & entertainment            &   1400 & 39200000 &   1350 & 0.009\\\\\n",
       "\t 172 & anushkasen0408     & female    & entertainment            &   5500 & 39000000 &   5470 & 0.015\\\\\n",
       "\t 173 & chrissyteigen      & female    & entertainment            &   5100 & 38600000 &   5110 & 0.007\\\\\n",
       "\t 174 & hm                 & brand     & fashion                  &   7500 & 38500000 &   7480 & 0.001\\\\\n",
       "\t 175 & wesleysafadao      & male      & entertainment            &   9000 & 38300000 &   9020 & 0.003\\\\\n",
       "\t 176 & marvelstudios      & community & entertainment            &   2800 & 38200000 &   2810 & 0.013\\\\\n",
       "\t 177 & houseofhighlights  & male      & Health, Sports \\& Fitness &  26900 & 37900000 &  26920 & 0.008\\\\\n",
       "\t 178 & tyga               & NA        & entertainment            &  27000 & 37700000 &  27000 & 0.017\\\\\n",
       "\t 179 & eminem             & male      & entertainment            & 721000 & 37600000 & 721000 & 0.024\\\\\n",
       "\t 180 & sachintendulkar    & male      & Health, Sports \\& Fitness &   1100 & 37500000 &   1070 & 0.017\\\\\n",
       "\t 181 & danialves          & male      & Health, Sports \\& Fitness &   3400 & 37400000 &   3400 & 0.008\\\\\n",
       "\t 182 & gisel\\_la           & female    & entertainment            &  10200 & 37400000 &  10170 & 0.002\\\\\n",
       "\t 183 & blakelively        & male      & entertainment            & 121000 & 37000000 & 121000 & 0.056\\\\\n",
       "\t 184 & chelseafc          & community & Health, Sports \\& Fitness &  17300 & 36600000 &  17290 & 0.006\\\\\n",
       "\t 185 & shahidkapoor       & male      & entertainment            &   1200 & 36600000 &   1180 & 0.024\\\\\n",
       "\t 186 & kimberly.loaiza    & female    & entertainment            & 578000 & 36600000 & 578000 & 0.044\\\\\n",
       "\t 187 & toni.kr8s          & male      & Health, Sports \\& Fitness &   1000 & 36600000 &    970 & 0.012\\\\\n",
       "\t 188 & antogriezmann      & male      & Health, Sports \\& Fitness & 872000 & 36400000 & 872000 & 0.018\\\\\n",
       "\t 189 & mercedesbenz       & brand     & technology               &  18500 & 36400000 &  18480 & 0.003\\\\\n",
       "\t 190 & nattinatasha       & female    & entertainment            &  54000 & 36100000 &  54000 & 0.013\\\\\n",
       "\t 191 & tigerjackieshroff  & male      & entertainment            &   2200 & 36100000 &   2170 & 0.019\\\\\n",
       "\t 192 & lunamaya           & female    & entertainment            &   4200 & 36100000 &   4170 & 0.002\\\\\n",
       "\t 193 & mancity            & male      & Health, Sports \\& Fitness &  19600 & 36000000 &  19560 & 0.004\\\\\n",
       "\t 194 & disney             & brand     & entertainment            &   7700 & 35800000 &   7700 & 0.003\\\\\n",
       "\t 195 & barackobama        & male      & News \\& Politics          & 743000 & 35500000 & 743000 & 0.017\\\\\n",
       "\t 196 & fcbayern           & male      & Health, Sports \\& Fitness &  16800 & 35400000 &  16780 & 0.006\\\\\n",
       "\t 197 & colesprouse        & male      & entertainment            &   1100 & 35300000 &   1140 & 0.035\\\\\n",
       "\t 198 & shaymitchell       & male      & entertainment            &   6300 & 35100000 &   6310 & 0.012\\\\\n",
       "\t 199 & ivetesangalo       & female    & entertainment            &   7800 & 35000000 &   7770 & 0.004\\\\\n",
       "\t 200 & paollaoliveirareal & female    & entertainment            &   4800 & 34900000 &   4780 & 0.007\\\\\n",
       "\\end{tabular}\n"
      ],
      "text/markdown": [
       "\n",
       "A tibble: 200 × 8\n",
       "\n",
       "| rank &lt;dbl&gt; | name &lt;chr&gt; | channel_Info &lt;chr&gt; | Category &lt;chr&gt; | Posts &lt;dbl&gt; | Followers &lt;dbl&gt; | avg_likes &lt;dbl&gt; | eng_rate &lt;dbl&gt; |\n",
       "|---|---|---|---|---|---|---|---|\n",
       "|  1 | instagram       | brand  | photography              |   7300 | 580100000 |   7310 | 0.001 |\n",
       "|  2 | cristiano       | male   | Health, Sports &amp; Fitness |   3400 | 519900000 |   3410 | 0.014 |\n",
       "|  3 | leomessi        | male   | Health, Sports &amp; Fitness |   1000 | 403700000 |    970 | 0.017 |\n",
       "|  4 | kyliejenner     | female | entertainment            |   7000 | 375900000 |   7020 | 0.017 |\n",
       "|  5 | selenagomez     | female | entertainment            |   1800 | 365300000 |   1850 | 0.011 |\n",
       "|  6 | therock         | male   | entertainment            |   7000 | 354300000 |   7030 | 0.003 |\n",
       "|  7 | arianagrande    | female | entertainment            |   5000 | 345600000 |   4980 | 0.014 |\n",
       "|  8 | kimkardashian   | female | entertainment            |   5700 | 336300000 |   5730 | 0.009 |\n",
       "|  9 | beyonce         | female | entertainment            |   2100 | 287300000 |   2050 | 0.010 |\n",
       "| 10 | khloekardashian | female | entertainment            |   4200 | 283900000 |   4190 | 0.005 |\n",
       "| 11 | justinbieber    | male   | entertainment            |   7400 | 270200000 |   7390 | 0.005 |\n",
       "| 12 | nike            | brand  | Health, Sports &amp; Fitness |   1000 | 257600000 |   1030 | 0.001 |\n",
       "| 13 | taylorswift     | male   | entertainment            | 562000 | 236200000 |   1000 | 0.013 |\n",
       "| 14 | jlo             | female | entertainment            | 220000 | 228800000 | 220000 | 0.005 |\n",
       "| 15 | virat.kohli     | male   | Not Available            |   1500 | 228000000 |   1480 | 0.012 |\n",
       "| 16 | kendalljenner   | male   | Not Available            | 731000 | 223400000 | 731000 | 0.023 |\n",
       "| 17 | natgeo          | brand  | entertainment            |  26700 | 220600000 |  26710 | 0.001 |\n",
       "| 18 | nickiminaj      | female | entertainment            |   6400 | 206800000 |   6440 | 0.008 |\n",
       "| 19 | kourtneykardash | female | entertainment            |   4400 | 206200000 |   4420 | 0.008 |\n",
       "| 20 | kendalljenner   | male   | Not Available            | 824000 | 204400000 | 824000 | 0.025 |\n",
       "| 21 | neymarjr        | male   | Health, Sports &amp; Fitness |   5400 | 196200000 |   5390 | 0.015 |\n",
       "| 22 | natgeo          | male   | Not Available            |  26000 | 196100000 |  26020 | 0.001 |\n",
       "| 23 | mileycyrus      | female | entertainment            |   1200 | 189900000 |   1180 | 0.005 |\n",
       "| 24 | katyperry       | female | entertainment            |   2100 | 179800000 |   2090 | 0.003 |\n",
       "| 25 | zendaya         | female | entertainment            |   3500 | 161800000 |   3540 | 0.041 |\n",
       "| 26 | kevinhart4real  | male   | entertainment            |   8400 | 157600000 |   8400 | 0.002 |\n",
       "| 27 | iamcardib       | male   | entertainment            |   1600 | 145600000 |   1650 | 0.018 |\n",
       "| 28 | ddlovato        | female | entertainment            |  68000 | 143500000 |  68000 | 0.003 |\n",
       "| 29 | badgalriri      | female | entertainment            |   4900 | 139200000 |   4860 | 0.027 |\n",
       "| 30 | kingjames       | male   | Health, Sports &amp; Fitness |   2400 | 139200000 |   2410 | 0.009 |\n",
       "| ⋮ | ⋮ | ⋮ | ⋮ | ⋮ | ⋮ | ⋮ | ⋮ |\n",
       "| 171 | parineetichopra    | female    | entertainment            |   1400 | 39200000 |   1350 | 0.009 |\n",
       "| 172 | anushkasen0408     | female    | entertainment            |   5500 | 39000000 |   5470 | 0.015 |\n",
       "| 173 | chrissyteigen      | female    | entertainment            |   5100 | 38600000 |   5110 | 0.007 |\n",
       "| 174 | hm                 | brand     | fashion                  |   7500 | 38500000 |   7480 | 0.001 |\n",
       "| 175 | wesleysafadao      | male      | entertainment            |   9000 | 38300000 |   9020 | 0.003 |\n",
       "| 176 | marvelstudios      | community | entertainment            |   2800 | 38200000 |   2810 | 0.013 |\n",
       "| 177 | houseofhighlights  | male      | Health, Sports &amp; Fitness |  26900 | 37900000 |  26920 | 0.008 |\n",
       "| 178 | tyga               | NA        | entertainment            |  27000 | 37700000 |  27000 | 0.017 |\n",
       "| 179 | eminem             | male      | entertainment            | 721000 | 37600000 | 721000 | 0.024 |\n",
       "| 180 | sachintendulkar    | male      | Health, Sports &amp; Fitness |   1100 | 37500000 |   1070 | 0.017 |\n",
       "| 181 | danialves          | male      | Health, Sports &amp; Fitness |   3400 | 37400000 |   3400 | 0.008 |\n",
       "| 182 | gisel_la           | female    | entertainment            |  10200 | 37400000 |  10170 | 0.002 |\n",
       "| 183 | blakelively        | male      | entertainment            | 121000 | 37000000 | 121000 | 0.056 |\n",
       "| 184 | chelseafc          | community | Health, Sports &amp; Fitness |  17300 | 36600000 |  17290 | 0.006 |\n",
       "| 185 | shahidkapoor       | male      | entertainment            |   1200 | 36600000 |   1180 | 0.024 |\n",
       "| 186 | kimberly.loaiza    | female    | entertainment            | 578000 | 36600000 | 578000 | 0.044 |\n",
       "| 187 | toni.kr8s          | male      | Health, Sports &amp; Fitness |   1000 | 36600000 |    970 | 0.012 |\n",
       "| 188 | antogriezmann      | male      | Health, Sports &amp; Fitness | 872000 | 36400000 | 872000 | 0.018 |\n",
       "| 189 | mercedesbenz       | brand     | technology               |  18500 | 36400000 |  18480 | 0.003 |\n",
       "| 190 | nattinatasha       | female    | entertainment            |  54000 | 36100000 |  54000 | 0.013 |\n",
       "| 191 | tigerjackieshroff  | male      | entertainment            |   2200 | 36100000 |   2170 | 0.019 |\n",
       "| 192 | lunamaya           | female    | entertainment            |   4200 | 36100000 |   4170 | 0.002 |\n",
       "| 193 | mancity            | male      | Health, Sports &amp; Fitness |  19600 | 36000000 |  19560 | 0.004 |\n",
       "| 194 | disney             | brand     | entertainment            |   7700 | 35800000 |   7700 | 0.003 |\n",
       "| 195 | barackobama        | male      | News &amp; Politics          | 743000 | 35500000 | 743000 | 0.017 |\n",
       "| 196 | fcbayern           | male      | Health, Sports &amp; Fitness |  16800 | 35400000 |  16780 | 0.006 |\n",
       "| 197 | colesprouse        | male      | entertainment            |   1100 | 35300000 |   1140 | 0.035 |\n",
       "| 198 | shaymitchell       | male      | entertainment            |   6300 | 35100000 |   6310 | 0.012 |\n",
       "| 199 | ivetesangalo       | female    | entertainment            |   7800 | 35000000 |   7770 | 0.004 |\n",
       "| 200 | paollaoliveirareal | female    | entertainment            |   4800 | 34900000 |   4780 | 0.007 |\n",
       "\n"
      ],
      "text/plain": [
       "    rank name               channel_Info Category                 Posts \n",
       "1    1   instagram          brand        photography                7300\n",
       "2    2   cristiano          male         Health, Sports & Fitness   3400\n",
       "3    3   leomessi           male         Health, Sports & Fitness   1000\n",
       "4    4   kyliejenner        female       entertainment              7000\n",
       "5    5   selenagomez        female       entertainment              1800\n",
       "6    6   therock            male         entertainment              7000\n",
       "7    7   arianagrande       female       entertainment              5000\n",
       "8    8   kimkardashian      female       entertainment              5700\n",
       "9    9   beyonce            female       entertainment              2100\n",
       "10  10   khloekardashian    female       entertainment              4200\n",
       "11  11   justinbieber       male         entertainment              7400\n",
       "12  12   nike               brand        Health, Sports & Fitness   1000\n",
       "13  13   taylorswift        male         entertainment            562000\n",
       "14  14   jlo                female       entertainment            220000\n",
       "15  15   virat.kohli        male         Not Available              1500\n",
       "16  16   kendalljenner      male         Not Available            731000\n",
       "17  17   natgeo             brand        entertainment             26700\n",
       "18  18   nickiminaj         female       entertainment              6400\n",
       "19  19   kourtneykardash    female       entertainment              4400\n",
       "20  20   kendalljenner      male         Not Available            824000\n",
       "21  21   neymarjr           male         Health, Sports & Fitness   5400\n",
       "22  22   natgeo             male         Not Available             26000\n",
       "23  23   mileycyrus         female       entertainment              1200\n",
       "24  24   katyperry          female       entertainment              2100\n",
       "25  25   zendaya            female       entertainment              3500\n",
       "26  26   kevinhart4real     male         entertainment              8400\n",
       "27  27   iamcardib          male         entertainment              1600\n",
       "28  28   ddlovato           female       entertainment             68000\n",
       "29  29   badgalriri         female       entertainment              4900\n",
       "30  30   kingjames          male         Health, Sports & Fitness   2400\n",
       "⋮   ⋮    ⋮                  ⋮            ⋮                        ⋮     \n",
       "171 171  parineetichopra    female       entertainment              1400\n",
       "172 172  anushkasen0408     female       entertainment              5500\n",
       "173 173  chrissyteigen      female       entertainment              5100\n",
       "174 174  hm                 brand        fashion                    7500\n",
       "175 175  wesleysafadao      male         entertainment              9000\n",
       "176 176  marvelstudios      community    entertainment              2800\n",
       "177 177  houseofhighlights  male         Health, Sports & Fitness  26900\n",
       "178 178  tyga               NA           entertainment             27000\n",
       "179 179  eminem             male         entertainment            721000\n",
       "180 180  sachintendulkar    male         Health, Sports & Fitness   1100\n",
       "181 181  danialves          male         Health, Sports & Fitness   3400\n",
       "182 182  gisel_la           female       entertainment             10200\n",
       "183 183  blakelively        male         entertainment            121000\n",
       "184 184  chelseafc          community    Health, Sports & Fitness  17300\n",
       "185 185  shahidkapoor       male         entertainment              1200\n",
       "186 186  kimberly.loaiza    female       entertainment            578000\n",
       "187 187  toni.kr8s          male         Health, Sports & Fitness   1000\n",
       "188 188  antogriezmann      male         Health, Sports & Fitness 872000\n",
       "189 189  mercedesbenz       brand        technology                18500\n",
       "190 190  nattinatasha       female       entertainment             54000\n",
       "191 191  tigerjackieshroff  male         entertainment              2200\n",
       "192 192  lunamaya           female       entertainment              4200\n",
       "193 193  mancity            male         Health, Sports & Fitness  19600\n",
       "194 194  disney             brand        entertainment              7700\n",
       "195 195  barackobama        male         News & Politics          743000\n",
       "196 196  fcbayern           male         Health, Sports & Fitness  16800\n",
       "197 197  colesprouse        male         entertainment              1100\n",
       "198 198  shaymitchell       male         entertainment              6300\n",
       "199 199  ivetesangalo       female       entertainment              7800\n",
       "200 200  paollaoliveirareal female       entertainment              4800\n",
       "    Followers avg_likes eng_rate\n",
       "1   580100000   7310    0.001   \n",
       "2   519900000   3410    0.014   \n",
       "3   403700000    970    0.017   \n",
       "4   375900000   7020    0.017   \n",
       "5   365300000   1850    0.011   \n",
       "6   354300000   7030    0.003   \n",
       "7   345600000   4980    0.014   \n",
       "8   336300000   5730    0.009   \n",
       "9   287300000   2050    0.010   \n",
       "10  283900000   4190    0.005   \n",
       "11  270200000   7390    0.005   \n",
       "12  257600000   1030    0.001   \n",
       "13  236200000   1000    0.013   \n",
       "14  228800000 220000    0.005   \n",
       "15  228000000   1480    0.012   \n",
       "16  223400000 731000    0.023   \n",
       "17  220600000  26710    0.001   \n",
       "18  206800000   6440    0.008   \n",
       "19  206200000   4420    0.008   \n",
       "20  204400000 824000    0.025   \n",
       "21  196200000   5390    0.015   \n",
       "22  196100000  26020    0.001   \n",
       "23  189900000   1180    0.005   \n",
       "24  179800000   2090    0.003   \n",
       "25  161800000   3540    0.041   \n",
       "26  157600000   8400    0.002   \n",
       "27  145600000   1650    0.018   \n",
       "28  143500000  68000    0.003   \n",
       "29  139200000   4860    0.027   \n",
       "30  139200000   2410    0.009   \n",
       "⋮   ⋮         ⋮         ⋮       \n",
       "171 39200000    1350    0.009   \n",
       "172 39000000    5470    0.015   \n",
       "173 38600000    5110    0.007   \n",
       "174 38500000    7480    0.001   \n",
       "175 38300000    9020    0.003   \n",
       "176 38200000    2810    0.013   \n",
       "177 37900000   26920    0.008   \n",
       "178 37700000   27000    0.017   \n",
       "179 37600000  721000    0.024   \n",
       "180 37500000    1070    0.017   \n",
       "181 37400000    3400    0.008   \n",
       "182 37400000   10170    0.002   \n",
       "183 37000000  121000    0.056   \n",
       "184 36600000   17290    0.006   \n",
       "185 36600000    1180    0.024   \n",
       "186 36600000  578000    0.044   \n",
       "187 36600000     970    0.012   \n",
       "188 36400000  872000    0.018   \n",
       "189 36400000   18480    0.003   \n",
       "190 36100000   54000    0.013   \n",
       "191 36100000    2170    0.019   \n",
       "192 36100000    4170    0.002   \n",
       "193 36000000   19560    0.004   \n",
       "194 35800000    7700    0.003   \n",
       "195 35500000  743000    0.017   \n",
       "196 35400000   16780    0.006   \n",
       "197 35300000    1140    0.035   \n",
       "198 35100000    6310    0.012   \n",
       "199 35000000    7770    0.004   \n",
       "200 34900000    4780    0.007   "
      ]
     },
     "metadata": {},
     "output_type": "display_data"
    }
   ],
   "source": [
    "mutate(insta, eng_rate = eng_rate / 100)"
   ]
  },
  {
   "cell_type": "markdown",
   "id": "07556d83-8c11-4abf-9dd6-49f5a8eb2770",
   "metadata": {
    "tags": []
   },
   "source": [
    "> Note: The above creates a new dataframe, it does not save it to the original `insta` df. We would need to assign it to a new variable if we want to save it."
   ]
  },
  {
   "cell_type": "markdown",
   "id": "d684dd72-4b88-45f1-a90e-3ff74327ddd4",
   "metadata": {
    "tags": []
   },
   "source": [
    "### 2.1.2 Select \n",
    "\n",
    "The `select` function is used to select a subset of columns (variables) from a dataframe."
   ]
  },
  {
   "cell_type": "code",
   "execution_count": 20,
   "id": "f06b5067-2321-4ca9-b67a-0207078c2608",
   "metadata": {
    "tags": []
   },
   "outputs": [
    {
     "data": {
      "text/html": [
       "<table class=\"dataframe\">\n",
       "<caption>A tibble: 200 × 1</caption>\n",
       "<thead>\n",
       "\t<tr><th scope=col>name</th></tr>\n",
       "\t<tr><th scope=col>&lt;chr&gt;</th></tr>\n",
       "</thead>\n",
       "<tbody>\n",
       "\t<tr><td>instagram      </td></tr>\n",
       "\t<tr><td>cristiano      </td></tr>\n",
       "\t<tr><td>leomessi       </td></tr>\n",
       "\t<tr><td>kyliejenner    </td></tr>\n",
       "\t<tr><td>selenagomez    </td></tr>\n",
       "\t<tr><td>therock        </td></tr>\n",
       "\t<tr><td>arianagrande   </td></tr>\n",
       "\t<tr><td>kimkardashian  </td></tr>\n",
       "\t<tr><td>beyonce        </td></tr>\n",
       "\t<tr><td>khloekardashian</td></tr>\n",
       "\t<tr><td>justinbieber   </td></tr>\n",
       "\t<tr><td>nike           </td></tr>\n",
       "\t<tr><td>taylorswift    </td></tr>\n",
       "\t<tr><td>jlo            </td></tr>\n",
       "\t<tr><td>virat.kohli    </td></tr>\n",
       "\t<tr><td>kendalljenner  </td></tr>\n",
       "\t<tr><td>natgeo         </td></tr>\n",
       "\t<tr><td>nickiminaj     </td></tr>\n",
       "\t<tr><td>kourtneykardash</td></tr>\n",
       "\t<tr><td>kendalljenner  </td></tr>\n",
       "\t<tr><td>neymarjr       </td></tr>\n",
       "\t<tr><td>natgeo         </td></tr>\n",
       "\t<tr><td>mileycyrus     </td></tr>\n",
       "\t<tr><td>katyperry      </td></tr>\n",
       "\t<tr><td>zendaya        </td></tr>\n",
       "\t<tr><td>kevinhart4real </td></tr>\n",
       "\t<tr><td>iamcardib      </td></tr>\n",
       "\t<tr><td>ddlovato       </td></tr>\n",
       "\t<tr><td>badgalriri     </td></tr>\n",
       "\t<tr><td>kingjames      </td></tr>\n",
       "\t<tr><td>⋮</td></tr>\n",
       "\t<tr><td>parineetichopra   </td></tr>\n",
       "\t<tr><td>anushkasen0408    </td></tr>\n",
       "\t<tr><td>chrissyteigen     </td></tr>\n",
       "\t<tr><td>hm                </td></tr>\n",
       "\t<tr><td>wesleysafadao     </td></tr>\n",
       "\t<tr><td>marvelstudios     </td></tr>\n",
       "\t<tr><td>houseofhighlights </td></tr>\n",
       "\t<tr><td>tyga              </td></tr>\n",
       "\t<tr><td>eminem            </td></tr>\n",
       "\t<tr><td>sachintendulkar   </td></tr>\n",
       "\t<tr><td>danialves         </td></tr>\n",
       "\t<tr><td>gisel_la          </td></tr>\n",
       "\t<tr><td>blakelively       </td></tr>\n",
       "\t<tr><td>chelseafc         </td></tr>\n",
       "\t<tr><td>shahidkapoor      </td></tr>\n",
       "\t<tr><td>kimberly.loaiza   </td></tr>\n",
       "\t<tr><td>toni.kr8s         </td></tr>\n",
       "\t<tr><td>antogriezmann     </td></tr>\n",
       "\t<tr><td>mercedesbenz      </td></tr>\n",
       "\t<tr><td>nattinatasha      </td></tr>\n",
       "\t<tr><td>tigerjackieshroff </td></tr>\n",
       "\t<tr><td>lunamaya          </td></tr>\n",
       "\t<tr><td>mancity           </td></tr>\n",
       "\t<tr><td>disney            </td></tr>\n",
       "\t<tr><td>barackobama       </td></tr>\n",
       "\t<tr><td>fcbayern          </td></tr>\n",
       "\t<tr><td>colesprouse       </td></tr>\n",
       "\t<tr><td>shaymitchell      </td></tr>\n",
       "\t<tr><td>ivetesangalo      </td></tr>\n",
       "\t<tr><td>paollaoliveirareal</td></tr>\n",
       "</tbody>\n",
       "</table>\n"
      ],
      "text/latex": [
       "A tibble: 200 × 1\n",
       "\\begin{tabular}{l}\n",
       " name\\\\\n",
       " <chr>\\\\\n",
       "\\hline\n",
       "\t instagram      \\\\\n",
       "\t cristiano      \\\\\n",
       "\t leomessi       \\\\\n",
       "\t kyliejenner    \\\\\n",
       "\t selenagomez    \\\\\n",
       "\t therock        \\\\\n",
       "\t arianagrande   \\\\\n",
       "\t kimkardashian  \\\\\n",
       "\t beyonce        \\\\\n",
       "\t khloekardashian\\\\\n",
       "\t justinbieber   \\\\\n",
       "\t nike           \\\\\n",
       "\t taylorswift    \\\\\n",
       "\t jlo            \\\\\n",
       "\t virat.kohli    \\\\\n",
       "\t kendalljenner  \\\\\n",
       "\t natgeo         \\\\\n",
       "\t nickiminaj     \\\\\n",
       "\t kourtneykardash\\\\\n",
       "\t kendalljenner  \\\\\n",
       "\t neymarjr       \\\\\n",
       "\t natgeo         \\\\\n",
       "\t mileycyrus     \\\\\n",
       "\t katyperry      \\\\\n",
       "\t zendaya        \\\\\n",
       "\t kevinhart4real \\\\\n",
       "\t iamcardib      \\\\\n",
       "\t ddlovato       \\\\\n",
       "\t badgalriri     \\\\\n",
       "\t kingjames      \\\\\n",
       "\t ⋮\\\\\n",
       "\t parineetichopra   \\\\\n",
       "\t anushkasen0408    \\\\\n",
       "\t chrissyteigen     \\\\\n",
       "\t hm                \\\\\n",
       "\t wesleysafadao     \\\\\n",
       "\t marvelstudios     \\\\\n",
       "\t houseofhighlights \\\\\n",
       "\t tyga              \\\\\n",
       "\t eminem            \\\\\n",
       "\t sachintendulkar   \\\\\n",
       "\t danialves         \\\\\n",
       "\t gisel\\_la          \\\\\n",
       "\t blakelively       \\\\\n",
       "\t chelseafc         \\\\\n",
       "\t shahidkapoor      \\\\\n",
       "\t kimberly.loaiza   \\\\\n",
       "\t toni.kr8s         \\\\\n",
       "\t antogriezmann     \\\\\n",
       "\t mercedesbenz      \\\\\n",
       "\t nattinatasha      \\\\\n",
       "\t tigerjackieshroff \\\\\n",
       "\t lunamaya          \\\\\n",
       "\t mancity           \\\\\n",
       "\t disney            \\\\\n",
       "\t barackobama       \\\\\n",
       "\t fcbayern          \\\\\n",
       "\t colesprouse       \\\\\n",
       "\t shaymitchell      \\\\\n",
       "\t ivetesangalo      \\\\\n",
       "\t paollaoliveirareal\\\\\n",
       "\\end{tabular}\n"
      ],
      "text/markdown": [
       "\n",
       "A tibble: 200 × 1\n",
       "\n",
       "| name &lt;chr&gt; |\n",
       "|---|\n",
       "| instagram       |\n",
       "| cristiano       |\n",
       "| leomessi        |\n",
       "| kyliejenner     |\n",
       "| selenagomez     |\n",
       "| therock         |\n",
       "| arianagrande    |\n",
       "| kimkardashian   |\n",
       "| beyonce         |\n",
       "| khloekardashian |\n",
       "| justinbieber    |\n",
       "| nike            |\n",
       "| taylorswift     |\n",
       "| jlo             |\n",
       "| virat.kohli     |\n",
       "| kendalljenner   |\n",
       "| natgeo          |\n",
       "| nickiminaj      |\n",
       "| kourtneykardash |\n",
       "| kendalljenner   |\n",
       "| neymarjr        |\n",
       "| natgeo          |\n",
       "| mileycyrus      |\n",
       "| katyperry       |\n",
       "| zendaya         |\n",
       "| kevinhart4real  |\n",
       "| iamcardib       |\n",
       "| ddlovato        |\n",
       "| badgalriri      |\n",
       "| kingjames       |\n",
       "| ⋮ |\n",
       "| parineetichopra    |\n",
       "| anushkasen0408     |\n",
       "| chrissyteigen      |\n",
       "| hm                 |\n",
       "| wesleysafadao      |\n",
       "| marvelstudios      |\n",
       "| houseofhighlights  |\n",
       "| tyga               |\n",
       "| eminem             |\n",
       "| sachintendulkar    |\n",
       "| danialves          |\n",
       "| gisel_la           |\n",
       "| blakelively        |\n",
       "| chelseafc          |\n",
       "| shahidkapoor       |\n",
       "| kimberly.loaiza    |\n",
       "| toni.kr8s          |\n",
       "| antogriezmann      |\n",
       "| mercedesbenz       |\n",
       "| nattinatasha       |\n",
       "| tigerjackieshroff  |\n",
       "| lunamaya           |\n",
       "| mancity            |\n",
       "| disney             |\n",
       "| barackobama        |\n",
       "| fcbayern           |\n",
       "| colesprouse        |\n",
       "| shaymitchell       |\n",
       "| ivetesangalo       |\n",
       "| paollaoliveirareal |\n",
       "\n"
      ],
      "text/plain": [
       "    name              \n",
       "1   instagram         \n",
       "2   cristiano         \n",
       "3   leomessi          \n",
       "4   kyliejenner       \n",
       "5   selenagomez       \n",
       "6   therock           \n",
       "7   arianagrande      \n",
       "8   kimkardashian     \n",
       "9   beyonce           \n",
       "10  khloekardashian   \n",
       "11  justinbieber      \n",
       "12  nike              \n",
       "13  taylorswift       \n",
       "14  jlo               \n",
       "15  virat.kohli       \n",
       "16  kendalljenner     \n",
       "17  natgeo            \n",
       "18  nickiminaj        \n",
       "19  kourtneykardash   \n",
       "20  kendalljenner     \n",
       "21  neymarjr          \n",
       "22  natgeo            \n",
       "23  mileycyrus        \n",
       "24  katyperry         \n",
       "25  zendaya           \n",
       "26  kevinhart4real    \n",
       "27  iamcardib         \n",
       "28  ddlovato          \n",
       "29  badgalriri        \n",
       "30  kingjames         \n",
       "⋮   ⋮                 \n",
       "171 parineetichopra   \n",
       "172 anushkasen0408    \n",
       "173 chrissyteigen     \n",
       "174 hm                \n",
       "175 wesleysafadao     \n",
       "176 marvelstudios     \n",
       "177 houseofhighlights \n",
       "178 tyga              \n",
       "179 eminem            \n",
       "180 sachintendulkar   \n",
       "181 danialves         \n",
       "182 gisel_la          \n",
       "183 blakelively       \n",
       "184 chelseafc         \n",
       "185 shahidkapoor      \n",
       "186 kimberly.loaiza   \n",
       "187 toni.kr8s         \n",
       "188 antogriezmann     \n",
       "189 mercedesbenz      \n",
       "190 nattinatasha      \n",
       "191 tigerjackieshroff \n",
       "192 lunamaya          \n",
       "193 mancity           \n",
       "194 disney            \n",
       "195 barackobama       \n",
       "196 fcbayern          \n",
       "197 colesprouse       \n",
       "198 shaymitchell      \n",
       "199 ivetesangalo      \n",
       "200 paollaoliveirareal"
      ]
     },
     "metadata": {},
     "output_type": "display_data"
    }
   ],
   "source": [
    "select(insta, name) # select `name` column "
   ]
  },
  {
   "cell_type": "code",
   "execution_count": 21,
   "id": "a4422b1d-4bc4-4617-9975-362727ba2bad",
   "metadata": {
    "tags": []
   },
   "outputs": [
    {
     "data": {
      "text/html": [
       "<table class=\"dataframe\">\n",
       "<caption>A tibble: 200 × 2</caption>\n",
       "<thead>\n",
       "\t<tr><th scope=col>name</th><th scope=col>Followers</th></tr>\n",
       "\t<tr><th scope=col>&lt;chr&gt;</th><th scope=col>&lt;dbl&gt;</th></tr>\n",
       "</thead>\n",
       "<tbody>\n",
       "\t<tr><td>instagram      </td><td>580100000</td></tr>\n",
       "\t<tr><td>cristiano      </td><td>519900000</td></tr>\n",
       "\t<tr><td>leomessi       </td><td>403700000</td></tr>\n",
       "\t<tr><td>kyliejenner    </td><td>375900000</td></tr>\n",
       "\t<tr><td>selenagomez    </td><td>365300000</td></tr>\n",
       "\t<tr><td>therock        </td><td>354300000</td></tr>\n",
       "\t<tr><td>arianagrande   </td><td>345600000</td></tr>\n",
       "\t<tr><td>kimkardashian  </td><td>336300000</td></tr>\n",
       "\t<tr><td>beyonce        </td><td>287300000</td></tr>\n",
       "\t<tr><td>khloekardashian</td><td>283900000</td></tr>\n",
       "\t<tr><td>justinbieber   </td><td>270200000</td></tr>\n",
       "\t<tr><td>nike           </td><td>257600000</td></tr>\n",
       "\t<tr><td>taylorswift    </td><td>236200000</td></tr>\n",
       "\t<tr><td>jlo            </td><td>228800000</td></tr>\n",
       "\t<tr><td>virat.kohli    </td><td>228000000</td></tr>\n",
       "\t<tr><td>kendalljenner  </td><td>223400000</td></tr>\n",
       "\t<tr><td>natgeo         </td><td>220600000</td></tr>\n",
       "\t<tr><td>nickiminaj     </td><td>206800000</td></tr>\n",
       "\t<tr><td>kourtneykardash</td><td>206200000</td></tr>\n",
       "\t<tr><td>kendalljenner  </td><td>204400000</td></tr>\n",
       "\t<tr><td>neymarjr       </td><td>196200000</td></tr>\n",
       "\t<tr><td>natgeo         </td><td>196100000</td></tr>\n",
       "\t<tr><td>mileycyrus     </td><td>189900000</td></tr>\n",
       "\t<tr><td>katyperry      </td><td>179800000</td></tr>\n",
       "\t<tr><td>zendaya        </td><td>161800000</td></tr>\n",
       "\t<tr><td>kevinhart4real </td><td>157600000</td></tr>\n",
       "\t<tr><td>iamcardib      </td><td>145600000</td></tr>\n",
       "\t<tr><td>ddlovato       </td><td>143500000</td></tr>\n",
       "\t<tr><td>badgalriri     </td><td>139200000</td></tr>\n",
       "\t<tr><td>kingjames      </td><td>139200000</td></tr>\n",
       "\t<tr><td>⋮</td><td>⋮</td></tr>\n",
       "\t<tr><td>parineetichopra   </td><td>39200000</td></tr>\n",
       "\t<tr><td>anushkasen0408    </td><td>39000000</td></tr>\n",
       "\t<tr><td>chrissyteigen     </td><td>38600000</td></tr>\n",
       "\t<tr><td>hm                </td><td>38500000</td></tr>\n",
       "\t<tr><td>wesleysafadao     </td><td>38300000</td></tr>\n",
       "\t<tr><td>marvelstudios     </td><td>38200000</td></tr>\n",
       "\t<tr><td>houseofhighlights </td><td>37900000</td></tr>\n",
       "\t<tr><td>tyga              </td><td>37700000</td></tr>\n",
       "\t<tr><td>eminem            </td><td>37600000</td></tr>\n",
       "\t<tr><td>sachintendulkar   </td><td>37500000</td></tr>\n",
       "\t<tr><td>danialves         </td><td>37400000</td></tr>\n",
       "\t<tr><td>gisel_la          </td><td>37400000</td></tr>\n",
       "\t<tr><td>blakelively       </td><td>37000000</td></tr>\n",
       "\t<tr><td>chelseafc         </td><td>36600000</td></tr>\n",
       "\t<tr><td>shahidkapoor      </td><td>36600000</td></tr>\n",
       "\t<tr><td>kimberly.loaiza   </td><td>36600000</td></tr>\n",
       "\t<tr><td>toni.kr8s         </td><td>36600000</td></tr>\n",
       "\t<tr><td>antogriezmann     </td><td>36400000</td></tr>\n",
       "\t<tr><td>mercedesbenz      </td><td>36400000</td></tr>\n",
       "\t<tr><td>nattinatasha      </td><td>36100000</td></tr>\n",
       "\t<tr><td>tigerjackieshroff </td><td>36100000</td></tr>\n",
       "\t<tr><td>lunamaya          </td><td>36100000</td></tr>\n",
       "\t<tr><td>mancity           </td><td>36000000</td></tr>\n",
       "\t<tr><td>disney            </td><td>35800000</td></tr>\n",
       "\t<tr><td>barackobama       </td><td>35500000</td></tr>\n",
       "\t<tr><td>fcbayern          </td><td>35400000</td></tr>\n",
       "\t<tr><td>colesprouse       </td><td>35300000</td></tr>\n",
       "\t<tr><td>shaymitchell      </td><td>35100000</td></tr>\n",
       "\t<tr><td>ivetesangalo      </td><td>35000000</td></tr>\n",
       "\t<tr><td>paollaoliveirareal</td><td>34900000</td></tr>\n",
       "</tbody>\n",
       "</table>\n"
      ],
      "text/latex": [
       "A tibble: 200 × 2\n",
       "\\begin{tabular}{ll}\n",
       " name & Followers\\\\\n",
       " <chr> & <dbl>\\\\\n",
       "\\hline\n",
       "\t instagram       & 580100000\\\\\n",
       "\t cristiano       & 519900000\\\\\n",
       "\t leomessi        & 403700000\\\\\n",
       "\t kyliejenner     & 375900000\\\\\n",
       "\t selenagomez     & 365300000\\\\\n",
       "\t therock         & 354300000\\\\\n",
       "\t arianagrande    & 345600000\\\\\n",
       "\t kimkardashian   & 336300000\\\\\n",
       "\t beyonce         & 287300000\\\\\n",
       "\t khloekardashian & 283900000\\\\\n",
       "\t justinbieber    & 270200000\\\\\n",
       "\t nike            & 257600000\\\\\n",
       "\t taylorswift     & 236200000\\\\\n",
       "\t jlo             & 228800000\\\\\n",
       "\t virat.kohli     & 228000000\\\\\n",
       "\t kendalljenner   & 223400000\\\\\n",
       "\t natgeo          & 220600000\\\\\n",
       "\t nickiminaj      & 206800000\\\\\n",
       "\t kourtneykardash & 206200000\\\\\n",
       "\t kendalljenner   & 204400000\\\\\n",
       "\t neymarjr        & 196200000\\\\\n",
       "\t natgeo          & 196100000\\\\\n",
       "\t mileycyrus      & 189900000\\\\\n",
       "\t katyperry       & 179800000\\\\\n",
       "\t zendaya         & 161800000\\\\\n",
       "\t kevinhart4real  & 157600000\\\\\n",
       "\t iamcardib       & 145600000\\\\\n",
       "\t ddlovato        & 143500000\\\\\n",
       "\t badgalriri      & 139200000\\\\\n",
       "\t kingjames       & 139200000\\\\\n",
       "\t ⋮ & ⋮\\\\\n",
       "\t parineetichopra    & 39200000\\\\\n",
       "\t anushkasen0408     & 39000000\\\\\n",
       "\t chrissyteigen      & 38600000\\\\\n",
       "\t hm                 & 38500000\\\\\n",
       "\t wesleysafadao      & 38300000\\\\\n",
       "\t marvelstudios      & 38200000\\\\\n",
       "\t houseofhighlights  & 37900000\\\\\n",
       "\t tyga               & 37700000\\\\\n",
       "\t eminem             & 37600000\\\\\n",
       "\t sachintendulkar    & 37500000\\\\\n",
       "\t danialves          & 37400000\\\\\n",
       "\t gisel\\_la           & 37400000\\\\\n",
       "\t blakelively        & 37000000\\\\\n",
       "\t chelseafc          & 36600000\\\\\n",
       "\t shahidkapoor       & 36600000\\\\\n",
       "\t kimberly.loaiza    & 36600000\\\\\n",
       "\t toni.kr8s          & 36600000\\\\\n",
       "\t antogriezmann      & 36400000\\\\\n",
       "\t mercedesbenz       & 36400000\\\\\n",
       "\t nattinatasha       & 36100000\\\\\n",
       "\t tigerjackieshroff  & 36100000\\\\\n",
       "\t lunamaya           & 36100000\\\\\n",
       "\t mancity            & 36000000\\\\\n",
       "\t disney             & 35800000\\\\\n",
       "\t barackobama        & 35500000\\\\\n",
       "\t fcbayern           & 35400000\\\\\n",
       "\t colesprouse        & 35300000\\\\\n",
       "\t shaymitchell       & 35100000\\\\\n",
       "\t ivetesangalo       & 35000000\\\\\n",
       "\t paollaoliveirareal & 34900000\\\\\n",
       "\\end{tabular}\n"
      ],
      "text/markdown": [
       "\n",
       "A tibble: 200 × 2\n",
       "\n",
       "| name &lt;chr&gt; | Followers &lt;dbl&gt; |\n",
       "|---|---|\n",
       "| instagram       | 580100000 |\n",
       "| cristiano       | 519900000 |\n",
       "| leomessi        | 403700000 |\n",
       "| kyliejenner     | 375900000 |\n",
       "| selenagomez     | 365300000 |\n",
       "| therock         | 354300000 |\n",
       "| arianagrande    | 345600000 |\n",
       "| kimkardashian   | 336300000 |\n",
       "| beyonce         | 287300000 |\n",
       "| khloekardashian | 283900000 |\n",
       "| justinbieber    | 270200000 |\n",
       "| nike            | 257600000 |\n",
       "| taylorswift     | 236200000 |\n",
       "| jlo             | 228800000 |\n",
       "| virat.kohli     | 228000000 |\n",
       "| kendalljenner   | 223400000 |\n",
       "| natgeo          | 220600000 |\n",
       "| nickiminaj      | 206800000 |\n",
       "| kourtneykardash | 206200000 |\n",
       "| kendalljenner   | 204400000 |\n",
       "| neymarjr        | 196200000 |\n",
       "| natgeo          | 196100000 |\n",
       "| mileycyrus      | 189900000 |\n",
       "| katyperry       | 179800000 |\n",
       "| zendaya         | 161800000 |\n",
       "| kevinhart4real  | 157600000 |\n",
       "| iamcardib       | 145600000 |\n",
       "| ddlovato        | 143500000 |\n",
       "| badgalriri      | 139200000 |\n",
       "| kingjames       | 139200000 |\n",
       "| ⋮ | ⋮ |\n",
       "| parineetichopra    | 39200000 |\n",
       "| anushkasen0408     | 39000000 |\n",
       "| chrissyteigen      | 38600000 |\n",
       "| hm                 | 38500000 |\n",
       "| wesleysafadao      | 38300000 |\n",
       "| marvelstudios      | 38200000 |\n",
       "| houseofhighlights  | 37900000 |\n",
       "| tyga               | 37700000 |\n",
       "| eminem             | 37600000 |\n",
       "| sachintendulkar    | 37500000 |\n",
       "| danialves          | 37400000 |\n",
       "| gisel_la           | 37400000 |\n",
       "| blakelively        | 37000000 |\n",
       "| chelseafc          | 36600000 |\n",
       "| shahidkapoor       | 36600000 |\n",
       "| kimberly.loaiza    | 36600000 |\n",
       "| toni.kr8s          | 36600000 |\n",
       "| antogriezmann      | 36400000 |\n",
       "| mercedesbenz       | 36400000 |\n",
       "| nattinatasha       | 36100000 |\n",
       "| tigerjackieshroff  | 36100000 |\n",
       "| lunamaya           | 36100000 |\n",
       "| mancity            | 36000000 |\n",
       "| disney             | 35800000 |\n",
       "| barackobama        | 35500000 |\n",
       "| fcbayern           | 35400000 |\n",
       "| colesprouse        | 35300000 |\n",
       "| shaymitchell       | 35100000 |\n",
       "| ivetesangalo       | 35000000 |\n",
       "| paollaoliveirareal | 34900000 |\n",
       "\n"
      ],
      "text/plain": [
       "    name               Followers\n",
       "1   instagram          580100000\n",
       "2   cristiano          519900000\n",
       "3   leomessi           403700000\n",
       "4   kyliejenner        375900000\n",
       "5   selenagomez        365300000\n",
       "6   therock            354300000\n",
       "7   arianagrande       345600000\n",
       "8   kimkardashian      336300000\n",
       "9   beyonce            287300000\n",
       "10  khloekardashian    283900000\n",
       "11  justinbieber       270200000\n",
       "12  nike               257600000\n",
       "13  taylorswift        236200000\n",
       "14  jlo                228800000\n",
       "15  virat.kohli        228000000\n",
       "16  kendalljenner      223400000\n",
       "17  natgeo             220600000\n",
       "18  nickiminaj         206800000\n",
       "19  kourtneykardash    206200000\n",
       "20  kendalljenner      204400000\n",
       "21  neymarjr           196200000\n",
       "22  natgeo             196100000\n",
       "23  mileycyrus         189900000\n",
       "24  katyperry          179800000\n",
       "25  zendaya            161800000\n",
       "26  kevinhart4real     157600000\n",
       "27  iamcardib          145600000\n",
       "28  ddlovato           143500000\n",
       "29  badgalriri         139200000\n",
       "30  kingjames          139200000\n",
       "⋮   ⋮                  ⋮        \n",
       "171 parineetichopra    39200000 \n",
       "172 anushkasen0408     39000000 \n",
       "173 chrissyteigen      38600000 \n",
       "174 hm                 38500000 \n",
       "175 wesleysafadao      38300000 \n",
       "176 marvelstudios      38200000 \n",
       "177 houseofhighlights  37900000 \n",
       "178 tyga               37700000 \n",
       "179 eminem             37600000 \n",
       "180 sachintendulkar    37500000 \n",
       "181 danialves          37400000 \n",
       "182 gisel_la           37400000 \n",
       "183 blakelively        37000000 \n",
       "184 chelseafc          36600000 \n",
       "185 shahidkapoor       36600000 \n",
       "186 kimberly.loaiza    36600000 \n",
       "187 toni.kr8s          36600000 \n",
       "188 antogriezmann      36400000 \n",
       "189 mercedesbenz       36400000 \n",
       "190 nattinatasha       36100000 \n",
       "191 tigerjackieshroff  36100000 \n",
       "192 lunamaya           36100000 \n",
       "193 mancity            36000000 \n",
       "194 disney             35800000 \n",
       "195 barackobama        35500000 \n",
       "196 fcbayern           35400000 \n",
       "197 colesprouse        35300000 \n",
       "198 shaymitchell       35100000 \n",
       "199 ivetesangalo       35000000 \n",
       "200 paollaoliveirareal 34900000 "
      ]
     },
     "metadata": {},
     "output_type": "display_data"
    }
   ],
   "source": [
    "select(insta, name, Followers) # select `name` and `Followers` column "
   ]
  },
  {
   "cell_type": "markdown",
   "id": "56a5955a-52c6-4798-be21-bc96bc9cab13",
   "metadata": {
    "tags": []
   },
   "source": [
    "### 2.1.3 Filter\n",
    "\n",
    "The `filter` function is used to choose a subset of rows (observations) in a dataframe.\n",
    "\n",
    "e.g. filter to only include instagram accounts with more than 150 million followers\n"
   ]
  },
  {
   "cell_type": "code",
   "execution_count": 22,
   "id": "59a2358b-cc04-4455-9da7-1fa14a1b0b95",
   "metadata": {
    "tags": []
   },
   "outputs": [
    {
     "data": {
      "text/html": [
       "<table class=\"dataframe\">\n",
       "<caption>A tibble: 26 × 8</caption>\n",
       "<thead>\n",
       "\t<tr><th scope=col>rank</th><th scope=col>name</th><th scope=col>channel_Info</th><th scope=col>Category</th><th scope=col>Posts</th><th scope=col>Followers</th><th scope=col>avg_likes</th><th scope=col>eng_rate</th></tr>\n",
       "\t<tr><th scope=col>&lt;dbl&gt;</th><th scope=col>&lt;chr&gt;</th><th scope=col>&lt;chr&gt;</th><th scope=col>&lt;chr&gt;</th><th scope=col>&lt;dbl&gt;</th><th scope=col>&lt;dbl&gt;</th><th scope=col>&lt;dbl&gt;</th><th scope=col>&lt;dbl&gt;</th></tr>\n",
       "</thead>\n",
       "<tbody>\n",
       "\t<tr><td> 1</td><td>instagram      </td><td>brand </td><td>photography             </td><td>  7300</td><td>580100000</td><td>  7310</td><td>0.1</td></tr>\n",
       "\t<tr><td> 2</td><td><span style=white-space:pre-wrap>cristiano      </span></td><td><span style=white-space:pre-wrap>male  </span></td><td>Health, Sports &amp; Fitness</td><td><span style=white-space:pre-wrap>  3400</span></td><td>519900000</td><td><span style=white-space:pre-wrap>  3410</span></td><td>1.4</td></tr>\n",
       "\t<tr><td> 3</td><td><span style=white-space:pre-wrap>leomessi       </span></td><td><span style=white-space:pre-wrap>male  </span></td><td>Health, Sports &amp; Fitness</td><td><span style=white-space:pre-wrap>  1000</span></td><td>403700000</td><td><span style=white-space:pre-wrap>   970</span></td><td>1.7</td></tr>\n",
       "\t<tr><td> 4</td><td>kyliejenner    </td><td>female</td><td>entertainment           </td><td>  7000</td><td>375900000</td><td>  7020</td><td>1.7</td></tr>\n",
       "\t<tr><td> 5</td><td>selenagomez    </td><td>female</td><td>entertainment           </td><td>  1800</td><td>365300000</td><td>  1850</td><td>1.1</td></tr>\n",
       "\t<tr><td> 6</td><td>therock        </td><td>male  </td><td>entertainment           </td><td>  7000</td><td>354300000</td><td>  7030</td><td>0.3</td></tr>\n",
       "\t<tr><td> 7</td><td>arianagrande   </td><td>female</td><td>entertainment           </td><td>  5000</td><td>345600000</td><td>  4980</td><td>1.4</td></tr>\n",
       "\t<tr><td> 8</td><td>kimkardashian  </td><td>female</td><td>entertainment           </td><td>  5700</td><td>336300000</td><td>  5730</td><td>0.9</td></tr>\n",
       "\t<tr><td> 9</td><td>beyonce        </td><td>female</td><td>entertainment           </td><td>  2100</td><td>287300000</td><td>  2050</td><td>1.0</td></tr>\n",
       "\t<tr><td>10</td><td>khloekardashian</td><td>female</td><td>entertainment           </td><td>  4200</td><td>283900000</td><td>  4190</td><td>0.5</td></tr>\n",
       "\t<tr><td>11</td><td>justinbieber   </td><td>male  </td><td>entertainment           </td><td>  7400</td><td>270200000</td><td>  7390</td><td>0.5</td></tr>\n",
       "\t<tr><td>12</td><td><span style=white-space:pre-wrap>nike           </span></td><td>brand </td><td>Health, Sports &amp; Fitness</td><td><span style=white-space:pre-wrap>  1000</span></td><td>257600000</td><td><span style=white-space:pre-wrap>  1030</span></td><td>0.1</td></tr>\n",
       "\t<tr><td>13</td><td>taylorswift    </td><td>male  </td><td>entertainment           </td><td>562000</td><td>236200000</td><td>  1000</td><td>1.3</td></tr>\n",
       "\t<tr><td>14</td><td>jlo            </td><td>female</td><td>entertainment           </td><td>220000</td><td>228800000</td><td>220000</td><td>0.5</td></tr>\n",
       "\t<tr><td>15</td><td>virat.kohli    </td><td>male  </td><td>Not Available           </td><td>  1500</td><td>228000000</td><td>  1480</td><td>1.2</td></tr>\n",
       "\t<tr><td>16</td><td>kendalljenner  </td><td>male  </td><td>Not Available           </td><td>731000</td><td>223400000</td><td>731000</td><td>2.3</td></tr>\n",
       "\t<tr><td>17</td><td>natgeo         </td><td>brand </td><td>entertainment           </td><td> 26700</td><td>220600000</td><td> 26710</td><td>0.1</td></tr>\n",
       "\t<tr><td>18</td><td>nickiminaj     </td><td>female</td><td>entertainment           </td><td>  6400</td><td>206800000</td><td>  6440</td><td>0.8</td></tr>\n",
       "\t<tr><td>19</td><td>kourtneykardash</td><td>female</td><td>entertainment           </td><td>  4400</td><td>206200000</td><td>  4420</td><td>0.8</td></tr>\n",
       "\t<tr><td>20</td><td>kendalljenner  </td><td>male  </td><td>Not Available           </td><td>824000</td><td>204400000</td><td>824000</td><td>2.5</td></tr>\n",
       "\t<tr><td>21</td><td><span style=white-space:pre-wrap>neymarjr       </span></td><td><span style=white-space:pre-wrap>male  </span></td><td>Health, Sports &amp; Fitness</td><td><span style=white-space:pre-wrap>  5400</span></td><td>196200000</td><td><span style=white-space:pre-wrap>  5390</span></td><td>1.5</td></tr>\n",
       "\t<tr><td>22</td><td>natgeo         </td><td>male  </td><td>Not Available           </td><td> 26000</td><td>196100000</td><td> 26020</td><td>0.1</td></tr>\n",
       "\t<tr><td>23</td><td>mileycyrus     </td><td>female</td><td>entertainment           </td><td>  1200</td><td>189900000</td><td>  1180</td><td>0.5</td></tr>\n",
       "\t<tr><td>24</td><td>katyperry      </td><td>female</td><td>entertainment           </td><td>  2100</td><td>179800000</td><td>  2090</td><td>0.3</td></tr>\n",
       "\t<tr><td>25</td><td>zendaya        </td><td>female</td><td>entertainment           </td><td>  3500</td><td>161800000</td><td>  3540</td><td>4.1</td></tr>\n",
       "\t<tr><td>26</td><td>kevinhart4real </td><td>male  </td><td>entertainment           </td><td>  8400</td><td>157600000</td><td>  8400</td><td>0.2</td></tr>\n",
       "</tbody>\n",
       "</table>\n"
      ],
      "text/latex": [
       "A tibble: 26 × 8\n",
       "\\begin{tabular}{llllllll}\n",
       " rank & name & channel\\_Info & Category & Posts & Followers & avg\\_likes & eng\\_rate\\\\\n",
       " <dbl> & <chr> & <chr> & <chr> & <dbl> & <dbl> & <dbl> & <dbl>\\\\\n",
       "\\hline\n",
       "\t  1 & instagram       & brand  & photography              &   7300 & 580100000 &   7310 & 0.1\\\\\n",
       "\t  2 & cristiano       & male   & Health, Sports \\& Fitness &   3400 & 519900000 &   3410 & 1.4\\\\\n",
       "\t  3 & leomessi        & male   & Health, Sports \\& Fitness &   1000 & 403700000 &    970 & 1.7\\\\\n",
       "\t  4 & kyliejenner     & female & entertainment            &   7000 & 375900000 &   7020 & 1.7\\\\\n",
       "\t  5 & selenagomez     & female & entertainment            &   1800 & 365300000 &   1850 & 1.1\\\\\n",
       "\t  6 & therock         & male   & entertainment            &   7000 & 354300000 &   7030 & 0.3\\\\\n",
       "\t  7 & arianagrande    & female & entertainment            &   5000 & 345600000 &   4980 & 1.4\\\\\n",
       "\t  8 & kimkardashian   & female & entertainment            &   5700 & 336300000 &   5730 & 0.9\\\\\n",
       "\t  9 & beyonce         & female & entertainment            &   2100 & 287300000 &   2050 & 1.0\\\\\n",
       "\t 10 & khloekardashian & female & entertainment            &   4200 & 283900000 &   4190 & 0.5\\\\\n",
       "\t 11 & justinbieber    & male   & entertainment            &   7400 & 270200000 &   7390 & 0.5\\\\\n",
       "\t 12 & nike            & brand  & Health, Sports \\& Fitness &   1000 & 257600000 &   1030 & 0.1\\\\\n",
       "\t 13 & taylorswift     & male   & entertainment            & 562000 & 236200000 &   1000 & 1.3\\\\\n",
       "\t 14 & jlo             & female & entertainment            & 220000 & 228800000 & 220000 & 0.5\\\\\n",
       "\t 15 & virat.kohli     & male   & Not Available            &   1500 & 228000000 &   1480 & 1.2\\\\\n",
       "\t 16 & kendalljenner   & male   & Not Available            & 731000 & 223400000 & 731000 & 2.3\\\\\n",
       "\t 17 & natgeo          & brand  & entertainment            &  26700 & 220600000 &  26710 & 0.1\\\\\n",
       "\t 18 & nickiminaj      & female & entertainment            &   6400 & 206800000 &   6440 & 0.8\\\\\n",
       "\t 19 & kourtneykardash & female & entertainment            &   4400 & 206200000 &   4420 & 0.8\\\\\n",
       "\t 20 & kendalljenner   & male   & Not Available            & 824000 & 204400000 & 824000 & 2.5\\\\\n",
       "\t 21 & neymarjr        & male   & Health, Sports \\& Fitness &   5400 & 196200000 &   5390 & 1.5\\\\\n",
       "\t 22 & natgeo          & male   & Not Available            &  26000 & 196100000 &  26020 & 0.1\\\\\n",
       "\t 23 & mileycyrus      & female & entertainment            &   1200 & 189900000 &   1180 & 0.5\\\\\n",
       "\t 24 & katyperry       & female & entertainment            &   2100 & 179800000 &   2090 & 0.3\\\\\n",
       "\t 25 & zendaya         & female & entertainment            &   3500 & 161800000 &   3540 & 4.1\\\\\n",
       "\t 26 & kevinhart4real  & male   & entertainment            &   8400 & 157600000 &   8400 & 0.2\\\\\n",
       "\\end{tabular}\n"
      ],
      "text/markdown": [
       "\n",
       "A tibble: 26 × 8\n",
       "\n",
       "| rank &lt;dbl&gt; | name &lt;chr&gt; | channel_Info &lt;chr&gt; | Category &lt;chr&gt; | Posts &lt;dbl&gt; | Followers &lt;dbl&gt; | avg_likes &lt;dbl&gt; | eng_rate &lt;dbl&gt; |\n",
       "|---|---|---|---|---|---|---|---|\n",
       "|  1 | instagram       | brand  | photography              |   7300 | 580100000 |   7310 | 0.1 |\n",
       "|  2 | cristiano       | male   | Health, Sports &amp; Fitness |   3400 | 519900000 |   3410 | 1.4 |\n",
       "|  3 | leomessi        | male   | Health, Sports &amp; Fitness |   1000 | 403700000 |    970 | 1.7 |\n",
       "|  4 | kyliejenner     | female | entertainment            |   7000 | 375900000 |   7020 | 1.7 |\n",
       "|  5 | selenagomez     | female | entertainment            |   1800 | 365300000 |   1850 | 1.1 |\n",
       "|  6 | therock         | male   | entertainment            |   7000 | 354300000 |   7030 | 0.3 |\n",
       "|  7 | arianagrande    | female | entertainment            |   5000 | 345600000 |   4980 | 1.4 |\n",
       "|  8 | kimkardashian   | female | entertainment            |   5700 | 336300000 |   5730 | 0.9 |\n",
       "|  9 | beyonce         | female | entertainment            |   2100 | 287300000 |   2050 | 1.0 |\n",
       "| 10 | khloekardashian | female | entertainment            |   4200 | 283900000 |   4190 | 0.5 |\n",
       "| 11 | justinbieber    | male   | entertainment            |   7400 | 270200000 |   7390 | 0.5 |\n",
       "| 12 | nike            | brand  | Health, Sports &amp; Fitness |   1000 | 257600000 |   1030 | 0.1 |\n",
       "| 13 | taylorswift     | male   | entertainment            | 562000 | 236200000 |   1000 | 1.3 |\n",
       "| 14 | jlo             | female | entertainment            | 220000 | 228800000 | 220000 | 0.5 |\n",
       "| 15 | virat.kohli     | male   | Not Available            |   1500 | 228000000 |   1480 | 1.2 |\n",
       "| 16 | kendalljenner   | male   | Not Available            | 731000 | 223400000 | 731000 | 2.3 |\n",
       "| 17 | natgeo          | brand  | entertainment            |  26700 | 220600000 |  26710 | 0.1 |\n",
       "| 18 | nickiminaj      | female | entertainment            |   6400 | 206800000 |   6440 | 0.8 |\n",
       "| 19 | kourtneykardash | female | entertainment            |   4400 | 206200000 |   4420 | 0.8 |\n",
       "| 20 | kendalljenner   | male   | Not Available            | 824000 | 204400000 | 824000 | 2.5 |\n",
       "| 21 | neymarjr        | male   | Health, Sports &amp; Fitness |   5400 | 196200000 |   5390 | 1.5 |\n",
       "| 22 | natgeo          | male   | Not Available            |  26000 | 196100000 |  26020 | 0.1 |\n",
       "| 23 | mileycyrus      | female | entertainment            |   1200 | 189900000 |   1180 | 0.5 |\n",
       "| 24 | katyperry       | female | entertainment            |   2100 | 179800000 |   2090 | 0.3 |\n",
       "| 25 | zendaya         | female | entertainment            |   3500 | 161800000 |   3540 | 4.1 |\n",
       "| 26 | kevinhart4real  | male   | entertainment            |   8400 | 157600000 |   8400 | 0.2 |\n",
       "\n"
      ],
      "text/plain": [
       "   rank name            channel_Info Category                 Posts  Followers\n",
       "1   1   instagram       brand        photography                7300 580100000\n",
       "2   2   cristiano       male         Health, Sports & Fitness   3400 519900000\n",
       "3   3   leomessi        male         Health, Sports & Fitness   1000 403700000\n",
       "4   4   kyliejenner     female       entertainment              7000 375900000\n",
       "5   5   selenagomez     female       entertainment              1800 365300000\n",
       "6   6   therock         male         entertainment              7000 354300000\n",
       "7   7   arianagrande    female       entertainment              5000 345600000\n",
       "8   8   kimkardashian   female       entertainment              5700 336300000\n",
       "9   9   beyonce         female       entertainment              2100 287300000\n",
       "10 10   khloekardashian female       entertainment              4200 283900000\n",
       "11 11   justinbieber    male         entertainment              7400 270200000\n",
       "12 12   nike            brand        Health, Sports & Fitness   1000 257600000\n",
       "13 13   taylorswift     male         entertainment            562000 236200000\n",
       "14 14   jlo             female       entertainment            220000 228800000\n",
       "15 15   virat.kohli     male         Not Available              1500 228000000\n",
       "16 16   kendalljenner   male         Not Available            731000 223400000\n",
       "17 17   natgeo          brand        entertainment             26700 220600000\n",
       "18 18   nickiminaj      female       entertainment              6400 206800000\n",
       "19 19   kourtneykardash female       entertainment              4400 206200000\n",
       "20 20   kendalljenner   male         Not Available            824000 204400000\n",
       "21 21   neymarjr        male         Health, Sports & Fitness   5400 196200000\n",
       "22 22   natgeo          male         Not Available             26000 196100000\n",
       "23 23   mileycyrus      female       entertainment              1200 189900000\n",
       "24 24   katyperry       female       entertainment              2100 179800000\n",
       "25 25   zendaya         female       entertainment              3500 161800000\n",
       "26 26   kevinhart4real  male         entertainment              8400 157600000\n",
       "   avg_likes eng_rate\n",
       "1    7310    0.1     \n",
       "2    3410    1.4     \n",
       "3     970    1.7     \n",
       "4    7020    1.7     \n",
       "5    1850    1.1     \n",
       "6    7030    0.3     \n",
       "7    4980    1.4     \n",
       "8    5730    0.9     \n",
       "9    2050    1.0     \n",
       "10   4190    0.5     \n",
       "11   7390    0.5     \n",
       "12   1030    0.1     \n",
       "13   1000    1.3     \n",
       "14 220000    0.5     \n",
       "15   1480    1.2     \n",
       "16 731000    2.3     \n",
       "17  26710    0.1     \n",
       "18   6440    0.8     \n",
       "19   4420    0.8     \n",
       "20 824000    2.5     \n",
       "21   5390    1.5     \n",
       "22  26020    0.1     \n",
       "23   1180    0.5     \n",
       "24   2090    0.3     \n",
       "25   3540    4.1     \n",
       "26   8400    0.2     "
      ]
     },
     "metadata": {},
     "output_type": "display_data"
    }
   ],
   "source": [
    "# One condition\n",
    "filter(insta, Followers > 150000000)"
   ]
  },
  {
   "cell_type": "code",
   "execution_count": 23,
   "id": "474a02d3-508a-4628-9ea5-e48781eea912",
   "metadata": {
    "tags": []
   },
   "outputs": [
    {
     "data": {
      "text/html": [
       "<table class=\"dataframe\">\n",
       "<caption>A tibble: 4 × 8</caption>\n",
       "<thead>\n",
       "\t<tr><th scope=col>rank</th><th scope=col>name</th><th scope=col>channel_Info</th><th scope=col>Category</th><th scope=col>Posts</th><th scope=col>Followers</th><th scope=col>avg_likes</th><th scope=col>eng_rate</th></tr>\n",
       "\t<tr><th scope=col>&lt;dbl&gt;</th><th scope=col>&lt;chr&gt;</th><th scope=col>&lt;chr&gt;</th><th scope=col>&lt;chr&gt;</th><th scope=col>&lt;dbl&gt;</th><th scope=col>&lt;dbl&gt;</th><th scope=col>&lt;dbl&gt;</th><th scope=col>&lt;dbl&gt;</th></tr>\n",
       "</thead>\n",
       "<tbody>\n",
       "\t<tr><td> 2</td><td>cristiano</td><td>male </td><td>Health, Sports &amp; Fitness</td><td>3400</td><td>519900000</td><td>3410</td><td>1.4</td></tr>\n",
       "\t<tr><td> 3</td><td>leomessi </td><td>male </td><td>Health, Sports &amp; Fitness</td><td>1000</td><td>403700000</td><td> 970</td><td>1.7</td></tr>\n",
       "\t<tr><td>12</td><td><span style=white-space:pre-wrap>nike     </span></td><td>brand</td><td>Health, Sports &amp; Fitness</td><td>1000</td><td>257600000</td><td>1030</td><td>0.1</td></tr>\n",
       "\t<tr><td>21</td><td>neymarjr </td><td>male </td><td>Health, Sports &amp; Fitness</td><td>5400</td><td>196200000</td><td>5390</td><td>1.5</td></tr>\n",
       "</tbody>\n",
       "</table>\n"
      ],
      "text/latex": [
       "A tibble: 4 × 8\n",
       "\\begin{tabular}{llllllll}\n",
       " rank & name & channel\\_Info & Category & Posts & Followers & avg\\_likes & eng\\_rate\\\\\n",
       " <dbl> & <chr> & <chr> & <chr> & <dbl> & <dbl> & <dbl> & <dbl>\\\\\n",
       "\\hline\n",
       "\t  2 & cristiano & male  & Health, Sports \\& Fitness & 3400 & 519900000 & 3410 & 1.4\\\\\n",
       "\t  3 & leomessi  & male  & Health, Sports \\& Fitness & 1000 & 403700000 &  970 & 1.7\\\\\n",
       "\t 12 & nike      & brand & Health, Sports \\& Fitness & 1000 & 257600000 & 1030 & 0.1\\\\\n",
       "\t 21 & neymarjr  & male  & Health, Sports \\& Fitness & 5400 & 196200000 & 5390 & 1.5\\\\\n",
       "\\end{tabular}\n"
      ],
      "text/markdown": [
       "\n",
       "A tibble: 4 × 8\n",
       "\n",
       "| rank &lt;dbl&gt; | name &lt;chr&gt; | channel_Info &lt;chr&gt; | Category &lt;chr&gt; | Posts &lt;dbl&gt; | Followers &lt;dbl&gt; | avg_likes &lt;dbl&gt; | eng_rate &lt;dbl&gt; |\n",
       "|---|---|---|---|---|---|---|---|\n",
       "|  2 | cristiano | male  | Health, Sports &amp; Fitness | 3400 | 519900000 | 3410 | 1.4 |\n",
       "|  3 | leomessi  | male  | Health, Sports &amp; Fitness | 1000 | 403700000 |  970 | 1.7 |\n",
       "| 12 | nike      | brand | Health, Sports &amp; Fitness | 1000 | 257600000 | 1030 | 0.1 |\n",
       "| 21 | neymarjr  | male  | Health, Sports &amp; Fitness | 5400 | 196200000 | 5390 | 1.5 |\n",
       "\n"
      ],
      "text/plain": [
       "  rank name      channel_Info Category                 Posts Followers\n",
       "1  2   cristiano male         Health, Sports & Fitness 3400  519900000\n",
       "2  3   leomessi  male         Health, Sports & Fitness 1000  403700000\n",
       "3 12   nike      brand        Health, Sports & Fitness 1000  257600000\n",
       "4 21   neymarjr  male         Health, Sports & Fitness 5400  196200000\n",
       "  avg_likes eng_rate\n",
       "1 3410      1.4     \n",
       "2  970      1.7     \n",
       "3 1030      0.1     \n",
       "4 5390      1.5     "
      ]
     },
     "metadata": {},
     "output_type": "display_data"
    }
   ],
   "source": [
    "# Two conditions\n",
    "filter(insta, Followers > 150000000 & Category == \"Health, Sports & Fitness\")"
   ]
  },
  {
   "cell_type": "markdown",
   "id": "06318b89-9051-479e-9d3d-03177768fa46",
   "metadata": {},
   "source": [
    "## Many operations in the same sequence\n",
    "\n",
    "When you need to type out a long sequence of operations on data, you could either:\n",
    "\n",
    "(A) Save intermediate objects\n",
    "\n",
    "(B) Compose function\n",
    "\n",
    "(C) Use the pipe operator `|>`\n",
    "\n",
    "Let's look closer at each one of these:"
   ]
  },
  {
   "cell_type": "markdown",
   "id": "6ed828ec-b159-49fe-bae5-b5c70cdd5b41",
   "metadata": {},
   "source": [
    "### (A) Save intermediate objects\n",
    "\n",
    "```R\n",
    "insta_1 <- mutate(insta, eng_rate = eng_rate / 100)\n",
    "insta_2 <- filter(insta_1, Followers > 150000000)\n",
    "insta_3 <- select(insta_2, name, Category, Followers, eng_rate)\n",
    "insta_3\n",
    "```\n",
    "\n",
    "#### Disadvantages:\n",
    "\n",
    "- The reader may be tricked into thinking the named `insta_1` and `insta_2` objects are important for some reason, while they are just temporary intermediate computations. \n",
    "- Further, the reader has to look through and find where `insta_1` and `insta_2` are used in each subsequent line.\n",
    "- Creating variables that we don't need, could lead to memory issues if they are big and take up a lot of space."
   ]
  },
  {
   "cell_type": "markdown",
   "id": "513d6f03-713b-4bb7-a109-a95c3729e5a4",
   "metadata": {
    "tags": []
   },
   "source": [
    "### (B) Composing functions \n",
    "\n",
    "```R\n",
    "insta_composed <- select(\n",
    "    filter(\n",
    "        mutate(\n",
    "            insta, eng_rate = eng_rate / 100\n",
    "        ),\n",
    "        Followers > 150000000\n",
    "    ),\n",
    "   name, Category, Followers, eng_rate\n",
    ")\n",
    "insta_composed\n",
    "```\n",
    "\n",
    "#### Disadvantage: \n",
    "\n",
    "- Difficult to read since you the innermost function is exectued first\n",
    "- You have to start reading from the middle of the code block (`mutate` above)"
   ]
  },
  {
   "cell_type": "markdown",
   "id": "b74d9960-c671-4294-bb4c-2fc66a0728e3",
   "metadata": {},
   "source": [
    "### (C) Piping\n",
    "You can also *pipe* with the **`|>` symbol**: passes the output of a function to the **1st argument** of another. \n",
    "\n",
    "```R\n",
    "insta_piped <- insta |>\n",
    "    mutate(insta, eng_rate = eng_rate / 100) |>\n",
    "    filter(Followers > 150000000) |>\n",
    "    select(name, Category, Followers, eng_rate)\n",
    "insta_piped\n",
    "```\n",
    "**note**: *if R sees a `|>` at the end of a line, it keeps reading the next line of code before evaluating!*\n",
    "\n",
    "#### Advantage: \n",
    "\n",
    "- Pipes make code much more readable when you need to do a long sequence of operations on data.\n",
    "- No intermediatery variables created"
   ]
  },
  {
   "cell_type": "code",
   "execution_count": 24,
   "id": "b9ee4851-9fce-4ad2-996f-2b475978ffe7",
   "metadata": {
    "tags": []
   },
   "outputs": [
    {
     "data": {
      "text/html": [
       "<table class=\"dataframe\">\n",
       "<caption>A tibble: 6 × 4</caption>\n",
       "<thead>\n",
       "\t<tr><th scope=col>name</th><th scope=col>Category</th><th scope=col>Followers</th><th scope=col>eng_rate</th></tr>\n",
       "\t<tr><th scope=col>&lt;chr&gt;</th><th scope=col>&lt;chr&gt;</th><th scope=col>&lt;dbl&gt;</th><th scope=col>&lt;dbl&gt;</th></tr>\n",
       "</thead>\n",
       "<tbody>\n",
       "\t<tr><td>instagram  </td><td>photography             </td><td>580100000</td><td>0.001</td></tr>\n",
       "\t<tr><td><span style=white-space:pre-wrap>cristiano  </span></td><td>Health, Sports &amp; Fitness</td><td>519900000</td><td>0.014</td></tr>\n",
       "\t<tr><td><span style=white-space:pre-wrap>leomessi   </span></td><td>Health, Sports &amp; Fitness</td><td>403700000</td><td>0.017</td></tr>\n",
       "\t<tr><td>kyliejenner</td><td>entertainment           </td><td>375900000</td><td>0.017</td></tr>\n",
       "\t<tr><td>selenagomez</td><td>entertainment           </td><td>365300000</td><td>0.011</td></tr>\n",
       "\t<tr><td>therock    </td><td>entertainment           </td><td>354300000</td><td>0.003</td></tr>\n",
       "</tbody>\n",
       "</table>\n"
      ],
      "text/latex": [
       "A tibble: 6 × 4\n",
       "\\begin{tabular}{llll}\n",
       " name & Category & Followers & eng\\_rate\\\\\n",
       " <chr> & <chr> & <dbl> & <dbl>\\\\\n",
       "\\hline\n",
       "\t instagram   & photography              & 580100000 & 0.001\\\\\n",
       "\t cristiano   & Health, Sports \\& Fitness & 519900000 & 0.014\\\\\n",
       "\t leomessi    & Health, Sports \\& Fitness & 403700000 & 0.017\\\\\n",
       "\t kyliejenner & entertainment            & 375900000 & 0.017\\\\\n",
       "\t selenagomez & entertainment            & 365300000 & 0.011\\\\\n",
       "\t therock     & entertainment            & 354300000 & 0.003\\\\\n",
       "\\end{tabular}\n"
      ],
      "text/markdown": [
       "\n",
       "A tibble: 6 × 4\n",
       "\n",
       "| name &lt;chr&gt; | Category &lt;chr&gt; | Followers &lt;dbl&gt; | eng_rate &lt;dbl&gt; |\n",
       "|---|---|---|---|\n",
       "| instagram   | photography              | 580100000 | 0.001 |\n",
       "| cristiano   | Health, Sports &amp; Fitness | 519900000 | 0.014 |\n",
       "| leomessi    | Health, Sports &amp; Fitness | 403700000 | 0.017 |\n",
       "| kyliejenner | entertainment            | 375900000 | 0.017 |\n",
       "| selenagomez | entertainment            | 365300000 | 0.011 |\n",
       "| therock     | entertainment            | 354300000 | 0.003 |\n",
       "\n"
      ],
      "text/plain": [
       "  name        Category                 Followers eng_rate\n",
       "1 instagram   photography              580100000 0.001   \n",
       "2 cristiano   Health, Sports & Fitness 519900000 0.014   \n",
       "3 leomessi    Health, Sports & Fitness 403700000 0.017   \n",
       "4 kyliejenner entertainment            375900000 0.017   \n",
       "5 selenagomez entertainment            365300000 0.011   \n",
       "6 therock     entertainment            354300000 0.003   "
      ]
     },
     "metadata": {},
     "output_type": "display_data"
    }
   ],
   "source": [
    "insta_piped <- insta |>\n",
    "    mutate(insta, eng_rate = eng_rate / 100) |>\n",
    "    filter(Followers > 150000000) |>\n",
    "    select(name, Category, Followers, eng_rate)\n",
    "\n",
    "head(insta_piped)"
   ]
  },
  {
   "cell_type": "markdown",
   "id": "115fedee-aef6-4aa5-9415-15e1a8b96fbf",
   "metadata": {},
   "source": [
    "### 2.1.4 Grouping and summarizing via `group_by` + `summarize`\n",
    "\n",
    "- Grouping is when you split data into groups based on the value of a column.\n",
    "- Sumarizing is when you combine data into fewer summary values."
   ]
  },
  {
   "cell_type": "markdown",
   "id": "d64d26a8-1b97-48be-9ec4-38d18165dde9",
   "metadata": {},
   "source": [
    "For example computing the average particle pollution per city (source https://info201.github.io/dplyr.html):\n",
    "\n",
    "![](https://info201.github.io/img/dplyr/group_by.png)"
   ]
  },
  {
   "cell_type": "markdown",
   "id": "1154ee4d-c4ae-4ac2-9270-036ae7d3c8f0",
   "metadata": {},
   "source": [
    "- Another example, splitting the `insta` data into one group per `species`, and then summarizing the values within each group e.g. reporting the average `Followers` per account category. \n",
    "- To do this we use `group_by` + `summarize` to iterate over `Category`, calculating average followers."
   ]
  },
  {
   "cell_type": "code",
   "execution_count": 25,
   "id": "7a8d2a12-13ae-4be8-898a-95bbcbacc557",
   "metadata": {
    "tags": []
   },
   "outputs": [
    {
     "data": {
      "text/html": [
       "<table class=\"dataframe\">\n",
       "<caption>A tibble: 12 × 2</caption>\n",
       "<thead>\n",
       "\t<tr><th scope=col>Category</th><th scope=col>avg_followers</th></tr>\n",
       "\t<tr><th scope=col>&lt;chr&gt;</th><th scope=col>&lt;dbl&gt;</th></tr>\n",
       "</thead>\n",
       "<tbody>\n",
       "\t<tr><td><span style=white-space:pre-wrap>Beauty &amp; Makeup         </span></td><td> 49133333</td></tr>\n",
       "\t<tr><td>Craft/DIY               </td><td> 46200000</td></tr>\n",
       "\t<tr><td>Finance                 </td><td> 51900000</td></tr>\n",
       "\t<tr><td>Health, Sports &amp; Fitness</td><td> 88161538</td></tr>\n",
       "\t<tr><td>Lifestyle               </td><td> 58100000</td></tr>\n",
       "\t<tr><td><span style=white-space:pre-wrap>News &amp; Politics         </span></td><td> 52000000</td></tr>\n",
       "\t<tr><td>Not Available           </td><td>140628571</td></tr>\n",
       "\t<tr><td>entertainment           </td><td> 84184496</td></tr>\n",
       "\t<tr><td>fashion                 </td><td> 51140000</td></tr>\n",
       "\t<tr><td>food                    </td><td> 46900000</td></tr>\n",
       "\t<tr><td>photography             </td><td>313050000</td></tr>\n",
       "\t<tr><td>technology              </td><td> 61100000</td></tr>\n",
       "</tbody>\n",
       "</table>\n"
      ],
      "text/latex": [
       "A tibble: 12 × 2\n",
       "\\begin{tabular}{ll}\n",
       " Category & avg\\_followers\\\\\n",
       " <chr> & <dbl>\\\\\n",
       "\\hline\n",
       "\t Beauty \\& Makeup          &  49133333\\\\\n",
       "\t Craft/DIY                &  46200000\\\\\n",
       "\t Finance                  &  51900000\\\\\n",
       "\t Health, Sports \\& Fitness &  88161538\\\\\n",
       "\t Lifestyle                &  58100000\\\\\n",
       "\t News \\& Politics          &  52000000\\\\\n",
       "\t Not Available            & 140628571\\\\\n",
       "\t entertainment            &  84184496\\\\\n",
       "\t fashion                  &  51140000\\\\\n",
       "\t food                     &  46900000\\\\\n",
       "\t photography              & 313050000\\\\\n",
       "\t technology               &  61100000\\\\\n",
       "\\end{tabular}\n"
      ],
      "text/markdown": [
       "\n",
       "A tibble: 12 × 2\n",
       "\n",
       "| Category &lt;chr&gt; | avg_followers &lt;dbl&gt; |\n",
       "|---|---|\n",
       "| Beauty &amp; Makeup          |  49133333 |\n",
       "| Craft/DIY                |  46200000 |\n",
       "| Finance                  |  51900000 |\n",
       "| Health, Sports &amp; Fitness |  88161538 |\n",
       "| Lifestyle                |  58100000 |\n",
       "| News &amp; Politics          |  52000000 |\n",
       "| Not Available            | 140628571 |\n",
       "| entertainment            |  84184496 |\n",
       "| fashion                  |  51140000 |\n",
       "| food                     |  46900000 |\n",
       "| photography              | 313050000 |\n",
       "| technology               |  61100000 |\n",
       "\n"
      ],
      "text/plain": [
       "   Category                 avg_followers\n",
       "1  Beauty & Makeup           49133333    \n",
       "2  Craft/DIY                 46200000    \n",
       "3  Finance                   51900000    \n",
       "4  Health, Sports & Fitness  88161538    \n",
       "5  Lifestyle                 58100000    \n",
       "6  News & Politics           52000000    \n",
       "7  Not Available            140628571    \n",
       "8  entertainment             84184496    \n",
       "9  fashion                   51140000    \n",
       "10 food                      46900000    \n",
       "11 photography              313050000    \n",
       "12 technology                61100000    "
      ]
     },
     "metadata": {},
     "output_type": "display_data"
    }
   ],
   "source": [
    "insta |> \n",
    "    group_by(Category) |>\n",
    "    summarize(avg_followers = mean(Followers))"
   ]
  },
  {
   "cell_type": "markdown",
   "id": "b939a751-6aed-45f0-a618-b8c24bd62797",
   "metadata": {},
   "source": [
    "- You might be interested in arranging this dataframe from smallest to largest number of followers.\n",
    "- The `arrange` function allows us to order the rows of a data frame by the values of a particular column (in descending order, for example):"
   ]
  },
  {
   "cell_type": "code",
   "execution_count": 26,
   "id": "4b62603b-fd92-49fe-9481-ebacb15a3db4",
   "metadata": {
    "tags": []
   },
   "outputs": [
    {
     "data": {
      "text/html": [
       "<table class=\"dataframe\">\n",
       "<caption>A tibble: 12 × 2</caption>\n",
       "<thead>\n",
       "\t<tr><th scope=col>Category</th><th scope=col>avg_followers</th></tr>\n",
       "\t<tr><th scope=col>&lt;chr&gt;</th><th scope=col>&lt;dbl&gt;</th></tr>\n",
       "</thead>\n",
       "<tbody>\n",
       "\t<tr><td>photography             </td><td>313050000</td></tr>\n",
       "\t<tr><td>Not Available           </td><td>140628571</td></tr>\n",
       "\t<tr><td>Health, Sports &amp; Fitness</td><td> 88161538</td></tr>\n",
       "\t<tr><td>entertainment           </td><td> 84184496</td></tr>\n",
       "\t<tr><td>technology              </td><td> 61100000</td></tr>\n",
       "\t<tr><td>Lifestyle               </td><td> 58100000</td></tr>\n",
       "\t<tr><td><span style=white-space:pre-wrap>News &amp; Politics         </span></td><td> 52000000</td></tr>\n",
       "\t<tr><td>Finance                 </td><td> 51900000</td></tr>\n",
       "\t<tr><td>fashion                 </td><td> 51140000</td></tr>\n",
       "\t<tr><td><span style=white-space:pre-wrap>Beauty &amp; Makeup         </span></td><td> 49133333</td></tr>\n",
       "\t<tr><td>food                    </td><td> 46900000</td></tr>\n",
       "\t<tr><td>Craft/DIY               </td><td> 46200000</td></tr>\n",
       "</tbody>\n",
       "</table>\n"
      ],
      "text/latex": [
       "A tibble: 12 × 2\n",
       "\\begin{tabular}{ll}\n",
       " Category & avg\\_followers\\\\\n",
       " <chr> & <dbl>\\\\\n",
       "\\hline\n",
       "\t photography              & 313050000\\\\\n",
       "\t Not Available            & 140628571\\\\\n",
       "\t Health, Sports \\& Fitness &  88161538\\\\\n",
       "\t entertainment            &  84184496\\\\\n",
       "\t technology               &  61100000\\\\\n",
       "\t Lifestyle                &  58100000\\\\\n",
       "\t News \\& Politics          &  52000000\\\\\n",
       "\t Finance                  &  51900000\\\\\n",
       "\t fashion                  &  51140000\\\\\n",
       "\t Beauty \\& Makeup          &  49133333\\\\\n",
       "\t food                     &  46900000\\\\\n",
       "\t Craft/DIY                &  46200000\\\\\n",
       "\\end{tabular}\n"
      ],
      "text/markdown": [
       "\n",
       "A tibble: 12 × 2\n",
       "\n",
       "| Category &lt;chr&gt; | avg_followers &lt;dbl&gt; |\n",
       "|---|---|\n",
       "| photography              | 313050000 |\n",
       "| Not Available            | 140628571 |\n",
       "| Health, Sports &amp; Fitness |  88161538 |\n",
       "| entertainment            |  84184496 |\n",
       "| technology               |  61100000 |\n",
       "| Lifestyle                |  58100000 |\n",
       "| News &amp; Politics          |  52000000 |\n",
       "| Finance                  |  51900000 |\n",
       "| fashion                  |  51140000 |\n",
       "| Beauty &amp; Makeup          |  49133333 |\n",
       "| food                     |  46900000 |\n",
       "| Craft/DIY                |  46200000 |\n",
       "\n"
      ],
      "text/plain": [
       "   Category                 avg_followers\n",
       "1  photography              313050000    \n",
       "2  Not Available            140628571    \n",
       "3  Health, Sports & Fitness  88161538    \n",
       "4  entertainment             84184496    \n",
       "5  technology                61100000    \n",
       "6  Lifestyle                 58100000    \n",
       "7  News & Politics           52000000    \n",
       "8  Finance                   51900000    \n",
       "9  fashion                   51140000    \n",
       "10 Beauty & Makeup           49133333    \n",
       "11 food                      46900000    \n",
       "12 Craft/DIY                 46200000    "
      ]
     },
     "metadata": {},
     "output_type": "display_data"
    }
   ],
   "source": [
    "insta |> \n",
    "    group_by(Category) |>\n",
    "    summarize(avg_followers = mean(Followers)) |> \n",
    "    arrange(by = desc(avg_followers))"
   ]
  },
  {
   "cell_type": "markdown",
   "id": "a4e2e5a1-9520-43b0-bd4f-dd044ece9eb9",
   "metadata": {
    "tags": []
   },
   "source": [
    "## 3. Data Visualization"
   ]
  }
 ],
 "metadata": {
  "kernelspec": {
   "display_name": "R",
   "language": "R",
   "name": "ir"
  },
  "language_info": {
   "codemirror_mode": "r",
   "file_extension": ".r",
   "mimetype": "text/x-r-source",
   "name": "R",
   "pygments_lexer": "r",
   "version": "4.3.1"
  }
 },
 "nbformat": 4,
 "nbformat_minor": 5
}
