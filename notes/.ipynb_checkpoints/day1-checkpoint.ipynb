{
 "cells": [
  {
   "cell_type": "markdown",
   "id": "86239f5b-6d75-4361-a852-e95273563d0c",
   "metadata": {},
   "source": [
    "# Girls in Data Science Camp 2024\n",
    "\n",
    "<img src=\"img/programming_women.jpg\" width=800>\n",
    "\n",
    "*Photos/Images by #WOCinTech/#WOCinTech Chat ([CC-BY](https://creativecommons.org/licenses/by/2.0/))*"
   ]
  },
  {
   "cell_type": "markdown",
   "id": "ae507945-0e4a-4000-9259-45c00c1e0fd7",
   "metadata": {},
   "source": [
    "## Team Introduction \n",
    "\n",
    "- Lead Instructor: Katie Burak (Assistant Professor of Teaching, Department of Statistics, UBC)\n",
    "- Data Science Mentors:\n",
    "\n",
    "Thank you to our sponsors!\n",
    "\n",
    "<img src=\"img/sponsor1.png\" width=100> <img src=\"img/sponsor2.png\" width=100> <img src=\"img/sponsor3.png\" width=100>\n"
   ]
  },
  {
   "cell_type": "markdown",
   "id": "94266c2d-3771-4a45-a129-bf8b2830c778",
   "metadata": {},
   "source": [
    "## Ice Breaker Activity \n",
    "\n",
    "- Write down an interesting fact about yourself (e.g., favourite hobby, a place you have travelled) and come and place your sticky on the white board (don't write your name on the sticky note). \n",
    "\n",
    "- Once everyone has placed a sticky note on the white board, come and take one that isn't yours. It is your job to find out the name of the person whose random fact you found and return their sticky note to them! \n",
    "\n",
    "- After everyone has their original note, please share your fun facts with everyone at your table. \n"
   ]
  },
  {
   "cell_type": "markdown",
   "id": "3a16ff55-14ea-4c37-8cca-7967f35d500d",
   "metadata": {},
   "source": [
    "## Day 1 Learning Objectives\n",
    "\n",
    "- Edit and execute code and markdown in Jupyter notebooks\n",
    "- Learn the essentials of the R programming language \n",
    "- Basics of data manipulation and data visualization in R"
   ]
  },
  {
   "cell_type": "markdown",
   "id": "3d400cf9-700e-4acf-bb25-1c1d70b0d6e1",
   "metadata": {},
   "source": [
    "## We've got a lot to do - let's get started!\n",
    "\n",
    "<img src=\"https://media.giphy.com/media/6onMzNPjtFeCI/giphy.gif\" width=\"800\">"
   ]
  },
  {
   "cell_type": "markdown",
   "id": "751ec452-570e-4b25-abcb-9ee2092d8e48",
   "metadata": {},
   "source": [
    "## 1. Getting started with Jupyter & R\n",
    "\n"
   ]
  },
  {
   "cell_type": "markdown",
   "id": "78a31dae-3679-4ea5-bdea-2ee9af3d8e78",
   "metadata": {
    "tags": []
   },
   "source": [
    "This webpage is called a Jupyter notebook. A notebook is a place to write computer code for analysis, view the results of the analysis, as well as to narrate the analysis with rich formatted text.\n",
    "\n",
    "### 1.1. Text Cells\n",
    "In a notebook, each rectangle containing text or code is called a *cell*.\n",
    "\n",
    "Text cells (like this one) can be edited by double-clicking on them. They're written in a simple format called [Markdown](http://daringfireball.net/projects/markdown/syntax) to add formatting and section headings. \n",
    "\n",
    "After you edit a text cell, click the \"run cell\" button at the top that looks like ▶ to confirm any changes. (Try not to delete the instructions of the lab.)"
   ]
  },
  {
   "cell_type": "markdown",
   "id": "4c490f30-b988-4a7e-86ad-ebee4dfb8ecd",
   "metadata": {},
   "source": [
    "### 1.2. Code Cells\n",
    "Other cells contain code in the R language. Running a code cell will execute all of the code it contains.\n",
    "\n",
    "To run the code in a cell, first click on that cell to activate it.  It will be highlighted with a blue rectangle to the left of it when activated.  Next, either press Run ▶ or hold down the `shift` key and press `return` or `enter`.\n",
    "print(\"Hello, World!\")\n",
    "Try running the next cell:"
   ]
  },
  {
   "cell_type": "code",
   "execution_count": 2,
   "id": "5c0285d7-78f0-4b12-94f2-08e9aec92c99",
   "metadata": {
    "tags": []
   },
   "outputs": [
    {
     "name": "stdout",
     "output_type": "stream",
     "text": [
      "[1] \"Hello, World!\"\n"
     ]
    }
   ],
   "source": [
    "print(\"Hello, World!\")"
   ]
  },
  {
   "cell_type": "markdown",
   "id": "7b93c5d9-39ef-47c1-9b9e-11185398651b",
   "metadata": {},
   "source": [
    "The above code cell contains a single line of code, but cells can also contain multiple lines of code. When you run a cell, the lines of code are executed in the order in which they appear. Every `print` expression prints a line. Run the next cell and notice the order of the output."
   ]
  },
  {
   "cell_type": "code",
   "execution_count": 3,
   "id": "5d0f32e4-8983-4f88-bfad-019ac3e48245",
   "metadata": {
    "tags": []
   },
   "outputs": [
    {
     "name": "stdout",
     "output_type": "stream",
     "text": [
      "[1] \"First this line is printed,\"\n",
      "[1] \"and then this one.\"\n"
     ]
    }
   ],
   "source": [
    "print(\"First this line is printed,\")\n",
    "print(\"and then this one.\")"
   ]
  },
  {
   "cell_type": "markdown",
   "id": "863d6c7d-d817-4d9f-becb-8b76e8c7876d",
   "metadata": {},
   "source": [
    "### 1.3. Writing Jupyter Notebooks\n",
    "You can use Jupyter notebooks for your own projects or documents.  When you make your own notebook, you'll need to create your own cells for text and code.\n",
    "\n",
    "To add a cell, click the + button in the menu bar of this tab.  The newly created cell will start out as a code cell.  You can change it to a text cell by clicking inside it so it's highlighted, clicking the drop-down box next to the restart and run all button (⏩) in the menu bar of this tab, and changing it from \"Code\" to \"Markdown\"."
   ]
  },
  {
   "cell_type": "markdown",
   "id": "bce2cf5e-b9d7-4d5e-bc90-c6f5aa1deb5c",
   "metadata": {},
   "source": [
    "#### Exercise\n",
    "\n",
    "Add a code cell below this one.  Write code in it that prints out:\n",
    "   \n",
    "    My name is ____!\n",
    "\n",
    "Run your cell to verify that it works. \n",
    "\n",
    "Next, add a text/Markdown cell and write the text \"My name is ____!\" in it."
   ]
  },
  {
   "cell_type": "markdown",
   "id": "956edc86-bab7-4721-b614-3559ef59c7bb",
   "metadata": {},
   "source": [
    "### 1.4. Comments\n",
    "Below you see lines like this in code cells:\n",
    "\n",
    "    # Test cell; please do not change!\n",
    "\n",
    "That is called a *comment*.  It doesn't make anything happen in R; R ignores anything on a line after a #.  Instead, it's there to communicate something about the code to you, the human reader.  Comments are extremely useful and can help increase how readable our code is."
   ]
  },
  {
   "cell_type": "markdown",
   "id": "91b63a72-4e43-43e9-9615-2140b736a95b",
   "metadata": {},
   "source": [
    "The below code cell contains comments (one at the start of a line, and one after some other code). Run the cell. You will see that everything after a comment symbol `#` is ignored by R."
   ]
  },
  {
   "cell_type": "code",
   "execution_count": 4,
   "id": "8c2f8a79-7e69-41ce-aafc-99d897933073",
   "metadata": {
    "tags": []
   },
   "outputs": [
    {
     "name": "stdout",
     "output_type": "stream",
     "text": [
      "[1] \"hello!\"\n"
     ]
    }
   ],
   "source": [
    "# you can use comments to document your code, or make R ignore some code without deleting it entirely\n",
    "# print(\"this is a commented line that R will ignore. You won't see this text in the output!\")\n",
    "\n",
    "print(\"hello!\") # you can also put comments at the end of a line of code"
   ]
  },
  {
   "cell_type": "markdown",
   "id": "5dbab0fe-2973-4b39-b991-5f6a9f3ba3b7",
   "metadata": {
    "tags": []
   },
   "source": [
    "### 1.5. Errors\n",
    "R is a language, and like natural human languages, it has rules.  It differs from natural language in two important ways:\n",
    "1. The rules are *simple*.  You can learn most of them in a few weeks and gain reasonable proficiency with the language in a semester.\n",
    "2. The rules are *rigid*.  If you're proficient in a natural language, you can understand a non-proficient speaker, glossing over small mistakes.  A computer running R code is not smart enough to do that.\n",
    "\n",
    "Whenever you write code, you'll make mistakes (everyone who writes code does, even your course instructor!).  When you run a code cell that has errors, R will sometimes produce error messages to tell you what you did wrong.\n",
    "\n",
    "Errors are totally okay; even experienced programmers make many errors. It's a natural part of the coding process.  When you make an error, you just have to find the source of the problem, fix it, and move on. \n",
    "\n",
    "We have made an error in the next cell. **Remove the `#` symbol below (i.e., uncomment the line)**, and then run the cell to see what happens."
   ]
  },
  {
   "cell_type": "code",
   "execution_count": 8,
   "id": "cc872c9c-a542-4e49-8004-4214a5197e70",
   "metadata": {
    "tags": []
   },
   "outputs": [],
   "source": [
    "# print(\"This line is missing something.\""
   ]
  },
  {
   "cell_type": "markdown",
   "id": "04c808c2-cad6-45c3-a7ee-aeb8204e9b73",
   "metadata": {},
   "source": [
    "![ws1_error_image.png](img/ws1_error_image.png)\n"
   ]
  },
  {
   "cell_type": "markdown",
   "id": "c2a9c3eb-c015-4141-ba25-f6929c57cc31",
   "metadata": {},
   "source": [
    "There's a lot of terminology in programming languages, but you don't need to know it all in order to program effectively. Even though the error message can seem cryptic, if you read it carefully you'll often find hints as to what went wrong. For example, above, you'll see the message `unexpected end of input` (among a lot of other technical jargon). In other words, R reached the end of the line of code, and wasn't expecting to reach the end -- it thinks there is still something missing!\n",
    "\n",
    "Of course, even if you do your best to interpret the error message, sometimes you may get stuck figuring out what went wrong and how to fix it. In that case, ask a neighbor or a TA for help.\n",
    "\n",
    "Try to fix the code above so that you can run the cell and see the intended message instead of an error."
   ]
  },
  {
   "cell_type": "markdown",
   "id": "628df3c2-5dca-43a8-bb24-5d81c28f50d7",
   "metadata": {},
   "source": [
    "### 1.6 Saving your work\n",
    "\n",
    "Its important to save your work often so you don't lose your progress! At the top of the screen, go to the **File** menu then **Save Notebook**. Also, there are keyboard shorcuts for saving your work too: control + s on Windows, or command + s on Mac. Once you've saved your work, you will see a message at the bottom of the screen that says **Saving completed**. "
   ]
  },
  {
   "cell_type": "markdown",
   "id": "7c10d210-16d7-45d8-915e-648c7768f255",
   "metadata": {},
   "source": [
    "### 1.7 Numbers\n",
    "\n",
    "Quantitative information arises everywhere in data science. In addition to representing commands to print out lines, our R code can represent numbers and methods of combining numbers. The expression `3.2500` evaluates to the number 3.25. (Run the cell and see.)"
   ]
  },
  {
   "cell_type": "code",
   "execution_count": null,
   "id": "83d7d63e-54fa-446a-8988-834aa039c24d",
   "metadata": {},
   "outputs": [],
   "source": [
    "3.2500"
   ]
  },
  {
   "cell_type": "markdown",
   "id": "50e22b23-aa82-44f5-96b9-7dde48aee490",
   "metadata": {},
   "source": [
    "Notice that we didn't have to write `print()`. When you run a notebook cell, Jupyter helpfully prints out that value for you. "
   ]
  },
  {
   "cell_type": "code",
   "execution_count": 9,
   "id": "cc707687-a7cd-49bd-b03f-ab18a4d2d5d6",
   "metadata": {
    "tags": []
   },
   "outputs": [
    {
     "data": {
      "text/html": [
       "2"
      ],
      "text/latex": [
       "2"
      ],
      "text/markdown": [
       "2"
      ],
      "text/plain": [
       "[1] 2"
      ]
     },
     "metadata": {},
     "output_type": "display_data"
    },
    {
     "data": {
      "text/html": [
       "3"
      ],
      "text/latex": [
       "3"
      ],
      "text/markdown": [
       "3"
      ],
      "text/plain": [
       "[1] 3"
      ]
     },
     "metadata": {},
     "output_type": "display_data"
    },
    {
     "data": {
      "text/html": [
       "4"
      ],
      "text/latex": [
       "4"
      ],
      "text/markdown": [
       "4"
      ],
      "text/plain": [
       "[1] 4"
      ]
     },
     "metadata": {},
     "output_type": "display_data"
    }
   ],
   "source": [
    "2\n",
    "3\n",
    "4"
   ]
  },
  {
   "cell_type": "markdown",
   "id": "34f360df-d0b3-4f28-a4f1-866883e57cb8",
   "metadata": {},
   "source": [
    "Above, you should see that the three numbers (2, 3, and 4) are printed out. In R, simply inputting numbers and running the cell will generate all the numbers that you listed."
   ]
  },
  {
   "cell_type": "markdown",
   "id": "07aebefa-cd56-4fff-87d5-87daf6f202c8",
   "metadata": {
    "tags": []
   },
   "source": [
    "### 1.8 Arithmetic\n",
    "The line in the next cell performs some mathemtical operations. Run them!"
   ]
  },
  {
   "cell_type": "code",
   "execution_count": 11,
   "id": "0297fed4-ec2d-4c43-8b19-a203ce58e9e8",
   "metadata": {
    "tags": []
   },
   "outputs": [
    {
     "data": {
      "text/html": [
       "0.5"
      ],
      "text/latex": [
       "0.5"
      ],
      "text/markdown": [
       "0.5"
      ],
      "text/plain": [
       "[1] 0.5"
      ]
     },
     "metadata": {},
     "output_type": "display_data"
    }
   ],
   "source": [
    "2.0 - 1.5"
   ]
  },
  {
   "cell_type": "code",
   "execution_count": 13,
   "id": "e709bac4-1216-45aa-8389-4a70057115e2",
   "metadata": {
    "tags": []
   },
   "outputs": [
    {
     "data": {
      "text/html": [
       "4"
      ],
      "text/latex": [
       "4"
      ],
      "text/markdown": [
       "4"
      ],
      "text/plain": [
       "[1] 4"
      ]
     },
     "metadata": {},
     "output_type": "display_data"
    }
   ],
   "source": [
    "2 * 2"
   ]
  },
  {
   "cell_type": "code",
   "execution_count": 12,
   "id": "6afc9e3a-ff8c-4c4d-a479-500adb3c0c67",
   "metadata": {
    "tags": []
   },
   "outputs": [
    {
     "data": {
      "text/html": [
       "3"
      ],
      "text/latex": [
       "3"
      ],
      "text/markdown": [
       "3"
      ],
      "text/plain": [
       "[1] 3"
      ]
     },
     "metadata": {},
     "output_type": "display_data"
    }
   ],
   "source": [
    "6/2"
   ]
  },
  {
   "cell_type": "markdown",
   "id": "70d48117-08b9-473f-8e11-7c16f31190bc",
   "metadata": {},
   "source": [
    "Many basic arithmetic operations are built in to R.  [This webpage](https://www.statmethods.net/management/operators.html) describes all the arithmetic operators used in the course.  You can refer back to this webpage as you need throughout the term. "
   ]
  },
  {
   "cell_type": "markdown",
   "id": "45ff2f08-4a86-4212-a0d4-efb9d24a39be",
   "metadata": {},
   "source": [
    "### 1.9 Names\n",
    "In natural language, we have terminology that lets us quickly reference very complicated concepts.  We don't say, \"That's a large mammal with brown fur and sharp teeth!\"  Instead, we just say, \"Bear!\"\n",
    "\n",
    "Similarly, an effective strategy for writing code is to define names for data as we compute it, like a lawyer would define terms for complex ideas at the start of a legal document to simplify the rest of the writing.\n",
    "\n",
    "In R, we do this with *objects*. An object has a name on the left side of an `<-` sign and an expression to be evaluated on the right."
   ]
  },
  {
   "cell_type": "code",
   "execution_count": 14,
   "id": "0f873f78-296f-4587-901b-a286d2c24413",
   "metadata": {
    "tags": []
   },
   "outputs": [],
   "source": [
    "answer <- 3 * 2 + 4"
   ]
  },
  {
   "cell_type": "markdown",
   "id": "17af8d77-0225-418f-9ab2-f406fd80e3c3",
   "metadata": {
    "tags": []
   },
   "source": [
    "When you run that cell, R first evaluates the first line.  It computes the value of the expression `3 * 2 + 4`, which is the number 10.  Then it gives that value the name `answer`.  At that point, the code in the cell is done running.\n",
    "\n",
    "After you run that cell, the value 10 is bound to the name `answer`:"
   ]
  },
  {
   "cell_type": "code",
   "execution_count": 16,
   "id": "db6888eb-6393-4e42-8c15-e393d84d5963",
   "metadata": {
    "tags": []
   },
   "outputs": [
    {
     "data": {
      "text/html": [
       "10"
      ],
      "text/latex": [
       "10"
      ],
      "text/markdown": [
       "10"
      ],
      "text/plain": [
       "[1] 10"
      ]
     },
     "metadata": {},
     "output_type": "display_data"
    }
   ],
   "source": [
    "answer"
   ]
  },
  {
   "cell_type": "markdown",
   "id": "9aca7f46-469d-47dd-95ae-77909b2bb822",
   "metadata": {},
   "source": [
    "When naming objects in R there are some rules:\n",
    "1. Names in R can have letters (upper- and lower-case letters are both okay and count as different letters e.g. \"Answer\" and \"answer\" will be treated as different objects), underscores, dots, and numbers. \n",
    "2. The first character can't be a number (otherwise a name might look like a number).  \n",
    "3. Names can't contain spaces, since spaces are used to separate pieces of code from each other. \n",
    "\n",
    "Other than those rules, what you name something doesn't matter *to R*.  For example, the next cell does the same thing as the above cell, except everything has a different name:"
   ]
  },
  {
   "cell_type": "code",
   "execution_count": 18,
   "id": "da2a6386-49a2-4344-b185-3e95c2c0ff74",
   "metadata": {
    "tags": []
   },
   "outputs": [
    {
     "data": {
      "text/html": [
       "20160"
      ],
      "text/latex": [
       "20160"
      ],
      "text/markdown": [
       "20160"
      ],
      "text/plain": [
       "[1] 20160"
      ]
     },
     "metadata": {},
     "output_type": "display_data"
    }
   ],
   "source": [
    "a <- 840\n",
    "b <- 2 * a\n",
    "c <- 12\n",
    "d <- c * b\n",
    "d"
   ]
  },
  {
   "cell_type": "markdown",
   "id": "055d18ee-c17e-42e2-9723-272f66d72a2f",
   "metadata": {},
   "source": [
    "Another common pattern is that a series of lines in a single cell will build up a complex computation in stages, naming the intermediate results."
   ]
  },
  {
   "cell_type": "markdown",
   "id": "5ca21f84-1471-4b08-8ba2-62538e8f9aa9",
   "metadata": {},
   "source": [
    "**However**, names are very important for making your code *readable* to yourself and others.  The cell above is shorter, but it's totally useless without an explanation of what it does. \n",
    "\n",
    "There is also cultural style associated with different programming languages. In the modern R style, object names should use only lowercase letters, numbers, and `_`. Underscores (`_`) are typically used to separate words within a name (*e.g.*, `answer_one`)."
   ]
  },
  {
   "cell_type": "markdown",
   "id": "ebdec704-0fc3-4d29-819c-a3430536d300",
   "metadata": {
    "tags": []
   },
   "source": [
    "### Exercise\n",
    "\n",
    "Question: How old will you be in 2050?\n",
    "\n",
    "- Assign an object called `age` which is your age now.\n",
    "- Compute how many years will pass until 2050 by subtracting the current year from 2050 (call this object `years`).\n",
    "- Finally, name an object `future_age` which adds together `age` and `years` to get your age in 2050."
   ]
  },
  {
   "cell_type": "markdown",
   "id": "5b698a6c-a133-4b90-8413-f8e358eb2f57",
   "metadata": {},
   "source": [
    "## 1.10 Functions\n",
    "\n",
    "The most common way to combine or manipulate values in R is by calling functions. R comes with many built-in functions that perform common operations.\n",
    "\n",
    "We used a function `print()` at the beginning of this notebook when we printed text from a code cell. Here we'll demonstrate using another function `toupper()` that converts text to uppercase:"
   ]
  },
  {
   "cell_type": "code",
   "execution_count": 19,
   "id": "d268b6b5-2d99-4d41-96d1-0ca9016d5af7",
   "metadata": {
    "tags": []
   },
   "outputs": [
    {
     "data": {
      "text/html": [
       "'WHY, HELLO THERE!'"
      ],
      "text/latex": [
       "'WHY, HELLO THERE!'"
      ],
      "text/markdown": [
       "'WHY, HELLO THERE!'"
      ],
      "text/plain": [
       "[1] \"WHY, HELLO THERE!\""
      ]
     },
     "metadata": {},
     "output_type": "display_data"
    }
   ],
   "source": [
    "greeting <- toupper(\"Why, hello there!\")\n",
    "greeting"
   ]
  },
  {
   "cell_type": "markdown",
   "id": "20ab3545-c649-49bf-9fa0-60b83bb81b80",
   "metadata": {},
   "source": [
    "Try using the function `tolower` now! "
   ]
  },
  {
   "cell_type": "markdown",
   "id": "8f934658-2b2c-40d7-a92d-73bdff372f32",
   "metadata": {},
   "source": [
    "Some functions take multiple arguments, separated by commas. For example, the built-in `max` function returns the maximum argument passed to it."
   ]
  },
  {
   "cell_type": "code",
   "execution_count": 22,
   "id": "3a9b4613-760e-465b-a966-ac66faa87526",
   "metadata": {
    "tags": []
   },
   "outputs": [
    {
     "data": {
      "text/html": [
       "23"
      ],
      "text/latex": [
       "23"
      ],
      "text/markdown": [
       "23"
      ],
      "text/plain": [
       "[1] 23"
      ]
     },
     "metadata": {},
     "output_type": "display_data"
    }
   ],
   "source": [
    "biggest <- max(4,7,23,1,5)\n",
    "biggest"
   ]
  },
  {
   "cell_type": "markdown",
   "id": "8e333c3e-0f50-4c66-9ad5-7f7533ce64e8",
   "metadata": {},
   "source": [
    "Try to use the `min` function now to find the smallest number!"
   ]
  },
  {
   "cell_type": "markdown",
   "id": "ae4f659d-613b-46f5-88ba-8c45a1ae4377",
   "metadata": {},
   "source": [
    "### 1.11 Packages\n",
    "\n",
    "R has many built-in functions, but we can also use functions that are stored within packages created by other R users. We are going to use a package, called `tidyverse`, to load, modify and plot data.\n",
    "This package has already been installed for you. Later in the course you will learn how to install packages so you are free to bring in other tools as you need them for your data analysis. "
   ]
  },
  {
   "cell_type": "markdown",
   "id": "a85bac29-8c44-4150-bd37-f68b31628a9b",
   "metadata": {},
   "source": [
    "To use the functions from a package you first need to load it using the `library` function. This needs to be done once per notebook (and a good rule of thumb is to do this at the very top of your notebook so it is easy to see what packages your R code depends on). "
   ]
  },
  {
   "cell_type": "code",
   "execution_count": 23,
   "id": "9a674be5-c111-4dcc-b74d-7cac4abedf83",
   "metadata": {
    "tags": []
   },
   "outputs": [
    {
     "name": "stderr",
     "output_type": "stream",
     "text": [
      "── \u001b[1mAttaching core tidyverse packages\u001b[22m ──────────────────────── tidyverse 2.0.0 ──\n",
      "\u001b[32m✔\u001b[39m \u001b[34mdplyr    \u001b[39m 1.1.3     \u001b[32m✔\u001b[39m \u001b[34mreadr    \u001b[39m 2.1.4\n",
      "\u001b[32m✔\u001b[39m \u001b[34mforcats  \u001b[39m 1.0.0     \u001b[32m✔\u001b[39m \u001b[34mstringr  \u001b[39m 1.5.0\n",
      "\u001b[32m✔\u001b[39m \u001b[34mggplot2  \u001b[39m 3.4.4     \u001b[32m✔\u001b[39m \u001b[34mtibble   \u001b[39m 3.2.1\n",
      "\u001b[32m✔\u001b[39m \u001b[34mlubridate\u001b[39m 1.9.2     \u001b[32m✔\u001b[39m \u001b[34mtidyr    \u001b[39m 1.3.0\n",
      "\u001b[32m✔\u001b[39m \u001b[34mpurrr    \u001b[39m 1.0.2     \n",
      "── \u001b[1mConflicts\u001b[22m ────────────────────────────────────────── tidyverse_conflicts() ──\n",
      "\u001b[31m✖\u001b[39m \u001b[34mdplyr\u001b[39m::\u001b[32mfilter()\u001b[39m masks \u001b[34mstats\u001b[39m::filter()\n",
      "\u001b[31m✖\u001b[39m \u001b[34mdplyr\u001b[39m::\u001b[32mlag()\u001b[39m    masks \u001b[34mstats\u001b[39m::lag()\n",
      "\u001b[36mℹ\u001b[39m Use the conflicted package (\u001b[3m\u001b[34m<http://conflicted.r-lib.org/>\u001b[39m\u001b[23m) to force all conflicts to become errors\n"
     ]
    }
   ],
   "source": [
    "library(tidyverse)"
   ]
  },
  {
   "cell_type": "markdown",
   "id": "acd61a06-107e-4b89-8fa9-5af173daf359",
   "metadata": {},
   "source": [
    "> Note: it is normal and expected that a message is printed out after loading the tidyverse and some packages. Generally, this message let’s you know if functions from the different packages were loaded share the same name (which is confusing to R), and if so, which one you can access using just it’s name (and which one you need to refer the package name and the function name to refer to it, this is called masking). Additionally, the tidyverse is a special R package - it is a meta-package that bundles together several related and commonly used packages. Because of this it lists the packages it does the job of loading."
   ]
  },
  {
   "cell_type": "markdown",
   "id": "16fd9eb7-d5b9-46ac-bd0e-04032ece6e0d",
   "metadata": {},
   "source": [
    "### 1.12 Looking for Help\n",
    "\n",
    "No one, even experienced, professional programmers remember what every function does, nor do they remember every possible function argument/option. So both experienced and new programmers (like you!) need to look things up, A LOT! \n",
    "\n",
    "One of the most efficient places to look for help on how a function works is the **R help files**. Let’s say we wanted to pull up the help file for the `toupper()` function. We can do this by typing a question mark in front of the function we want to know more about. Remove the hashtag and run the cell below to find out more about `toupper()`."
   ]
  },
  {
   "cell_type": "code",
   "execution_count": 26,
   "id": "4e8fc368-65a5-48c3-b023-a0da43006c56",
   "metadata": {
    "tags": []
   },
   "outputs": [],
   "source": [
    "# ?toupper"
   ]
  },
  {
   "cell_type": "markdown",
   "id": "e7213507-deec-408f-809a-597d133a8af9",
   "metadata": {},
   "source": [
    "At the very top of the file, you will see the function itself and the package it is in (in this case, it is base). Next is a description of what the function does. You’ll find that the most helpful sections on this page are “Usage”, “Arguments” and \"Examples\". \n",
    "\n",
    "- **Usage** gives you an idea of how you would use the function when coding--what the syntax would be and how the function itself is structured. \n",
    "- **Arguments** tells you the different parts that can be added to the function to make it more simple or more complicated. Often the “Usage” and “Arguments” sections don’t provide you with step by step instructions, because there are so many different ways that a person can incorporate a function into their code. Instead, they provide users with a general understanding as to what the function could do and parts that could be added. At the end of the day, the user must interpret the help file and figure out how best to use the functions and which parts are most important to include for their particular task. \n",
    "- The **Examples** section is often the most useful part of the help file as it shows how a function could be used with real data. It provides a skeleton code that the users can work off of."
   ]
  },
  {
   "cell_type": "markdown",
   "id": "58857e16-8246-42e4-a569-6916747565ba",
   "metadata": {},
   "source": [
    "Beyond the R help files there are many resources that you can use to find help. [Stack overflow](https://stackoverflow.com/), an online forum, is a great place to go and ask questions such as how to perform a complicated task in R or why a specific error message is popping up. Oftentimes, a previous user will have already asked your question of interest and received helpful advice from fellow R users."
   ]
  },
  {
   "cell_type": "markdown",
   "id": "7c834e1f-9773-484b-bb29-37e162ca5522",
   "metadata": {},
   "source": [
    "## 2. Introduction to Data Science"
   ]
  },
  {
   "cell_type": "markdown",
   "id": "94538935-363d-46b3-9f81-86a25ad5d120",
   "metadata": {},
   "source": [
    "### What *is* data science exactly?\n",
    "\n",
    "**Data science** is the use of *reproducible* and *auditable* processes to obtain value (i.e., insight) from data."
   ]
  },
  {
   "cell_type": "markdown",
   "id": "f1df830a-c7aa-4d1a-bc22-eeefe1642876",
   "metadata": {},
   "source": [
    "Every good data analysis begins with a question—like the above—that you aim to answer using data. As it turns out, there are actually a number of different types of question regarding data: \n",
    "- descriptive\n",
    "- exploratory\n",
    "- predictive\n",
    "- inferential\n",
    "- causal\n",
    "- mechanistic.\n",
    "\n",
    "> Note: In this camp, we will focus on the first 3 types of questions."
   ]
  },
  {
   "cell_type": "markdown",
   "id": "71907b23-8971-4b40-b813-f1d032694b28",
   "metadata": {},
   "source": [
    "### Why are we using programming languages to do data analysis? \n",
    "\n",
    "<p float=\"left\">   \n",
    "    <img src=\"https://www.r-project.org/Rlogo.png\" width=\"150\" />  VS. \n",
    "    <img src=\"https://upload.wikimedia.org/wikipedia/commons/thumb/3/34/Microsoft_Office_Excel_%282019%E2%80%93present%29.svg/516px-Microsoft_Office_Excel_%282019%E2%80%93present%29.svg.png\" width=\"150\" />\n",
    "</p>\n",
    "  \n",
    "- There are many advantages to using R (or another language, like Python or Julia):\n",
    "    - statistical analysis functions that go beyond Excel\n",
    "    - free and open-source \n",
    "    - transparent & reproducible code \n",
    "    - can handle large amounts of data and complex analyses"
   ]
  },
  {
   "cell_type": "markdown",
   "id": "3cd3cc7a-0ed2-4e64-a34d-f5937f82c746",
   "metadata": {},
   "source": [
    "- Using a programming language is like baking with a recipe: \n",
    "    - Ingredients = data\n",
    "\n",
    "      <img src =\"https://www.thespruceeats.com/thmb/FYR4bNLrj304CEaE2aSGPYzygzY=/4680x2632/smart/filters:no_upscale()/greek-butter-cookies-1705307-step-01-5bfef717c9e77c00510e3bf9.jpg\" style =\"width:500px;\"/>\n",
    "    - Recipe = code\n",
    "\n",
    "        <img src =\"https://cdn.pixabay.com/photo/2014/12/21/23/28/recipe-575434_640.png\" style=\"width: 500px;\"/>"
   ]
  },
  {
   "cell_type": "markdown",
   "id": "75995af7-2ac6-47da-a9c5-e724831847be",
   "metadata": {},
   "source": [
    "- Someone else can use your recipe (code) to bake the same cake (produce the same data analyses)\n",
    "\n",
    "- Spreadsheets in Excel make it *very* difficult to understand where results came from"
   ]
  },
  {
   "cell_type": "markdown",
   "id": "ab75b2f5-7994-4015-98bc-0eec9e236943",
   "metadata": {},
   "source": [
    "**In the data science workflow** (source: Grolemund & Wickham, [R for Data Science](https://r4ds.had.co.nz/))\n",
    "\n",
    "<center><img src=\"https://d33wubrfki0l68.cloudfront.net/571b056757d68e6df81a3e3853f54d3c76ad6efc/32d37/diagrams/data-science.png\" style=\"width: 700px\"/></center>"
   ]
  },
  {
   "cell_type": "markdown",
   "id": "64d16f9a-57c9-4816-a4e1-8ac616e8581d",
   "metadata": {
    "tags": []
   },
   "source": [
    "### 2.1 Reading in Tabular Data"
   ]
  },
  {
   "cell_type": "markdown",
   "id": "6a174cb8-bbf2-4be9-8211-949aff7c6c8a",
   "metadata": {},
   "source": [
    "#### Loading/importing data\n",
    "\n",
    "- 4 most common ways to do this in Data Science\n",
    "    1. **read in a text file with data in a spreadsheet format**\n",
    "    2. read from a database (e.g., SQLite, PostgreSQL)\n",
    "    3. scrape data from the web (optional bonus material)\n",
    "    4. use a web API (Application Programming Interface) to read data from a website (not covered in DSCI100)"
   ]
  },
  {
   "cell_type": "markdown",
   "id": "fb62b9e0-8992-40dc-a21d-22d68371a194",
   "metadata": {},
   "source": [
    "It is important to read in data carefully and check results after! This will help reduce bugs and speed up your analyses down the road... think of it as tying your shoes before you run; not exciting, but if done wrong it will trip you up later!"
   ]
  },
  {
   "cell_type": "markdown",
   "id": "23583f46-2779-4982-abec-004b51470828",
   "metadata": {},
   "source": [
    "#### Different ways to locate a file / dataset\n",
    "\n",
    "\n",
    "\n",
    "**Local (on your computer)**\n",
    "- An *absolute* path locates a file with respect to the \"root\" folder on a computer \n",
    "  - starts with `/`\n",
    "    \n",
    "    e.g. `/home/instructor/documents/timesheet.xlsx`\n",
    "  \n",
    "  \n",
    "- A *relative* path locates a file relative to your *working directory*\n",
    "  - doesn't start with `/`\n",
    "    \n",
    "    e.g. `documents/timesheet.xlsx` <br>(where working directory is `/home/instructor/`)"
   ]
  },
  {
   "cell_type": "markdown",
   "id": "8669f4f4-0118-464f-b16e-cf7be49ca441",
   "metadata": {},
   "source": [
    "**Remote (on the web)**\n",
    "\n",
    "via \"URL\" that starts with `http://` or `https://`\n",
    "<br><br>\n",
    "`http://traffic.libsyn.com/mbmbam/MyBrotherMyBrotherandMe367.mp3`\n"
   ]
  },
  {
   "cell_type": "markdown",
   "id": "a66653fb-adec-4c28-b02e-df39725a0b9f",
   "metadata": {},
   "source": [
    "**Absolute vs relative paths: Which should you use?**\n",
    "- Generally to ensure your code can be run on a different computer, you should use relative paths \n",
    "\n",
    "-  e.g. Alice is working inside the folder `/home/alice/project/`. To specify where to load data from in her Jupyter notebook, she uses the absolute path `/home/alice/project/data/happiness_report.csv`. What issue will arise when she shares the notebook with her collaborator Keeran who tries to read in the data on their computer?"
   ]
  },
  {
   "cell_type": "markdown",
   "id": "e1721c00-6228-46f5-af95-73cea7d7683a",
   "metadata": {},
   "source": [
    "`/home/keeran/- What relative data path could they use to collaborate more effectively?project/data/happiness_report.csv`"
   ]
  },
  {
   "cell_type": "markdown",
   "id": "2a9a009d-9cb0-4ce8-ad0e-928bd6d6153d",
   "metadata": {
    "tags": []
   },
   "source": [
    "What relative data path could they use to collaborate more effectively?"
   ]
  },
  {
   "cell_type": "markdown",
   "id": "bef1f220-32ec-433b-8577-3dd976c2161f",
   "metadata": {},
   "source": [
    "`data/happiness_report.csv`"
   ]
  },
  {
   "cell_type": "markdown",
   "id": "96d28fae-0162-484e-b4f5-b10d7c72a73e",
   "metadata": {
    "tags": []
   },
   "source": [
    "- Even though stored their files in the same place on their computers (in their home folders), the absolute paths are different due to their different usernames. \n",
    "\n",
    "- If Alice has code that loads the happiness_report.csv data using an absolute path, the code won’t work on Keeran’s computer. But the relative path from inside the project folder (data/happiness_report.csv) is the same on both computers; any code that uses relative paths will work on both.\n",
    "\n",
    "- Abosolute paths are like GPS coordinates, they take you to one specific location regardless of where you are starting from. Relative paths are like directions, they are based off your starting point (e.g. go to blocks north and then one west)."
   ]
  },
  {
   "cell_type": "markdown",
   "id": "521de75b-c098-4d3e-abf3-b37ae78caa7d",
   "metadata": {},
   "source": [
    "A **data set** is a structured collection of numbers and characters. Aside from that, there are really no strict rules; data sets can come in many different forms! Perhaps the most common form of data set that you will find in the wild, however, is tabular data. Think spreadsheets in Microsoft Excel: tabular data are rectangular-shaped and spreadsheet-like."
   ]
  },
  {
   "cell_type": "markdown",
   "id": "09eb96a2-0e73-4bf9-8f43-59ebedc40cd3",
   "metadata": {
    "tags": []
   },
   "source": [
    "When we load tabular data into R, it is represented as a data frame object. We refer to the rows as **observations** and columns as **variables**."
   ]
  },
  {
   "cell_type": "markdown",
   "id": "3013c666-d2b2-4879-89be-4165110b1e5a",
   "metadata": {},
   "source": [
    "The main kind of data file that we will learn how to load into R as a data frame is the comma-separated values format (.csv for short). These files have names ending in .csv, and can be opened and saved using common spreadsheet programs like Microsoft Excel and Google Sheets."
   ]
  },
  {
   "cell_type": "markdown",
   "id": "7d206a6d-89a4-4925-9c6c-43e5a6c98f33",
   "metadata": {},
   "source": [
    "To load data into R so that we can do things with it (e.g., perform analyses or create data visualizations), we will need to use a function. A function is a special word in R that takes instructions (we call these arguments) and does something. The function we will use to load a .csv file into R is called `read_csv` (made accessible by loading the `tidyverse` R package). In its most basic use-case, `read_csv` expects that the data file:\n",
    "\n",
    "- has column names (or headers)\n",
    "- uses a comma (,) to separate the columns\n",
    "- does not have row names"
   ]
  },
  {
   "cell_type": "markdown",
   "id": "34954ac1-ebd6-4d4b-9e81-32b2c234f87a",
   "metadata": {},
   "source": [
    "Please note that data comes in many forms and there are a wide variety of functions and approaches to loading in your data, but in this camp we will be focusing on reading in tabular data using `read_csv`. "
   ]
  },
  {
   "cell_type": "markdown",
   "id": "919aa9b1-962c-48e8-9437-fc9a6b054840",
   "metadata": {},
   "source": [
    "We will now look at an [Instagram data set](https://www.kaggle.com/datasets/faisaljanjua0555/top-200-most-followed-instagram-accounts-2023) focusing on 200 of the most popular instagram accounts. Let's try reading it in with `read_csv` using a relative path! "
   ]
  },
  {
   "cell_type": "code",
   "execution_count": 37,
   "id": "9c57aaaf-9291-4da9-a81e-8ee740141875",
   "metadata": {
    "tags": []
   },
   "outputs": [
    {
     "name": "stderr",
     "output_type": "stream",
     "text": [
      "\u001b[1mRows: \u001b[22m\u001b[34m200\u001b[39m \u001b[1mColumns: \u001b[22m\u001b[34m8\u001b[39m\n",
      "\u001b[36m──\u001b[39m \u001b[1mColumn specification\u001b[22m \u001b[36m────────────────────────────────────────────────────────\u001b[39m\n",
      "\u001b[1mDelimiter:\u001b[22m \",\"\n",
      "\u001b[31mchr\u001b[39m (7): name, channel_Info, Category, Posts, Followers, Avg. Likes, Eng Rate\n",
      "\u001b[32mdbl\u001b[39m (1): rank\n",
      "\n",
      "\u001b[36mℹ\u001b[39m Use `spec()` to retrieve the full column specification for this data.\n",
      "\u001b[36mℹ\u001b[39m Specify the column types or set `show_col_types = FALSE` to quiet this message.\n"
     ]
    },
    {
     "data": {
      "text/html": [
       "<table class=\"dataframe\">\n",
       "<caption>A tibble: 6 × 8</caption>\n",
       "<thead>\n",
       "\t<tr><th scope=col>rank</th><th scope=col>name</th><th scope=col>channel_Info</th><th scope=col>Category</th><th scope=col>Posts</th><th scope=col>Followers</th><th scope=col>Avg. Likes</th><th scope=col>Eng Rate</th></tr>\n",
       "\t<tr><th scope=col>&lt;dbl&gt;</th><th scope=col>&lt;chr&gt;</th><th scope=col>&lt;chr&gt;</th><th scope=col>&lt;chr&gt;</th><th scope=col>&lt;chr&gt;</th><th scope=col>&lt;chr&gt;</th><th scope=col>&lt;chr&gt;</th><th scope=col>&lt;chr&gt;</th></tr>\n",
       "</thead>\n",
       "<tbody>\n",
       "\t<tr><td>1</td><td>instagram  </td><td>brand </td><td>photography             </td><td>7.3K</td><td>580.1M</td><td>7.31K</td><td>0.1%</td></tr>\n",
       "\t<tr><td>2</td><td><span style=white-space:pre-wrap>cristiano  </span></td><td><span style=white-space:pre-wrap>male  </span></td><td>Health, Sports &amp; Fitness</td><td>3.4K</td><td>519.9M</td><td>3.41K</td><td>1.4%</td></tr>\n",
       "\t<tr><td>3</td><td><span style=white-space:pre-wrap>leomessi   </span></td><td><span style=white-space:pre-wrap>male  </span></td><td>Health, Sports &amp; Fitness</td><td><span style=white-space:pre-wrap>1K  </span></td><td>403.7M</td><td>0.97K</td><td>1.7%</td></tr>\n",
       "\t<tr><td>4</td><td>kyliejenner</td><td>female</td><td>entertainment           </td><td>7K  </td><td>375.9M</td><td>7.02K</td><td>1.7%</td></tr>\n",
       "\t<tr><td>5</td><td>selenagomez</td><td>female</td><td>entertainment           </td><td>1.8K</td><td>365.3M</td><td>1.85K</td><td>1.1%</td></tr>\n",
       "\t<tr><td>6</td><td>therock    </td><td>male  </td><td>entertainment           </td><td>7K  </td><td>354.3M</td><td>7.03K</td><td>0.3%</td></tr>\n",
       "</tbody>\n",
       "</table>\n"
      ],
      "text/latex": [
       "A tibble: 6 × 8\n",
       "\\begin{tabular}{llllllll}\n",
       " rank & name & channel\\_Info & Category & Posts & Followers & Avg. Likes & Eng Rate\\\\\n",
       " <dbl> & <chr> & <chr> & <chr> & <chr> & <chr> & <chr> & <chr>\\\\\n",
       "\\hline\n",
       "\t 1 & instagram   & brand  & photography              & 7.3K & 580.1M & 7.31K & 0.1\\%\\\\\n",
       "\t 2 & cristiano   & male   & Health, Sports \\& Fitness & 3.4K & 519.9M & 3.41K & 1.4\\%\\\\\n",
       "\t 3 & leomessi    & male   & Health, Sports \\& Fitness & 1K   & 403.7M & 0.97K & 1.7\\%\\\\\n",
       "\t 4 & kyliejenner & female & entertainment            & 7K   & 375.9M & 7.02K & 1.7\\%\\\\\n",
       "\t 5 & selenagomez & female & entertainment            & 1.8K & 365.3M & 1.85K & 1.1\\%\\\\\n",
       "\t 6 & therock     & male   & entertainment            & 7K   & 354.3M & 7.03K & 0.3\\%\\\\\n",
       "\\end{tabular}\n"
      ],
      "text/markdown": [
       "\n",
       "A tibble: 6 × 8\n",
       "\n",
       "| rank &lt;dbl&gt; | name &lt;chr&gt; | channel_Info &lt;chr&gt; | Category &lt;chr&gt; | Posts &lt;chr&gt; | Followers &lt;chr&gt; | Avg. Likes &lt;chr&gt; | Eng Rate &lt;chr&gt; |\n",
       "|---|---|---|---|---|---|---|---|\n",
       "| 1 | instagram   | brand  | photography              | 7.3K | 580.1M | 7.31K | 0.1% |\n",
       "| 2 | cristiano   | male   | Health, Sports &amp; Fitness | 3.4K | 519.9M | 3.41K | 1.4% |\n",
       "| 3 | leomessi    | male   | Health, Sports &amp; Fitness | 1K   | 403.7M | 0.97K | 1.7% |\n",
       "| 4 | kyliejenner | female | entertainment            | 7K   | 375.9M | 7.02K | 1.7% |\n",
       "| 5 | selenagomez | female | entertainment            | 1.8K | 365.3M | 1.85K | 1.1% |\n",
       "| 6 | therock     | male   | entertainment            | 7K   | 354.3M | 7.03K | 0.3% |\n",
       "\n"
      ],
      "text/plain": [
       "  rank name        channel_Info Category                 Posts Followers\n",
       "1 1    instagram   brand        photography              7.3K  580.1M   \n",
       "2 2    cristiano   male         Health, Sports & Fitness 3.4K  519.9M   \n",
       "3 3    leomessi    male         Health, Sports & Fitness 1K    403.7M   \n",
       "4 4    kyliejenner female       entertainment            7K    375.9M   \n",
       "5 5    selenagomez female       entertainment            1.8K  365.3M   \n",
       "6 6    therock     male         entertainment            7K    354.3M   \n",
       "  Avg. Likes Eng Rate\n",
       "1 7.31K      0.1%    \n",
       "2 3.41K      1.4%    \n",
       "3 0.97K      1.7%    \n",
       "4 7.02K      1.7%    \n",
       "5 1.85K      1.1%    \n",
       "6 7.03K      0.3%    "
      ]
     },
     "metadata": {},
     "output_type": "display_data"
    }
   ],
   "source": [
    "insta <- read_csv('data/insta.csv')\n",
    "\n",
    "head(insta) # head function prints only the first 6 rows"
   ]
  },
  {
   "cell_type": "markdown",
   "id": "3a29f373-9d63-4ce7-a718-db615819be09",
   "metadata": {},
   "source": [
    "It looks like this data set has 200 rows (observations) representing the top 200 instgram accounts and the following 8 columns (variables): \n",
    "- rank (1-200)\n",
    "- name (Instagram handle)\n",
    "- channel_info (brief description of the account)\n",
    "- category\n",
    "- posts\n",
    "- followers\n",
    "- avg. likes (the average number of likes that the account's posts receive per post) \n",
    "- eng rate (calculates the account's engagement rate by dividing the total number of likes and comments received by the total number of followers, expressed as a percentage). "
   ]
  },
  {
   "cell_type": "markdown",
   "id": "3240d570-696b-48b6-903e-8795b9c4df6d",
   "metadata": {
    "tags": []
   },
   "source": [
    "### 2.2 Data Wrangling"
   ]
  },
  {
   "cell_type": "markdown",
   "id": "68296246-0b39-4f8f-b7af-82679e2c9e07",
   "metadata": {
    "tags": []
   },
   "source": [
    "## 3. Data Visualization"
   ]
  }
 ],
 "metadata": {
  "kernelspec": {
   "display_name": "R",
   "language": "R",
   "name": "ir"
  },
  "language_info": {
   "codemirror_mode": "r",
   "file_extension": ".r",
   "mimetype": "text/x-r-source",
   "name": "R",
   "pygments_lexer": "r",
   "version": "4.3.1"
  }
 },
 "nbformat": 4,
 "nbformat_minor": 5
}
